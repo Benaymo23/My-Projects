{
 "cells": [
  {
   "cell_type": "markdown",
   "id": "e7820603",
   "metadata": {},
   "source": [
    "## Assignment 1:  Python Basics, Built-in Structures, Functions, Files, Numpy and Pandas\n",
    "\n",
    "This assignment contains 3 questions with details as below. \n",
    "The due date is March 2 (Wednesday), 2022, at 11:59 PM. Each late day will result in a 20% loss of total points. Submit a `.zip` file with this solved notebook and all the files generated during the resolution of this assignment."
   ]
  },
  {
   "cell_type": "markdown",
   "id": "60c792b6",
   "metadata": {},
   "source": [
    "## Question 1 (30 points)🏅 Olympic Winter Games"
   ]
  },
  {
   "cell_type": "markdown",
   "id": "3bff7b90",
   "metadata": {},
   "source": [
    "Now that you have understood the basics of loading data from a CSV, let's work with a real dataset from [Kaggle](https://www.kaggle.com/the-guardian/olympic-games). You can download the two datasets from there:\n",
    "\n",
    "- `dictionary.csv`\n",
    "- `winter.csv`\n",
    "\n",
    "Go ahead and open those two files in your text editor to try and understand what they contain. The goal of this challenge is to implement three functions that answer the following points:\n",
    "\n",
    "1. Who won the most winter Olympic games medals (gold/silver/bronze) ever? \n",
    "2. From `min_year` to `max_year` which country won the most gold medals?\n",
    "3. Find the three women with the most 5000 meters medals (gold/silver/bronze).\n",
    "\n",
    "\n",
    "⚠️ For this challenge, <strong>you _can't_ use `pandas` yet</strong> 😉. Let's see how far you can go with just Python & the [`csv` module](https://docs.python.org/3/library/csv.html). In the previous link, you can find some examples of how to open and read a CSV file. Do not forget to import csv!\n",
    " ℹ️ Note that you want to use the read mode and you are working with information that maps in each row to a dict -> See the class csv.DictReader(). "
   ]
  },
  {
   "cell_type": "markdown",
   "id": "c7fbfae6",
   "metadata": {},
   "source": [
    "### Question 1.1 \n",
    "\n",
    "Who won the most winter olympic games medals (gold/silver/bronze) ever? (Hint: there's just one answer)"
   ]
  },
  {
   "cell_type": "code",
   "execution_count": 5,
   "id": "9dd97544",
   "metadata": {
    "scrolled": true
   },
   "outputs": [
    {
     "data": {
      "text/plain": [
       "('USA', 653)"
      ]
     },
     "execution_count": 5,
     "metadata": {},
     "output_type": "execute_result"
    }
   ],
   "source": [
    "import csv\n",
    "from collections import Counter\n",
    "\n",
    "def question11():\n",
    "    with open('winter.csv', 'r') as f:\n",
    "        c = Counter(row[-4] for row in csv.reader(f))\n",
    "    c = c.most_common()\n",
    "    return c[0]\n",
    "\n",
    "question11()"
   ]
  },
  {
   "cell_type": "markdown",
   "id": "2f375661",
   "metadata": {},
   "source": [
    "### Question 1.2 \n",
    "\n",
    "From `min_year` to `max_year`, which country won the most gold medals?\n"
   ]
  },
  {
   "cell_type": "code",
   "execution_count": 12,
   "id": "b591e831",
   "metadata": {},
   "outputs": [
    {
     "ename": "UnicodeDecodeError",
     "evalue": "'charmap' codec can't decode byte 0x81 in position 1788: character maps to <undefined>",
     "output_type": "error",
     "traceback": [
      "\u001b[1;31m---------------------------------------------------------------------------\u001b[0m",
      "\u001b[1;31mUnicodeDecodeError\u001b[0m                        Traceback (most recent call last)",
      "\u001b[1;32m~\\AppData\\Local\\Temp/ipykernel_29068/40353258.py\u001b[0m in \u001b[0;36m<module>\u001b[1;34m\u001b[0m\n\u001b[0;32m      8\u001b[0m \u001b[1;32mwith\u001b[0m \u001b[0mopen\u001b[0m\u001b[1;33m(\u001b[0m\u001b[1;34m'summer.csv'\u001b[0m\u001b[1;33m,\u001b[0m \u001b[0mnewline\u001b[0m\u001b[1;33m=\u001b[0m\u001b[1;34m''\u001b[0m\u001b[1;33m)\u001b[0m \u001b[1;32mas\u001b[0m \u001b[0mcsvfile\u001b[0m\u001b[1;33m:\u001b[0m\u001b[1;33m\u001b[0m\u001b[1;33m\u001b[0m\u001b[0m\n\u001b[0;32m      9\u001b[0m     \u001b[0mreader\u001b[0m \u001b[1;33m=\u001b[0m \u001b[0mcsv\u001b[0m\u001b[1;33m.\u001b[0m\u001b[0mDictReader\u001b[0m\u001b[1;33m(\u001b[0m\u001b[0mcsvfile\u001b[0m\u001b[1;33m)\u001b[0m\u001b[1;33m\u001b[0m\u001b[1;33m\u001b[0m\u001b[0m\n\u001b[1;32m---> 10\u001b[1;33m     \u001b[1;32mfor\u001b[0m \u001b[0mrow\u001b[0m \u001b[1;32min\u001b[0m \u001b[0mreader\u001b[0m\u001b[1;33m:\u001b[0m\u001b[1;33m\u001b[0m\u001b[1;33m\u001b[0m\u001b[0m\n\u001b[0m\u001b[0;32m     11\u001b[0m         \u001b[1;32mif\u001b[0m \u001b[0mrow\u001b[0m\u001b[1;33m[\u001b[0m\u001b[1;34m\"Medal\"\u001b[0m\u001b[1;33m]\u001b[0m \u001b[1;33m==\u001b[0m \u001b[1;34m\"Gold\"\u001b[0m\u001b[1;33m:\u001b[0m\u001b[1;33m\u001b[0m\u001b[1;33m\u001b[0m\u001b[0m\n\u001b[0;32m     12\u001b[0m             \u001b[0marr\u001b[0m\u001b[1;33m.\u001b[0m\u001b[0mappend\u001b[0m\u001b[1;33m(\u001b[0m\u001b[0mrow\u001b[0m\u001b[1;33m[\u001b[0m\u001b[1;34m\"Country\"\u001b[0m\u001b[1;33m]\u001b[0m\u001b[1;33m)\u001b[0m\u001b[1;33m\u001b[0m\u001b[1;33m\u001b[0m\u001b[0m\n",
      "\u001b[1;32m~\\anaconda3\\lib\\csv.py\u001b[0m in \u001b[0;36m__next__\u001b[1;34m(self)\u001b[0m\n\u001b[0;32m    109\u001b[0m             \u001b[1;31m# Used only for its side effect.\u001b[0m\u001b[1;33m\u001b[0m\u001b[1;33m\u001b[0m\u001b[0m\n\u001b[0;32m    110\u001b[0m             \u001b[0mself\u001b[0m\u001b[1;33m.\u001b[0m\u001b[0mfieldnames\u001b[0m\u001b[1;33m\u001b[0m\u001b[1;33m\u001b[0m\u001b[0m\n\u001b[1;32m--> 111\u001b[1;33m         \u001b[0mrow\u001b[0m \u001b[1;33m=\u001b[0m \u001b[0mnext\u001b[0m\u001b[1;33m(\u001b[0m\u001b[0mself\u001b[0m\u001b[1;33m.\u001b[0m\u001b[0mreader\u001b[0m\u001b[1;33m)\u001b[0m\u001b[1;33m\u001b[0m\u001b[1;33m\u001b[0m\u001b[0m\n\u001b[0m\u001b[0;32m    112\u001b[0m         \u001b[0mself\u001b[0m\u001b[1;33m.\u001b[0m\u001b[0mline_num\u001b[0m \u001b[1;33m=\u001b[0m \u001b[0mself\u001b[0m\u001b[1;33m.\u001b[0m\u001b[0mreader\u001b[0m\u001b[1;33m.\u001b[0m\u001b[0mline_num\u001b[0m\u001b[1;33m\u001b[0m\u001b[1;33m\u001b[0m\u001b[0m\n\u001b[0;32m    113\u001b[0m \u001b[1;33m\u001b[0m\u001b[0m\n",
      "\u001b[1;32m~\\anaconda3\\lib\\encodings\\cp1252.py\u001b[0m in \u001b[0;36mdecode\u001b[1;34m(self, input, final)\u001b[0m\n\u001b[0;32m     21\u001b[0m \u001b[1;32mclass\u001b[0m \u001b[0mIncrementalDecoder\u001b[0m\u001b[1;33m(\u001b[0m\u001b[0mcodecs\u001b[0m\u001b[1;33m.\u001b[0m\u001b[0mIncrementalDecoder\u001b[0m\u001b[1;33m)\u001b[0m\u001b[1;33m:\u001b[0m\u001b[1;33m\u001b[0m\u001b[1;33m\u001b[0m\u001b[0m\n\u001b[0;32m     22\u001b[0m     \u001b[1;32mdef\u001b[0m \u001b[0mdecode\u001b[0m\u001b[1;33m(\u001b[0m\u001b[0mself\u001b[0m\u001b[1;33m,\u001b[0m \u001b[0minput\u001b[0m\u001b[1;33m,\u001b[0m \u001b[0mfinal\u001b[0m\u001b[1;33m=\u001b[0m\u001b[1;32mFalse\u001b[0m\u001b[1;33m)\u001b[0m\u001b[1;33m:\u001b[0m\u001b[1;33m\u001b[0m\u001b[1;33m\u001b[0m\u001b[0m\n\u001b[1;32m---> 23\u001b[1;33m         \u001b[1;32mreturn\u001b[0m \u001b[0mcodecs\u001b[0m\u001b[1;33m.\u001b[0m\u001b[0mcharmap_decode\u001b[0m\u001b[1;33m(\u001b[0m\u001b[0minput\u001b[0m\u001b[1;33m,\u001b[0m\u001b[0mself\u001b[0m\u001b[1;33m.\u001b[0m\u001b[0merrors\u001b[0m\u001b[1;33m,\u001b[0m\u001b[0mdecoding_table\u001b[0m\u001b[1;33m)\u001b[0m\u001b[1;33m[\u001b[0m\u001b[1;36m0\u001b[0m\u001b[1;33m]\u001b[0m\u001b[1;33m\u001b[0m\u001b[1;33m\u001b[0m\u001b[0m\n\u001b[0m\u001b[0;32m     24\u001b[0m \u001b[1;33m\u001b[0m\u001b[0m\n\u001b[0;32m     25\u001b[0m \u001b[1;32mclass\u001b[0m \u001b[0mStreamWriter\u001b[0m\u001b[1;33m(\u001b[0m\u001b[0mCodec\u001b[0m\u001b[1;33m,\u001b[0m\u001b[0mcodecs\u001b[0m\u001b[1;33m.\u001b[0m\u001b[0mStreamWriter\u001b[0m\u001b[1;33m)\u001b[0m\u001b[1;33m:\u001b[0m\u001b[1;33m\u001b[0m\u001b[1;33m\u001b[0m\u001b[0m\n",
      "\u001b[1;31mUnicodeDecodeError\u001b[0m: 'charmap' codec can't decode byte 0x81 in position 1788: character maps to <undefined>"
     ]
    }
   ],
   "source": [
    "import csv\n",
    "arr = []\n",
    "with open('winter.csv', newline='') as csvfile:\n",
    "    reader = csv.DictReader(csvfile)\n",
    "    for row in reader:\n",
    "        if row[\"Medal\"] == \"Gold\":\n",
    "            arr.append(row[\"Country\"])\n",
    "with open('summer.csv', newline='') as csvfile:\n",
    "    reader = csv.DictReader(csvfile)\n",
    "    for row in reader:\n",
    "        if row[\"Medal\"] == \"Gold\":\n",
    "            arr.append(row[\"Country\"])\n",
    "arr\n",
    "my_dict = {i:arr.count(i) for i in arr}\n",
    "country = max(my_dict , key=my_dict.get)\n",
    "country"
   ]
  },
  {
   "cell_type": "markdown",
   "id": "7c212d4f",
   "metadata": {},
   "source": [
    "### Question 1.3\n",
    "\n",
    "Find the three women with the most 5000 meters medals (gold/silver/bronze)."
   ]
  },
  {
   "cell_type": "code",
   "execution_count": 13,
   "id": "7feb9cc1",
   "metadata": {},
   "outputs": [
    {
     "ename": "UnicodeDecodeError",
     "evalue": "'charmap' codec can't decode byte 0x81 in position 1788: character maps to <undefined>",
     "output_type": "error",
     "traceback": [
      "\u001b[1;31m---------------------------------------------------------------------------\u001b[0m",
      "\u001b[1;31mUnicodeDecodeError\u001b[0m                        Traceback (most recent call last)",
      "\u001b[1;32m~\\AppData\\Local\\Temp/ipykernel_29068/2417588768.py\u001b[0m in \u001b[0;36m<module>\u001b[1;34m\u001b[0m\n\u001b[0;32m     10\u001b[0m \u001b[1;32mwith\u001b[0m \u001b[0mopen\u001b[0m\u001b[1;33m(\u001b[0m\u001b[1;34m'summer.csv'\u001b[0m\u001b[1;33m,\u001b[0m \u001b[0mnewline\u001b[0m\u001b[1;33m=\u001b[0m\u001b[1;34m''\u001b[0m\u001b[1;33m)\u001b[0m \u001b[1;32mas\u001b[0m \u001b[0mcsvfile\u001b[0m\u001b[1;33m:\u001b[0m\u001b[1;33m\u001b[0m\u001b[1;33m\u001b[0m\u001b[0m\n\u001b[0;32m     11\u001b[0m     \u001b[0mreader\u001b[0m \u001b[1;33m=\u001b[0m \u001b[0mcsv\u001b[0m\u001b[1;33m.\u001b[0m\u001b[0mDictReader\u001b[0m\u001b[1;33m(\u001b[0m\u001b[0mcsvfile\u001b[0m\u001b[1;33m)\u001b[0m\u001b[1;33m\u001b[0m\u001b[1;33m\u001b[0m\u001b[0m\n\u001b[1;32m---> 12\u001b[1;33m     \u001b[1;32mfor\u001b[0m \u001b[0mrow\u001b[0m \u001b[1;32min\u001b[0m \u001b[0mreader\u001b[0m\u001b[1;33m:\u001b[0m\u001b[1;33m\u001b[0m\u001b[1;33m\u001b[0m\u001b[0m\n\u001b[0m\u001b[0;32m     13\u001b[0m         \u001b[1;32mif\u001b[0m \u001b[0mrow\u001b[0m\u001b[1;33m[\u001b[0m\u001b[1;34m\"Gender\"\u001b[0m\u001b[1;33m]\u001b[0m \u001b[1;33m==\u001b[0m \u001b[1;34m\"Women\"\u001b[0m\u001b[1;33m:\u001b[0m\u001b[1;33m\u001b[0m\u001b[1;33m\u001b[0m\u001b[0m\n\u001b[0;32m     14\u001b[0m             \u001b[0marr\u001b[0m\u001b[1;33m.\u001b[0m\u001b[0mappend\u001b[0m\u001b[1;33m(\u001b[0m\u001b[0mrow\u001b[0m\u001b[1;33m[\u001b[0m\u001b[1;34m\"Country\"\u001b[0m\u001b[1;33m]\u001b[0m\u001b[1;33m)\u001b[0m\u001b[1;33m\u001b[0m\u001b[1;33m\u001b[0m\u001b[0m\n",
      "\u001b[1;32m~\\anaconda3\\lib\\csv.py\u001b[0m in \u001b[0;36m__next__\u001b[1;34m(self)\u001b[0m\n\u001b[0;32m    109\u001b[0m             \u001b[1;31m# Used only for its side effect.\u001b[0m\u001b[1;33m\u001b[0m\u001b[1;33m\u001b[0m\u001b[0m\n\u001b[0;32m    110\u001b[0m             \u001b[0mself\u001b[0m\u001b[1;33m.\u001b[0m\u001b[0mfieldnames\u001b[0m\u001b[1;33m\u001b[0m\u001b[1;33m\u001b[0m\u001b[0m\n\u001b[1;32m--> 111\u001b[1;33m         \u001b[0mrow\u001b[0m \u001b[1;33m=\u001b[0m \u001b[0mnext\u001b[0m\u001b[1;33m(\u001b[0m\u001b[0mself\u001b[0m\u001b[1;33m.\u001b[0m\u001b[0mreader\u001b[0m\u001b[1;33m)\u001b[0m\u001b[1;33m\u001b[0m\u001b[1;33m\u001b[0m\u001b[0m\n\u001b[0m\u001b[0;32m    112\u001b[0m         \u001b[0mself\u001b[0m\u001b[1;33m.\u001b[0m\u001b[0mline_num\u001b[0m \u001b[1;33m=\u001b[0m \u001b[0mself\u001b[0m\u001b[1;33m.\u001b[0m\u001b[0mreader\u001b[0m\u001b[1;33m.\u001b[0m\u001b[0mline_num\u001b[0m\u001b[1;33m\u001b[0m\u001b[1;33m\u001b[0m\u001b[0m\n\u001b[0;32m    113\u001b[0m \u001b[1;33m\u001b[0m\u001b[0m\n",
      "\u001b[1;32m~\\anaconda3\\lib\\encodings\\cp1252.py\u001b[0m in \u001b[0;36mdecode\u001b[1;34m(self, input, final)\u001b[0m\n\u001b[0;32m     21\u001b[0m \u001b[1;32mclass\u001b[0m \u001b[0mIncrementalDecoder\u001b[0m\u001b[1;33m(\u001b[0m\u001b[0mcodecs\u001b[0m\u001b[1;33m.\u001b[0m\u001b[0mIncrementalDecoder\u001b[0m\u001b[1;33m)\u001b[0m\u001b[1;33m:\u001b[0m\u001b[1;33m\u001b[0m\u001b[1;33m\u001b[0m\u001b[0m\n\u001b[0;32m     22\u001b[0m     \u001b[1;32mdef\u001b[0m \u001b[0mdecode\u001b[0m\u001b[1;33m(\u001b[0m\u001b[0mself\u001b[0m\u001b[1;33m,\u001b[0m \u001b[0minput\u001b[0m\u001b[1;33m,\u001b[0m \u001b[0mfinal\u001b[0m\u001b[1;33m=\u001b[0m\u001b[1;32mFalse\u001b[0m\u001b[1;33m)\u001b[0m\u001b[1;33m:\u001b[0m\u001b[1;33m\u001b[0m\u001b[1;33m\u001b[0m\u001b[0m\n\u001b[1;32m---> 23\u001b[1;33m         \u001b[1;32mreturn\u001b[0m \u001b[0mcodecs\u001b[0m\u001b[1;33m.\u001b[0m\u001b[0mcharmap_decode\u001b[0m\u001b[1;33m(\u001b[0m\u001b[0minput\u001b[0m\u001b[1;33m,\u001b[0m\u001b[0mself\u001b[0m\u001b[1;33m.\u001b[0m\u001b[0merrors\u001b[0m\u001b[1;33m,\u001b[0m\u001b[0mdecoding_table\u001b[0m\u001b[1;33m)\u001b[0m\u001b[1;33m[\u001b[0m\u001b[1;36m0\u001b[0m\u001b[1;33m]\u001b[0m\u001b[1;33m\u001b[0m\u001b[1;33m\u001b[0m\u001b[0m\n\u001b[0m\u001b[0;32m     24\u001b[0m \u001b[1;33m\u001b[0m\u001b[0m\n\u001b[0;32m     25\u001b[0m \u001b[1;32mclass\u001b[0m \u001b[0mStreamWriter\u001b[0m\u001b[1;33m(\u001b[0m\u001b[0mCodec\u001b[0m\u001b[1;33m,\u001b[0m\u001b[0mcodecs\u001b[0m\u001b[1;33m.\u001b[0m\u001b[0mStreamWriter\u001b[0m\u001b[1;33m)\u001b[0m\u001b[1;33m:\u001b[0m\u001b[1;33m\u001b[0m\u001b[1;33m\u001b[0m\u001b[0m\n",
      "\u001b[1;31mUnicodeDecodeError\u001b[0m: 'charmap' codec can't decode byte 0x81 in position 1788: character maps to <undefined>"
     ]
    }
   ],
   "source": [
    "import csv\n",
    "arr = []\n",
    "with open('winter.csv', newline='') as csvfile:\n",
    "    reader = csv.DictReader(csvfile)\n",
    "    for row in reader:\n",
    "        if row[\"Gender\"] == \"Women\":\n",
    "            arr.append(row[\"Country\"])\n",
    "        if row[\"Event\"] == \"5000M\":\n",
    "            arr.append(row[\"Country\"])\n",
    "with open('summer.csv', newline='') as csvfile:\n",
    "    reader = csv.DictReader(csvfile)\n",
    "    for row in reader:\n",
    "        if row[\"Gender\"] == \"Women\":\n",
    "            arr.append(row[\"Country\"])\n",
    "        if row[\"Event\"] == \"5000M\":\n",
    "            arr.append(row[\"Country\"])\n",
    "arr\n",
    "my_dict = {i:arr.count(i) for i in arr}\n",
    "ladies = max(my_dict , key=my_dict.get)\n",
    "ladies"
   ]
  },
  {
   "cell_type": "markdown",
   "id": "e42d8be4",
   "metadata": {
    "id": "F84GV8jU_yxG"
   },
   "source": [
    "## Question 2 (35 points) Spike Triggered Average\n",
    "\n",
    "Welcome to the world of neuroscience! <br>\n",
    "In this exercise, you will have the opportunity to be gently introduced to the magnificent world of how your brain executes what you think! \n",
    "\n",
    "<img src=\"brain.jpg\" alt=\"brain\" width=\"50%\">\n",
    "\n",
    "The brain is perhaps our most complex vital living organ, meaning that the multitude of years of research so far is still not sufficient to understand how such an organ behaves.\n",
    " <br>\n",
    "\n",
    "Biologically, the brain is formed by a particular type of cells that are called <strong>neurons</strong>. Such neurons are electrically excitable cells that communicate with one another via specialized connections named <strong>synapses</strong>. These connections allow the transmission of chemical and electrical signals across neurons. In very high-level terms, such a process gives birth to human thought, giving us the possibility to carry out our ordinary life tasks and habits, such as talking with friends, eating, drinking, studying, and so on...\n",
    "Moreover, it is possible to say that communication across two neurons is experienced when we observe a <strong>spike</strong>, which is solicited by an electrical <strong>stimulus</strong> (through time). <br> \n",
    "As an example, imagine you are on your sofa watching your favorite movie: each photogram of the video you see from your eyes will be converted into a sequence of electrical signals, which we previously defined as <strong>stimulus</strong> (this is the scientific term). Then the stimulus flows in the network of your neurons, potentially activating their effects on your behavior. Specifically, if you watch a love scene, some neurons of the brain may <strong>spike</strong> (actually they are activated), potentially making you feel pleased and emotional. On the contrary, if you watch a violent scene, some other neurons may spike, potentially making you feel sad and uncomfortable. This is an abstract example talking about emotions, but remember that examples of this type are extensible to more practical activities, like the ones mentioned in the paragraph above.\n",
    "\n",
    "Practically speaking, in this exercise, you will analyze a stimulus and consequently how it affects the spikes of a single neuron. <strong>Data is randomly generated</strong>, but it simulates perfectly the setting depicted above. In the end, you will compute the <strong>Spike-Triggered Average</strong>, which, given a fixed time window, approximates the stimulus's behavior before a spike occurs. This is a time-wise average, meaning that, given many <strong>fixed-in-length time-sequences</strong> (some milliseconds long in this case) of the same stimulus, we average the sequences at their values at each millisecond step. \n",
    "\n",
    "Some clarifications: \n",
    "\n",
    "You will be provided with two time series, one with the <strong>stimulus</strong> and the other one with the <strong>spikes</strong>. The latter series maps to the former, of course.\n",
    "Stimulus varies in time, specifically milliseconds (ms), meaning that <strong>each element in the stimulus series is an electrical signal at a single millisecond</strong>. Whereas, the spikes are binary: 1 if a spike occurred, 0 if a spike did not occur at that specific milliseconds.\n",
    "\n",
    "The dataset used in this exercise is <strong>data.pickle</strong>. It can be retrieved using the module pickle (https://docs.python.org/3/library/pickle.html), which is used for serializing and de-serializing a Python object structure. \n",
    "\n",
    "The following piece of code is held to load data. See the comments and do not change them."
   ]
  },
  {
   "cell_type": "code",
   "execution_count": 51,
   "id": "3506b00c",
   "metadata": {
    "id": "vVU1BEkgAQJP"
   },
   "outputs": [],
   "source": [
    "# Import Dependencies \n",
    "\n",
    "import numpy as np # DON'T CHANGE THIS LINE \n",
    "import pickle # DON'T CHANGE THIS LINE "
   ]
  },
  {
   "cell_type": "code",
   "execution_count": 52,
   "id": "bfbcfe9b",
   "metadata": {
    "id": "LH4eFNIRAW8Z"
   },
   "outputs": [],
   "source": [
    "# Load Data \n",
    "\n",
    "path = \"data.pickle\" # Make sure the dataset \"data.pickle\" is within the same folder of this notebook\n",
    "data = pickle.load(open(path, 'rb')) # DON'T CHANGE THIS LINE\n"
   ]
  },
  {
   "cell_type": "code",
   "execution_count": 53,
   "id": "80c8f65f",
   "metadata": {
    "id": "ZgcVppkPAaMR"
   },
   "outputs": [],
   "source": [
    "# Reference Data \n",
    "\n",
    "# DON'T CHANGE THESE 2 LINES \n",
    "stimulus = data['stim'] # Stimulus (in STA units) over time (in milliseconds units) - Artificial Data - type: numpy.ndarray\n",
    "rho = data['rho'] # Spikes - 0 or 1. 0 no spike, 1 yes spike - Mapping stimulus - type: numpy.ndarray"
   ]
  },
  {
   "cell_type": "markdown",
   "id": "d5632ab0",
   "metadata": {
    "id": "pfkNG-wvAfQm"
   },
   "source": [
    "### Question 2.1\n",
    "\n",
    "How many milliseconds does the `stimulus` provided above have? "
   ]
  },
  {
   "cell_type": "code",
   "execution_count": 63,
   "id": "cf5cb8ad",
   "metadata": {
    "colab": {
     "base_uri": "https://localhost:8080/"
    },
    "id": "6hREPGC4AhKm",
    "outputId": "807999ee-2ca3-4cd9-edfe-5463845ef9ab"
   },
   "outputs": [
    {
     "data": {
      "text/plain": [
       "24785559.580078125"
      ]
     },
     "execution_count": 63,
     "metadata": {},
     "output_type": "execute_result"
    }
   ],
   "source": [
    "stimulusabsolute = np.absolute(stimulus)\n",
    "np.sum(stimulusabsolute)"
   ]
  },
  {
   "cell_type": "markdown",
   "id": "d7e7ba89",
   "metadata": {
    "id": "4sfaQH79_8T1"
   },
   "source": [
    "### Question 2.2\n",
    "\n",
    "Filter out the low stimulus values. \n",
    "Set a minimum threshold of 10 STA units for the <strong> absolute value </strong> of the stimulus and filter out everything below it (do not change the original stimulus array).\n",
    "\n",
    "For example: \n",
    "<br>Consider stimulus = [-5.2345, 3.4564, 13.1245, -15.2356]<br>\n",
    "The final result should be: filtered_stimulus = [13.1245, -15.2356]\n",
    "\n",
    "Tip: Use \n",
    "<strong> print(filtered_stimulus[0:100]) </strong>\n",
    "to check if the first 100 values are beeing filtered correctly."
   ]
  },
  {
   "cell_type": "code",
   "execution_count": 66,
   "id": "9b792ec9",
   "metadata": {
    "colab": {
     "base_uri": "https://localhost:8080/"
    },
    "id": "1brKFP9BAnum",
    "outputId": "c4473cce-c2e3-4345-ebaa-59a5efb81715"
   },
   "outputs": [
    {
     "name": "stdout",
     "output_type": "stream",
     "text": [
      "[111.9482421875, 81.806640625, 10.2197265625, 83.3642578125, 69.375, 25.91796875, 32.24609375, 27.294921875, 20.244140625, 32.216796875, 35.0634765625, 55.9228515625, 46.728515625, 53.759765625, 96.8408203125, 121.6748046875, 109.58984375, 71.9287109375, 16.767578125, 17.958984375, 63.7890625, 90.2490234375, 103.4912109375, 76.3134765625, 35.654296875, 58.6181640625, 68.0517578125, 44.306640625, 38.525390625, 24.7802734375, 17.12890625, 10.478515625, 45.7861328125, 50.7763671875, 26.2353515625, 11.0986328125, 37.3388671875, 19.443359375, 36.8408203125, 55.8984375, 41.904296875, 63.359375, 87.5927734375, 53.7060546875, 29.98046875, 61.0107421875, 59.5166015625, 29.1650390625, 23.3740234375, 17.5244140625, 22.0849609375, 85.64453125, 96.2353515625, 33.0615234375, 15.8984375, 13.1982421875, 23.37890625, 56.884765625, 97.5244140625, 111.4208984375, 92.98828125, 77.7978515625, 72.041015625, 38.8818359375, 13.232421875, 11.064453125, 67.1044921875, 62.1484375, 12.55859375, 26.201171875, 62.060546875, 25.4150390625, 60.83984375, 70.7373046875, 28.0078125, 40.341796875, 55.46875, 48.69140625, 31.9384765625, 50.7421875, 32.2900390625, 27.8515625, 58.3935546875, 40.64453125, 24.66796875, 71.5283203125, 73.0615234375, 67.109375, 52.3828125, 11.5869140625, 14.814453125, 71.2353515625, 98.0712890625, 52.548828125, 14.6826171875, 41.4306640625, 10.15625, 24.2822265625, 46.2451171875, 94.8486328125]\n"
     ]
    }
   ],
   "source": [
    "filtered_stimulus = []\n",
    "\n",
    "for i in range(len(stimulusabsolute)):\n",
    "    if stimulusabsolute[i] >= 10:\n",
    "        filtered_stimulus.append(stimulusabsolute[i])\n",
    "\n",
    "print(filtered_stimulus[0:100])"
   ]
  },
  {
   "cell_type": "markdown",
   "id": "8230a5e4",
   "metadata": {
    "id": "t-cg1XaoAtVA"
   },
   "source": [
    "### Question 2.3\n",
    "\n",
    "Compute the interquartile range of the values of the `stimulus` time series.\n",
    "\n",
    "  ℹ️<strong>interquartile_range = q75 - q25</strong>\n",
    "    <br> Where: q25 is the first quartile and q75 is the third quartile."
   ]
  },
  {
   "cell_type": "code",
   "execution_count": 68,
   "id": "790d0bc5",
   "metadata": {
    "colab": {
     "base_uri": "https://localhost:8080/"
    },
    "id": "rrAd-P8QAz5s",
    "outputId": "1c757bf8-eaa0-4895-b1ad-2363bf586fcd"
   },
   "outputs": [
    {
     "data": {
      "text/plain": [
       "72.861328125"
      ]
     },
     "execution_count": 68,
     "metadata": {},
     "output_type": "execute_result"
    }
   ],
   "source": [
    "interquartile_range = np.quantile(stimulus,0.75) - np.quantile(stimulus,0.25)\n",
    "interquartile_range"
   ]
  },
  {
   "cell_type": "markdown",
   "id": "23e3ffa3",
   "metadata": {},
   "source": [
    "### Question 2.4\n",
    "\n",
    "Find the position of the three maximums of the `stimulus` and replace these values with the average (do not change the original stimulus array)."
   ]
  },
  {
   "cell_type": "code",
   "execution_count": 76,
   "id": "2a31a995",
   "metadata": {},
   "outputs": [
    {
     "data": {
      "text/plain": [
       "array([ 33431, 245326, 407401, 256565], dtype=int64)"
      ]
     },
     "execution_count": 76,
     "metadata": {},
     "output_type": "execute_result"
    }
   ],
   "source": [
    "average = np.average(stimulus)\n",
    "\n",
    "maxpos = np.argpartition(stimulus, -4)[-4:]\n",
    "\n",
    "for i in maxpos:\n",
    "    stimulus[i]=average"
   ]
  },
  {
   "cell_type": "markdown",
   "id": "c25b0f49",
   "metadata": {
    "id": "LzBpLBqaA9hT"
   },
   "source": [
    "### Question 2.5\n",
    "\n",
    "Compute the <strong>Spike Triggered Average</strong> as described previously with a time window of 300 ms. I.e. each sequence to be considered for the Spike Triggered Average should have a length of 300 ms. \n",
    "\n",
    "Here we provide a visual toy example of the Spike Triggered Average complementing what is described in the main passage:\n",
    "\n",
    "<img src=\"sta_example.png\" alt=\"img not available\" width=\"50%\">\n",
    "\n",
    "Each sequence is average (millisecond-wise) with a time window of 30 ms before a spike. Bear in mind that, in this question, you are asked to use 300 ms time window."
   ]
  },
  {
   "cell_type": "code",
   "execution_count": null,
   "id": "14e9c948",
   "metadata": {
    "colab": {
     "base_uri": "https://localhost:8080/"
    },
    "id": "uv3-m0PVBJSy",
    "outputId": "9049184d-1677-48de-bc09-1d337fb1d533"
   },
   "outputs": [],
   "source": [
    "sti = []\n",
    "f=[]\n",
    "for i in range(len(rho)):\n",
    "    if rho[i] == 1:\n",
    "        while i > 1:\n",
    "            if np.absolute(stimulus[i])-np.absolute(stimulus[i-1]) <= 300:\n",
    "                sti.append(stimulus[i-1])\n",
    "            f.append(sti)\n",
    "            i-= 1\n",
    "        break\n",
    "print(\"I don't know\")"
   ]
  },
  {
   "cell_type": "markdown",
   "id": "4bb21d5d",
   "metadata": {
    "id": "IzC00hRsBRCg"
   },
   "source": [
    "##### 🎯Check your answer - NOT GRADED"
   ]
  },
  {
   "cell_type": "code",
   "execution_count": null,
   "id": "99cb8d06",
   "metadata": {
    "id": "qY4TU6P_BVfZ"
   },
   "outputs": [],
   "source": [
    "import matplotlib.pyplot as plt # DON'T CHANGE THIS LINE \n",
    "import matplotlib.image as mpimg # DON'T CHANGE THIS LINE \n",
    "\n",
    "\n",
    "sta = \"None\" # Please delete \"None\" and insert here your spike triggered average answer \n",
    "plt.plot(range(sta.shape[0]), sta) # DON'T CHANGE THIS LINE "
   ]
  },
  {
   "cell_type": "markdown",
   "id": "e589b3a7",
   "metadata": {
    "id": "AZxYi5naBkli"
   },
   "source": [
    "<strong>If you did everything correct, your plot should look the same as the one below!</strong>\n",
    "\n",
    "<img src=\"sta_sample.png\" alt=\"no-picture\" align=\"left\"> <br><br><br><br><br><br><br><br><br><br><br><br><br>\n",
    "\n",
    "\n",
    "<strong>Congratulations! You have just learned how the brain works! Kudos to you! :)</strong>"
   ]
  },
  {
   "cell_type": "markdown",
   "id": "3320bafb",
   "metadata": {},
   "source": [
    "## Question 3 (35 points) Car Prices"
   ]
  },
  {
   "cell_type": "markdown",
   "id": "279d3d5b",
   "metadata": {},
   "source": [
    "This exercise consists of data preparation. You can use the libraries you have learned during this course."
   ]
  },
  {
   "cell_type": "markdown",
   "id": "c6547d32",
   "metadata": {},
   "source": [
    "### Question 3.1\n",
    "\n",
    "Download [here](https://wagon-public-datasets.s3.amazonaws.com/Machine%20Learning%20Datasets/ML_Cars_dataset.csv) the `ML_Cars_dataset.csv`  and place it in a folder in your PC.  Load into this notebook as a pandas dataframe named `df`, and display its first 10 rows."
   ]
  },
  {
   "cell_type": "code",
   "execution_count": 18,
   "id": "05db3d3c",
   "metadata": {
    "tags": [
     "challengify"
    ]
   },
   "outputs": [
    {
     "data": {
      "text/html": [
       "<div>\n",
       "<style scoped>\n",
       "    .dataframe tbody tr th:only-of-type {\n",
       "        vertical-align: middle;\n",
       "    }\n",
       "\n",
       "    .dataframe tbody tr th {\n",
       "        vertical-align: top;\n",
       "    }\n",
       "\n",
       "    .dataframe thead th {\n",
       "        text-align: right;\n",
       "    }\n",
       "</style>\n",
       "<table border=\"1\" class=\"dataframe\">\n",
       "  <thead>\n",
       "    <tr style=\"text-align: right;\">\n",
       "      <th></th>\n",
       "      <th>aspiration</th>\n",
       "      <th>enginelocation</th>\n",
       "      <th>carwidth</th>\n",
       "      <th>curbweight</th>\n",
       "      <th>enginetype</th>\n",
       "      <th>cylindernumber</th>\n",
       "      <th>stroke</th>\n",
       "      <th>peakrpm</th>\n",
       "      <th>price</th>\n",
       "    </tr>\n",
       "  </thead>\n",
       "  <tbody>\n",
       "    <tr>\n",
       "      <th>0</th>\n",
       "      <td>std</td>\n",
       "      <td>front</td>\n",
       "      <td>64.1</td>\n",
       "      <td>2548</td>\n",
       "      <td>dohc</td>\n",
       "      <td>four</td>\n",
       "      <td>2.68</td>\n",
       "      <td>5000</td>\n",
       "      <td>expensive</td>\n",
       "    </tr>\n",
       "    <tr>\n",
       "      <th>1</th>\n",
       "      <td>std</td>\n",
       "      <td>front</td>\n",
       "      <td>64.1</td>\n",
       "      <td>2548</td>\n",
       "      <td>dohc</td>\n",
       "      <td>four</td>\n",
       "      <td>2.68</td>\n",
       "      <td>5000</td>\n",
       "      <td>expensive</td>\n",
       "    </tr>\n",
       "    <tr>\n",
       "      <th>2</th>\n",
       "      <td>std</td>\n",
       "      <td>front</td>\n",
       "      <td>65.5</td>\n",
       "      <td>2823</td>\n",
       "      <td>ohcv</td>\n",
       "      <td>six</td>\n",
       "      <td>3.47</td>\n",
       "      <td>5000</td>\n",
       "      <td>expensive</td>\n",
       "    </tr>\n",
       "    <tr>\n",
       "      <th>3</th>\n",
       "      <td>std</td>\n",
       "      <td>front</td>\n",
       "      <td>NaN</td>\n",
       "      <td>2337</td>\n",
       "      <td>ohc</td>\n",
       "      <td>four</td>\n",
       "      <td>3.40</td>\n",
       "      <td>5500</td>\n",
       "      <td>expensive</td>\n",
       "    </tr>\n",
       "    <tr>\n",
       "      <th>4</th>\n",
       "      <td>std</td>\n",
       "      <td>front</td>\n",
       "      <td>66.4</td>\n",
       "      <td>2824</td>\n",
       "      <td>ohc</td>\n",
       "      <td>five</td>\n",
       "      <td>3.40</td>\n",
       "      <td>5500</td>\n",
       "      <td>expensive</td>\n",
       "    </tr>\n",
       "    <tr>\n",
       "      <th>5</th>\n",
       "      <td>std</td>\n",
       "      <td>front</td>\n",
       "      <td>66.3</td>\n",
       "      <td>2507</td>\n",
       "      <td>ohc</td>\n",
       "      <td>five</td>\n",
       "      <td>3.40</td>\n",
       "      <td>5500</td>\n",
       "      <td>expensive</td>\n",
       "    </tr>\n",
       "    <tr>\n",
       "      <th>6</th>\n",
       "      <td>std</td>\n",
       "      <td>front</td>\n",
       "      <td>71.4</td>\n",
       "      <td>2844</td>\n",
       "      <td>ohc</td>\n",
       "      <td>five</td>\n",
       "      <td>3.40</td>\n",
       "      <td>5500</td>\n",
       "      <td>expensive</td>\n",
       "    </tr>\n",
       "    <tr>\n",
       "      <th>7</th>\n",
       "      <td>std</td>\n",
       "      <td>front</td>\n",
       "      <td>NaN</td>\n",
       "      <td>2954</td>\n",
       "      <td>ohc</td>\n",
       "      <td>five</td>\n",
       "      <td>3.40</td>\n",
       "      <td>5500</td>\n",
       "      <td>expensive</td>\n",
       "    </tr>\n",
       "    <tr>\n",
       "      <th>8</th>\n",
       "      <td>turbo</td>\n",
       "      <td>front</td>\n",
       "      <td>71.4</td>\n",
       "      <td>3086</td>\n",
       "      <td>ohc</td>\n",
       "      <td>five</td>\n",
       "      <td>3.40</td>\n",
       "      <td>5500</td>\n",
       "      <td>expensive</td>\n",
       "    </tr>\n",
       "    <tr>\n",
       "      <th>9</th>\n",
       "      <td>turbo</td>\n",
       "      <td>front</td>\n",
       "      <td>67.9</td>\n",
       "      <td>3053</td>\n",
       "      <td>ohc</td>\n",
       "      <td>five</td>\n",
       "      <td>3.40</td>\n",
       "      <td>5500</td>\n",
       "      <td>expensive</td>\n",
       "    </tr>\n",
       "  </tbody>\n",
       "</table>\n",
       "</div>"
      ],
      "text/plain": [
       "  aspiration enginelocation carwidth  curbweight enginetype cylindernumber  \\\n",
       "0        std          front     64.1        2548       dohc           four   \n",
       "1        std          front     64.1        2548       dohc           four   \n",
       "2        std          front     65.5        2823       ohcv            six   \n",
       "3        std          front      NaN        2337        ohc           four   \n",
       "4        std          front     66.4        2824        ohc           five   \n",
       "5        std          front     66.3        2507        ohc           five   \n",
       "6        std          front     71.4        2844        ohc           five   \n",
       "7        std          front      NaN        2954        ohc           five   \n",
       "8      turbo          front     71.4        3086        ohc           five   \n",
       "9      turbo          front     67.9        3053        ohc           five   \n",
       "\n",
       "   stroke  peakrpm      price  \n",
       "0    2.68     5000  expensive  \n",
       "1    2.68     5000  expensive  \n",
       "2    3.47     5000  expensive  \n",
       "3    3.40     5500  expensive  \n",
       "4    3.40     5500  expensive  \n",
       "5    3.40     5500  expensive  \n",
       "6    3.40     5500  expensive  \n",
       "7    3.40     5500  expensive  \n",
       "8    3.40     5500  expensive  \n",
       "9    3.40     5500  expensive  "
      ]
     },
     "execution_count": 18,
     "metadata": {},
     "output_type": "execute_result"
    }
   ],
   "source": [
    "import pandas as pd \n",
    "\n",
    "df = pd.read_csv(\"ML_Cars_dataset.csv\")\n",
    "df.head(10)"
   ]
  },
  {
   "cell_type": "markdown",
   "id": "841162bb",
   "metadata": {},
   "source": [
    "ℹ️ The description of the dataset is available [here](https://wagon-public-datasets.s3.amazonaws.com/Machine%20Learning%20Datasets/ML_Cars_dataset_description.txt). Make sure to use refer to it through the exercise."
   ]
  },
  {
   "cell_type": "markdown",
   "id": "4f94301d",
   "metadata": {},
   "source": [
    "### Question 3.2 Duplicates"
   ]
  },
  {
   "cell_type": "markdown",
   "id": "4f9a297e",
   "metadata": {},
   "source": [
    "Remove the duplicates from the dataset if there are any. Overwite the dataframe `df`."
   ]
  },
  {
   "cell_type": "code",
   "execution_count": 19,
   "id": "b4d9f38e",
   "metadata": {
    "tags": [
     "challengify"
    ]
   },
   "outputs": [
    {
     "data": {
      "text/html": [
       "<div>\n",
       "<style scoped>\n",
       "    .dataframe tbody tr th:only-of-type {\n",
       "        vertical-align: middle;\n",
       "    }\n",
       "\n",
       "    .dataframe tbody tr th {\n",
       "        vertical-align: top;\n",
       "    }\n",
       "\n",
       "    .dataframe thead th {\n",
       "        text-align: right;\n",
       "    }\n",
       "</style>\n",
       "<table border=\"1\" class=\"dataframe\">\n",
       "  <thead>\n",
       "    <tr style=\"text-align: right;\">\n",
       "      <th></th>\n",
       "      <th>aspiration</th>\n",
       "      <th>enginelocation</th>\n",
       "      <th>carwidth</th>\n",
       "      <th>curbweight</th>\n",
       "      <th>enginetype</th>\n",
       "      <th>cylindernumber</th>\n",
       "      <th>stroke</th>\n",
       "      <th>peakrpm</th>\n",
       "      <th>price</th>\n",
       "    </tr>\n",
       "  </thead>\n",
       "  <tbody>\n",
       "    <tr>\n",
       "      <th>0</th>\n",
       "      <td>std</td>\n",
       "      <td>front</td>\n",
       "      <td>64.1</td>\n",
       "      <td>2548</td>\n",
       "      <td>dohc</td>\n",
       "      <td>four</td>\n",
       "      <td>2.68</td>\n",
       "      <td>5000</td>\n",
       "      <td>expensive</td>\n",
       "    </tr>\n",
       "    <tr>\n",
       "      <th>2</th>\n",
       "      <td>std</td>\n",
       "      <td>front</td>\n",
       "      <td>65.5</td>\n",
       "      <td>2823</td>\n",
       "      <td>ohcv</td>\n",
       "      <td>six</td>\n",
       "      <td>3.47</td>\n",
       "      <td>5000</td>\n",
       "      <td>expensive</td>\n",
       "    </tr>\n",
       "    <tr>\n",
       "      <th>3</th>\n",
       "      <td>std</td>\n",
       "      <td>front</td>\n",
       "      <td>NaN</td>\n",
       "      <td>2337</td>\n",
       "      <td>ohc</td>\n",
       "      <td>four</td>\n",
       "      <td>3.40</td>\n",
       "      <td>5500</td>\n",
       "      <td>expensive</td>\n",
       "    </tr>\n",
       "    <tr>\n",
       "      <th>4</th>\n",
       "      <td>std</td>\n",
       "      <td>front</td>\n",
       "      <td>66.4</td>\n",
       "      <td>2824</td>\n",
       "      <td>ohc</td>\n",
       "      <td>five</td>\n",
       "      <td>3.40</td>\n",
       "      <td>5500</td>\n",
       "      <td>expensive</td>\n",
       "    </tr>\n",
       "    <tr>\n",
       "      <th>5</th>\n",
       "      <td>std</td>\n",
       "      <td>front</td>\n",
       "      <td>66.3</td>\n",
       "      <td>2507</td>\n",
       "      <td>ohc</td>\n",
       "      <td>five</td>\n",
       "      <td>3.40</td>\n",
       "      <td>5500</td>\n",
       "      <td>expensive</td>\n",
       "    </tr>\n",
       "    <tr>\n",
       "      <th>...</th>\n",
       "      <td>...</td>\n",
       "      <td>...</td>\n",
       "      <td>...</td>\n",
       "      <td>...</td>\n",
       "      <td>...</td>\n",
       "      <td>...</td>\n",
       "      <td>...</td>\n",
       "      <td>...</td>\n",
       "      <td>...</td>\n",
       "    </tr>\n",
       "    <tr>\n",
       "      <th>200</th>\n",
       "      <td>std</td>\n",
       "      <td>front</td>\n",
       "      <td>68.9</td>\n",
       "      <td>2952</td>\n",
       "      <td>ohc</td>\n",
       "      <td>four</td>\n",
       "      <td>3.15</td>\n",
       "      <td>5400</td>\n",
       "      <td>expensive</td>\n",
       "    </tr>\n",
       "    <tr>\n",
       "      <th>201</th>\n",
       "      <td>turbo</td>\n",
       "      <td>front</td>\n",
       "      <td>68.8</td>\n",
       "      <td>3049</td>\n",
       "      <td>ohc</td>\n",
       "      <td>four</td>\n",
       "      <td>3.15</td>\n",
       "      <td>5300</td>\n",
       "      <td>expensive</td>\n",
       "    </tr>\n",
       "    <tr>\n",
       "      <th>202</th>\n",
       "      <td>std</td>\n",
       "      <td>front</td>\n",
       "      <td>68.9</td>\n",
       "      <td>3012</td>\n",
       "      <td>ohcv</td>\n",
       "      <td>six</td>\n",
       "      <td>2.87</td>\n",
       "      <td>5500</td>\n",
       "      <td>expensive</td>\n",
       "    </tr>\n",
       "    <tr>\n",
       "      <th>203</th>\n",
       "      <td>turbo</td>\n",
       "      <td>front</td>\n",
       "      <td>68.9</td>\n",
       "      <td>3217</td>\n",
       "      <td>ohc</td>\n",
       "      <td>six</td>\n",
       "      <td>3.40</td>\n",
       "      <td>4800</td>\n",
       "      <td>expensive</td>\n",
       "    </tr>\n",
       "    <tr>\n",
       "      <th>204</th>\n",
       "      <td>turbo</td>\n",
       "      <td>front</td>\n",
       "      <td>68.9</td>\n",
       "      <td>3062</td>\n",
       "      <td>ohc</td>\n",
       "      <td>four</td>\n",
       "      <td>3.15</td>\n",
       "      <td>5400</td>\n",
       "      <td>expensive</td>\n",
       "    </tr>\n",
       "  </tbody>\n",
       "</table>\n",
       "<p>191 rows × 9 columns</p>\n",
       "</div>"
      ],
      "text/plain": [
       "    aspiration enginelocation carwidth  curbweight enginetype cylindernumber  \\\n",
       "0          std          front     64.1        2548       dohc           four   \n",
       "2          std          front     65.5        2823       ohcv            six   \n",
       "3          std          front      NaN        2337        ohc           four   \n",
       "4          std          front     66.4        2824        ohc           five   \n",
       "5          std          front     66.3        2507        ohc           five   \n",
       "..         ...            ...      ...         ...        ...            ...   \n",
       "200        std          front     68.9        2952        ohc           four   \n",
       "201      turbo          front     68.8        3049        ohc           four   \n",
       "202        std          front     68.9        3012       ohcv            six   \n",
       "203      turbo          front     68.9        3217        ohc            six   \n",
       "204      turbo          front     68.9        3062        ohc           four   \n",
       "\n",
       "     stroke  peakrpm      price  \n",
       "0      2.68     5000  expensive  \n",
       "2      3.47     5000  expensive  \n",
       "3      3.40     5500  expensive  \n",
       "4      3.40     5500  expensive  \n",
       "5      3.40     5500  expensive  \n",
       "..      ...      ...        ...  \n",
       "200    3.15     5400  expensive  \n",
       "201    3.15     5300  expensive  \n",
       "202    2.87     5500  expensive  \n",
       "203    3.40     4800  expensive  \n",
       "204    3.15     5400  expensive  \n",
       "\n",
       "[191 rows x 9 columns]"
      ]
     },
     "execution_count": 19,
     "metadata": {},
     "output_type": "execute_result"
    }
   ],
   "source": [
    "df = df.drop_duplicates(inplace=False)\n",
    "df"
   ]
  },
  {
   "cell_type": "markdown",
   "id": "e031a7e6",
   "metadata": {},
   "source": [
    "### Question 3.3 Missing values\n",
    "\n",
    "Locate missing values, investigate them, and apply the solutions below accordingly (regarding all features with missing values):\n",
    "\n",
    "- Impute with most frequent (if the feature is categorical)\n",
    "- Impute with median (if the feature is numerical)\n",
    "\n",
    "Make changes effective in the dataset `df`."
   ]
  },
  {
   "cell_type": "code",
   "execution_count": 35,
   "id": "7f140998",
   "metadata": {
    "tags": [
     "challengify"
    ]
   },
   "outputs": [
    {
     "data": {
      "text/plain": [
       "aspiration        0\n",
       "enginelocation    0\n",
       "carwidth          0\n",
       "curbweight        0\n",
       "enginetype        0\n",
       "cylindernumber    0\n",
       "stroke            0\n",
       "peakrpm           0\n",
       "price             0\n",
       "dtype: int64"
      ]
     },
     "execution_count": 35,
     "metadata": {},
     "output_type": "execute_result"
    }
   ],
   "source": [
    "import numpy as np\n",
    "\n",
    "df.notnull()\n",
    "df[\"carwidth\"] = df[\"carwidth\"].replace(\"*\",np.nan)\n",
    "df[\"curbweight\"] = df[\"curbweight\"].replace(np.nan,df[\"curbweight\"].median())\n",
    "df[\"stroke\"] = df[\"stroke\"].replace(np.nan,df[\"stroke\"].median())\n",
    "df[\"peakrpm\"] = df[\"peakrpm\"].replace(np.nan,df[\"peakrpm\"].median())\n",
    "\n",
    "df = df.fillna(df['aspiration'].value_counts().index[0])\n",
    "df = df.fillna(df['enginelocation'].value_counts().index[0])\n",
    "df = df.fillna(df['enginetype'].value_counts().index[0])\n",
    "df = df.fillna(df['cylindernumber'].value_counts().index[0])\n",
    "df = df.fillna(df['price'].value_counts().index[0])\n",
    "df.isna().sum()"
   ]
  },
  {
   "cell_type": "markdown",
   "id": "e0bb8c58",
   "metadata": {},
   "source": [
    "ℹ️ <code>carwidth</code> has multiple representations of missing values. Some are <code>np.nans</code>, some are  <code>*</code>. Once located, they can be imputed by the median value, since there is less than 30% of missing values.\n",
    "</details> "
   ]
  },
  {
   "cell_type": "markdown",
   "id": "1d65eea6",
   "metadata": {},
   "source": [
    "### Question 3.4 Scaling\n",
    "\n",
    "For the  `peakrpm` , `carwidth`, and `stroke` numerical features apply a scaling tecnique:\n",
    "- standardization\n",
    "\n",
    "Replace the original columns by the transformed values."
   ]
  },
  {
   "cell_type": "code",
   "execution_count": 44,
   "id": "ac8f918e",
   "metadata": {
    "tags": [
     "challengify"
    ]
   },
   "outputs": [
    {
     "data": {
      "text/html": [
       "<div>\n",
       "<style scoped>\n",
       "    .dataframe tbody tr th:only-of-type {\n",
       "        vertical-align: middle;\n",
       "    }\n",
       "\n",
       "    .dataframe tbody tr th {\n",
       "        vertical-align: top;\n",
       "    }\n",
       "\n",
       "    .dataframe thead th {\n",
       "        text-align: right;\n",
       "    }\n",
       "</style>\n",
       "<table border=\"1\" class=\"dataframe\">\n",
       "  <thead>\n",
       "    <tr style=\"text-align: right;\">\n",
       "      <th></th>\n",
       "      <th>aspiration</th>\n",
       "      <th>enginelocation</th>\n",
       "      <th>carwidth</th>\n",
       "      <th>curbweight</th>\n",
       "      <th>enginetype</th>\n",
       "      <th>cylindernumber</th>\n",
       "      <th>stroke</th>\n",
       "      <th>peakrpm</th>\n",
       "      <th>price</th>\n",
       "    </tr>\n",
       "  </thead>\n",
       "  <tbody>\n",
       "    <tr>\n",
       "      <th>0</th>\n",
       "      <td>std</td>\n",
       "      <td>front</td>\n",
       "      <td>-0.887886</td>\n",
       "      <td>2548</td>\n",
       "      <td>dohc</td>\n",
       "      <td>four</td>\n",
       "      <td>-1.822689</td>\n",
       "      <td>-0.239657</td>\n",
       "      <td>expensive</td>\n",
       "    </tr>\n",
       "    <tr>\n",
       "      <th>2</th>\n",
       "      <td>std</td>\n",
       "      <td>front</td>\n",
       "      <td>-0.220036</td>\n",
       "      <td>2823</td>\n",
       "      <td>ohcv</td>\n",
       "      <td>six</td>\n",
       "      <td>0.661621</td>\n",
       "      <td>-0.239657</td>\n",
       "      <td>expensive</td>\n",
       "    </tr>\n",
       "    <tr>\n",
       "      <th>3</th>\n",
       "      <td>std</td>\n",
       "      <td>front</td>\n",
       "      <td>-0.220036</td>\n",
       "      <td>2337</td>\n",
       "      <td>ohc</td>\n",
       "      <td>four</td>\n",
       "      <td>0.441492</td>\n",
       "      <td>0.819937</td>\n",
       "      <td>expensive</td>\n",
       "    </tr>\n",
       "    <tr>\n",
       "      <th>4</th>\n",
       "      <td>std</td>\n",
       "      <td>front</td>\n",
       "      <td>0.209296</td>\n",
       "      <td>2824</td>\n",
       "      <td>ohc</td>\n",
       "      <td>five</td>\n",
       "      <td>0.441492</td>\n",
       "      <td>0.819937</td>\n",
       "      <td>expensive</td>\n",
       "    </tr>\n",
       "    <tr>\n",
       "      <th>5</th>\n",
       "      <td>std</td>\n",
       "      <td>front</td>\n",
       "      <td>0.161593</td>\n",
       "      <td>2507</td>\n",
       "      <td>ohc</td>\n",
       "      <td>five</td>\n",
       "      <td>0.441492</td>\n",
       "      <td>0.819937</td>\n",
       "      <td>expensive</td>\n",
       "    </tr>\n",
       "    <tr>\n",
       "      <th>...</th>\n",
       "      <td>...</td>\n",
       "      <td>...</td>\n",
       "      <td>...</td>\n",
       "      <td>...</td>\n",
       "      <td>...</td>\n",
       "      <td>...</td>\n",
       "      <td>...</td>\n",
       "      <td>...</td>\n",
       "      <td>...</td>\n",
       "    </tr>\n",
       "    <tr>\n",
       "      <th>200</th>\n",
       "      <td>std</td>\n",
       "      <td>front</td>\n",
       "      <td>1.401886</td>\n",
       "      <td>2952</td>\n",
       "      <td>ohc</td>\n",
       "      <td>four</td>\n",
       "      <td>-0.344682</td>\n",
       "      <td>0.608018</td>\n",
       "      <td>expensive</td>\n",
       "    </tr>\n",
       "    <tr>\n",
       "      <th>201</th>\n",
       "      <td>turbo</td>\n",
       "      <td>front</td>\n",
       "      <td>1.354182</td>\n",
       "      <td>3049</td>\n",
       "      <td>ohc</td>\n",
       "      <td>four</td>\n",
       "      <td>-0.344682</td>\n",
       "      <td>0.396099</td>\n",
       "      <td>expensive</td>\n",
       "    </tr>\n",
       "    <tr>\n",
       "      <th>202</th>\n",
       "      <td>std</td>\n",
       "      <td>front</td>\n",
       "      <td>1.401886</td>\n",
       "      <td>3012</td>\n",
       "      <td>ohcv</td>\n",
       "      <td>six</td>\n",
       "      <td>-1.225197</td>\n",
       "      <td>0.819937</td>\n",
       "      <td>expensive</td>\n",
       "    </tr>\n",
       "    <tr>\n",
       "      <th>203</th>\n",
       "      <td>turbo</td>\n",
       "      <td>front</td>\n",
       "      <td>1.401886</td>\n",
       "      <td>3217</td>\n",
       "      <td>ohc</td>\n",
       "      <td>six</td>\n",
       "      <td>0.441492</td>\n",
       "      <td>-0.663494</td>\n",
       "      <td>expensive</td>\n",
       "    </tr>\n",
       "    <tr>\n",
       "      <th>204</th>\n",
       "      <td>turbo</td>\n",
       "      <td>front</td>\n",
       "      <td>1.401886</td>\n",
       "      <td>3062</td>\n",
       "      <td>ohc</td>\n",
       "      <td>four</td>\n",
       "      <td>-0.344682</td>\n",
       "      <td>0.608018</td>\n",
       "      <td>expensive</td>\n",
       "    </tr>\n",
       "  </tbody>\n",
       "</table>\n",
       "<p>191 rows × 9 columns</p>\n",
       "</div>"
      ],
      "text/plain": [
       "    aspiration enginelocation  carwidth  curbweight enginetype cylindernumber  \\\n",
       "0          std          front -0.887886        2548       dohc           four   \n",
       "2          std          front -0.220036        2823       ohcv            six   \n",
       "3          std          front -0.220036        2337        ohc           four   \n",
       "4          std          front  0.209296        2824        ohc           five   \n",
       "5          std          front  0.161593        2507        ohc           five   \n",
       "..         ...            ...       ...         ...        ...            ...   \n",
       "200        std          front  1.401886        2952        ohc           four   \n",
       "201      turbo          front  1.354182        3049        ohc           four   \n",
       "202        std          front  1.401886        3012       ohcv            six   \n",
       "203      turbo          front  1.401886        3217        ohc            six   \n",
       "204      turbo          front  1.401886        3062        ohc           four   \n",
       "\n",
       "       stroke   peakrpm      price  \n",
       "0   -1.822689 -0.239657  expensive  \n",
       "2    0.661621 -0.239657  expensive  \n",
       "3    0.441492  0.819937  expensive  \n",
       "4    0.441492  0.819937  expensive  \n",
       "5    0.441492  0.819937  expensive  \n",
       "..        ...       ...        ...  \n",
       "200 -0.344682  0.608018  expensive  \n",
       "201 -0.344682  0.396099  expensive  \n",
       "202 -1.225197  0.819937  expensive  \n",
       "203  0.441492 -0.663494  expensive  \n",
       "204 -0.344682  0.608018  expensive  \n",
       "\n",
       "[191 rows x 9 columns]"
      ]
     },
     "execution_count": 44,
     "metadata": {},
     "output_type": "execute_result"
    }
   ],
   "source": [
    "df[\"peakrpm\"] = (df[\"peakrpm\"]-df[\"peakrpm\"].mean())/df[\"peakrpm\"].std()\n",
    "df[\"stroke\"] = (df[\"stroke\"]-df[\"stroke\"].mean())/df[\"stroke\"].std()\n",
    "df[\"carwidth\"] = df[\"carwidth\"].astype(float, errors = 'raise')\n",
    "df[\"carwidth\"] = (df[\"carwidth\"]-df[\"carwidth\"].mean())/df[\"carwidth\"].std()\n",
    "\n",
    "df"
   ]
  },
  {
   "cell_type": "markdown",
   "id": "9ea48ccc",
   "metadata": {},
   "source": [
    "### Question 3.5 Encoding\n",
    "\n",
    "Investigate all the features that require encoding (all features that are categorical), and apply an numerical encoding.\n",
    "\n",
    "In the dataframe, replace the original features by their encoded version(s)."
   ]
  },
  {
   "cell_type": "markdown",
   "id": "efae03a7",
   "metadata": {},
   "source": [
    "ℹ️ Note that these features can have different ways to be encoding. E.g.`aspiration` and `enginelocation` are binary categorical features, however, `enginetype` is a multi categorical feature. You may choose different ways to encode."
   ]
  },
  {
   "cell_type": "code",
   "execution_count": 48,
   "id": "b677e8c3",
   "metadata": {
    "tags": [
     "delete"
    ]
   },
   "outputs": [],
   "source": [
    "df[\"price\"].replace({\"expensive\":1, \"cheap\": 0}, inplace=True)\n",
    "df[\"aspiration\"].replace({\"turbo\":1, \"std\": 0}, inplace=True)\n",
    "df[\"enginetype\"].replace({\"dohc\":7, \"dohcv\": 6, \"l\": 5, \"ohcv\": 4, \"ohcf\": 3, \"ohcv\":2, \"ohcv\":1, \"rotor\":0}, inplace=True)\n",
    "df[\"cylindernumber\"].replace({\"eight\":8, \"five\": 5, \"four\": 4, \"six\": 6, \"three\": 3, \"twelve\": 12, \"two\": 2}, inplace=True)\n",
    "df[\"enginelocation\"].replace({\"front\":1, \"rear\": 0}, inplace=True)"
   ]
  },
  {
   "cell_type": "markdown",
   "id": "2e4018aa",
   "metadata": {},
   "source": [
    "### Question 3.6 Feature selection\n",
    "\n",
    "Considering the collinearity on the dataset and the high correlation between some features (after the encoding process the complexity probably increased), remove unnecessary features (since they are very correlated with other features, adding little values to the dataset) -  `carwidth` and  `cylindernumber`. \n",
    "\n",
    "Make changes effective in the dataframe `df`."
   ]
  },
  {
   "cell_type": "code",
   "execution_count": 49,
   "id": "8e06e400",
   "metadata": {},
   "outputs": [
    {
     "data": {
      "text/html": [
       "<div>\n",
       "<style scoped>\n",
       "    .dataframe tbody tr th:only-of-type {\n",
       "        vertical-align: middle;\n",
       "    }\n",
       "\n",
       "    .dataframe tbody tr th {\n",
       "        vertical-align: top;\n",
       "    }\n",
       "\n",
       "    .dataframe thead th {\n",
       "        text-align: right;\n",
       "    }\n",
       "</style>\n",
       "<table border=\"1\" class=\"dataframe\">\n",
       "  <thead>\n",
       "    <tr style=\"text-align: right;\">\n",
       "      <th></th>\n",
       "      <th>aspiration</th>\n",
       "      <th>enginelocation</th>\n",
       "      <th>curbweight</th>\n",
       "      <th>enginetype</th>\n",
       "      <th>stroke</th>\n",
       "      <th>peakrpm</th>\n",
       "      <th>price</th>\n",
       "    </tr>\n",
       "  </thead>\n",
       "  <tbody>\n",
       "    <tr>\n",
       "      <th>0</th>\n",
       "      <td>0</td>\n",
       "      <td>1</td>\n",
       "      <td>2548</td>\n",
       "      <td>0</td>\n",
       "      <td>-1.822689</td>\n",
       "      <td>-0.239657</td>\n",
       "      <td>1</td>\n",
       "    </tr>\n",
       "    <tr>\n",
       "      <th>2</th>\n",
       "      <td>0</td>\n",
       "      <td>1</td>\n",
       "      <td>2823</td>\n",
       "      <td>1</td>\n",
       "      <td>0.661621</td>\n",
       "      <td>-0.239657</td>\n",
       "      <td>1</td>\n",
       "    </tr>\n",
       "    <tr>\n",
       "      <th>3</th>\n",
       "      <td>0</td>\n",
       "      <td>1</td>\n",
       "      <td>2337</td>\n",
       "      <td>2</td>\n",
       "      <td>0.441492</td>\n",
       "      <td>0.819937</td>\n",
       "      <td>1</td>\n",
       "    </tr>\n",
       "    <tr>\n",
       "      <th>4</th>\n",
       "      <td>0</td>\n",
       "      <td>1</td>\n",
       "      <td>2824</td>\n",
       "      <td>2</td>\n",
       "      <td>0.441492</td>\n",
       "      <td>0.819937</td>\n",
       "      <td>1</td>\n",
       "    </tr>\n",
       "    <tr>\n",
       "      <th>5</th>\n",
       "      <td>0</td>\n",
       "      <td>1</td>\n",
       "      <td>2507</td>\n",
       "      <td>2</td>\n",
       "      <td>0.441492</td>\n",
       "      <td>0.819937</td>\n",
       "      <td>1</td>\n",
       "    </tr>\n",
       "    <tr>\n",
       "      <th>...</th>\n",
       "      <td>...</td>\n",
       "      <td>...</td>\n",
       "      <td>...</td>\n",
       "      <td>...</td>\n",
       "      <td>...</td>\n",
       "      <td>...</td>\n",
       "      <td>...</td>\n",
       "    </tr>\n",
       "    <tr>\n",
       "      <th>200</th>\n",
       "      <td>0</td>\n",
       "      <td>1</td>\n",
       "      <td>2952</td>\n",
       "      <td>2</td>\n",
       "      <td>-0.344682</td>\n",
       "      <td>0.608018</td>\n",
       "      <td>1</td>\n",
       "    </tr>\n",
       "    <tr>\n",
       "      <th>201</th>\n",
       "      <td>1</td>\n",
       "      <td>1</td>\n",
       "      <td>3049</td>\n",
       "      <td>2</td>\n",
       "      <td>-0.344682</td>\n",
       "      <td>0.396099</td>\n",
       "      <td>1</td>\n",
       "    </tr>\n",
       "    <tr>\n",
       "      <th>202</th>\n",
       "      <td>0</td>\n",
       "      <td>1</td>\n",
       "      <td>3012</td>\n",
       "      <td>1</td>\n",
       "      <td>-1.225197</td>\n",
       "      <td>0.819937</td>\n",
       "      <td>1</td>\n",
       "    </tr>\n",
       "    <tr>\n",
       "      <th>203</th>\n",
       "      <td>1</td>\n",
       "      <td>1</td>\n",
       "      <td>3217</td>\n",
       "      <td>2</td>\n",
       "      <td>0.441492</td>\n",
       "      <td>-0.663494</td>\n",
       "      <td>1</td>\n",
       "    </tr>\n",
       "    <tr>\n",
       "      <th>204</th>\n",
       "      <td>1</td>\n",
       "      <td>1</td>\n",
       "      <td>3062</td>\n",
       "      <td>2</td>\n",
       "      <td>-0.344682</td>\n",
       "      <td>0.608018</td>\n",
       "      <td>1</td>\n",
       "    </tr>\n",
       "  </tbody>\n",
       "</table>\n",
       "<p>191 rows × 7 columns</p>\n",
       "</div>"
      ],
      "text/plain": [
       "     aspiration enginelocation  curbweight  enginetype    stroke   peakrpm  \\\n",
       "0             0              1        2548           0 -1.822689 -0.239657   \n",
       "2             0              1        2823           1  0.661621 -0.239657   \n",
       "3             0              1        2337           2  0.441492  0.819937   \n",
       "4             0              1        2824           2  0.441492  0.819937   \n",
       "5             0              1        2507           2  0.441492  0.819937   \n",
       "..          ...            ...         ...         ...       ...       ...   \n",
       "200           0              1        2952           2 -0.344682  0.608018   \n",
       "201           1              1        3049           2 -0.344682  0.396099   \n",
       "202           0              1        3012           1 -1.225197  0.819937   \n",
       "203           1              1        3217           2  0.441492 -0.663494   \n",
       "204           1              1        3062           2 -0.344682  0.608018   \n",
       "\n",
       "     price  \n",
       "0        1  \n",
       "2        1  \n",
       "3        1  \n",
       "4        1  \n",
       "5        1  \n",
       "..     ...  \n",
       "200      1  \n",
       "201      1  \n",
       "202      1  \n",
       "203      1  \n",
       "204      1  \n",
       "\n",
       "[191 rows x 7 columns]"
      ]
     },
     "execution_count": 49,
     "metadata": {},
     "output_type": "execute_result"
    }
   ],
   "source": [
    "df.drop(columns=['carwidth', 'cylindernumber'])"
   ]
  },
  {
   "cell_type": "markdown",
   "id": "23d25c0e",
   "metadata": {},
   "source": [
    "### 🏁 Save your prepared dataset in \"cleaned_dataset.csv\""
   ]
  },
  {
   "cell_type": "code",
   "execution_count": 50,
   "id": "07fe570d",
   "metadata": {},
   "outputs": [],
   "source": [
    "df.to_csv(\"cleaned_dataset.csv\")"
   ]
  }
 ],
 "metadata": {
  "kernelspec": {
   "display_name": "Python 3 (ipykernel)",
   "language": "python",
   "name": "python3"
  },
  "language_info": {
   "codemirror_mode": {
    "name": "ipython",
    "version": 3
   },
   "file_extension": ".py",
   "mimetype": "text/x-python",
   "name": "python",
   "nbconvert_exporter": "python",
   "pygments_lexer": "ipython3",
   "version": "3.9.7"
  }
 },
 "nbformat": 4,
 "nbformat_minor": 5
}
