{
 "cells": [
  {
   "cell_type": "markdown",
   "metadata": {},
   "source": [
    "Omar Ben Ayed - 38628"
   ]
  },
  {
   "cell_type": "markdown",
   "metadata": {},
   "source": [
    "[![Binder](img/badge-binder.svg)](https://mybinder.org/v2/gh/nhirschey/teaching/gh-pages?filepath=football-collection-functions.ipynb)&emsp;\n",
    "[![Script](img/badge-script.svg)](/Teaching//football-collection-functions.fsx)&emsp;\n",
    "[![Notebook](img/badge-notebook.svg)](/Teaching//football-collection-functions.ipynb)\n",
    "\n",
    "# Using List collection functions and calculating summary statistics.\n",
    "\n",
    "> Developed with [Davide Costa](https://github.com/DavideGCosta)\n",
    "> \n",
    "\n",
    "You should now feel comfortable with the footballer dataset and how to work with\n",
    "tuples, records, anonymous records. You should also know how to perform simple transformations.\n",
    "With a large and heterogeneous dataset, it's useful to understand how to sort, group,\n",
    "and filter the data, and also many other interesting List functions.\n",
    "\n",
    "It is a good idea to browse the documentation for lists at the [F# language reference](https://docs.microsoft.com/en-us/dotnet/fsharp/language-reference/Lists)\n",
    "and the [F# core library](https://fsharp.github.io/fsharp-core-docs/reference/fsharp-collections-listmodule.html) documentation sites before you start.\n",
    "For further discussion of collection functions, the related [F# for fun and profit](https://fsharpforfunandprofit.com/posts/list-module-functions/)\n",
    "page is also useful.\n",
    "\n",
    "### Reference needed nuget packages and open namespaces\n",
    "\n"
   ]
  },
  {
   "cell_type": "code",
   "execution_count": null,
   "metadata": {
    "dotnet_interactive": {
     "language": "fsharp"
    },
    "vscode": {
     "languageId": "dotnet-interactive.fsharp"
    }
   },
   "outputs": [
    {
     "data": {
      "text/html": [
       "<div><div></div><div></div><div><strong>Installed Packages</strong><ul><li><span>FSharp.Data, 4.2.7</span></li><li><span>FSharp.Stats, 0.4.3</span></li></ul></div></div>"
      ]
     },
     "metadata": {},
     "output_type": "display_data"
    }
   ],
   "source": [
    "#r \"nuget:FSharp.Data\"\n",
    "#r \"nuget: FSharp.Stats\"\n",
    "\n",
    "open FSharp.Data\n",
    "open FSharp.Stats\n",
    "open FSharp.Stats.Correlation\n"
   ]
  },
  {
   "cell_type": "markdown",
   "metadata": {},
   "source": [
    "### Load the Csv file.\n",
    "\n"
   ]
  },
  {
   "cell_type": "code",
   "execution_count": null,
   "metadata": {
    "dotnet_interactive": {
     "language": "fsharp"
    },
    "vscode": {
     "languageId": "dotnet-interactive.fsharp"
    }
   },
   "outputs": [],
   "source": [
    "let [<Literal>] CsvPath = __SOURCE_DIRECTORY__ + \"/FootballPlayers.csv\"\n",
    "type FootballPlayersCsv = CsvProvider<CsvPath>\n",
    "\n",
    "let playerStatsTable = \n",
    "    FootballPlayersCsv.GetSample().Rows\n",
    "    |> Seq.toList\n"
   ]
  },
  {
   "cell_type": "markdown",
   "metadata": {},
   "source": [
    "## EXERCISES - PART 2\n",
    "\n",
    "* [List Functions.](#List-Functions)\n",
    "  \n",
    "\n",
    "  0 [List.take](#1-List-take)\n",
    "    \n",
    "  \n",
    "  1 [List.truncate](#2-List-truncate)\n",
    "    \n",
    "  \n",
    "  2 [List.distinct](#3-List-distinct)\n",
    "    \n",
    "  \n",
    "  3 [List.countBy](#4-List-countBy)\n",
    "    \n",
    "  \n",
    "  4 [List.filter](#5-List-filter)\n",
    "    \n",
    "  \n",
    "  5 [List.sort and List.sortDescending](#6-List-sort-and-List-sortDescending)\n",
    "    \n",
    "  \n",
    "  6 [List.sortBy and List.sortByDescending](#7-List-sortBy-and-List-sortByDescending)\n",
    "    \n",
    "  \n",
    "  7 [List.splitInto](#8-List-splitInto)\n",
    "    \n",
    "  \n",
    "  8 [List.groupBy](#9-List-groupBy)\n",
    "    \n",
    "  \n",
    "\n",
    "* [Statistics List Functions.](#Statistics-List-Functions)\n",
    "  \n",
    "\n",
    "  0 [List.max](#1-List-max)\n",
    "    \n",
    "  \n",
    "  1 [List.min](#2-List-min)\n",
    "    \n",
    "  \n",
    "  2 [List.maxBy](#3-List-maxBy)\n",
    "    \n",
    "  \n",
    "  3 [List.minBy](#4-List-minBy)\n",
    "    \n",
    "  \n",
    "  4 [List.sum](#5-List-sum)\n",
    "    \n",
    "  \n",
    "  5 [List.sumBy](#6-List-sumBy)\n",
    "    \n",
    "  \n",
    "  6 [List.average](#7-List-average)\n",
    "    \n",
    "  \n",
    "  7 [List.averageBy](#8-List-averageBy)\n",
    "    \n",
    "  \n",
    "  8 [Seq.stDev](#9-Seq-stDev)\n",
    "    \n",
    "  \n",
    "  9 [Seq.pearsonOfPairs](#10-Seq-pearsonOfPairs)\n",
    "    \n",
    "  \n",
    "\n",
    "* [Further Statistics practice.](#Further-Statistics-practice)\n",
    "  \n",
    "\n",
    "  0 [List.countBy, List.filter and List.averageBy](#1-List-countBy-List-filter-and-List-averageBy)\n",
    "    \n",
    "  \n",
    "  1 [List.groupBy, List.map and transformations](#2-List-groupBy-List-map-and-transformations)\n",
    "    \n",
    "  \n",
    "  2 [List.sortDescending, List.splitInto, List.map and Seq.stDev](#3-List-sortDescending-List-splitInto-List-map-and-Seq-stDev)\n",
    "    \n",
    "  \n",
    "\n",
    "## List Functions.\n",
    "\n",
    "### 1 List.take\n",
    "\n",
    "`List.take 5` takes the first 5 rows.\n",
    "`List.take 2` takes the first 2 rows\n",
    "\n",
    "Example: Take the first 4 rows from `playerStatsTable` with `List.take`.\n",
    "\n"
   ]
  },
  {
   "cell_type": "code",
   "execution_count": null,
   "metadata": {
    "dotnet_interactive": {
     "language": "fsharp"
    },
    "vscode": {
     "languageId": "dotnet-interactive.fsharp"
    }
   },
   "outputs": [
    {
     "data": {
      "text/html": [
       "<table><thead><tr><th><i>index</i></th><th>Item1</th><th>Item2</th><th>Item3</th><th>Item4</th><th>Item5</th><th>Item6</th><th>Item7</th><th>Rest</th></tr></thead><tbody><tr><td>0</td><td>Robert Lewandowski</td><td>pl POL</td><td>FW</td><td>Bayern Munich</td><td>deBundesliga</td><td><div class=\"dni-plaintext\">33</div></td><td><div class=\"dni-plaintext\">22</div></td><td><table><thead><tr><th>Item1</th></tr></thead><tbody><tr><td><div class=\"dni-plaintext\">26</div></td></tr></tbody></table></td></tr><tr><td>1</td><td>Patrik Schick</td><td>cz CZE</td><td>FW</td><td>Leverkusen</td><td>deBundesliga</td><td><div class=\"dni-plaintext\">26</div></td><td><div class=\"dni-plaintext\">19</div></td><td><table><thead><tr><th>Item1</th></tr></thead><tbody><tr><td><div class=\"dni-plaintext\">19</div></td></tr></tbody></table></td></tr><tr><td>2</td><td>Ciro Immobile</td><td>it ITA</td><td>FW</td><td>Lazio</td><td>itSerie A</td><td><div class=\"dni-plaintext\">31</div></td><td><div class=\"dni-plaintext\">21</div></td><td><table><thead><tr><th>Item1</th></tr></thead><tbody><tr><td><div class=\"dni-plaintext\">19</div></td></tr></tbody></table></td></tr><tr><td>3</td><td>Karim Benzema</td><td>fr FRA</td><td>FW</td><td>Real Madrid</td><td>esLa Liga</td><td><div class=\"dni-plaintext\">34</div></td><td><div class=\"dni-plaintext\">21</div></td><td><table><thead><tr><th>Item1</th></tr></thead><tbody><tr><td><div class=\"dni-plaintext\">17</div></td></tr></tbody></table></td></tr></tbody></table>"
      ]
     },
     "metadata": {},
     "output_type": "display_data"
    }
   ],
   "source": [
    "playerStatsTable\n",
    "|> List.take 4\n"
   ]
  },
  {
   "cell_type": "markdown",
   "metadata": {},
   "source": [
    "* Take the first 7 rows from `playerStatsTable` with `List.take`.\n",
    "\n",
    "<div style=\"padding-left: 40px;\">\n",
    "<p> \n",
    "<span>\n",
    "<details>\n",
    "<summary><p style=\"display:inline\">answer</p></summary>\n",
    "\n",
    "```\n",
    "input.fsx (1,1)-(1,17) typecheck error The value or constructor 'playerStatsTable' is not defined. Maybe you want one of the following:\n",
    "   playersByPosition\n",
    "```\n",
    "\n",
    "</details>\n",
    "</span>\n",
    "</p>\n",
    "</div>\n",
    "\n"
   ]
  },
  {
   "cell_type": "code",
   "execution_count": null,
   "metadata": {
    "dotnet_interactive": {
     "language": "fsharp"
    },
    "vscode": {
     "languageId": "dotnet-interactive.fsharp"
    }
   },
   "outputs": [
    {
     "data": {
      "text/html": [
       "<table><thead><tr><th><i>index</i></th><th>Item1</th><th>Item2</th><th>Item3</th><th>Item4</th><th>Item5</th><th>Item6</th><th>Item7</th><th>Rest</th></tr></thead><tbody><tr><td>0</td><td>Robert Lewandowski</td><td>pl POL</td><td>FW</td><td>Bayern Munich</td><td>deBundesliga</td><td><div class=\"dni-plaintext\">33</div></td><td><div class=\"dni-plaintext\">22</div></td><td><table><thead><tr><th>Item1</th></tr></thead><tbody><tr><td><div class=\"dni-plaintext\">26</div></td></tr></tbody></table></td></tr><tr><td>1</td><td>Patrik Schick</td><td>cz CZE</td><td>FW</td><td>Leverkusen</td><td>deBundesliga</td><td><div class=\"dni-plaintext\">26</div></td><td><div class=\"dni-plaintext\">19</div></td><td><table><thead><tr><th>Item1</th></tr></thead><tbody><tr><td><div class=\"dni-plaintext\">19</div></td></tr></tbody></table></td></tr><tr><td>2</td><td>Ciro Immobile</td><td>it ITA</td><td>FW</td><td>Lazio</td><td>itSerie A</td><td><div class=\"dni-plaintext\">31</div></td><td><div class=\"dni-plaintext\">21</div></td><td><table><thead><tr><th>Item1</th></tr></thead><tbody><tr><td><div class=\"dni-plaintext\">19</div></td></tr></tbody></table></td></tr><tr><td>3</td><td>Karim Benzema</td><td>fr FRA</td><td>FW</td><td>Real Madrid</td><td>esLa Liga</td><td><div class=\"dni-plaintext\">34</div></td><td><div class=\"dni-plaintext\">21</div></td><td><table><thead><tr><th>Item1</th></tr></thead><tbody><tr><td><div class=\"dni-plaintext\">17</div></td></tr></tbody></table></td></tr><tr><td>4</td><td>Dušan Vlahović</td><td>rs SRB</td><td>FW</td><td>Fiorentina</td><td>itSerie A</td><td><div class=\"dni-plaintext\">22</div></td><td><div class=\"dni-plaintext\">21</div></td><td><table><thead><tr><th>Item1</th></tr></thead><tbody><tr><td><div class=\"dni-plaintext\">17</div></td></tr></tbody></table></td></tr><tr><td>5</td><td>Mohamed Salah</td><td>eg EGY</td><td>FW</td><td>Liverpool</td><td>engPremier League</td><td><div class=\"dni-plaintext\">29</div></td><td><div class=\"dni-plaintext\">22</div></td><td><table><thead><tr><th>Item1</th></tr></thead><tbody><tr><td><div class=\"dni-plaintext\">16</div></td></tr></tbody></table></td></tr><tr><td>6</td><td>Erling Haaland</td><td>no NOR</td><td>FW</td><td>Dortmund</td><td>deBundesliga</td><td><div class=\"dni-plaintext\">21</div></td><td><div class=\"dni-plaintext\">14</div></td><td><table><thead><tr><th>Item1</th></tr></thead><tbody><tr><td><div class=\"dni-plaintext\">16</div></td></tr></tbody></table></td></tr></tbody></table>"
      ]
     },
     "metadata": {},
     "output_type": "display_data"
    }
   ],
   "source": [
    "// write your code here, see website for solution.\n",
    "playerStatsTable\n",
    "|> List.take 7"
   ]
  },
  {
   "cell_type": "markdown",
   "metadata": {},
   "source": [
    "### 2 List.truncate\n",
    "\n",
    "`List.truncate 5` takes the first 5 rows.\n",
    "`List.truncate 2` takes the first 2 rows\n",
    "\n",
    "You must have noted that `List.take` and `List.truncate` return similar outputs, but these are not exactly the same.\n",
    "`List.take` gives you the exact number of items that you specify in the parameters,\n",
    "while `List.truncate` takes at maximum the number of items you specified in the parameters.\n",
    "Thus, in most cases both give you the exact same output, except if you ask for more items then the ones available in the List (List length).\n",
    "In this particular scenario `List.truncate` returns the maximum number of elements (all the elements in the List),\n",
    "while `List.take` returns an error, since it is supposed to take the exact number of elements you asked for, which is impossible in this particular case.\n",
    "\n",
    "Example: Take the first 4 rows from `playerStatsTable` with `List.truncate`.\n",
    "\n"
   ]
  },
  {
   "cell_type": "code",
   "execution_count": null,
   "metadata": {
    "dotnet_interactive": {
     "language": "fsharp"
    },
    "vscode": {
     "languageId": "dotnet-interactive.fsharp"
    }
   },
   "outputs": [
    {
     "data": {
      "text/html": [
       "<table><thead><tr><th><i>index</i></th><th>Item1</th><th>Item2</th><th>Item3</th><th>Item4</th><th>Item5</th><th>Item6</th><th>Item7</th><th>Rest</th></tr></thead><tbody><tr><td>0</td><td>Robert Lewandowski</td><td>pl POL</td><td>FW</td><td>Bayern Munich</td><td>deBundesliga</td><td><div class=\"dni-plaintext\">33</div></td><td><div class=\"dni-plaintext\">22</div></td><td><table><thead><tr><th>Item1</th></tr></thead><tbody><tr><td><div class=\"dni-plaintext\">26</div></td></tr></tbody></table></td></tr><tr><td>1</td><td>Patrik Schick</td><td>cz CZE</td><td>FW</td><td>Leverkusen</td><td>deBundesliga</td><td><div class=\"dni-plaintext\">26</div></td><td><div class=\"dni-plaintext\">19</div></td><td><table><thead><tr><th>Item1</th></tr></thead><tbody><tr><td><div class=\"dni-plaintext\">19</div></td></tr></tbody></table></td></tr><tr><td>2</td><td>Ciro Immobile</td><td>it ITA</td><td>FW</td><td>Lazio</td><td>itSerie A</td><td><div class=\"dni-plaintext\">31</div></td><td><div class=\"dni-plaintext\">21</div></td><td><table><thead><tr><th>Item1</th></tr></thead><tbody><tr><td><div class=\"dni-plaintext\">19</div></td></tr></tbody></table></td></tr><tr><td>3</td><td>Karim Benzema</td><td>fr FRA</td><td>FW</td><td>Real Madrid</td><td>esLa Liga</td><td><div class=\"dni-plaintext\">34</div></td><td><div class=\"dni-plaintext\">21</div></td><td><table><thead><tr><th>Item1</th></tr></thead><tbody><tr><td><div class=\"dni-plaintext\">17</div></td></tr></tbody></table></td></tr></tbody></table>"
      ]
     },
     "metadata": {},
     "output_type": "display_data"
    }
   ],
   "source": [
    "playerStatsTable\n",
    "|> List.truncate 4"
   ]
  },
  {
   "cell_type": "markdown",
   "metadata": {},
   "source": [
    "* Take the first 7 rows from `playerStatsTable` with `List.truncate`.\n",
    "\n",
    "<div style=\"padding-left: 40px;\">\n",
    "<p> \n",
    "<span>\n",
    "<details>\n",
    "<summary><p style=\"display:inline\">answer</p></summary>\n",
    "\n",
    "```\n",
    "input.fsx (1,1)-(1,17) typecheck error The value or constructor 'playerStatsTable' is not defined. Maybe you want one of the following:\n",
    "   playersByPosition\n",
    "```\n",
    "\n",
    "</details>\n",
    "</span>\n",
    "</p>\n",
    "</div>\n",
    "\n"
   ]
  },
  {
   "cell_type": "code",
   "execution_count": null,
   "metadata": {
    "dotnet_interactive": {
     "language": "fsharp"
    },
    "vscode": {
     "languageId": "dotnet-interactive.fsharp"
    }
   },
   "outputs": [
    {
     "data": {
      "text/html": [
       "<table><thead><tr><th><i>index</i></th><th>Item1</th><th>Item2</th><th>Item3</th><th>Item4</th><th>Item5</th><th>Item6</th><th>Item7</th><th>Rest</th></tr></thead><tbody><tr><td>0</td><td>Robert Lewandowski</td><td>pl POL</td><td>FW</td><td>Bayern Munich</td><td>deBundesliga</td><td><div class=\"dni-plaintext\">33</div></td><td><div class=\"dni-plaintext\">22</div></td><td><table><thead><tr><th>Item1</th></tr></thead><tbody><tr><td><div class=\"dni-plaintext\">26</div></td></tr></tbody></table></td></tr><tr><td>1</td><td>Patrik Schick</td><td>cz CZE</td><td>FW</td><td>Leverkusen</td><td>deBundesliga</td><td><div class=\"dni-plaintext\">26</div></td><td><div class=\"dni-plaintext\">19</div></td><td><table><thead><tr><th>Item1</th></tr></thead><tbody><tr><td><div class=\"dni-plaintext\">19</div></td></tr></tbody></table></td></tr><tr><td>2</td><td>Ciro Immobile</td><td>it ITA</td><td>FW</td><td>Lazio</td><td>itSerie A</td><td><div class=\"dni-plaintext\">31</div></td><td><div class=\"dni-plaintext\">21</div></td><td><table><thead><tr><th>Item1</th></tr></thead><tbody><tr><td><div class=\"dni-plaintext\">19</div></td></tr></tbody></table></td></tr><tr><td>3</td><td>Karim Benzema</td><td>fr FRA</td><td>FW</td><td>Real Madrid</td><td>esLa Liga</td><td><div class=\"dni-plaintext\">34</div></td><td><div class=\"dni-plaintext\">21</div></td><td><table><thead><tr><th>Item1</th></tr></thead><tbody><tr><td><div class=\"dni-plaintext\">17</div></td></tr></tbody></table></td></tr><tr><td>4</td><td>Dušan Vlahović</td><td>rs SRB</td><td>FW</td><td>Fiorentina</td><td>itSerie A</td><td><div class=\"dni-plaintext\">22</div></td><td><div class=\"dni-plaintext\">21</div></td><td><table><thead><tr><th>Item1</th></tr></thead><tbody><tr><td><div class=\"dni-plaintext\">17</div></td></tr></tbody></table></td></tr><tr><td>5</td><td>Mohamed Salah</td><td>eg EGY</td><td>FW</td><td>Liverpool</td><td>engPremier League</td><td><div class=\"dni-plaintext\">29</div></td><td><div class=\"dni-plaintext\">22</div></td><td><table><thead><tr><th>Item1</th></tr></thead><tbody><tr><td><div class=\"dni-plaintext\">16</div></td></tr></tbody></table></td></tr><tr><td>6</td><td>Erling Haaland</td><td>no NOR</td><td>FW</td><td>Dortmund</td><td>deBundesliga</td><td><div class=\"dni-plaintext\">21</div></td><td><div class=\"dni-plaintext\">14</div></td><td><table><thead><tr><th>Item1</th></tr></thead><tbody><tr><td><div class=\"dni-plaintext\">16</div></td></tr></tbody></table></td></tr></tbody></table>"
      ]
     },
     "metadata": {},
     "output_type": "display_data"
    }
   ],
   "source": [
    "// write your code here, see website for solution.\n",
    "playerStatsTable\n",
    "|>List.truncate 7"
   ]
  },
  {
   "cell_type": "markdown",
   "metadata": {},
   "source": [
    "### 3 List.distinct\n",
    "\n",
    "`List.distinct` returns the unique elements from the List.\n",
    "`[\"hello\"; \"world\"; \"hello\"; \"hi\"] |> List.distinct` returns `[\"hello\"; \"world\"; \"hi\"]`\n",
    "\n",
    "Example: From `playerStatsTable` `Nation` field find the unique elements with `List.distinct`.\n",
    "\n"
   ]
  },
  {
   "cell_type": "code",
   "execution_count": null,
   "metadata": {
    "dotnet_interactive": {
     "language": "fsharp"
    },
    "vscode": {
     "languageId": "dotnet-interactive.fsharp"
    }
   },
   "outputs": [
    {
     "data": {
      "text/html": [
       "<table><thead><tr><th><i>index</i></th><th>value</th></tr></thead><tbody><tr><td>0</td><td>pl POL</td></tr><tr><td>1</td><td>cz CZE</td></tr><tr><td>2</td><td>it ITA</td></tr><tr><td>3</td><td>fr FRA</td></tr><tr><td>4</td><td>rs SRB</td></tr><tr><td>5</td><td>eg EGY</td></tr><tr><td>6</td><td>no NOR</td></tr><tr><td>7</td><td>es ESP</td></tr><tr><td>8</td><td>br BRA</td></tr><tr><td>9</td><td>ca CAN</td></tr><tr><td>10</td><td>ar ARG</td></tr><tr><td>11</td><td>pt POR</td></tr><tr><td>12</td><td>eng ENG</td></tr><tr><td>13</td><td>tr TUR</td></tr><tr><td>14</td><td>re REU</td></tr><tr><td>15</td><td>kr KOR</td></tr><tr><td>16</td><td>ba BIH</td></tr><tr><td>17</td><td>hn HON</td></tr><tr><td>18</td><td>tn TUN</td></tr><tr><td>19</td><td>hr CRO</td></tr><tr><td colspan=\"2\"><i>... (more)</i></td></tr></tbody></table>"
      ]
     },
     "metadata": {},
     "output_type": "display_data"
    }
   ],
   "source": [
    "playerStatsTable\n",
    "|> List.map(fun x -> x.Nation)\n",
    "|> List.distinct\n"
   ]
  },
  {
   "cell_type": "markdown",
   "metadata": {},
   "source": [
    "* From `playerStatsTable` `League` field find the unique elements with `List.distinct`.\n",
    "\n",
    "<div style=\"padding-left: 40px;\">\n",
    "<p> \n",
    "<span>\n",
    "<details>\n",
    "<summary><p style=\"display:inline\">answer</p></summary>\n",
    "\n",
    "```\n",
    "input.fsx (1,1)-(1,17) typecheck error The value or constructor 'playerStatsTable' is not defined. Maybe you want one of the following:\n",
    "   playersByPosition\n",
    "input.fsx (2,22)-(2,30) typecheck error Lookup on object of indeterminate type based on information prior to this program point. A type annotation may be needed prior to this program point to constrain the type of the object. This may allow the lookup to be resolved.\n",
    "```\n",
    "\n",
    "</details>\n",
    "</span>\n",
    "</p>\n",
    "</div>\n",
    "\n"
   ]
  },
  {
   "cell_type": "code",
   "execution_count": null,
   "metadata": {
    "dotnet_interactive": {
     "language": "fsharp"
    },
    "vscode": {
     "languageId": "dotnet-interactive.fsharp"
    }
   },
   "outputs": [
    {
     "data": {
      "text/html": [
       "<table><thead><tr><th><i>index</i></th><th>value</th></tr></thead><tbody><tr><td>0</td><td>deBundesliga</td></tr><tr><td>1</td><td>itSerie A</td></tr><tr><td>2</td><td>esLa Liga</td></tr><tr><td>3</td><td>engPremier League</td></tr><tr><td>4</td><td>frLigue 1</td></tr></tbody></table>"
      ]
     },
     "metadata": {},
     "output_type": "display_data"
    }
   ],
   "source": [
    "// write your code here, see website for solution.\n",
    "playerStatsTable\n",
    "|>List.map(fun x -> x.League)\n",
    "|>List.distinct"
   ]
  },
  {
   "cell_type": "markdown",
   "metadata": {},
   "source": [
    "### 4 List.countBy\n",
    "\n",
    "`List.countBy` returns a list of paired tuples with the unique elements and their counts.\n",
    "\n",
    "Example: From `playerStatsTable` `Team` field find the unique elements and their counts with `List.countBy`.\n",
    "\n"
   ]
  },
  {
   "cell_type": "code",
   "execution_count": null,
   "metadata": {
    "dotnet_interactive": {
     "language": "fsharp"
    },
    "vscode": {
     "languageId": "dotnet-interactive.fsharp"
    }
   },
   "outputs": [
    {
     "data": {
      "text/html": [
       "<table><thead><tr><th><i>index</i></th><th>Item1</th><th>Item2</th></tr></thead><tbody><tr><td>0</td><td>Bayern Munich</td><td><div class=\"dni-plaintext\">4</div></td></tr><tr><td>1</td><td>Leverkusen</td><td><div class=\"dni-plaintext\">3</div></td></tr><tr><td>2</td><td>Lazio</td><td><div class=\"dni-plaintext\">2</div></td></tr><tr><td>3</td><td>Real Madrid</td><td><div class=\"dni-plaintext\">2</div></td></tr><tr><td>4</td><td>Fiorentina</td><td><div class=\"dni-plaintext\">2</div></td></tr></tbody></table>"
      ]
     },
     "metadata": {},
     "output_type": "display_data"
    }
   ],
   "source": [
    "playerStatsTable\n",
    "|> List.countBy(fun x -> x.Team)\n",
    "|> List.truncate 5 //just to observe the first 5 rows, not a part of the exercise.\n"
   ]
  },
  {
   "cell_type": "markdown",
   "metadata": {},
   "source": [
    "* From `playerStatsTable` `League` field find the unique elements and their counts with `List.countBy`.\n",
    "\n",
    "<div style=\"padding-left: 40px;\">\n",
    "<p> \n",
    "<span>\n",
    "<details>\n",
    "<summary><p style=\"display:inline\">answer</p></summary>\n",
    "\n",
    "```\n",
    "input.fsx (1,1)-(1,17) typecheck error The value or constructor 'playerStatsTable' is not defined. Maybe you want one of the following:\n",
    "   playersByPosition\n",
    "input.fsx (2,26)-(2,34) typecheck error Lookup on object of indeterminate type based on information prior to this program point. A type annotation may be needed prior to this program point to constrain the type of the object. This may allow the lookup to be resolved.\n",
    "```\n",
    "\n",
    "</details>\n",
    "</span>\n",
    "</p>\n",
    "</div>\n",
    "\n"
   ]
  },
  {
   "cell_type": "code",
   "execution_count": null,
   "metadata": {
    "dotnet_interactive": {
     "language": "fsharp"
    },
    "vscode": {
     "languageId": "dotnet-interactive.fsharp"
    }
   },
   "outputs": [
    {
     "data": {
      "text/html": [
       "<table><thead><tr><th><i>index</i></th><th>Item1</th><th>Item2</th></tr></thead><tbody><tr><td>0</td><td>deBundesliga</td><td><div class=\"dni-plaintext\">34</div></td></tr><tr><td>1</td><td>itSerie A</td><td><div class=\"dni-plaintext\">47</div></td></tr><tr><td>2</td><td>esLa Liga</td><td><div class=\"dni-plaintext\">38</div></td></tr><tr><td>3</td><td>engPremier League</td><td><div class=\"dni-plaintext\">32</div></td></tr><tr><td>4</td><td>frLigue 1</td><td><div class=\"dni-plaintext\">50</div></td></tr></tbody></table>"
      ]
     },
     "metadata": {},
     "output_type": "display_data"
    }
   ],
   "source": [
    "// write your code here, see website for solution.\n",
    "playerStatsTable\n",
    "|> List.countBy(fun x -> x.League)"
   ]
  },
  {
   "cell_type": "markdown",
   "metadata": {},
   "source": [
    "### 5 List.filter\n",
    "\n",
    "`List.filter` allows you to extract a subset of the dataset based on one or multiple conditions.\n",
    "\n",
    "Example: `Filter` the `playerStatsTable` to get only portuguese players. (`Nation = \"pt POR\"`).\n",
    "Remember that we have to look to the dataset to find the string correspondent to portuguese players,\n",
    "which in this case is `\"pt POR\"`\n",
    "\n"
   ]
  },
  {
   "cell_type": "code",
   "execution_count": null,
   "metadata": {
    "dotnet_interactive": {
     "language": "fsharp"
    },
    "vscode": {
     "languageId": "dotnet-interactive.fsharp"
    }
   },
   "outputs": [
    {
     "data": {
      "text/html": [
       "<table><thead><tr><th><i>index</i></th><th>Item1</th><th>Item2</th><th>Item3</th><th>Item4</th><th>Item5</th><th>Item6</th><th>Item7</th><th>Rest</th></tr></thead><tbody><tr><td>0</td><td>Diogo Jota</td><td>pt POR</td><td>FW</td><td>Liverpool</td><td>engPremier League</td><td><div class=\"dni-plaintext\">25</div></td><td><div class=\"dni-plaintext\">23</div></td><td><table><thead><tr><th>Item1</th></tr></thead><tbody><tr><td><div class=\"dni-plaintext\">12</div></td></tr></tbody></table></td></tr><tr><td>1</td><td>Gon&#231;alo Guedes</td><td>pt POR</td><td>FW,MF</td><td>Valencia</td><td>esLa Liga</td><td><div class=\"dni-plaintext\">25</div></td><td><div class=\"dni-plaintext\">24</div></td><td><table><thead><tr><th>Item1</th></tr></thead><tbody><tr><td><div class=\"dni-plaintext\">9</div></td></tr></tbody></table></td></tr><tr><td>2</td><td>Bruno Fernandes</td><td>pt POR</td><td>MF</td><td>Manchester Utd</td><td>engPremier League</td><td><div class=\"dni-plaintext\">27</div></td><td><div class=\"dni-plaintext\">24</div></td><td><table><thead><tr><th>Item1</th></tr></thead><tbody><tr><td><div class=\"dni-plaintext\">8</div></td></tr></tbody></table></td></tr><tr><td>3</td><td>Bernardo Silva</td><td>pt POR</td><td>MF,FW</td><td>Manchester City</td><td>engPremier League</td><td><div class=\"dni-plaintext\">27</div></td><td><div class=\"dni-plaintext\">24</div></td><td><table><thead><tr><th>Item1</th></tr></thead><tbody><tr><td><div class=\"dni-plaintext\">7</div></td></tr></tbody></table></td></tr><tr><td>4</td><td>Rapha&#235;l Guerreiro</td><td>pt POR</td><td>DF</td><td>Dortmund</td><td>deBundesliga</td><td><div class=\"dni-plaintext\">28</div></td><td><div class=\"dni-plaintext\">14</div></td><td><table><thead><tr><th>Item1</th></tr></thead><tbody><tr><td><div class=\"dni-plaintext\">4</div></td></tr></tbody></table></td></tr></tbody></table>"
      ]
     },
     "metadata": {},
     "output_type": "display_data"
    }
   ],
   "source": [
    "playerStatsTable\n",
    "|> List.filter(fun x -> x.Nation = \"pt POR\")\n",
    "|> List.truncate 5 //just to observe the first 5 rows, not a part of the exercise.\n"
   ]
  },
  {
   "cell_type": "markdown",
   "metadata": {},
   "source": [
    "* `Filter` the `playerStatsTable` to get only 16 year-old players. (`Age = 16`).\n",
    "\n",
    "<div style=\"padding-left: 40px;\">\n",
    "<p> \n",
    "<span>\n",
    "<details>\n",
    "<summary><p style=\"display:inline\">answer</p></summary>\n",
    "\n",
    "```\n",
    "input.fsx (1,1)-(1,17) typecheck error The value or constructor 'playerStatsTable' is not defined. Maybe you want one of the following:\n",
    "   playersByPosition\n",
    "input.fsx (2,25)-(2,30) typecheck error Lookup on object of indeterminate type based on information prior to this program point. A type annotation may be needed prior to this program point to constrain the type of the object. This may allow the lookup to be resolved.\n",
    "```\n",
    "\n",
    "</details>\n",
    "</span>\n",
    "</p>\n",
    "</div>\n",
    "\n"
   ]
  },
  {
   "cell_type": "code",
   "execution_count": null,
   "metadata": {
    "dotnet_interactive": {
     "language": "fsharp"
    },
    "vscode": {
     "languageId": "dotnet-interactive.fsharp"
    }
   },
   "outputs": [
    {
     "data": {
      "text/html": [
       "<i>(empty)</i>"
      ]
     },
     "metadata": {},
     "output_type": "display_data"
    }
   ],
   "source": [
    "// write your code here, see website for solution.\n",
    "playerStatsTable\n",
    "|> List.filter(fun x -> x.Age = 16)"
   ]
  },
  {
   "cell_type": "markdown",
   "metadata": {},
   "source": [
    "### 6 List.sort and List.sortDescending\n",
    "\n",
    "* `[1; 4; 5; 3; 6] |> List.sort` returns `[1; 3; 4; 5; 6]` (ascending sort).\n",
    "\n",
    "* `[1; 4; 5; 3; 6] |> List.sortDescending` returns `[6; 5; 4; 3; 1]` (descending sort).\n",
    "\n",
    "Example: map `playerStatsTable` to get a list of `Age` and sort it (ascending).\n",
    "\n",
    "Since we want to sort the age List we first use `List.map` to get only that List.\n",
    "Then we use `List.sort` to sort it.\n",
    "\n"
   ]
  },
  {
   "cell_type": "code",
   "execution_count": null,
   "metadata": {
    "dotnet_interactive": {
     "language": "fsharp"
    },
    "vscode": {
     "languageId": "dotnet-interactive.fsharp"
    }
   },
   "outputs": [
    {
     "data": {
      "text/html": [
       "<table><thead><tr><th><i>index</i></th><th>value</th></tr></thead><tbody><tr><td>0</td><td><div class=\"dni-plaintext\">18</div></td></tr><tr><td>1</td><td><div class=\"dni-plaintext\">19</div></td></tr><tr><td>2</td><td><div class=\"dni-plaintext\">19</div></td></tr><tr><td>3</td><td><div class=\"dni-plaintext\">19</div></td></tr><tr><td>4</td><td><div class=\"dni-plaintext\">20</div></td></tr><tr><td>5</td><td><div class=\"dni-plaintext\">20</div></td></tr><tr><td>6</td><td><div class=\"dni-plaintext\">20</div></td></tr><tr><td>7</td><td><div class=\"dni-plaintext\">20</div></td></tr><tr><td>8</td><td><div class=\"dni-plaintext\">21</div></td></tr><tr><td>9</td><td><div class=\"dni-plaintext\">21</div></td></tr><tr><td>10</td><td><div class=\"dni-plaintext\">21</div></td></tr><tr><td>11</td><td><div class=\"dni-plaintext\">21</div></td></tr><tr><td>12</td><td><div class=\"dni-plaintext\">21</div></td></tr><tr><td>13</td><td><div class=\"dni-plaintext\">21</div></td></tr><tr><td>14</td><td><div class=\"dni-plaintext\">21</div></td></tr><tr><td>15</td><td><div class=\"dni-plaintext\">21</div></td></tr><tr><td>16</td><td><div class=\"dni-plaintext\">22</div></td></tr><tr><td>17</td><td><div class=\"dni-plaintext\">22</div></td></tr><tr><td>18</td><td><div class=\"dni-plaintext\">22</div></td></tr><tr><td>19</td><td><div class=\"dni-plaintext\">22</div></td></tr><tr><td colspan=\"2\"><i>... (more)</i></td></tr></tbody></table>"
      ]
     },
     "metadata": {},
     "output_type": "display_data"
    }
   ],
   "source": [
    "playerStatsTable\n",
    "|> List.map(fun x -> x.Age)\n",
    "|> List.sort\n",
    "|> List.truncate 60 //just to observe the first 60 values, not a part of the exercise.\n"
   ]
  },
  {
   "cell_type": "markdown",
   "metadata": {},
   "source": [
    "* map `playerStatsTable` to get a list of `GoalsScored` and sort it (ascending).\n",
    "Hint:\n",
    "To sort the GoalsScored List you first need to use `List.map` to get only that List.\n",
    "Then use `List.sort` to sort it.\n",
    "\n",
    "<div style=\"padding-left: 40px;\">\n",
    "<p> \n",
    "<span>\n",
    "<details>\n",
    "<summary><p style=\"display:inline\">answer</p></summary>\n",
    "\n",
    "```\n",
    "input.fsx (1,1)-(1,17) typecheck error The value or constructor 'playerStatsTable' is not defined. Maybe you want one of the following:\n",
    "   playersByPosition\n",
    "input.fsx (2,22)-(2,35) typecheck error Lookup on object of indeterminate type based on information prior to this program point. A type annotation may be needed prior to this program point to constrain the type of the object. This may allow the lookup to be resolved.\n",
    "```\n",
    "\n",
    "</details>\n",
    "</span>\n",
    "</p>\n",
    "</div>\n",
    "\n"
   ]
  },
  {
   "cell_type": "code",
   "execution_count": null,
   "metadata": {
    "dotnet_interactive": {
     "language": "fsharp"
    },
    "vscode": {
     "languageId": "dotnet-interactive.fsharp"
    }
   },
   "outputs": [
    {
     "data": {
      "text/html": [
       "<table><thead><tr><th><i>index</i></th><th>value</th></tr></thead><tbody><tr><td>0</td><td><div class=\"dni-plaintext\">0</div></td></tr><tr><td>1</td><td><div class=\"dni-plaintext\">0</div></td></tr><tr><td>2</td><td><div class=\"dni-plaintext\">0</div></td></tr><tr><td>3</td><td><div class=\"dni-plaintext\">0</div></td></tr><tr><td>4</td><td><div class=\"dni-plaintext\">0</div></td></tr><tr><td>5</td><td><div class=\"dni-plaintext\">0</div></td></tr><tr><td>6</td><td><div class=\"dni-plaintext\">0</div></td></tr><tr><td>7</td><td><div class=\"dni-plaintext\">0</div></td></tr><tr><td>8</td><td><div class=\"dni-plaintext\">0</div></td></tr><tr><td>9</td><td><div class=\"dni-plaintext\">0</div></td></tr><tr><td>10</td><td><div class=\"dni-plaintext\">0</div></td></tr><tr><td>11</td><td><div class=\"dni-plaintext\">0</div></td></tr><tr><td>12</td><td><div class=\"dni-plaintext\">0</div></td></tr><tr><td>13</td><td><div class=\"dni-plaintext\">0</div></td></tr><tr><td>14</td><td><div class=\"dni-plaintext\">0</div></td></tr><tr><td>15</td><td><div class=\"dni-plaintext\">0</div></td></tr><tr><td>16</td><td><div class=\"dni-plaintext\">0</div></td></tr><tr><td>17</td><td><div class=\"dni-plaintext\">0</div></td></tr><tr><td>18</td><td><div class=\"dni-plaintext\">0</div></td></tr><tr><td>19</td><td><div class=\"dni-plaintext\">0</div></td></tr><tr><td colspan=\"2\"><i>... (more)</i></td></tr></tbody></table>"
      ]
     },
     "metadata": {},
     "output_type": "display_data"
    }
   ],
   "source": [
    "// write your code here, see website for solution.\n",
    "playerStatsTable\n",
    "|> List.map(fun x -> x.GoalsScored)\n",
    "|> List.sort\n",
    "|> List.truncate 60 //just to observe the first 60 values, not a part of the exercise.\n"
   ]
  },
  {
   "cell_type": "markdown",
   "metadata": {},
   "source": [
    "Example: Map `playerStatsTable` to get a list of `Age` and sort it (descending).\n",
    "\n",
    "Since we want to sort the age List we first use `List.map` to get only that List.\n",
    "Then we use `List.sortDescending` to sort it.\n",
    "\n"
   ]
  },
  {
   "cell_type": "code",
   "execution_count": null,
   "metadata": {
    "dotnet_interactive": {
     "language": "fsharp"
    },
    "vscode": {
     "languageId": "dotnet-interactive.fsharp"
    }
   },
   "outputs": [
    {
     "data": {
      "text/html": [
       "<table><thead><tr><th><i>index</i></th><th>value</th></tr></thead><tbody><tr><td>0</td><td><div class=\"dni-plaintext\">40</div></td></tr><tr><td>1</td><td><div class=\"dni-plaintext\">36</div></td></tr><tr><td>2</td><td><div class=\"dni-plaintext\">36</div></td></tr><tr><td>3</td><td><div class=\"dni-plaintext\">36</div></td></tr><tr><td>4</td><td><div class=\"dni-plaintext\">35</div></td></tr><tr><td>5</td><td><div class=\"dni-plaintext\">35</div></td></tr><tr><td>6</td><td><div class=\"dni-plaintext\">35</div></td></tr><tr><td>7</td><td><div class=\"dni-plaintext\">35</div></td></tr><tr><td>8</td><td><div class=\"dni-plaintext\">34</div></td></tr><tr><td>9</td><td><div class=\"dni-plaintext\">34</div></td></tr><tr><td>10</td><td><div class=\"dni-plaintext\">34</div></td></tr><tr><td>11</td><td><div class=\"dni-plaintext\">34</div></td></tr><tr><td>12</td><td><div class=\"dni-plaintext\">34</div></td></tr><tr><td>13</td><td><div class=\"dni-plaintext\">34</div></td></tr><tr><td>14</td><td><div class=\"dni-plaintext\">34</div></td></tr><tr><td>15</td><td><div class=\"dni-plaintext\">34</div></td></tr><tr><td>16</td><td><div class=\"dni-plaintext\">34</div></td></tr><tr><td>17</td><td><div class=\"dni-plaintext\">34</div></td></tr><tr><td>18</td><td><div class=\"dni-plaintext\">34</div></td></tr><tr><td>19</td><td><div class=\"dni-plaintext\">33</div></td></tr><tr><td colspan=\"2\"><i>... (more)</i></td></tr></tbody></table>"
      ]
     },
     "metadata": {},
     "output_type": "display_data"
    }
   ],
   "source": [
    "playerStatsTable\n",
    "|> List.map(fun x -> x.Age)\n",
    "|> List.sortDescending\n",
    "|> List.truncate 60 //just to observe the first 60 values, not a part of the exercise.\n"
   ]
  },
  {
   "cell_type": "markdown",
   "metadata": {},
   "source": [
    "* Map `playerStatsTable` to get a list of `GoalsScored` and sort it (descending).\n",
    "Hint:\n",
    "To sort the GoalsScored List you first need to use `List.map` to get only that List.\n",
    "Then use `List.sortDescending` to sort it.\n",
    "\n",
    "<div style=\"padding-left: 40px;\">\n",
    "<p> \n",
    "<span>\n",
    "<details>\n",
    "<summary><p style=\"display:inline\">answer</p></summary>\n",
    "\n",
    "```\n",
    "input.fsx (1,1)-(1,17) typecheck error The value or constructor 'playerStatsTable' is not defined. Maybe you want one of the following:\n",
    "   playersByPosition\n",
    "input.fsx (2,22)-(2,35) typecheck error Lookup on object of indeterminate type based on information prior to this program point. A type annotation may be needed prior to this program point to constrain the type of the object. This may allow the lookup to be resolved.\n",
    "```\n",
    "\n",
    "</details>\n",
    "</span>\n",
    "</p>\n",
    "</div>\n",
    "\n"
   ]
  },
  {
   "cell_type": "code",
   "execution_count": null,
   "metadata": {
    "dotnet_interactive": {
     "language": "fsharp"
    },
    "vscode": {
     "languageId": "dotnet-interactive.fsharp"
    }
   },
   "outputs": [
    {
     "data": {
      "text/html": [
       "<table><thead><tr><th><i>index</i></th><th>value</th></tr></thead><tbody><tr><td>0</td><td><div class=\"dni-plaintext\">26</div></td></tr><tr><td>1</td><td><div class=\"dni-plaintext\">19</div></td></tr><tr><td>2</td><td><div class=\"dni-plaintext\">19</div></td></tr><tr><td>3</td><td><div class=\"dni-plaintext\">17</div></td></tr><tr><td>4</td><td><div class=\"dni-plaintext\">17</div></td></tr><tr><td>5</td><td><div class=\"dni-plaintext\">16</div></td></tr><tr><td>6</td><td><div class=\"dni-plaintext\">16</div></td></tr><tr><td>7</td><td><div class=\"dni-plaintext\">14</div></td></tr><tr><td>8</td><td><div class=\"dni-plaintext\">14</div></td></tr><tr><td>9</td><td><div class=\"dni-plaintext\">13</div></td></tr><tr><td>10</td><td><div class=\"dni-plaintext\">12</div></td></tr><tr><td>11</td><td><div class=\"dni-plaintext\">12</div></td></tr><tr><td>12</td><td><div class=\"dni-plaintext\">12</div></td></tr><tr><td>13</td><td><div class=\"dni-plaintext\">12</div></td></tr><tr><td>14</td><td><div class=\"dni-plaintext\">12</div></td></tr><tr><td>15</td><td><div class=\"dni-plaintext\">12</div></td></tr><tr><td>16</td><td><div class=\"dni-plaintext\">12</div></td></tr><tr><td>17</td><td><div class=\"dni-plaintext\">11</div></td></tr><tr><td>18</td><td><div class=\"dni-plaintext\">11</div></td></tr><tr><td>19</td><td><div class=\"dni-plaintext\">11</div></td></tr><tr><td colspan=\"2\"><i>... (more)</i></td></tr></tbody></table>"
      ]
     },
     "metadata": {},
     "output_type": "display_data"
    }
   ],
   "source": [
    "// write your code here, see website for solution.\n",
    "playerStatsTable\n",
    "|> List.map(fun x -> x.GoalsScored)\n",
    "|> List.sortDescending\n",
    "|> List.truncate 60 //just to observe the first 60 values, not a part of the exercise."
   ]
  },
  {
   "cell_type": "markdown",
   "metadata": {},
   "source": [
    "### 7 List.sortBy and List.sortByDescending\n",
    "\n",
    "`List.sortBy` is very usefull to sort the dataset accordingly to a certain dataset field.\n",
    "\n",
    "Example: sort (ascending) `playerStatsTable` by `Age` (`List.sortBy`).\n",
    "\n"
   ]
  },
  {
   "cell_type": "code",
   "execution_count": null,
   "metadata": {
    "dotnet_interactive": {
     "language": "fsharp"
    },
    "vscode": {
     "languageId": "dotnet-interactive.fsharp"
    }
   },
   "outputs": [
    {
     "data": {
      "text/html": [
       "<table><thead><tr><th><i>index</i></th><th>Item1</th><th>Item2</th><th>Item3</th><th>Item4</th><th>Item5</th><th>Item6</th><th>Item7</th><th>Rest</th></tr></thead><tbody><tr><td>0</td><td>Florian Wirtz</td><td>de GER</td><td>MF,FW</td><td>Leverkusen</td><td>deBundesliga</td><td><div class=\"dni-plaintext\">18</div></td><td><div class=\"dni-plaintext\">20</div></td><td><table><thead><tr><th>Item1</th></tr></thead><tbody><tr><td><div class=\"dni-plaintext\">7</div></td></tr></tbody></table></td></tr><tr><td>1</td><td>Aaron Hickey</td><td>sct SCO</td><td>DF</td><td>Bologna</td><td>itSerie A</td><td><div class=\"dni-plaintext\">19</div></td><td><div class=\"dni-plaintext\">22</div></td><td><table><thead><tr><th>Item1</th></tr></thead><tbody><tr><td><div class=\"dni-plaintext\">4</div></td></tr></tbody></table></td></tr><tr><td>2</td><td>Isaac Lihadji</td><td>fr FRA</td><td>MF,DF</td><td>Lille</td><td>frLigue 1</td><td><div class=\"dni-plaintext\">19</div></td><td><div class=\"dni-plaintext\">9</div></td><td><table><thead><tr><th>Item1</th></tr></thead><tbody><tr><td><div class=\"dni-plaintext\">1</div></td></tr></tbody></table></td></tr><tr><td>3</td><td>Banzouzi Locko</td><td>fr FRA</td><td>DF,MF</td><td>Reims</td><td>frLigue 1</td><td><div class=\"dni-plaintext\">19</div></td><td><div class=\"dni-plaintext\">12</div></td><td><table><thead><tr><th>Item1</th></tr></thead><tbody><tr><td><div class=\"dni-plaintext\">1</div></td></tr></tbody></table></td></tr><tr><td>4</td><td>Jacob Ramsey</td><td>eng ENG</td><td>MF,FW</td><td>Aston Villa</td><td>engPremier League</td><td><div class=\"dni-plaintext\">20</div></td><td><div class=\"dni-plaintext\">21</div></td><td><table><thead><tr><th>Item1</th></tr></thead><tbody><tr><td><div class=\"dni-plaintext\">5</div></td></tr></tbody></table></td></tr></tbody></table>"
      ]
     },
     "metadata": {},
     "output_type": "display_data"
    }
   ],
   "source": [
    "playerStatsTable\n",
    "|> List.sortBy(fun x -> x.Age)\n",
    "|> List.truncate 5 //just to observe the first 5 rows, not a part of the exercise.\n"
   ]
  },
  {
   "cell_type": "markdown",
   "metadata": {},
   "source": [
    "* sort (ascending) `playerStatsTable` by `GoalsScored` (`List.sortBy`).\n",
    "\n",
    "<div style=\"padding-left: 40px;\">\n",
    "<p> \n",
    "<span>\n",
    "<details>\n",
    "<summary><p style=\"display:inline\">answer</p></summary>\n",
    "\n",
    "```\n",
    "input.fsx (1,1)-(1,17) typecheck error The value or constructor 'playerStatsTable' is not defined. Maybe you want one of the following:\n",
    "   playersByPosition\n",
    "input.fsx (2,25)-(2,38) typecheck error Lookup on object of indeterminate type based on information prior to this program point. A type annotation may be needed prior to this program point to constrain the type of the object. This may allow the lookup to be resolved.\n",
    "```\n",
    "\n",
    "</details>\n",
    "</span>\n",
    "</p>\n",
    "</div>\n",
    "\n"
   ]
  },
  {
   "cell_type": "code",
   "execution_count": null,
   "metadata": {
    "dotnet_interactive": {
     "language": "fsharp"
    },
    "vscode": {
     "languageId": "dotnet-interactive.fsharp"
    }
   },
   "outputs": [
    {
     "data": {
      "text/html": [
       "<table><thead><tr><th><i>index</i></th><th>Item1</th><th>Item2</th><th>Item3</th><th>Item4</th><th>Item5</th><th>Item6</th><th>Item7</th><th>Rest</th></tr></thead><tbody><tr><td>0</td><td>Wilfred Ndidi</td><td>ng NGA</td><td>MF,DF</td><td>Leicester City</td><td>engPremier League</td><td><div class=\"dni-plaintext\">25</div></td><td><div class=\"dni-plaintext\">15</div></td><td><table><thead><tr><th>Item1</th></tr></thead><tbody><tr><td><div class=\"dni-plaintext\">0</div></td></tr></tbody></table></td></tr><tr><td>1</td><td>Valentin Rongier</td><td>fr FRA</td><td>MF,DF</td><td>Marseille</td><td>frLigue 1</td><td><div class=\"dni-plaintext\">27</div></td><td><div class=\"dni-plaintext\">18</div></td><td><table><thead><tr><th>Item1</th></tr></thead><tbody><tr><td><div class=\"dni-plaintext\">0</div></td></tr></tbody></table></td></tr><tr><td>2</td><td>Stefan Ortega</td><td>de GER</td><td>GK</td><td>Arminia</td><td>deBundesliga</td><td><div class=\"dni-plaintext\">29</div></td><td><div class=\"dni-plaintext\">21</div></td><td><table><thead><tr><th>Item1</th></tr></thead><tbody><tr><td><div class=\"dni-plaintext\">0</div></td></tr></tbody></table></td></tr><tr><td>3</td><td>Sofiane Alakouch</td><td>ma MAR</td><td>DF,MF</td><td>Metz</td><td>frLigue 1</td><td><div class=\"dni-plaintext\">23</div></td><td><div class=\"dni-plaintext\">4</div></td><td><table><thead><tr><th>Item1</th></tr></thead><tbody><tr><td><div class=\"dni-plaintext\">0</div></td></tr></tbody></table></td></tr><tr><td>4</td><td>Sa&#250;l &#209;&#237;guez</td><td>es ESP</td><td>DF,MF</td><td>Atl&#233;tico Madrid</td><td>esLa Liga</td><td><div class=\"dni-plaintext\">27</div></td><td><div class=\"dni-plaintext\">3</div></td><td><table><thead><tr><th>Item1</th></tr></thead><tbody><tr><td><div class=\"dni-plaintext\">0</div></td></tr></tbody></table></td></tr></tbody></table>"
      ]
     },
     "metadata": {},
     "output_type": "display_data"
    }
   ],
   "source": [
    "// write your code here, see website for solution.\n",
    "playerStatsTable\n",
    "|> List.sortBy(fun x -> x.GoalsScored)\n",
    "|> List.truncate 5 //just to observe the first 5 rows, not a part of the exercise."
   ]
  },
  {
   "cell_type": "markdown",
   "metadata": {},
   "source": [
    "Example: sort (descending) `playerStatsTable` by `Age` (`List.sortByDescending`).\n",
    "\n"
   ]
  },
  {
   "cell_type": "code",
   "execution_count": null,
   "metadata": {
    "dotnet_interactive": {
     "language": "fsharp"
    },
    "vscode": {
     "languageId": "dotnet-interactive.fsharp"
    }
   },
   "outputs": [
    {
     "data": {
      "text/html": [
       "<table><thead><tr><th><i>index</i></th><th>Item1</th><th>Item2</th><th>Item3</th><th>Item4</th><th>Item5</th><th>Item6</th><th>Item7</th><th>Rest</th></tr></thead><tbody><tr><td>0</td><td>Gianluca Pegolo</td><td>it ITA</td><td>GK</td><td>Sassuolo</td><td>itSerie A</td><td><div class=\"dni-plaintext\">40</div></td><td><div class=\"dni-plaintext\">1</div></td><td><table><thead><tr><th>Item1</th></tr></thead><tbody><tr><td><div class=\"dni-plaintext\">0</div></td></tr></tbody></table></td></tr><tr><td>1</td><td>Adil Rami</td><td>fr FRA</td><td>DF</td><td>Troyes</td><td>frLigue 1</td><td><div class=\"dni-plaintext\">36</div></td><td><div class=\"dni-plaintext\">11</div></td><td><table><thead><tr><th>Item1</th></tr></thead><tbody><tr><td><div class=\"dni-plaintext\">3</div></td></tr></tbody></table></td></tr><tr><td>2</td><td>Philipp Pentke</td><td>de GER</td><td>GK</td><td>Hoffenheim</td><td>deBundesliga</td><td><div class=\"dni-plaintext\">36</div></td><td><div class=\"dni-plaintext\">1</div></td><td><table><thead><tr><th>Item1</th></tr></thead><tbody><tr><td><div class=\"dni-plaintext\">0</div></td></tr></tbody></table></td></tr><tr><td>3</td><td>Daniele Padelli</td><td>it ITA</td><td>GK</td><td>Udinese</td><td>itSerie A</td><td><div class=\"dni-plaintext\">36</div></td><td><div class=\"dni-plaintext\">2</div></td><td><table><thead><tr><th>Item1</th></tr></thead><tbody><tr><td><div class=\"dni-plaintext\">0</div></td></tr></tbody></table></td></tr><tr><td>4</td><td>Edin Džeko</td><td>ba BIH</td><td>FW</td><td>Inter</td><td>itSerie A</td><td><div class=\"dni-plaintext\">35</div></td><td><div class=\"dni-plaintext\">23</div></td><td><table><thead><tr><th>Item1</th></tr></thead><tbody><tr><td><div class=\"dni-plaintext\">10</div></td></tr></tbody></table></td></tr></tbody></table>"
      ]
     },
     "metadata": {},
     "output_type": "display_data"
    }
   ],
   "source": [
    "playerStatsTable\n",
    "|> List.sortByDescending(fun x -> x.Age)\n",
    "|> List.truncate 5 //just to observe the first 5 rows, not a part of the exercise.\n"
   ]
  },
  {
   "cell_type": "markdown",
   "metadata": {},
   "source": [
    "* sort (descending) `playerStatsTable` by `GoalsScored` (`List.sortByDescending`).\n",
    "\n",
    "<div style=\"padding-left: 40px;\">\n",
    "<p> \n",
    "<span>\n",
    "<details>\n",
    "<summary><p style=\"display:inline\">answer</p></summary>\n",
    "\n",
    "```\n",
    "input.fsx (1,1)-(1,17) typecheck error The value or constructor 'playerStatsTable' is not defined. Maybe you want one of the following:\n",
    "   playersByPosition\n",
    "input.fsx (2,35)-(2,48) typecheck error Lookup on object of indeterminate type based on information prior to this program point. A type annotation may be needed prior to this program point to constrain the type of the object. This may allow the lookup to be resolved.\n",
    "```\n",
    "\n",
    "</details>\n",
    "</span>\n",
    "</p>\n",
    "</div>\n",
    "\n"
   ]
  },
  {
   "cell_type": "code",
   "execution_count": null,
   "metadata": {
    "dotnet_interactive": {
     "language": "fsharp"
    },
    "vscode": {
     "languageId": "dotnet-interactive.fsharp"
    }
   },
   "outputs": [
    {
     "data": {
      "text/html": [
       "<table><thead><tr><th><i>index</i></th><th>Item1</th><th>Item2</th><th>Item3</th><th>Item4</th><th>Item5</th><th>Item6</th><th>Item7</th><th>Rest</th></tr></thead><tbody><tr><td>0</td><td>Robert Lewandowski</td><td>pl POL</td><td>FW</td><td>Bayern Munich</td><td>deBundesliga</td><td><div class=\"dni-plaintext\">33</div></td><td><div class=\"dni-plaintext\">22</div></td><td><table><thead><tr><th>Item1</th></tr></thead><tbody><tr><td><div class=\"dni-plaintext\">26</div></td></tr></tbody></table></td></tr><tr><td>1</td><td>Patrik Schick</td><td>cz CZE</td><td>FW</td><td>Leverkusen</td><td>deBundesliga</td><td><div class=\"dni-plaintext\">26</div></td><td><div class=\"dni-plaintext\">19</div></td><td><table><thead><tr><th>Item1</th></tr></thead><tbody><tr><td><div class=\"dni-plaintext\">19</div></td></tr></tbody></table></td></tr><tr><td>2</td><td>Ciro Immobile</td><td>it ITA</td><td>FW</td><td>Lazio</td><td>itSerie A</td><td><div class=\"dni-plaintext\">31</div></td><td><div class=\"dni-plaintext\">21</div></td><td><table><thead><tr><th>Item1</th></tr></thead><tbody><tr><td><div class=\"dni-plaintext\">19</div></td></tr></tbody></table></td></tr><tr><td>3</td><td>Karim Benzema</td><td>fr FRA</td><td>FW</td><td>Real Madrid</td><td>esLa Liga</td><td><div class=\"dni-plaintext\">34</div></td><td><div class=\"dni-plaintext\">21</div></td><td><table><thead><tr><th>Item1</th></tr></thead><tbody><tr><td><div class=\"dni-plaintext\">17</div></td></tr></tbody></table></td></tr><tr><td>4</td><td>Dušan Vlahović</td><td>rs SRB</td><td>FW</td><td>Fiorentina</td><td>itSerie A</td><td><div class=\"dni-plaintext\">22</div></td><td><div class=\"dni-plaintext\">21</div></td><td><table><thead><tr><th>Item1</th></tr></thead><tbody><tr><td><div class=\"dni-plaintext\">17</div></td></tr></tbody></table></td></tr></tbody></table>"
      ]
     },
     "metadata": {},
     "output_type": "display_data"
    }
   ],
   "source": [
    "// write your code here, see website for solution.\n",
    "playerStatsTable\n",
    "|> List.sortByDescending(fun x -> x.GoalsScored)\n",
    "|> List.truncate 5 //just to observe the first 5 rows, not a part of the exercise."
   ]
  },
  {
   "cell_type": "markdown",
   "metadata": {},
   "source": [
    "### 8 List.splitInto\n",
    "\n",
    "`List.splitInto` is very usefull to split your dataset into multiple subsets.\n",
    "This function is commonly used to generate quantiles by splitting a sorted List.\n",
    "For instance, for investment strategies financial assets are usually sorted by a certain signal\n",
    "and then splitted into quantiles. If the signal has a positive sign, it means that the long strategy consists of going long\n",
    "on the first quantile stocks, and the long-short strategy consists of going long on the first quantile stocks and short on the last quantile stocks.\n",
    "\n",
    "Note: `List.splitInto` receives one parameter which refers to the number of groups you want to create out of the dataset.\n",
    "\n",
    "Example: Sort the `playerStatsTable` by `GoalsScored` and then split the dataset into 4 groups using `List.sortBy` and `List.splitInto`.\n",
    "\n"
   ]
  },
  {
   "cell_type": "code",
   "execution_count": null,
   "metadata": {
    "dotnet_interactive": {
     "language": "fsharp"
    },
    "vscode": {
     "languageId": "dotnet-interactive.fsharp"
    }
   },
   "outputs": [
    {
     "data": {
      "text/html": [
       "<table><thead><tr><th><i>index</i></th><th>value</th></tr></thead><tbody><tr><td>0</td><td><div class=\"dni-plaintext\">[ ( Wilfred Ndidi, ng NGA, MF,DF, Leicester City, engPremier League, 25, 15, ( 0 ) ), ( Valentin Rongier, fr FRA, MF,DF, Marseille, frLigue 1, 27, 18, ( 0 ) ), ( Stefan Ortega, de GER, GK, Arminia, deBundesliga, 29, 21, ( 0 ) ), ( Sofiane Alakouch, ma MAR, DF,MF, Metz, frLigue 1, 23, 4, ( 0 ) ), ( Sa&#250;l &#209;&#237;guez, es ESP, DF,MF, Atl&#233;tico Madrid, esLa Liga, 27, 3, ( 0 ) ) ]</div></td></tr><tr><td>1</td><td><div class=\"dni-plaintext\">[ ( Isaac Lihadji, fr FRA, MF,DF, Lille, frLigue 1, 19, 9, ( 1 ) ), ( Isaac Hayden, eng ENG, MF,DF, Newcastle Utd, engPremier League, 26, 14, ( 1 ) ), ( Ibrahima Sissoko, fr FRA, MF,DF, Strasbourg, frLigue 1, 24, 21, ( 1 ) ), ( Hugo Guillam&#243;n, es ESP, MF,DF, Valencia, esLa Liga, 22, 21, ( 1 ) ), ( Geoffrey Kondogbia, cf CTA, MF,DF, Atl&#233;tico Madrid, esLa Liga, 29, 17, ( 1 ) ) ]</div></td></tr></tbody></table>"
      ]
     },
     "metadata": {},
     "output_type": "display_data"
    }
   ],
   "source": [
    "playerStatsTable\n",
    "|> List.sortBy(fun x -> x.GoalsScored)\n",
    "|> List.splitInto 4\n",
    "|> List.truncate 2 //just to observe the first 2 groups Lists, not a part of the exercise.\n",
    "|> List.map(fun x -> x |> List.truncate 5) //just to observe the first 5 rows of each group List, not a part of the exercise.\n"
   ]
  },
  {
   "cell_type": "markdown",
   "metadata": {},
   "source": [
    "* Sort the `playerStatsTable` by `Age` and then split the dataset into 5 groups using `List.sortBy` and `List.splitInto`.\n",
    "\n",
    "<div style=\"padding-left: 40px;\">\n",
    "<p> \n",
    "<span>\n",
    "<details>\n",
    "<summary><p style=\"display:inline\">answer</p></summary>\n",
    "\n",
    "```\n",
    "input.fsx (1,1)-(1,17) typecheck error The value or constructor 'playerStatsTable' is not defined. Maybe you want one of the following:\n",
    "   playersByPosition\n",
    "input.fsx (2,25)-(2,30) typecheck error Lookup on object of indeterminate type based on information prior to this program point. A type annotation may be needed prior to this program point to constrain the type of the object. This may allow the lookup to be resolved.\n",
    "```\n",
    "\n",
    "</details>\n",
    "</span>\n",
    "</p>\n",
    "</div>\n",
    "\n"
   ]
  },
  {
   "cell_type": "code",
   "execution_count": null,
   "metadata": {
    "dotnet_interactive": {
     "language": "fsharp"
    },
    "vscode": {
     "languageId": "dotnet-interactive.fsharp"
    }
   },
   "outputs": [
    {
     "data": {
      "text/html": [
       "<table><thead><tr><th><i>index</i></th><th>value</th></tr></thead><tbody><tr><td>0</td><td><div class=\"dni-plaintext\">[ ( Florian Wirtz, de GER, MF,FW, Leverkusen, deBundesliga, 18, 20, ( 7 ) ), ( Aaron Hickey, sct SCO, DF, Bologna, itSerie A, 19, 22, ( 4 ) ), ( Isaac Lihadji, fr FRA, MF,DF, Lille, frLigue 1, 19, 9, ( 1 ) ), ( Banzouzi Locko, fr FRA, DF,MF, Reims, frLigue 1, 19, 12, ( 1 ) ), ( Jacob Ramsey, eng ENG, MF,FW, Aston Villa, engPremier League, 20, 21, ( 5 ) ), ( Adrien Truffert, fr FRA, DF, Rennes, frLigue 1, 20, 17, ( 3 ) ), ( Jes&#250;s Owono, gq EQG, GK, Alav&#233;s, esLa Liga, 20, 1, ( 0 ) ), ( Amadou Mbengue, sn SEN, DF,MF, Metz, frLigue 1, 20, 8, ( 0 ) ), ( Erling Haaland, no NOR, FW, Dortmund, deBundesliga, 21, 14, ( 16 ) ), ( Vinicius J&#250;nior, br BRA, FW,MF, Real Madrid, esLa Liga, 21, 22, ( 12 ) ), ( Emile Smith Rowe, eng ENG, MF,FW, Arsenal, engPremier League, 21, 20, ( 8 ) ), ( Giacomo Raspadori, it ITA, FW,MF, Sassuolo, itSerie A, 21, 24, ( 7 ) ), ( Sofiane Diop, fr FRA, MF,FW, Monaco, frLigue 1, 21, 23, ( 6 ) ), ( Nikolas Nartey, dk DEN, MF,DF, Stuttgart, deBundesliga, 21, 8, ( 0 ) ), ( Julen Agirrezabala, es ESP, GK, Athletic Club, esLa Liga, 21, 4, ( 0 ) ), ( Ivor Pandur, hr CRO, GK, Hellas Verona, itSerie A, 21, 3, ( 0 ) ), ( Dušan Vlahović, rs SRB, FW, Fiorentina, itSerie A, 22, 21, ( 17 ) ), ( Jonathan David, ca CAN, FW, Lille, frLigue 1, 22, 24, ( 12 ) ), ( Moussa Diaby, fr FRA, FW,MF, Leverkusen, deBundesliga, 22, 20, ( 10 ) ), ( Amine Gouiri, fr FRA, FW,MF, Nice, frLigue 1, 22, 24, ( 10 ) ) ... (more) ]</div></td></tr><tr><td>1</td><td><div class=\"dni-plaintext\">[ ( Tammy Abraham, eng ENG, FW, Roma, itSerie A, 24, 24, ( 11 ) ), ( Martin Terrier, fr FRA, FW,MF, Rennes, frLigue 1, 24, 23, ( 11 ) ), ( Lautaro Mart&#237;nez, ar ARG, FW, Inter, itSerie A, 24, 22, ( 11 ) ), ( Enes &#220;nal, tr TUR, FW, Getafe, esLa Liga, 24, 23, ( 11 ) ), ( Christopher Nkunku, fr FRA, FW,MF, RB Leipzig, deBundesliga, 24, 22, ( 11 ) ), ( Mikel Oyarzabal, es ESP, FW,MF, Real Sociedad, esLa Liga, 24, 17, ( 8 ) ), ( Emmanuel Dennis, ng NGA, FW,MF, Watford, engPremier League, 24, 21, ( 8 ) ), ( Ludovic Blas, fr FRA, FW,MF, Nantes, frLigue 1, 24, 22, ( 7 ) ), ( Lucas Paquet&#225;, br BRA, FW,MF, Lyon, frLigue 1, 24, 22, ( 7 ) ), ( Cengiz &#220;nder, tr TUR, FW,MF, Marseille, frLigue 1, 24, 20, ( 7 ) ), ( Youri Tielemans, be BEL, MF, Leicester City, engPremier League, 24, 18, ( 6 ) ), ( Luis Javier Su&#225;rez, co COL, FW,MF, Granada, esLa Liga, 24, 23, ( 6 ) ), ( Theo Hern&#225;ndez, fr FRA, DF, Milan, itSerie A, 24, 20, ( 4 ) ), ( Szymon Żurkowski, pl POL, MF, Empoli, itSerie A, 24, 23, ( 4 ) ), ( Nahuel Molina, ar ARG, DF,MF, Udinese, itSerie A, 24, 22, ( 4 ) ), ( Konstantinos Mavropanos, gr GRE, DF, Stuttgart, deBundesliga, 24, 19, ( 4 ) ), ( Gerson, br BRA, MF,DF, Marseille, frLigue 1, 24, 21, ( 4 ) ), ( Florian Neuhaus, de GER, MF,FW, M&#39;Gladbach, deBundesliga, 24, 17, ( 4 ) ), ( Yohann Magnin, fr FRA, MF,DF, Clermont Foot, frLigue 1, 24, 10, ( 1 ) ), ( Pol Lirola, es ESP, DF,MF, Marseille, frLigue 1, 24, 21, ( 1 ) ) ... (more) ]</div></td></tr></tbody></table>"
      ]
     },
     "metadata": {},
     "output_type": "display_data"
    }
   ],
   "source": [
    "// write your code here, see website for solution.\n",
    "playerStatsTable\n",
    "|> List.sortBy(fun x -> x.Age)\n",
    "|> List.splitInto 5\n",
    "|> List.truncate 2 //just to observe the first 2 groups Lists, not a part of the exercise."
   ]
  },
  {
   "cell_type": "markdown",
   "metadata": {},
   "source": [
    "### 9 List.groupBy\n",
    "\n",
    "`List.groupBy` allows you to group elements of a list.\n",
    "It takes a key-generating function and a list as inputs.\n",
    "The function is executed on each element of the List, returning a list of tuples\n",
    "where the first element of each tuple is the key and the second is a list of the elements for which the function produced that key.\n",
    "\n",
    "Example: Group the `playerStatsTable` by `Nation` using `List.groupBy`.\n",
    "\n"
   ]
  },
  {
   "cell_type": "code",
   "execution_count": null,
   "metadata": {
    "dotnet_interactive": {
     "language": "fsharp"
    },
    "vscode": {
     "languageId": "dotnet-interactive.fsharp"
    }
   },
   "outputs": [
    {
     "data": {
      "text/html": [
       "<table><thead><tr><th><i>index</i></th><th>Item1</th><th>Item2</th></tr></thead><tbody><tr><td>0</td><td>pl POL</td><td><div class=\"dni-plaintext\">[ ( Robert Lewandowski, pl POL, FW, Bayern Munich, deBundesliga, 33, 22, ( 26 ) ), ( Piotr Zieliński, pl POL, MF, Napoli, itSerie A, 27, 23, ( 5 ) ), ( Szymon Żurkowski, pl POL, MF, Empoli, itSerie A, 24, 23, ( 4 ) ), ( Przemysław Frankowski, pl POL, DF, Lens, frLigue 1, 26, 24, ( 4 ) ) ]</div></td></tr><tr><td>1</td><td>cz CZE</td><td><div class=\"dni-plaintext\">[ ( Patrik Schick, cz CZE, FW, Leverkusen, deBundesliga, 26, 19, ( 19 ) ), ( Anton&#237;n Bar&#225;k, cz CZE, FW,MF, Hellas Verona, itSerie A, 27, 21, ( 9 ) ) ]</div></td></tr></tbody></table>"
      ]
     },
     "metadata": {},
     "output_type": "display_data"
    }
   ],
   "source": [
    "playerStatsTable\n",
    "|> List.groupBy(fun x -> x.Nation)\n",
    "|> List.truncate 2 //just to observe the first 2 groups Lists, not a part of the exercise.\n",
    "|> List.map(fun (x, xs) -> x, xs |> List.truncate 5) //just to observe the first 5 rows of each group List, not a part of the exercise.\n"
   ]
  },
  {
   "cell_type": "markdown",
   "metadata": {},
   "source": [
    "* Group the `playerStatsTable` by `Age` using `List.groupBy`.\n",
    "\n",
    "<div style=\"padding-left: 40px;\">\n",
    "<p> \n",
    "<span>\n",
    "<details>\n",
    "<summary><p style=\"display:inline\">answer</p></summary>\n",
    "\n",
    "```\n",
    "input.fsx (1,1)-(1,17) typecheck error The value or constructor 'playerStatsTable' is not defined. Maybe you want one of the following:\n",
    "   playersByPosition\n",
    "input.fsx (2,26)-(2,31) typecheck error Lookup on object of indeterminate type based on information prior to this program point. A type annotation may be needed prior to this program point to constrain the type of the object. This may allow the lookup to be resolved.\n",
    "```\n",
    "\n",
    "</details>\n",
    "</span>\n",
    "</p>\n",
    "</div>\n",
    "\n"
   ]
  },
  {
   "cell_type": "code",
   "execution_count": null,
   "metadata": {
    "dotnet_interactive": {
     "language": "fsharp"
    },
    "vscode": {
     "languageId": "dotnet-interactive.fsharp"
    }
   },
   "outputs": [
    {
     "data": {
      "text/html": [
       "<table><thead><tr><th><i>index</i></th><th>Item1</th><th>Item2</th></tr></thead><tbody><tr><td>0</td><td><div class=\"dni-plaintext\">33</div></td><td><div class=\"dni-plaintext\">[ ( Robert Lewandowski, pl POL, FW, Bayern Munich, deBundesliga, 33, 22, ( 26 ) ), ( Anthony Modeste, fr FRA, FW, K&#246;ln, deBundesliga, 33, 21, ( 14 ) ), ( Ivan Perišić, hr CRO, DF, Inter, itSerie A, 33, 22, ( 5 ) ), ( Juan Cuadrado, co COL, DF,MF, Juventus, itSerie A, 33, 23, ( 4 ) ), ( Jonas L&#246;ssl, dk DEN, GK, Brentford, engPremier League, 33, 2, ( 0 ) ) ]</div></td></tr><tr><td>1</td><td><div class=\"dni-plaintext\">26</div></td><td><div class=\"dni-plaintext\">[ ( Patrik Schick, cz CZE, FW, Leverkusen, deBundesliga, 26, 19, ( 19 ) ), ( Giovanni Simeone, ar ARG, FW, Hellas Verona, itSerie A, 26, 22, ( 12 ) ), ( &#193;ngel Correa, ar ARG, FW,MF, Atl&#233;tico Madrid, esLa Liga, 26, 24, ( 10 ) ), ( Alberth Elis, hn HON, FW,MF, Bordeaux, frLigue 1, 26, 16, ( 9 ) ), ( Sergej Milinković-Savić, rs SRB, MF, Lazio, itSerie A, 26, 24, ( 8 ) ) ]</div></td></tr></tbody></table>"
      ]
     },
     "metadata": {},
     "output_type": "display_data"
    }
   ],
   "source": [
    "// write your code here, see website for solution.\n",
    "playerStatsTable\n",
    "|> List.groupBy(fun x -> x.Age)\n",
    "|> List.truncate 2 //just to observe the first 2 groups Lists, not a part of the exercise.\n",
    "|> List.map(fun (x, xs) -> x, xs |> List.truncate 5) //just to observe the first 5 rows of each group List, not a part of the exercise.\n"
   ]
  },
  {
   "cell_type": "markdown",
   "metadata": {},
   "source": [
    "## Statistics List Functions\n",
    "\n",
    "### 1 List.max\n",
    "\n",
    "`[1; 4; 5; 3; 6] |> List.max` returns `6` (the highest value in the List).\n",
    "\n",
    "Example: Map `playerStatsTable` to get the `Age` List, and find the maximum (`List.max`).\n",
    "\n"
   ]
  },
  {
   "cell_type": "code",
   "execution_count": null,
   "metadata": {
    "dotnet_interactive": {
     "language": "fsharp"
    },
    "vscode": {
     "languageId": "dotnet-interactive.fsharp"
    }
   },
   "outputs": [
    {
     "data": {
      "text/html": [
       "<div class=\"dni-plaintext\">40</div>"
      ]
     },
     "metadata": {},
     "output_type": "display_data"
    }
   ],
   "source": [
    "playerStatsTable\n",
    "|> List.map(fun x -> x.Age)\n",
    "|> List.max\n"
   ]
  },
  {
   "cell_type": "markdown",
   "metadata": {},
   "source": [
    "* Map `playerStatsTable` to get the `GoalsScored` List, and find the maximum (`List.max`).\n",
    "\n",
    "<div style=\"padding-left: 40px;\">\n",
    "<p> \n",
    "<span>\n",
    "<details>\n",
    "<summary><p style=\"display:inline\">answer</p></summary>\n",
    "\n",
    "```\n",
    "input.fsx (1,1)-(1,17) typecheck error The value or constructor 'playerStatsTable' is not defined. Maybe you want one of the following:\n",
    "   playersByPosition\n",
    "input.fsx (2,22)-(2,35) typecheck error Lookup on object of indeterminate type based on information prior to this program point. A type annotation may be needed prior to this program point to constrain the type of the object. This may allow the lookup to be resolved.\n",
    "```\n",
    "\n",
    "</details>\n",
    "</span>\n",
    "</p>\n",
    "</div>\n",
    "\n"
   ]
  },
  {
   "cell_type": "code",
   "execution_count": null,
   "metadata": {
    "dotnet_interactive": {
     "language": "fsharp"
    },
    "vscode": {
     "languageId": "dotnet-interactive.fsharp"
    }
   },
   "outputs": [
    {
     "data": {
      "text/html": [
       "<div class=\"dni-plaintext\">26</div>"
      ]
     },
     "metadata": {},
     "output_type": "display_data"
    }
   ],
   "source": [
    "// write your code here, see website for solution.\n",
    "playerStatsTable\n",
    "|> List.map(fun x -> x.GoalsScored)\n",
    "|> List.max"
   ]
  },
  {
   "cell_type": "markdown",
   "metadata": {},
   "source": [
    "### 2 List.min\n",
    "\n",
    "`[1; 4; 5; 3; 6] |> List.min` returns `1` (the lowest value in the List).\n",
    "\n",
    "Example: Map `playerStatsTable` to get the `Age` List, and find the minimum (`List.min`).\n",
    "\n"
   ]
  },
  {
   "cell_type": "code",
   "execution_count": null,
   "metadata": {
    "dotnet_interactive": {
     "language": "fsharp"
    },
    "vscode": {
     "languageId": "dotnet-interactive.fsharp"
    }
   },
   "outputs": [
    {
     "data": {
      "text/html": [
       "<div class=\"dni-plaintext\">18</div>"
      ]
     },
     "metadata": {},
     "output_type": "display_data"
    }
   ],
   "source": [
    "playerStatsTable\n",
    "|> List.map(fun x -> x.Age)\n",
    "|> List.min\n"
   ]
  },
  {
   "cell_type": "markdown",
   "metadata": {},
   "source": [
    "* Map `playerStatsTable` to get the `GoalsScored` List, and find the minimum (`List.min`).\n",
    "\n",
    "<div style=\"padding-left: 40px;\">\n",
    "<p> \n",
    "<span>\n",
    "<details>\n",
    "<summary><p style=\"display:inline\">answer</p></summary>\n",
    "\n",
    "```\n",
    "input.fsx (1,1)-(1,17) typecheck error The value or constructor 'playerStatsTable' is not defined. Maybe you want one of the following:\n",
    "   playersByPosition\n",
    "input.fsx (2,22)-(2,35) typecheck error Lookup on object of indeterminate type based on information prior to this program point. A type annotation may be needed prior to this program point to constrain the type of the object. This may allow the lookup to be resolved.\n",
    "```\n",
    "\n",
    "</details>\n",
    "</span>\n",
    "</p>\n",
    "</div>\n",
    "\n"
   ]
  },
  {
   "cell_type": "code",
   "execution_count": null,
   "metadata": {
    "dotnet_interactive": {
     "language": "fsharp"
    },
    "vscode": {
     "languageId": "dotnet-interactive.fsharp"
    }
   },
   "outputs": [
    {
     "data": {
      "text/html": [
       "<div class=\"dni-plaintext\">0</div>"
      ]
     },
     "metadata": {},
     "output_type": "display_data"
    }
   ],
   "source": [
    "// write your code here, see website for solution.\n",
    "playerStatsTable\n",
    "|> List.map(fun x -> x.GoalsScored)\n",
    "|> List.min"
   ]
  },
  {
   "cell_type": "markdown",
   "metadata": {},
   "source": [
    "### 3 List.maxBy\n",
    "\n",
    "Sometimes you want the element with the \"maximum y\" where \"y\" is the result of applying a particular function to a list element. This is what `List.maxBy` is for. This function is best understood by seeing an example.\n",
    "\n",
    "Example: Find the player in `playerStatsTable` with the maximum `Age` using `maxBy`. What we need to do then is write a function that takes a player as input and outputs the players age. `List.maxBy` will then find the player that is the maxiumum after transforming it using this function.\n",
    "\n"
   ]
  },
  {
   "cell_type": "code",
   "execution_count": null,
   "metadata": {
    "dotnet_interactive": {
     "language": "fsharp"
    },
    "vscode": {
     "languageId": "dotnet-interactive.fsharp"
    }
   },
   "outputs": [
    {
     "data": {
      "text/html": [
       "<table><thead><tr><th>Item1</th><th>Item2</th><th>Item3</th><th>Item4</th><th>Item5</th><th>Item6</th><th>Item7</th><th>Rest</th></tr></thead><tbody><tr><td><div class=\"dni-plaintext\">Gianluca Pegolo</div></td><td><div class=\"dni-plaintext\">it ITA</div></td><td><div class=\"dni-plaintext\">GK</div></td><td><div class=\"dni-plaintext\">Sassuolo</div></td><td><div class=\"dni-plaintext\">itSerie A</div></td><td><div class=\"dni-plaintext\">40</div></td><td><div class=\"dni-plaintext\">1</div></td><td><div class=\"dni-plaintext\">( 0 )</div></td></tr></tbody></table>"
      ]
     },
     "metadata": {},
     "output_type": "display_data"
    }
   ],
   "source": [
    "playerStatsTable\n",
    "|> List.maxBy(fun x -> x.Age)\n"
   ]
  },
  {
   "cell_type": "markdown",
   "metadata": {},
   "source": [
    "* Find the maximum `playerStatsTable` row by `GoalsScored` using `maxBy`.\n",
    "\n",
    "<div style=\"padding-left: 40px;\">\n",
    "<p> \n",
    "<span>\n",
    "<details>\n",
    "<summary><p style=\"display:inline\">answer</p></summary>\n",
    "\n",
    "```\n",
    "input.fsx (1,1)-(1,17) typecheck error The value or constructor 'playerStatsTable' is not defined. Maybe you want one of the following:\n",
    "   playersByPosition\n",
    "input.fsx (2,24)-(2,37) typecheck error Lookup on object of indeterminate type based on information prior to this program point. A type annotation may be needed prior to this program point to constrain the type of the object. This may allow the lookup to be resolved.\n",
    "```\n",
    "\n",
    "</details>\n",
    "</span>\n",
    "</p>\n",
    "</div>\n",
    "\n"
   ]
  },
  {
   "cell_type": "code",
   "execution_count": null,
   "metadata": {
    "dotnet_interactive": {
     "language": "fsharp"
    },
    "vscode": {
     "languageId": "dotnet-interactive.fsharp"
    }
   },
   "outputs": [
    {
     "data": {
      "text/html": [
       "<table><thead><tr><th>Item1</th><th>Item2</th><th>Item3</th><th>Item4</th><th>Item5</th><th>Item6</th><th>Item7</th><th>Rest</th></tr></thead><tbody><tr><td><div class=\"dni-plaintext\">Robert Lewandowski</div></td><td><div class=\"dni-plaintext\">pl POL</div></td><td><div class=\"dni-plaintext\">FW</div></td><td><div class=\"dni-plaintext\">Bayern Munich</div></td><td><div class=\"dni-plaintext\">deBundesliga</div></td><td><div class=\"dni-plaintext\">33</div></td><td><div class=\"dni-plaintext\">22</div></td><td><div class=\"dni-plaintext\">( 26 )</div></td></tr></tbody></table>"
      ]
     },
     "metadata": {},
     "output_type": "display_data"
    }
   ],
   "source": [
    "// write your code here, see website for solution.\n",
    "playerStatsTable\n",
    "|> List.maxBy(fun x -> x.GoalsScored)"
   ]
  },
  {
   "cell_type": "markdown",
   "metadata": {},
   "source": [
    "### 4 List.minBy\n",
    "\n",
    "Sometimes you want the element with the \"minimum y\" where \"y\" is the result of applying a particular function to a list element. This is what `List.minBy` is for.\n",
    "\n",
    "Example: Find the player in `playerStatsTable` with the minimum `Age` using `minBy`.\n",
    "\n"
   ]
  },
  {
   "cell_type": "code",
   "execution_count": null,
   "metadata": {
    "dotnet_interactive": {
     "language": "fsharp"
    },
    "vscode": {
     "languageId": "dotnet-interactive.fsharp"
    }
   },
   "outputs": [
    {
     "data": {
      "text/html": [
       "<table><thead><tr><th>Item1</th><th>Item2</th><th>Item3</th><th>Item4</th><th>Item5</th><th>Item6</th><th>Item7</th><th>Rest</th></tr></thead><tbody><tr><td><div class=\"dni-plaintext\">Florian Wirtz</div></td><td><div class=\"dni-plaintext\">de GER</div></td><td><div class=\"dni-plaintext\">MF,FW</div></td><td><div class=\"dni-plaintext\">Leverkusen</div></td><td><div class=\"dni-plaintext\">deBundesliga</div></td><td><div class=\"dni-plaintext\">18</div></td><td><div class=\"dni-plaintext\">20</div></td><td><div class=\"dni-plaintext\">( 7 )</div></td></tr></tbody></table>"
      ]
     },
     "metadata": {},
     "output_type": "display_data"
    }
   ],
   "source": [
    "playerStatsTable\n",
    "|> List.minBy(fun x -> x.Age)\n"
   ]
  },
  {
   "cell_type": "markdown",
   "metadata": {},
   "source": [
    "* Find the minimum `playerStatsTable` row by `GoalsScored` using `minBy`.\n",
    "\n",
    "<div style=\"padding-left: 40px;\">\n",
    "<p> \n",
    "<span>\n",
    "<details>\n",
    "<summary><p style=\"display:inline\">answer</p></summary>\n",
    "\n",
    "```\n",
    "input.fsx (1,1)-(1,17) typecheck error The value or constructor 'playerStatsTable' is not defined. Maybe you want one of the following:\n",
    "   playersByPosition\n",
    "input.fsx (2,24)-(2,37) typecheck error Lookup on object of indeterminate type based on information prior to this program point. A type annotation may be needed prior to this program point to constrain the type of the object. This may allow the lookup to be resolved.\n",
    "```\n",
    "\n",
    "</details>\n",
    "</span>\n",
    "</p>\n",
    "</div>\n",
    "\n"
   ]
  },
  {
   "cell_type": "code",
   "execution_count": null,
   "metadata": {
    "dotnet_interactive": {
     "language": "fsharp"
    },
    "vscode": {
     "languageId": "dotnet-interactive.fsharp"
    }
   },
   "outputs": [
    {
     "data": {
      "text/html": [
       "<table><thead><tr><th>Item1</th><th>Item2</th><th>Item3</th><th>Item4</th><th>Item5</th><th>Item6</th><th>Item7</th><th>Rest</th></tr></thead><tbody><tr><td><div class=\"dni-plaintext\">Wilfred Ndidi</div></td><td><div class=\"dni-plaintext\">ng NGA</div></td><td><div class=\"dni-plaintext\">MF,DF</div></td><td><div class=\"dni-plaintext\">Leicester City</div></td><td><div class=\"dni-plaintext\">engPremier League</div></td><td><div class=\"dni-plaintext\">25</div></td><td><div class=\"dni-plaintext\">15</div></td><td><div class=\"dni-plaintext\">( 0 )</div></td></tr></tbody></table>"
      ]
     },
     "metadata": {},
     "output_type": "display_data"
    }
   ],
   "source": [
    "// write your code here, see website for solution.\n",
    "playerStatsTable\n",
    "|> List.minBy(fun x -> x.GoalsScored)"
   ]
  },
  {
   "cell_type": "markdown",
   "metadata": {},
   "source": [
    "### 5 List.sum\n",
    "\n",
    "`[1; 4; 5; 3; 6] |> List.sum` returns `19` (sum of the List elements).\n",
    "\n",
    "Example: Calculate the total number of years lived by all players. Hint: transform (`List.map`) each element of `playerStatsTable` into an integer representing the player's `Age` and then get the sum (`List.sum`) of all the players' ages (the result should be an `int`).\n",
    "\n"
   ]
  },
  {
   "cell_type": "code",
   "execution_count": null,
   "metadata": {
    "dotnet_interactive": {
     "language": "fsharp"
    },
    "vscode": {
     "languageId": "dotnet-interactive.fsharp"
    }
   },
   "outputs": [
    {
     "data": {
      "text/html": [
       "<div class=\"dni-plaintext\">5398</div>"
      ]
     },
     "metadata": {},
     "output_type": "display_data"
    }
   ],
   "source": [
    "playerStatsTable\n",
    "|> List.map(fun x -> x.Age)\n",
    "|> List.sum\n"
   ]
  },
  {
   "cell_type": "markdown",
   "metadata": {},
   "source": [
    "* Calculate the total goals scored (`GoalsScored`) by all players in `playerStatsTable`.\n",
    "\n",
    "<div style=\"padding-left: 40px;\">\n",
    "<p> \n",
    "<span>\n",
    "<details>\n",
    "<summary><p style=\"display:inline\">answer</p></summary>\n",
    "\n",
    "```\n",
    "input.fsx (1,1)-(1,17) typecheck error The value or constructor 'playerStatsTable' is not defined. Maybe you want one of the following:\n",
    "   playersByPosition\n",
    "input.fsx (2,22)-(2,35) typecheck error Lookup on object of indeterminate type based on information prior to this program point. A type annotation may be needed prior to this program point to constrain the type of the object. This may allow the lookup to be resolved.\n",
    "```\n",
    "\n",
    "</details>\n",
    "</span>\n",
    "</p>\n",
    "</div>\n",
    "\n"
   ]
  },
  {
   "cell_type": "code",
   "execution_count": null,
   "metadata": {
    "dotnet_interactive": {
     "language": "fsharp"
    },
    "vscode": {
     "languageId": "dotnet-interactive.fsharp"
    }
   },
   "outputs": [
    {
     "data": {
      "text/html": [
       "<div class=\"dni-plaintext\">1005</div>"
      ]
     },
     "metadata": {},
     "output_type": "display_data"
    }
   ],
   "source": [
    "// write your code here, see website for solution.\n",
    "playerStatsTable\n",
    "|> List.map(fun x -> x.GoalsScored)\n",
    "|> List.sum\n"
   ]
  },
  {
   "cell_type": "markdown",
   "metadata": {},
   "source": [
    "### 6 List.sumBy\n",
    "\n",
    "We are using a dataset that has multiple fields per List element. If you want to get the sum for particular fields it convenient to use `List.sumBy`.\n",
    "It takes a function and transforms each element using that function and afterward sums all the transformed elements. It is like an `List.map` and `List.sum` combined into one function.\n",
    "\n",
    "Example: Use `List.sumBy` to calculate the total number of years lived by all players in `playerStatsTable`. Remember that each player has lived `Age` years.\n",
    "\n"
   ]
  },
  {
   "cell_type": "code",
   "execution_count": null,
   "metadata": {
    "dotnet_interactive": {
     "language": "fsharp"
    },
    "vscode": {
     "languageId": "dotnet-interactive.fsharp"
    }
   },
   "outputs": [
    {
     "data": {
      "text/html": [
       "<div class=\"dni-plaintext\">5398</div>"
      ]
     },
     "metadata": {},
     "output_type": "display_data"
    }
   ],
   "source": [
    "playerStatsTable\n",
    "|> List.sumBy(fun x -> x.Age)\n"
   ]
  },
  {
   "cell_type": "markdown",
   "metadata": {},
   "source": [
    "* Find the sum of the `GoalsScored` by all players in `playerStatsTable` using `List.sumBy`.\n",
    "\n",
    "<div style=\"padding-left: 40px;\">\n",
    "<p> \n",
    "<span>\n",
    "<details>\n",
    "<summary><p style=\"display:inline\">answer</p></summary>\n",
    "\n",
    "```\n",
    "input.fsx (1,1)-(1,17) typecheck error The value or constructor 'playerStatsTable' is not defined. Maybe you want one of the following:\n",
    "   playersByPosition\n",
    "input.fsx (2,24)-(2,37) typecheck error Lookup on object of indeterminate type based on information prior to this program point. A type annotation may be needed prior to this program point to constrain the type of the object. This may allow the lookup to be resolved.\n",
    "```\n",
    "\n",
    "</details>\n",
    "</span>\n",
    "</p>\n",
    "</div>\n",
    "\n"
   ]
  },
  {
   "cell_type": "code",
   "execution_count": null,
   "metadata": {
    "dotnet_interactive": {
     "language": "fsharp"
    },
    "vscode": {
     "languageId": "dotnet-interactive.fsharp"
    }
   },
   "outputs": [
    {
     "data": {
      "text/html": [
       "<div class=\"dni-plaintext\">1005</div>"
      ]
     },
     "metadata": {},
     "output_type": "display_data"
    }
   ],
   "source": [
    "// write your code here, see website for solution.\n",
    "playerStatsTable\n",
    "|> List.sumBy(fun x -> x.GoalsScored)"
   ]
  },
  {
   "cell_type": "markdown",
   "metadata": {},
   "source": [
    "### 7 List.average\n",
    "\n",
    "`[1.0; 2.0; 5.0; 2.0] |> List.average` returns `2.5` (the average of all the List elements).\n",
    "\n",
    "Example: Transform `playerStatsTable` into a list of the players' ages (`Age`) and find the average `Age` (`List.average`).\n",
    "The field `x.Age` needs to be transformed from `int` to `float` because `List.average` only works with `floats` or `decimals`.\n",
    "\n"
   ]
  },
  {
   "cell_type": "code",
   "execution_count": null,
   "metadata": {
    "dotnet_interactive": {
     "language": "fsharp"
    },
    "vscode": {
     "languageId": "dotnet-interactive.fsharp"
    }
   },
   "outputs": [
    {
     "data": {
      "text/html": [
       "<div class=\"dni-plaintext\">26.855721393034827</div>"
      ]
     },
     "metadata": {},
     "output_type": "display_data"
    }
   ],
   "source": [
    "playerStatsTable\n",
    "|> List.map(fun x -> float x.Age)\n",
    "|> List.average\n"
   ]
  },
  {
   "cell_type": "markdown",
   "metadata": {},
   "source": [
    "* Use `List.map` to transform `playerStatsTable` into a list of the players' `GoalsScored` and find the average `GoalsScored` (`List.average`).\n",
    "Hint: The variable `x.GoalsScored` needs to be transformed from `int` to `float` since `List.average` only works with `floats` or `decimals`.\n",
    "\n",
    "<div style=\"padding-left: 40px;\">\n",
    "<p> \n",
    "<span>\n",
    "<details>\n",
    "<summary><p style=\"display:inline\">answer</p></summary>\n",
    "\n",
    "```\n",
    "input.fsx (1,1)-(1,17) typecheck error The value or constructor 'playerStatsTable' is not defined. Maybe you want one of the following:\n",
    "   playersByPosition\n",
    "input.fsx (2,28)-(2,41) typecheck error Lookup on object of indeterminate type based on information prior to this program point. A type annotation may be needed prior to this program point to constrain the type of the object. This may allow the lookup to be resolved.\n",
    "```\n",
    "\n",
    "</details>\n",
    "</span>\n",
    "</p>\n",
    "</div>\n",
    "\n"
   ]
  },
  {
   "cell_type": "code",
   "execution_count": null,
   "metadata": {
    "dotnet_interactive": {
     "language": "fsharp"
    },
    "vscode": {
     "languageId": "dotnet-interactive.fsharp"
    }
   },
   "outputs": [
    {
     "data": {
      "text/html": [
       "<div class=\"dni-plaintext\">5</div>"
      ]
     },
     "metadata": {},
     "output_type": "display_data"
    }
   ],
   "source": [
    "// write your code here, see website for solution.\n",
    "playerStatsTable\n",
    "|> List.map(fun x -> float x.GoalsScored)\n",
    "|> List.average\n"
   ]
  },
  {
   "cell_type": "markdown",
   "metadata": {},
   "source": [
    "### 8 List.averageBy\n",
    "\n",
    "We are using a dataset that has multiple fields per List element. If you want to get the average for particular fields it convenient to use `List.averageBy`.\n",
    "It takes a function and transforms each element using that function and afterward averages all the transformed elements. It is like an `List.map` and `List.average` combined into one function.\n",
    "\n",
    "Example: Find the average `Age` using `List.averageBy`.\n",
    "The `Age` needs to be transformed from `int` to `float` since `List.averageBy` only works with `floats` or `decimals`.\n",
    "\n"
   ]
  },
  {
   "cell_type": "code",
   "execution_count": null,
   "metadata": {
    "dotnet_interactive": {
     "language": "fsharp"
    },
    "vscode": {
     "languageId": "dotnet-interactive.fsharp"
    }
   },
   "outputs": [
    {
     "data": {
      "text/html": [
       "<div class=\"dni-plaintext\">26.855721393034827</div>"
      ]
     },
     "metadata": {},
     "output_type": "display_data"
    }
   ],
   "source": [
    "playerStatsTable\n",
    "|> List.averageBy(fun x -> float x.Age)\n"
   ]
  },
  {
   "cell_type": "markdown",
   "metadata": {},
   "source": [
    "* Find the average `GoalsScored` using `List.averageBy`.\n",
    "Hint: The `GoalsScored` needs to be transformed from `int` to `float` since `List.averageBy` only works with `floats` or `decimals`.\n",
    "\n",
    "<div style=\"padding-left: 40px;\">\n",
    "<p> \n",
    "<span>\n",
    "<details>\n",
    "<summary><p style=\"display:inline\">answer</p></summary>\n",
    "\n",
    "```\n",
    "input.fsx (1,1)-(1,17) typecheck error The value or constructor 'playerStatsTable' is not defined. Maybe you want one of the following:\n",
    "   playersByPosition\n",
    "input.fsx (2,34)-(2,47) typecheck error Lookup on object of indeterminate type based on information prior to this program point. A type annotation may be needed prior to this program point to constrain the type of the object. This may allow the lookup to be resolved.\n",
    "```\n",
    "\n",
    "</details>\n",
    "</span>\n",
    "</p>\n",
    "</div>\n",
    "\n"
   ]
  },
  {
   "cell_type": "code",
   "execution_count": null,
   "metadata": {
    "dotnet_interactive": {
     "language": "fsharp"
    },
    "vscode": {
     "languageId": "dotnet-interactive.fsharp"
    }
   },
   "outputs": [
    {
     "data": {
      "text/html": [
       "<div class=\"dni-plaintext\">5</div>"
      ]
     },
     "metadata": {},
     "output_type": "display_data"
    }
   ],
   "source": [
    "// write your code here, see website for solution.\n",
    "playerStatsTable\n",
    "|> List.averageBy(fun x -> float x.GoalsScored)\n"
   ]
  },
  {
   "cell_type": "markdown",
   "metadata": {},
   "source": [
    "### 9 Seq.stDev\n",
    "\n",
    "For `Seq.stDev` to work, we loaded the `FSharp.Stats nuget` (`#r \"nuget: FSharp.Stats\"`).\n",
    "This nuget contains the standard deviation function.\n",
    "Besides this we also opened the module `FSharp.Stats` (`open FSharp.Stats`).\n",
    "[FSharp.Stats documentation](https://fslab.org/FSharp.Stats/)\n",
    "\n",
    "Example: Use `List.map` to transform `playerStatsTable` by `GoalsScored` and find the standard deviation. (`Seq.stDev`).\n",
    "Note that for `Seq.stDev` to work the values need to be `floats` or `decimals`, so we need to transform the `GoalsScored` from `int` to `float`.\n",
    "\n"
   ]
  },
  {
   "cell_type": "code",
   "execution_count": null,
   "metadata": {
    "dotnet_interactive": {
     "language": "fsharp"
    },
    "vscode": {
     "languageId": "dotnet-interactive.fsharp"
    }
   },
   "outputs": [
    {
     "data": {
      "text/html": [
       "<div class=\"dni-plaintext\">4.532107677449864</div>"
      ]
     },
     "metadata": {},
     "output_type": "display_data"
    }
   ],
   "source": [
    "playerStatsTable\n",
    "|> List.map(fun x -> float x.GoalsScored)\n",
    "|> Seq.stDev\n"
   ]
  },
  {
   "cell_type": "markdown",
   "metadata": {},
   "source": [
    "* Transform `playerStatsTable` into a list of the players' `Age`'s and find the standard deviation. (`Seq.stDev`).\n",
    "Hint: You need to transform `Age` values from `int` to `floats`.\n",
    "\n",
    "<div style=\"padding-left: 40px;\">\n",
    "<p> \n",
    "<span>\n",
    "<details>\n",
    "<summary><p style=\"display:inline\">answer</p></summary>\n",
    "\n",
    "```\n",
    "input.fsx (1,1)-(1,17) typecheck error The value or constructor 'playerStatsTable' is not defined. Maybe you want one of the following:\n",
    "   playersByPosition\n",
    "input.fsx (2,28)-(2,33) typecheck error Lookup on object of indeterminate type based on information prior to this program point. A type annotation may be needed prior to this program point to constrain the type of the object. This may allow the lookup to be resolved.\n",
    "```\n",
    "\n",
    "</details>\n",
    "</span>\n",
    "</p>\n",
    "</div>\n",
    "\n"
   ]
  },
  {
   "cell_type": "code",
   "execution_count": null,
   "metadata": {
    "dotnet_interactive": {
     "language": "fsharp"
    },
    "vscode": {
     "languageId": "dotnet-interactive.fsharp"
    }
   },
   "outputs": [
    {
     "data": {
      "text/html": [
       "<div class=\"dni-plaintext\">4.129658533340264</div>"
      ]
     },
     "metadata": {},
     "output_type": "display_data"
    }
   ],
   "source": [
    "// write your code here, see website for solution.\n",
    "playerStatsTable\n",
    "|> List.map(fun x -> float x.Age)\n",
    "|> Seq.stDev\n"
   ]
  },
  {
   "cell_type": "markdown",
   "metadata": {},
   "source": [
    "### 10 Seq.pearsonOfPairs\n",
    "\n",
    "In order to perform correlations we have to load and open the namespace `FSharp.Stats`.\n",
    "Also, we `open FSharpe.Stats.Correlation` to allow a easier access to the correlation functions.\n",
    "\n",
    "It will be helpfull to check the [FSharp.Stats.Correlation Documentation](https://fslab.org/FSharp.Stats/reference/fsharp-stats-correlation-seq.html#pearson) before starting the exercises.\n",
    "\n",
    "Example: Test the correlation between `MatchesPlayed` and `GoalsScored` using `pearsonOfPairs`.\n",
    "\n",
    "`Seq.pearsonOfPairs` expects a list of tuples (x1 * x2), computing the correlation between x1 and x2.\n",
    "So we use `List.map` to get a list of tuples with (`MatchesPlayed`, `GoalsScored`).\n",
    "Then we only need to pipe (`|>`) to `Seq.pearsonOfPairs`.\n",
    "\n"
   ]
  },
  {
   "cell_type": "code",
   "execution_count": null,
   "metadata": {
    "dotnet_interactive": {
     "language": "fsharp"
    },
    "vscode": {
     "languageId": "dotnet-interactive.fsharp"
    }
   },
   "outputs": [
    {
     "data": {
      "text/html": [
       "<div class=\"dni-plaintext\">0.5027303480985214</div>"
      ]
     },
     "metadata": {},
     "output_type": "display_data"
    }
   ],
   "source": [
    "playerStatsTable\n",
    "|> List.map(fun x -> x.MatchesPlayed, x.GoalsScored)\n",
    "|> Seq.pearsonOfPairs\n"
   ]
  },
  {
   "cell_type": "markdown",
   "metadata": {},
   "source": [
    "* Test the correlation between `MatchesPlayed` and `Age` using `pearsonOfPairs`.\n",
    "Hints:\n",
    "`Seq.pearsonOfPairs` expects a list of tuples (x1 * x2). Use `List.map` to get a list of tuples with (`MatchesPlayed`, `Age`).\n",
    "Then you only need to pipe (`|>`) to `Seq.pearsonOfPairs`.\n",
    "\n",
    "<div style=\"padding-left: 40px;\">\n",
    "<p> \n",
    "<span>\n",
    "<details>\n",
    "<summary><p style=\"display:inline\">answer</p></summary>\n",
    "\n",
    "```\n",
    "input.fsx (1,1)-(1,17) typecheck error The value or constructor 'playerStatsTable' is not defined. Maybe you want one of the following:\n",
    "   playersByPosition\n",
    "input.fsx (2,22)-(2,37) typecheck error Lookup on object of indeterminate type based on information prior to this program point. A type annotation may be needed prior to this program point to constrain the type of the object. This may allow the lookup to be resolved.\n",
    "input.fsx (2,39)-(2,44) typecheck error Lookup on object of indeterminate type based on information prior to this program point. A type annotation may be needed prior to this program point to constrain the type of the object. This may allow the lookup to be resolved.\n",
    "```\n",
    "\n",
    "</details>\n",
    "</span>\n",
    "</p>\n",
    "</div>\n",
    "\n"
   ]
  },
  {
   "cell_type": "code",
   "execution_count": null,
   "metadata": {
    "dotnet_interactive": {
     "language": "fsharp"
    },
    "vscode": {
     "languageId": "dotnet-interactive.fsharp"
    }
   },
   "outputs": [
    {
     "data": {
      "text/html": [
       "<div class=\"dni-plaintext\">0.019491888812834004</div>"
      ]
     },
     "metadata": {},
     "output_type": "display_data"
    }
   ],
   "source": [
    "// write your code here, see website for solution.\n",
    "playerStatsTable\n",
    "|> List.map(fun x -> x.MatchesPlayed, x.Age)\n",
    "|> Seq.pearsonOfPairs\n"
   ]
  },
  {
   "cell_type": "markdown",
   "metadata": {},
   "source": [
    "* Test the correlation between `GoalsScored` and `Age` using `pearsonOfPairs`.\n",
    "Hints:\n",
    "`Seq.pearsonOfPairs` expects a list of tuples (x1 * x2). Use `List.map` to get a list of tuples with (`GoalsScored`, `Age`).\n",
    "Then you only need to pipe (`|>`) to `Seq.pearsonOfPairs`.\n",
    "\n",
    "<div style=\"padding-left: 40px;\">\n",
    "<p> \n",
    "<span>\n",
    "<details>\n",
    "<summary><p style=\"display:inline\">answer</p></summary>\n",
    "\n",
    "```\n",
    "input.fsx (1,1)-(1,17) typecheck error The value or constructor 'playerStatsTable' is not defined. Maybe you want one of the following:\n",
    "   playersByPosition\n",
    "input.fsx (2,22)-(2,35) typecheck error Lookup on object of indeterminate type based on information prior to this program point. A type annotation may be needed prior to this program point to constrain the type of the object. This may allow the lookup to be resolved.\n",
    "input.fsx (2,37)-(2,42) typecheck error Lookup on object of indeterminate type based on information prior to this program point. A type annotation may be needed prior to this program point to constrain the type of the object. This may allow the lookup to be resolved.\n",
    "```\n",
    "\n",
    "</details>\n",
    "</span>\n",
    "</p>\n",
    "</div>\n",
    "\n"
   ]
  },
  {
   "cell_type": "code",
   "execution_count": null,
   "metadata": {
    "dotnet_interactive": {
     "language": "fsharp"
    },
    "vscode": {
     "languageId": "dotnet-interactive.fsharp"
    }
   },
   "outputs": [
    {
     "data": {
      "text/html": [
       "<div class=\"dni-plaintext\">-0.013891814819586816</div>"
      ]
     },
     "metadata": {},
     "output_type": "display_data"
    }
   ],
   "source": [
    "// write your code here, see website for solution.\n",
    "playerStatsTable\n",
    "|> List.map(fun x -> x.GoalsScored, x.Age)\n",
    "|> Seq.pearsonOfPairs\n"
   ]
  },
  {
   "cell_type": "markdown",
   "metadata": {},
   "source": [
    "## Further Statistics practice\n",
    "\n",
    "Now that you should feel confortable with `List.filter`, `List.groupBy`, `List.splitInto`\n",
    "and also some f# statistics functions, let's combine those concepts together.\n",
    "\n",
    "### 1 List.countBy, List.filter and List.averageBy\n",
    "\n",
    "Example: Find the average goals scored by portuguese players.\n",
    "\n",
    "In order to find the average goals for portuguese players we know that we need to use `List.filter`.\n",
    "But we need to know what is the string correspondent to portuguese players!\n",
    "Using `List.distinct` or `List.countBy` we can observe all the `Nation` strings, which allow us to see that portuguese Nation string is `\"pt POR\"`.\n",
    "\n"
   ]
  },
  {
   "cell_type": "code",
   "execution_count": null,
   "metadata": {
    "dotnet_interactive": {
     "language": "fsharp"
    },
    "vscode": {
     "languageId": "dotnet-interactive.fsharp"
    }
   },
   "outputs": [
    {
     "data": {
      "text/html": [
       "<table><thead><tr><th><i>index</i></th><th>Item1</th><th>Item2</th></tr></thead><tbody><tr><td>0</td><td>pl POL</td><td><div class=\"dni-plaintext\">4</div></td></tr><tr><td>1</td><td>cz CZE</td><td><div class=\"dni-plaintext\">2</div></td></tr><tr><td>2</td><td>it ITA</td><td><div class=\"dni-plaintext\">19</div></td></tr><tr><td>3</td><td>fr FRA</td><td><div class=\"dni-plaintext\">32</div></td></tr><tr><td>4</td><td>rs SRB</td><td><div class=\"dni-plaintext\">2</div></td></tr><tr><td>5</td><td>eg EGY</td><td><div class=\"dni-plaintext\">1</div></td></tr><tr><td>6</td><td>no NOR</td><td><div class=\"dni-plaintext\">2</div></td></tr><tr><td>7</td><td>es ESP</td><td><div class=\"dni-plaintext\">28</div></td></tr><tr><td>8</td><td>br BRA</td><td><div class=\"dni-plaintext\">11</div></td></tr><tr><td>9</td><td>ca CAN</td><td><div class=\"dni-plaintext\">1</div></td></tr><tr><td>10</td><td>ar ARG</td><td><div class=\"dni-plaintext\">5</div></td></tr><tr><td>11</td><td>pt POR</td><td><div class=\"dni-plaintext\">6</div></td></tr><tr><td>12</td><td>eng ENG</td><td><div class=\"dni-plaintext\">14</div></td></tr><tr><td>13</td><td>tr TUR</td><td><div class=\"dni-plaintext\">3</div></td></tr><tr><td>14</td><td>re REU</td><td><div class=\"dni-plaintext\">1</div></td></tr><tr><td>15</td><td>kr KOR</td><td><div class=\"dni-plaintext\">2</div></td></tr><tr><td>16</td><td>ba BIH</td><td><div class=\"dni-plaintext\">1</div></td></tr><tr><td>17</td><td>hn HON</td><td><div class=\"dni-plaintext\">1</div></td></tr><tr><td>18</td><td>tn TUN</td><td><div class=\"dni-plaintext\">1</div></td></tr><tr><td>19</td><td>hr CRO</td><td><div class=\"dni-plaintext\">4</div></td></tr><tr><td colspan=\"3\"><i>... (more)</i></td></tr></tbody></table>"
      ]
     },
     "metadata": {},
     "output_type": "display_data"
    }
   ],
   "source": [
    "playerStatsTable\n",
    "|> List.countBy(fun x -> x.Nation)\n"
   ]
  },
  {
   "cell_type": "markdown",
   "metadata": {},
   "source": [
    "Now that we know what is the Portuguese string we can filter `x.Nation = \"pt POR\"` in order to only get portuguese players' rows!\n",
    "Then we can easily pipe it (`|>`) to `List.averageBy (fun x -> float x.Age)` to get the average age of portuguese players.\n",
    "\n"
   ]
  },
  {
   "cell_type": "code",
   "execution_count": null,
   "metadata": {
    "dotnet_interactive": {
     "language": "fsharp"
    },
    "vscode": {
     "languageId": "dotnet-interactive.fsharp"
    }
   },
   "outputs": [
    {
     "data": {
      "text/html": [
       "<div class=\"dni-plaintext\">27.666666666666668</div>"
      ]
     },
     "metadata": {},
     "output_type": "display_data"
    }
   ],
   "source": [
    "playerStatsTable\n",
    "|> List.filter(fun x -> x.Nation = \"pt POR\")\n",
    "|> List.averageBy(fun x -> float x.Age)\n"
   ]
  },
  {
   "cell_type": "markdown",
   "metadata": {},
   "source": [
    "* Find the average age for players playing on the Premier League  .\n",
    "Hint:\n",
    "You'll first need to use `List.filter` to get only players from the Premier League (`x.League = \"engPremier League\"`).\n",
    "Then use averageBy to compute the average by age, don't forget to use `float x.Age` to transform age values to float type.\n",
    "\n",
    "<div style=\"padding-left: 40px;\">\n",
    "<p> \n",
    "<span>\n",
    "<details>\n",
    "<summary><p style=\"display:inline\">answer</p></summary>\n",
    "\n",
    "```\n",
    "input.fsx (1,1)-(1,17) typecheck error The value or constructor 'playerStatsTable' is not defined. Maybe you want one of the following:\n",
    "   playersByPosition\n",
    "input.fsx (2,25)-(2,33) typecheck error Lookup on object of indeterminate type based on information prior to this program point. A type annotation may be needed prior to this program point to constrain the type of the object. This may allow the lookup to be resolved.\n",
    "input.fsx (3,34)-(3,39) typecheck error Lookup on object of indeterminate type based on information prior to this program point. A type annotation may be needed prior to this program point to constrain the type of the object. This may allow the lookup to be resolved.\n",
    "```\n",
    "\n",
    "</details>\n",
    "</span>\n",
    "</p>\n",
    "</div>\n",
    "\n"
   ]
  },
  {
   "cell_type": "code",
   "execution_count": null,
   "metadata": {
    "dotnet_interactive": {
     "language": "fsharp"
    },
    "vscode": {
     "languageId": "dotnet-interactive.fsharp"
    }
   },
   "outputs": [
    {
     "data": {
      "text/html": [
       "<div class=\"dni-plaintext\">26.1875</div>"
      ]
     },
     "metadata": {},
     "output_type": "display_data"
    }
   ],
   "source": [
    "// write your code here, see website for solution.\n",
    "playerStatsTable\n",
    "|> List.filter(fun x -> x.League = \"engPremier League\")\n",
    "|> List.averageBy(fun x -> float x.Age)"
   ]
  },
  {
   "cell_type": "markdown",
   "metadata": {},
   "source": [
    "### 2. List.groupBy, List.map and transformations.\n",
    "\n",
    "Example: Group `playerStatsTable` by `Team` and compute the average number of `GoalsScored`.\n",
    "\n"
   ]
  },
  {
   "cell_type": "code",
   "execution_count": null,
   "metadata": {
    "dotnet_interactive": {
     "language": "fsharp"
    },
    "vscode": {
     "languageId": "dotnet-interactive.fsharp"
    }
   },
   "outputs": [
    {
     "data": {
      "text/html": [
       "<table><thead><tr><th><i>index</i></th><th>Team</th><th>AvgGoalsScored</th></tr></thead><tbody><tr><td>0</td><td>Bayern Munich</td><td><div class=\"dni-plaintext\">9</div></td></tr><tr><td>1</td><td>Leverkusen</td><td><div class=\"dni-plaintext\">12</div></td></tr><tr><td>2</td><td>Lazio</td><td><div class=\"dni-plaintext\">13.5</div></td></tr><tr><td>3</td><td>Real Madrid</td><td><div class=\"dni-plaintext\">14.5</div></td></tr><tr><td>4</td><td>Fiorentina</td><td><div class=\"dni-plaintext\">10.5</div></td></tr></tbody></table>"
      ]
     },
     "metadata": {},
     "output_type": "display_data"
    }
   ],
   "source": [
    "//example using record:\n",
    "type TeamAndAvgGls =\n",
    "    { Team : string\n",
    "      AvgGoalsScored : float }\n",
    "\n",
    "playerStatsTable\n",
    "|> List.groupBy(fun x -> x.Team)\n",
    "|> List.map(fun (team, playerStats) -> \n",
    "    { Team = team\n",
    "      AvgGoalsScored = playerStats |> List.averageBy(fun playerStats -> float playerStats.GoalsScored)})\n",
    "|> List.truncate 5 //just to observe the first 5 rows, not a part of the exercise.\n"
   ]
  },
  {
   "cell_type": "markdown",
   "metadata": {},
   "source": [
    "or\n",
    "\n"
   ]
  },
  {
   "cell_type": "code",
   "execution_count": null,
   "metadata": {
    "dotnet_interactive": {
     "language": "fsharp"
    },
    "vscode": {
     "languageId": "dotnet-interactive.fsharp"
    }
   },
   "outputs": [
    {
     "data": {
      "text/html": [
       "<table><thead><tr><th><i>index</i></th><th>Item1</th><th>Item2</th></tr></thead><tbody><tr><td>0</td><td>Bayern Munich</td><td><div class=\"dni-plaintext\">9</div></td></tr><tr><td>1</td><td>Leverkusen</td><td><div class=\"dni-plaintext\">12</div></td></tr><tr><td>2</td><td>Lazio</td><td><div class=\"dni-plaintext\">13.5</div></td></tr><tr><td>3</td><td>Real Madrid</td><td><div class=\"dni-plaintext\">14.5</div></td></tr><tr><td>4</td><td>Fiorentina</td><td><div class=\"dni-plaintext\">10.5</div></td></tr></tbody></table>"
      ]
     },
     "metadata": {},
     "output_type": "display_data"
    }
   ],
   "source": [
    "//example using tuple:\n",
    "playerStatsTable\n",
    "|> List.groupBy(fun x -> x.Team)\n",
    "|> List.map(fun (team, playerStats) -> team, playerStats |> List.averageBy(fun playerStats -> float playerStats.GoalsScored))\n",
    "|> List.truncate 5 //just to observe the first 5 rows, not a part of the exercise.\n"
   ]
  },
  {
   "cell_type": "markdown",
   "metadata": {},
   "source": [
    "* Group `playerStatsTable` by `League` and then compute the Average `Age` by group.\n",
    "Hint: Use `groupBy` to group by league (`League`).\n",
    "Then use `averageBy` to compute the average by age (`Age`) and pipe it\n",
    "(`|>`) to `List.map` to organize the data in a record or tuple with League (`League`) and Average Age.\n",
    "\n",
    "<div style=\"padding-left: 40px;\">\n",
    "<p> \n",
    "<span>\n",
    "<details>\n",
    "<summary><p style=\"display:inline\">answer</p></summary>\n",
    "\n",
    "```\n",
    "input.fsx (6,1)-(6,17) typecheck error The value or constructor 'playerStatsTable' is not defined. Maybe you want one of the following:\n",
    "   playersByPosition\n",
    "input.fsx (10,87)-(10,90) typecheck error The type 'LeagueAndAvgAge' does not define the field, constructor or member 'Age'.\n",
    "input.fsx (13,1)-(13,17) typecheck error The value or constructor 'playerStatsTable' is not defined. Maybe you want one of the following:\n",
    "   playersByPosition\n",
    "input.fsx (17,72)-(17,75) typecheck error The type 'LeagueAndAvgAge' does not define the field, constructor or member 'Age'.\n",
    "```\n",
    "\n",
    "</details>\n",
    "</span>\n",
    "</p>\n",
    "</div>\n",
    "\n"
   ]
  },
  {
   "cell_type": "code",
   "execution_count": null,
   "metadata": {
    "dotnet_interactive": {
     "language": "fsharp"
    },
    "vscode": {
     "languageId": "dotnet-interactive.fsharp"
    }
   },
   "outputs": [
    {
     "data": {
      "text/html": [
       "<table><thead><tr><th><i>index</i></th><th>Item1</th><th>Item2</th></tr></thead><tbody><tr><td>0</td><td>deBundesliga</td><td><div class=\"dni-plaintext\">27.558823529411764</div></td></tr><tr><td>1</td><td>itSerie A</td><td><div class=\"dni-plaintext\">27.574468085106382</div></td></tr><tr><td>2</td><td>esLa Liga</td><td><div class=\"dni-plaintext\">27</div></td></tr><tr><td>3</td><td>engPremier League</td><td><div class=\"dni-plaintext\">26.1875</div></td></tr><tr><td>4</td><td>frLigue 1</td><td><div class=\"dni-plaintext\">26.02</div></td></tr></tbody></table>"
      ]
     },
     "metadata": {},
     "output_type": "display_data"
    }
   ],
   "source": [
    "// write your code here, see website for solution.\n",
    "//example using tuple:\n",
    "playerStatsTable\n",
    "|> List.groupBy(fun x -> x.League)\n",
    "|> List.map(fun (league, playerStats) -> league, playerStats |> List.averageBy(fun playerStats -> float playerStats.Age))\n",
    "|> List.truncate 5 //just to observe the first 5 rows, not a part of the exercise."
   ]
  },
  {
   "cell_type": "markdown",
   "metadata": {},
   "source": [
    "### 3 List.sortDescending, List.splitInto, List.map and Seq.stDev\n",
    "\n",
    "* From `playerStatsTable` sort the players' `Age` (descending), split the dataset into quartiles (4-quantiles) and compute the standard deviation for each quantile.\n",
    "Hint: You only need the `Age` field from the dataset, so you can use `map` straight away to get the `Age` List.\n",
    "Sort that List with `List.sortDescending`, and then split it into 4 parts using `List.splitInto`.\n",
    "Finally use `List.map` to iterate through each quantile and apply the function `Seq.stDev`.\n",
    "\n",
    "<div style=\"padding-left: 40px;\">\n",
    "<p> \n",
    "<span>\n",
    "<details>\n",
    "<summary><p style=\"display:inline\">answer</p></summary>\n",
    "\n",
    "```\n",
    "input.fsx (1,1)-(1,17) typecheck error The value or constructor 'playerStatsTable' is not defined. Maybe you want one of the following:\n",
    "   playersByPosition\n",
    "input.fsx (2,28)-(2,33) typecheck error Lookup on object of indeterminate type based on information prior to this program point. A type annotation may be needed prior to this program point to constrain the type of the object. This may allow the lookup to be resolved.\n",
    "```\n",
    "\n",
    "</details>\n",
    "</span>\n",
    "</p>\n",
    "</div>\n",
    "\n"
   ]
  },
  {
   "cell_type": "code",
   "execution_count": null,
   "metadata": {
    "dotnet_interactive": {
     "language": "fsharp"
    },
    "vscode": {
     "languageId": "dotnet-interactive.fsharp"
    }
   },
   "outputs": [
    {
     "data": {
      "text/html": [
       "<table><thead><tr><th><i>index</i></th><th>value</th></tr></thead><tbody><tr><td>0</td><td><div class=\"dni-plaintext\">2.350969762359653</div></td></tr><tr><td>1</td><td><div class=\"dni-plaintext\">0.7827215732458739</div></td></tr><tr><td>2</td><td><div class=\"dni-plaintext\">0.7420325093268859</div></td></tr><tr><td>3</td><td><div class=\"dni-plaintext\">1.531838964201164</div></td></tr></tbody></table>"
      ]
     },
     "metadata": {},
     "output_type": "display_data"
    }
   ],
   "source": [
    "// write your code here, see website for solution.\n",
    "playerStatsTable\n",
    "|> List.map(fun x -> float x.Age)\n",
    "|> List.sortDescending\n",
    "|> List.splitInto 4\n",
    "|> List.map(fun x-> x |> Seq.stDev)"
   ]
  }
 ],
 "metadata": {
  "kernelspec": {
   "display_name": ".NET (F#)",
   "language": "F#",
   "name": ".net-fsharp"
  },
  "langauge_info": {
   "file_extension": ".fs",
   "mimetype": "text/x-fsharp",
   "name": "C#",
   "pygments_lexer": "fsharp",
   "version": "4.5"
  }
 },
 "nbformat": 4,
 "nbformat_minor": 1
}
