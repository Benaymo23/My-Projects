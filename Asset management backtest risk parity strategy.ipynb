{
 "cells": [
  {
   "cell_type": "markdown",
   "id": "30427cd9-7422-4de2-a3c5-c931d956c725",
   "metadata": {
    "id": "30427cd9-7422-4de2-a3c5-c931d956c725"
   },
   "source": [
    "# Assignment 2021-2022, Question 1"
   ]
  },
  {
   "cell_type": "markdown",
   "id": "4s2RI_IfIy01",
   "metadata": {
    "id": "4s2RI_IfIy01"
   },
   "source": [
    "### 1."
   ]
  },
  {
   "cell_type": "code",
   "execution_count": 1,
   "id": "IBcHlYAlIx52",
   "metadata": {
    "colab": {
     "base_uri": "https://localhost:8080/"
    },
    "id": "IBcHlYAlIx52",
    "outputId": "8d8c43f3-7efb-4196-f476-94d51f61980d"
   },
   "outputs": [
    {
     "ename": "ModuleNotFoundError",
     "evalue": "No module named 'google'",
     "output_type": "error",
     "traceback": [
      "\u001b[1;31m---------------------------------------------------------------------------\u001b[0m",
      "\u001b[1;31mModuleNotFoundError\u001b[0m                       Traceback (most recent call last)",
      "\u001b[1;32m~\\AppData\\Local\\Temp/ipykernel_14808/1919127701.py\u001b[0m in \u001b[0;36m<module>\u001b[1;34m\u001b[0m\n\u001b[1;32m----> 1\u001b[1;33m \u001b[1;32mfrom\u001b[0m \u001b[0mgoogle\u001b[0m\u001b[1;33m.\u001b[0m\u001b[0mcolab\u001b[0m \u001b[1;32mimport\u001b[0m \u001b[0mdrive\u001b[0m\u001b[1;33m\u001b[0m\u001b[1;33m\u001b[0m\u001b[0m\n\u001b[0m\u001b[0;32m      2\u001b[0m \u001b[0mdrive\u001b[0m\u001b[1;33m.\u001b[0m\u001b[0mmount\u001b[0m\u001b[1;33m(\u001b[0m\u001b[1;34m'/content/drive'\u001b[0m\u001b[1;33m)\u001b[0m\u001b[1;33m\u001b[0m\u001b[1;33m\u001b[0m\u001b[0m\n\u001b[0;32m      3\u001b[0m \u001b[1;32mimport\u001b[0m \u001b[0mnumpy\u001b[0m \u001b[1;32mas\u001b[0m \u001b[0mnp\u001b[0m\u001b[1;33m\u001b[0m\u001b[1;33m\u001b[0m\u001b[0m\n\u001b[0;32m      4\u001b[0m \u001b[1;32mimport\u001b[0m \u001b[0mpandas\u001b[0m \u001b[1;32mas\u001b[0m \u001b[0mpd\u001b[0m\u001b[1;33m\u001b[0m\u001b[1;33m\u001b[0m\u001b[0m\n",
      "\u001b[1;31mModuleNotFoundError\u001b[0m: No module named 'google'"
     ]
    }
   ],
   "source": [
    "from google.colab import drive\n",
    "drive.mount('/content/drive')\n",
    "import numpy as np\n",
    "import pandas as pd"
   ]
  },
  {
   "cell_type": "markdown",
   "id": "732f4581-38c2-4829-8946-f661b654a46c",
   "metadata": {
    "id": "732f4581-38c2-4829-8946-f661b654a46c"
   },
   "source": [
    "### 2."
   ]
  },
  {
   "cell_type": "code",
   "execution_count": 3,
   "id": "b9755294-4072-4376-9df8-5d879fc6b604",
   "metadata": {
    "id": "b9755294-4072-4376-9df8-5d879fc6b604"
   },
   "outputs": [],
   "source": [
    "def get_ff30_returns():\n",
    "    \"\"\"\n",
    "    Load and format the Ken French 30 Industry Portfolios Value Weighted Monthly Returns\n",
    "    \"\"\"\n",
    "    ind = pd.read_csv(\"/content/drive/MyDrive/data/ind30_m_vw_rets.csv\", header=0, index_col=0)/100 \n",
    "    #ind.index = pd.to_datetime(ind.index, format=\"%Y%m\").to_period('M')\n",
    "    #ind.columns = ind.columns.str.strip()\n",
    "    return ind"
   ]
  },
  {
   "cell_type": "markdown",
   "id": "84b1e7ab-dd77-47a2-9692-01cca6d41818",
   "metadata": {
    "id": "84b1e7ab-dd77-47a2-9692-01cca6d41818"
   },
   "source": [
    "### 3. 4. Complete the defintion of the risk contribution function"
   ]
  },
  {
   "cell_type": "code",
   "execution_count": 4,
   "id": "7a84db35-b0ad-444e-b22c-851b974a7369",
   "metadata": {
    "id": "7a84db35-b0ad-444e-b22c-851b974a7369"
   },
   "outputs": [],
   "source": [
    "def portfolio_vol(weights, covmat):\n",
    "    \"\"\"\n",
    "    Computes the vol of a portfolio from a covariance matrix and constituent weights\n",
    "    weights are a numpy array or N x 1 maxtrix and covmat is an N x N matrix\n",
    "    \"\"\"\n",
    "    vol = (weights.T @ covmat @ weights)**0.5\n",
    "    return vol \n",
    "\n",
    "def risk_contribution(w,cov):\n",
    "    \"\"\"\n",
    "Compute the contributions to risk of the constituents of a portfolio, given a set of portfolio weights and a covariance matrix\n",
    "    \"\"\"\n",
    "    total_portfolio_var = portfolio_vol(w,cov)**2\n",
    "    # QUESTION 3. Marginal contribution of each constituent\n",
    "    marginal_contrib = w.T @ cov\n",
    "    # QUESTION 4. Risk contribution of the portfolio\n",
    "    risk_contrib = np.multiply(marginal_contrib,w.T)/total_portfolio_var\n",
    "    return risk_contrib"
   ]
  },
  {
   "cell_type": "markdown",
   "id": "dab2a4af-761e-49d7-b298-560ad689dcd6",
   "metadata": {
    "id": "dab2a4af-761e-49d7-b298-560ad689dcd6"
   },
   "source": [
    "### 5."
   ]
  },
  {
   "cell_type": "code",
   "execution_count": 5,
   "id": "336342b6-09c6-426b-98bf-20801d1b57e2",
   "metadata": {
    "colab": {
     "base_uri": "https://localhost:8080/",
     "height": 378
    },
    "id": "336342b6-09c6-426b-98bf-20801d1b57e2",
    "outputId": "278b135f-7243-4dee-9b6f-600f23459268"
   },
   "outputs": [
    {
     "data": {
      "text/plain": [
       "<matplotlib.axes._subplots.AxesSubplot at 0x7fe0702a2e10>"
      ]
     },
     "execution_count": 5,
     "metadata": {},
     "output_type": "execute_result"
    },
    {
     "data": {
      "image/png": "[encoded data removed]",
      "text/plain": [
       "<Figure size 1080x360 with 1 Axes>"
      ]
     },
     "metadata": {
      "needs_background": "light"
     },
     "output_type": "display_data"
    }
   ],
   "source": [
    "# We included the get_rf() function early on in order to be able to implement an rf input in the weight_ew() function.\n",
    "# This will come in handy later on when we will backtest an equal weighted portfolio.\n",
    "\n",
    "def get_rf():\n",
    "    \"\"\"\n",
    "    import the time series of the risk-free rate\n",
    "    \"\"\"\n",
    "    rf = pd.read_excel(\"/content/drive/MyDrive/data/rf.xlsx\", header=0, index_col=0)\n",
    "    rf.index = pd.to_datetime(rf.index, format=\"%Y%m\").to_period('M')\n",
    "    rf.columns = rf.columns.str.strip()\n",
    "    return rf\n",
    "\n",
    "def weight_ew(r, rf):\n",
    "    \"\"\"\n",
    "    Returns the weights of the EW portfolio based on the asset returns \"r\" as a DataFrame and the risk free rate \"rf\"\n",
    "    \"\"\"\n",
    "    n = len(r.columns)\n",
    "    return pd.Series(1/n, index=r.columns)\n",
    "    \n",
    "ff30 = get_ff30_returns()\n",
    "rf_data = get_rf()\n",
    "w = weight_ew(ff30, rf_data)\n",
    "covff30 = ff30.cov()\n",
    "riskcont = risk_contribution(w,covff30)\n",
    "riskcont.sort_values().plot.bar(figsize = (15,5), title = \"Risk contributions of 30 industry portfolios, equally weighted portfolio\")"
   ]
  },
  {
   "cell_type": "markdown",
   "id": "_sK1palwlEwk",
   "metadata": {
    "id": "_sK1palwlEwk"
   },
   "source": [
    "### 6."
   ]
  },
  {
   "cell_type": "code",
   "execution_count": 6,
   "id": "VC0tRF4LlEEC",
   "metadata": {
    "colab": {
     "base_uri": "https://localhost:8080/",
     "height": 378
    },
    "id": "VC0tRF4LlEEC",
    "outputId": "a5705102-eab0-4f26-81f4-7568374481c5"
   },
   "outputs": [
    {
     "data": {
      "text/plain": [
       "<matplotlib.axes._subplots.AxesSubplot at 0x7fe0713bfc10>"
      ]
     },
     "execution_count": 6,
     "metadata": {},
     "output_type": "execute_result"
    },
    {
     "data": {
      "image/png": "[encoded data removed]",
      "text/plain": [
       "<Figure size 1080x360 with 1 Axes>"
      ]
     },
     "metadata": {
      "needs_background": "light"
     },
     "output_type": "display_data"
    }
   ],
   "source": [
    "sigmaind = ff30.std()\n",
    "sigmaind.sort_values().plot.bar(figsize = (15,5), title = \"Volatility per industry\")\n",
    "sigmaind.corr(riskcont)"
   ]
  },
  {
   "cell_type": "markdown",
   "id": "7e3af7e9-6500-4566-b8fa-5736f31907a1",
   "metadata": {
    "id": "7e3af7e9-6500-4566-b8fa-5736f31907a1"
   },
   "source": [
    "### 7."
   ]
  },
  {
   "cell_type": "code",
   "execution_count": 7,
   "id": "128bc087-ab3c-4ea9-85ac-7c1d5f2e6efc",
   "metadata": {
    "colab": {
     "base_uri": "https://localhost:8080/",
     "height": 378
    },
    "id": "128bc087-ab3c-4ea9-85ac-7c1d5f2e6efc",
    "outputId": "be7887a6-c315-4f8e-eac4-4cd563ae9290"
   },
   "outputs": [
    {
     "data": {
      "text/plain": [
       "<matplotlib.axes._subplots.AxesSubplot at 0x7fe0702509d0>"
      ]
     },
     "execution_count": 7,
     "metadata": {},
     "output_type": "execute_result"
    },
    {
     "data": {
      "image/png": "[encoded data removed]",
      "text/plain": [
       "<Figure size 1080x360 with 1 Axes>"
      ]
     },
     "metadata": {
      "needs_background": "light"
     },
     "output_type": "display_data"
    }
   ],
   "source": [
    "from scipy.optimize import minimize\n",
    "\n",
    "# Functions where slightly altered throughout the assignment in order to incorporate differently named variables.\n",
    "\n",
    "def target_risk_contributions(target_risk, cov):\n",
    "    \"\"\"\n",
    "    Returns the weights of the portfolio that gives you the weights such\n",
    "    that the contributions to portfolio risk are as close as possible to\n",
    "    the target_risk, given the covariance matrix\n",
    "    \"\"\"\n",
    "    n = cov.shape[0]\n",
    "    init_guess = np.repeat(1/n, n)\n",
    "    bounds = ((0.0, 1.0),) * n # an N-tuple of 2-tuples!\n",
    "    # construct the constraints\n",
    "    weights_sum_to_1 = {'type': 'eq',\n",
    "                        'fun': lambda weights: np.sum(weights) - 1\n",
    "    }\n",
    "    def msd_risk(weights, target_risk, cov):\n",
    "        \"\"\"\n",
    "        Returns the Mean Squared Difference in risk contributions\n",
    "        between weights and target_risk\n",
    "        \"\"\"\n",
    "        w_contribs = risk_contribution(weights, cov)\n",
    "        return ((w_contribs-target_risk)**2).sum()\n",
    "    \n",
    "    weights = minimize(msd_risk, init_guess,\n",
    "                       args=(target_risk, cov), method='SLSQP',\n",
    "                       options={'disp': False},\n",
    "                       constraints=(weights_sum_to_1,),\n",
    "                       bounds=bounds)\n",
    "    return weights.x\n",
    "\n",
    "def equal_risk_contributions(cov):\n",
    "    \"\"\"\n",
    "    Returns the weights of the portfolio that equalizes the contributions\n",
    "    of the constituents based on the given covariance matrix\n",
    "    \"\"\"\n",
    "    n = cov.shape[0]\n",
    "    return target_risk_contributions(target_risk=np.repeat(1/n,n), cov=covff30)\n",
    "\n",
    "equal_risk_contributions_weights = equal_risk_contributions(covff30)\n",
    "equal_risk_contributions_weights_df = pd.Series(equal_risk_contributions_weights, index = ff30.columns)\n",
    "risk_contribution(equal_risk_contributions_weights, covff30).sort_values().plot.bar(figsize = (15,5), title = \"Risk contributions of 30 industry portfolios, equally weighted risk contributions\")"
   ]
  },
  {
   "cell_type": "markdown",
   "id": "5f73fd9c-1ad2-49fe-859f-44032ada6737",
   "metadata": {
    "id": "5f73fd9c-1ad2-49fe-859f-44032ada6737"
   },
   "source": [
    "### 8."
   ]
  },
  {
   "cell_type": "code",
   "execution_count": 8,
   "id": "502fe30d-1b3c-46cd-a1d8-9a1dba0d82a4",
   "metadata": {
    "colab": {
     "base_uri": "https://localhost:8080/",
     "height": 354
    },
    "id": "502fe30d-1b3c-46cd-a1d8-9a1dba0d82a4",
    "outputId": "81704599-53c7-4289-9f74-ec1345b5e676"
   },
   "outputs": [
    {
     "data": {
      "text/plain": [
       "<matplotlib.axes._subplots.AxesSubplot at 0x7fe06fadc650>"
      ]
     },
     "execution_count": 8,
     "metadata": {},
     "output_type": "execute_result"
    },
    {
     "data": {
      "image/png": "[encoded data removed]",
      "text/plain": [
       "<Figure size 1080x360 with 1 Axes>"
      ]
     },
     "metadata": {
      "needs_background": "light"
     },
     "output_type": "display_data"
    }
   ],
   "source": [
    "def weight_erc(r,rf):\n",
    "    \"\"\"\n",
    "    Returns the weights of the portfolio that equalizes the contributions\n",
    "    of the constituents based on the given covariance matrix\n",
    "    \"\"\"\n",
    "    cov=r.cov()\n",
    "    n = cov.shape[0]\n",
    "    return target_risk_contributions(target_risk=np.repeat(1/n,n), cov=covff30)\n",
    "\n",
    "def backtest_ws(r, rf,estimation_window=60, weighting= weight_ew):\n",
    "    \"\"\"\n",
    "    Backtests a given weighting scheme, given some parameters:\n",
    "    r : asset returns to use to build the portfolio\n",
    "    estimation_window: the window to use to estimate parameters\n",
    "    weighting: the weighting scheme to use, must be a function that takes \"r\", and a variable number of keyword-value arguments\n",
    "    \"\"\"\n",
    "    n_periods = r.shape[0]\n",
    "    windows = [(start, start+estimation_window) for start in range(n_periods-estimation_window+1)]\n",
    "    # windows is a list of tuples which gives us the (integer) location of the start and stop (non inclusive)\n",
    "    # for each estimation window\n",
    "    weights = [weighting(r.iloc[win[0]:win[1]], rf.iloc[win[0]:win[1]]) for win in windows]\n",
    "    # List -> DataFrame\n",
    "    weights = pd.DataFrame(weights, index=r.iloc[estimation_window-1:].index, columns=r.columns)\n",
    "    # return weights\n",
    "    returns = (weights * r).sum(axis=\"columns\",  min_count=1) # mincount is to generate NAs if all inputs are NAs\n",
    "    return returns\n",
    "\n",
    "backtest_equal_risk_contributions = backtest_ws(ff30, get_rf(), estimation_window=120, weighting= weight_erc)\n",
    "(1 + backtest_equal_risk_contributions).cumprod().plot(figsize=(15,5), title=\"Cumulative returns, equally weighted risk contributions\")"
   ]
  },
  {
   "cell_type": "markdown",
   "id": "19356805-afa4-4bf9-9f0a-857ea505e574",
   "metadata": {
    "id": "19356805-afa4-4bf9-9f0a-857ea505e574"
   },
   "source": [
    "### 9."
   ]
  },
  {
   "cell_type": "code",
   "execution_count": 9,
   "id": "723d53f3-1dc2-44a5-9e11-2d5ab3f6102b",
   "metadata": {
    "id": "723d53f3-1dc2-44a5-9e11-2d5ab3f6102b"
   },
   "outputs": [],
   "source": [
    "def portfolio_return(weights, returns):\n",
    "    \"\"\"\n",
    "    Computes the return on a portfolio from constituent returns and weights\n",
    "    weights are a numpy array or Nx1 matrix and returns are a numpy array or Nx1 matrix\n",
    "    \"\"\"\n",
    "    return weights.T @ returns\n",
    "\n",
    "def weight_msr (r, rf):\n",
    "    \"\"\"\n",
    "    Returns the weights of the portfolio based on the asset returns \"r\" as a DataFrame and the risk free rate \"rf\"\n",
    "    \"\"\"\n",
    "    n = len(r.columns)\n",
    "    er=r.mean()\n",
    "    cov=r.cov()\n",
    "    rff= rf.rf.values.mean()\n",
    "    return pd.Series(msr(rff, er, cov), index=r.columns)\n",
    "\n",
    "def weight_gmv(r, rf):\n",
    "    \"\"\"\n",
    "    Returns the weights of the portfolio based on the asset returns \"r\" as a DataFrame and the risk free rate \"rf\"\n",
    "    \"\"\"\n",
    "    n = len(r.columns)\n",
    "    cov=r.cov()\n",
    "    \n",
    "    def gmv(r,rf):\n",
    "        \"\"\"\n",
    "        Returns the weights of the Global Minimum Volatility portfolio\n",
    "        given a covariance matrix\n",
    "        \"\"\"\n",
    "        n = cov.shape[0]\n",
    "        return msr(0, np.repeat(1, n), cov)\n",
    "\n",
    "    return pd.Series(gmv(cov,rf), index=r.columns)\n",
    "\n",
    "def weight_erc(r,rf):\n",
    "    \"\"\"\n",
    "    Returns the weights of the portfolio that equalizes the contributions\n",
    "    of the constituents based on the given covariance matrix\n",
    "    \"\"\"\n",
    "    cov=r.cov()\n",
    "    n = cov.shape[0]\n",
    "    return target_risk_contributions(target_risk=np.repeat(1/n,n), cov=covff30)\n",
    "\n",
    "def msr(riskfree_rate, er, cov):\n",
    "    \"\"\"\n",
    "    Returns the weights of the portfolio that gives you the maximum sharpe ratio\n",
    "    given the riskfree rate and expected returns and a covariance matrix\n",
    "    \"\"\"\n",
    "    n = er.shape[0]\n",
    "    init_guess = np.repeat(1/n, n)\n",
    "    bounds = ((0.0, 1.0),) * n # an N-tuple of 2-tuples!\n",
    "    # construct the constraints\n",
    "    weights_sum_to_1 = {'type': 'eq',\n",
    "                        'fun': lambda weights: np.sum(weights) - 1\n",
    "    }\n",
    "    def neg_sharpe(weights, riskfree_rate, er, cov):\n",
    "        \"\"\"\n",
    "        Returns the negative of the sharpe ratio\n",
    "        of the given portfolio\n",
    "        \"\"\"\n",
    "        r = portfolio_return(weights, er)\n",
    "        vol = portfolio_vol(weights, cov)\n",
    "        return -(r - riskfree_rate)/vol\n",
    "    \n",
    "    weights = minimize(neg_sharpe, init_guess,\n",
    "                       args=(riskfree_rate, er, cov), method='SLSQP',\n",
    "                       options={'disp': False},\n",
    "                       constraints=(weights_sum_to_1,),\n",
    "                       bounds=bounds)\n",
    "    return weights.x\n",
    "\n"
   ]
  },
  {
   "cell_type": "code",
   "execution_count": 10,
   "id": "Aik2XEhlRib9",
   "metadata": {
    "id": "Aik2XEhlRib9"
   },
   "outputs": [],
   "source": [
    "backtest_ew = backtest_ws(ff30, get_rf(), estimation_window=120, weighting= weight_ew)"
   ]
  },
  {
   "cell_type": "code",
   "execution_count": 11,
   "id": "3RAQC91oRiTi",
   "metadata": {
    "id": "3RAQC91oRiTi"
   },
   "outputs": [],
   "source": [
    "backtest_gmv = backtest_ws(ff30, get_rf(), estimation_window=120, weighting= weight_gmv)"
   ]
  },
  {
   "cell_type": "code",
   "execution_count": 12,
   "id": "-7PrlqPiRMfA",
   "metadata": {
    "id": "-7PrlqPiRMfA"
   },
   "outputs": [],
   "source": [
    "backtest_msr = backtest_ws(ff30, get_rf(), estimation_window=120, weighting= weight_msr)"
   ]
  },
  {
   "cell_type": "markdown",
   "id": "_pb3Irw3GRMO",
   "metadata": {
    "id": "_pb3Irw3GRMO"
   },
   "source": [
    "### 10."
   ]
  },
  {
   "cell_type": "code",
   "execution_count": 13,
   "id": "gupKMtmXGTk5",
   "metadata": {
    "colab": {
     "base_uri": "https://localhost:8080/",
     "height": 354
    },
    "id": "gupKMtmXGTk5",
    "outputId": "1adcc058-4b6e-424d-ed0d-bd0b69bdda43"
   },
   "outputs": [
    {
     "data": {
      "text/plain": [
       "<matplotlib.axes._subplots.AxesSubplot at 0x7fe06f7a0450>"
      ]
     },
     "execution_count": 13,
     "metadata": {},
     "output_type": "execute_result"
    },
    {
     "data": {
      "image/png": "[encoded data removed]",
      "text/plain": [
       "<Figure size 1080x360 with 1 Axes>"
      ]
     },
     "metadata": {
      "needs_background": "light"
     },
     "output_type": "display_data"
    }
   ],
   "source": [
    "backtest_4 = pd.DataFrame({\"EW\": backtest_ew, \"Max SR\": backtest_msr, \"GMV\": backtest_gmv, \"ERC\": backtest_equal_risk_contributions})\n",
    "(1+backtest_4).cumprod().plot(figsize=(15,5), title=\"Industry Portfolios - ERC vs EW vs Max SR vs GMV\")"
   ]
  },
  {
   "cell_type": "markdown",
   "id": "9hTKjTe-bFNK",
   "metadata": {
    "id": "9hTKjTe-bFNK"
   },
   "source": [
    "# Assignment 2021-2022, Question 2"
   ]
  },
  {
   "cell_type": "markdown",
   "id": "FNbWsiecbXCb",
   "metadata": {
    "id": "FNbWsiecbXCb"
   },
   "source": [
    "### 1."
   ]
  },
  {
   "cell_type": "code",
   "execution_count": 14,
   "id": "hNvty53wbHI6",
   "metadata": {
    "id": "hNvty53wbHI6"
   },
   "outputs": [],
   "source": [
    "brka_d = pd.read_csv(\"/content/drive/MyDrive/labs/AM Lab 3/brka_d_ret.csv\", parse_dates=True, index_col=0)\n",
    "\n",
    "def compound(r):\n",
    "    \"\"\"\n",
    "    returns the result of compounding the set of returns in r\n",
    "    \"\"\"\n",
    "    return np.expm1(np.log1p(r).sum())\n",
    "\n",
    "brka_m = brka_d.resample('M').apply(compound).to_period('M')"
   ]
  },
  {
   "cell_type": "markdown",
   "id": "BjbLVyO7b32W",
   "metadata": {
    "id": "BjbLVyO7b32W"
   },
   "source": [
    "### 2."
   ]
  },
  {
   "cell_type": "code",
   "execution_count": 15,
   "id": "DXYkDN96b617",
   "metadata": {
    "id": "DXYkDN96b617"
   },
   "outputs": [],
   "source": [
    "def get_fff_returns():\n",
    "    \"\"\"\n",
    "    Load the Fama-French Research Factor Monthly Dataset\n",
    "    \"\"\"\n",
    "    rets = pd.read_csv(\"/content/drive/MyDrive/data/F-F_Research_Data_Factors_m.csv\",\n",
    "                       header=0, index_col=0, na_values=-99.99)/100\n",
    "    rets.index = pd.to_datetime(rets.index, format=\"%Y%m\").to_period('M')\n",
    "    return rets\n",
    "\n",
    "fff30 = get_fff_returns()"
   ]
  },
  {
   "cell_type": "markdown",
   "id": "ryDSYtVMb6kc",
   "metadata": {
    "id": "ryDSYtVMb6kc"
   },
   "source": [
    "### 3."
   ]
  },
  {
   "cell_type": "code",
   "execution_count": 27,
   "id": "zMQEsPczcg3M",
   "metadata": {
    "colab": {
     "base_uri": "https://localhost:8080/",
     "height": 530
    },
    "id": "zMQEsPczcg3M",
    "outputId": "57d3251d-9659-44e8-9879-b9b88b132e1b"
   },
   "outputs": [
    {
     "name": "stdout",
     "output_type": "stream",
     "text": [
      "CAPM conclusions:\n",
      "For the sample 1990-2003, the alpha is equal to: 0.008715172813132246.\n",
      "The tracking error is equal to: 0.06284422779019143.\n",
      "The information ratio is equal to: 0.13867897052102035.\n",
      "Beta is equal to: 0.587740336281837.\n"
     ]
    },
    {
     "data": {
      "text/html": [
       "<table class=\"simpletable\">\n",
       "<caption>OLS Regression Results</caption>\n",
       "<tr>\n",
       "  <th>Dep. Variable:</th>          <td>BRKA</td>       <th>  R-squared:         </th> <td>   0.148</td>\n",
       "</tr>\n",
       "<tr>\n",
       "  <th>Model:</th>                   <td>OLS</td>       <th>  Adj. R-squared:    </th> <td>   0.143</td>\n",
       "</tr>\n",
       "<tr>\n",
       "  <th>Method:</th>             <td>Least Squares</td>  <th>  F-statistic:       </th> <td>   28.90</td>\n",
       "</tr>\n",
       "<tr>\n",
       "  <th>Date:</th>             <td>Mon, 14 Mar 2022</td> <th>  Prob (F-statistic):</th> <td>2.55e-07</td>\n",
       "</tr>\n",
       "<tr>\n",
       "  <th>Time:</th>                 <td>13:00:27</td>     <th>  Log-Likelihood:    </th> <td>  226.49</td>\n",
       "</tr>\n",
       "<tr>\n",
       "  <th>No. Observations:</th>      <td>   168</td>      <th>  AIC:               </th> <td>  -449.0</td>\n",
       "</tr>\n",
       "<tr>\n",
       "  <th>Df Residuals:</th>          <td>   166</td>      <th>  BIC:               </th> <td>  -442.7</td>\n",
       "</tr>\n",
       "<tr>\n",
       "  <th>Df Model:</th>              <td>     1</td>      <th>                     </th>     <td> </td>   \n",
       "</tr>\n",
       "<tr>\n",
       "  <th>Covariance Type:</th>      <td>nonrobust</td>    <th>                     </th>     <td> </td>   \n",
       "</tr>\n",
       "</table>\n",
       "<table class=\"simpletable\">\n",
       "<tr>\n",
       "      <td></td>        <th>coef</th>     <th>std err</th>      <th>t</th>      <th>P>|t|</th>  <th>[0.025</th>    <th>0.975]</th>  \n",
       "</tr>\n",
       "<tr>\n",
       "  <th>Mkt-RF</th>   <td>    0.5877</td> <td>    0.109</td> <td>    5.376</td> <td> 0.000</td> <td>    0.372</td> <td>    0.804</td>\n",
       "</tr>\n",
       "<tr>\n",
       "  <th>Constant</th> <td>    0.0087</td> <td>    0.005</td> <td>    1.771</td> <td> 0.078</td> <td>   -0.001</td> <td>    0.018</td>\n",
       "</tr>\n",
       "</table>\n",
       "<table class=\"simpletable\">\n",
       "<tr>\n",
       "  <th>Omnibus:</th>       <td>19.104</td> <th>  Durbin-Watson:     </th> <td>   2.115</td>\n",
       "</tr>\n",
       "<tr>\n",
       "  <th>Prob(Omnibus):</th> <td> 0.000</td> <th>  Jarque-Bera (JB):  </th> <td>  33.322</td>\n",
       "</tr>\n",
       "<tr>\n",
       "  <th>Skew:</th>          <td> 0.571</td> <th>  Prob(JB):          </th> <td>5.81e-08</td>\n",
       "</tr>\n",
       "<tr>\n",
       "  <th>Kurtosis:</th>      <td> 4.859</td> <th>  Cond. No.          </th> <td>    22.4</td>\n",
       "</tr>\n",
       "</table><br/><br/>Warnings:<br/>[1] Standard Errors assume that the covariance matrix of the errors is correctly specified."
      ],
      "text/plain": [
       "<class 'statsmodels.iolib.summary.Summary'>\n",
       "\"\"\"\n",
       "                            OLS Regression Results                            \n",
       "==============================================================================\n",
       "Dep. Variable:                   BRKA   R-squared:                       0.148\n",
       "Model:                            OLS   Adj. R-squared:                  0.143\n",
       "Method:                 Least Squares   F-statistic:                     28.90\n",
       "Date:                Mon, 14 Mar 2022   Prob (F-statistic):           2.55e-07\n",
       "Time:                        13:00:27   Log-Likelihood:                 226.49\n",
       "No. Observations:                 168   AIC:                            -449.0\n",
       "Df Residuals:                     166   BIC:                            -442.7\n",
       "Df Model:                           1                                         \n",
       "Covariance Type:            nonrobust                                         \n",
       "==============================================================================\n",
       "                 coef    std err          t      P>|t|      [0.025      0.975]\n",
       "------------------------------------------------------------------------------\n",
       "Mkt-RF         0.5877      0.109      5.376      0.000       0.372       0.804\n",
       "Constant       0.0087      0.005      1.771      0.078      -0.001       0.018\n",
       "==============================================================================\n",
       "Omnibus:                       19.104   Durbin-Watson:                   2.115\n",
       "Prob(Omnibus):                  0.000   Jarque-Bera (JB):               33.322\n",
       "Skew:                           0.571   Prob(JB):                     5.81e-08\n",
       "Kurtosis:                       4.859   Cond. No.                         22.4\n",
       "==============================================================================\n",
       "\n",
       "Warnings:\n",
       "[1] Standard Errors assume that the covariance matrix of the errors is correctly specified.\n",
       "\"\"\""
      ]
     },
     "execution_count": 27,
     "metadata": {},
     "output_type": "execute_result"
    }
   ],
   "source": [
    "from re import A\n",
    "import statsmodels.api as sm\n",
    "brka_excess = brka_m[\"1990\":\"2003\"] - fff30.loc[\"1990\":\"2003\", ['RF']].values\n",
    "mkt_excess = fff30.loc[\"1990\":\"2003\",['Mkt-RF']]\n",
    "exp_var = mkt_excess.copy()\n",
    "exp_var[\"Constant\"] = 1\n",
    "lm = sm.OLS(brka_excess, exp_var).fit()\n",
    "\n",
    "b = pd.DataFrame(brka_excess, columns=[\"Benchmark Excess Return\"])\n",
    "beta = lm.params[\"Mkt-RF\"]\n",
    "b[\"Benchmark Excess Return\"] = mkt_excess * beta\n",
    "alpha = lm.params[\"Constant\"]\n",
    "b[\"a\"] = alpha\n",
    "b[\"Sum Nominator Tracking Error\"] = (brka_excess[\"BRKA\"]- b[\"Benchmark Excess Return\"]-alpha)**2\n",
    "\n",
    "tracking_error_squared = b[\"Sum Nominator Tracking Error\"].mean()\n",
    "tracking_error = np.sqrt(tracking_error_squared)\n",
    "\n",
    "information_ratio = alpha/tracking_error\n",
    "\n",
    "print(\"CAPM conclusions:\")\n",
    "print(f\"For the sample 1990-2003, the alpha is equal to: {alpha}.\")\n",
    "print(f\"The tracking error is equal to: {tracking_error}.\")\n",
    "print(f\"The information ratio is equal to: {information_ratio}.\")\n",
    "print(f\"Beta is equal to: {beta}.\")\n",
    "\n",
    "lm.summary()"
   ]
  },
  {
   "cell_type": "markdown",
   "id": "f1ln4PFKbbTU",
   "metadata": {
    "id": "f1ln4PFKbbTU"
   },
   "source": [
    "This implies that the CAPM benchmark for the sample 1990-2003 consists of 42 cents in T-Bills and 58 cents in the market. i.-e. each dollar in the Berkshire Hathaway portfolio is equivalent to 42 cents in T-Bills and 58 cents in the market. Relative to this, the Berkshire Hathaway is adding (i.e. has $\\alpha$ of) 0.87% _(per month!)_ although the degree of statistica significance is not very high (above 5%)."
   ]
  },
  {
   "cell_type": "code",
   "execution_count": 28,
   "id": "J2W7zkVpkFHr",
   "metadata": {
    "colab": {
     "base_uri": "https://localhost:8080/",
     "height": 530
    },
    "id": "J2W7zkVpkFHr",
    "outputId": "b9cb4899-6951-4f70-8a1e-a38426cda44f"
   },
   "outputs": [
    {
     "name": "stdout",
     "output_type": "stream",
     "text": [
      "CAPM conclusions:\n",
      "For the sample 2003-2018, the alpha is equal to: 0.0032248821766425943.\n",
      "The tracking error is equal to: 0.039045529978448186.\n",
      "The information ratio is equal to: 0.08259286475103861.\n",
      "Beta is equal to: 0.5872689234928121.\n"
     ]
    },
    {
     "data": {
      "text/html": [
       "<table class=\"simpletable\">\n",
       "<caption>OLS Regression Results</caption>\n",
       "<tr>\n",
       "  <th>Dep. Variable:</th>          <td>BRKA</td>       <th>  R-squared:         </th> <td>   0.264</td>\n",
       "</tr>\n",
       "<tr>\n",
       "  <th>Model:</th>                   <td>OLS</td>       <th>  Adj. R-squared:    </th> <td>   0.260</td>\n",
       "</tr>\n",
       "<tr>\n",
       "  <th>Method:</th>             <td>Least Squares</td>  <th>  F-statistic:       </th> <td>   68.12</td>\n",
       "</tr>\n",
       "<tr>\n",
       "  <th>Date:</th>             <td>Mon, 14 Mar 2022</td> <th>  Prob (F-statistic):</th> <td>2.54e-14</td>\n",
       "</tr>\n",
       "<tr>\n",
       "  <th>Time:</th>                 <td>13:00:33</td>     <th>  Log-Likelihood:    </th> <td>  350.22</td>\n",
       "</tr>\n",
       "<tr>\n",
       "  <th>No. Observations:</th>      <td>   192</td>      <th>  AIC:               </th> <td>  -696.4</td>\n",
       "</tr>\n",
       "<tr>\n",
       "  <th>Df Residuals:</th>          <td>   190</td>      <th>  BIC:               </th> <td>  -689.9</td>\n",
       "</tr>\n",
       "<tr>\n",
       "  <th>Df Model:</th>              <td>     1</td>      <th>                     </th>     <td> </td>   \n",
       "</tr>\n",
       "<tr>\n",
       "  <th>Covariance Type:</th>      <td>nonrobust</td>    <th>                     </th>     <td> </td>   \n",
       "</tr>\n",
       "</table>\n",
       "<table class=\"simpletable\">\n",
       "<tr>\n",
       "      <td></td>        <th>coef</th>     <th>std err</th>      <th>t</th>      <th>P>|t|</th>  <th>[0.025</th>    <th>0.975]</th>  \n",
       "</tr>\n",
       "<tr>\n",
       "  <th>Mkt-RF</th>   <td>    0.5873</td> <td>    0.071</td> <td>    8.253</td> <td> 0.000</td> <td>    0.447</td> <td>    0.728</td>\n",
       "</tr>\n",
       "<tr>\n",
       "  <th>Constant</th> <td>    0.0032</td> <td>    0.003</td> <td>    1.120</td> <td> 0.264</td> <td>   -0.002</td> <td>    0.009</td>\n",
       "</tr>\n",
       "</table>\n",
       "<table class=\"simpletable\">\n",
       "<tr>\n",
       "  <th>Omnibus:</th>       <td>59.255</td> <th>  Durbin-Watson:     </th> <td>   1.984</td>\n",
       "</tr>\n",
       "<tr>\n",
       "  <th>Prob(Omnibus):</th> <td> 0.000</td> <th>  Jarque-Bera (JB):  </th> <td> 172.730</td>\n",
       "</tr>\n",
       "<tr>\n",
       "  <th>Skew:</th>          <td> 1.274</td> <th>  Prob(JB):          </th> <td>3.11e-38</td>\n",
       "</tr>\n",
       "<tr>\n",
       "  <th>Kurtosis:</th>      <td> 6.886</td> <th>  Cond. No.          </th> <td>    25.1</td>\n",
       "</tr>\n",
       "</table><br/><br/>Warnings:<br/>[1] Standard Errors assume that the covariance matrix of the errors is correctly specified."
      ],
      "text/plain": [
       "<class 'statsmodels.iolib.summary.Summary'>\n",
       "\"\"\"\n",
       "                            OLS Regression Results                            \n",
       "==============================================================================\n",
       "Dep. Variable:                   BRKA   R-squared:                       0.264\n",
       "Model:                            OLS   Adj. R-squared:                  0.260\n",
       "Method:                 Least Squares   F-statistic:                     68.12\n",
       "Date:                Mon, 14 Mar 2022   Prob (F-statistic):           2.54e-14\n",
       "Time:                        13:00:33   Log-Likelihood:                 350.22\n",
       "No. Observations:                 192   AIC:                            -696.4\n",
       "Df Residuals:                     190   BIC:                            -689.9\n",
       "Df Model:                           1                                         \n",
       "Covariance Type:            nonrobust                                         \n",
       "==============================================================================\n",
       "                 coef    std err          t      P>|t|      [0.025      0.975]\n",
       "------------------------------------------------------------------------------\n",
       "Mkt-RF         0.5873      0.071      8.253      0.000       0.447       0.728\n",
       "Constant       0.0032      0.003      1.120      0.264      -0.002       0.009\n",
       "==============================================================================\n",
       "Omnibus:                       59.255   Durbin-Watson:                   1.984\n",
       "Prob(Omnibus):                  0.000   Jarque-Bera (JB):              172.730\n",
       "Skew:                           1.274   Prob(JB):                     3.11e-38\n",
       "Kurtosis:                       6.886   Cond. No.                         25.1\n",
       "==============================================================================\n",
       "\n",
       "Warnings:\n",
       "[1] Standard Errors assume that the covariance matrix of the errors is correctly specified.\n",
       "\"\"\""
      ]
     },
     "execution_count": 28,
     "metadata": {},
     "output_type": "execute_result"
    }
   ],
   "source": [
    "brka_excess = brka_m[\"2003\":\"2018\"] - fff30.loc[\"2003\":\"2018\", ['RF']].values\n",
    "mkt_excess = fff30.loc[\"2003\":\"2018\",['Mkt-RF']]\n",
    "exp_var = mkt_excess.copy()\n",
    "exp_var[\"Constant\"] = 1\n",
    "lm = sm.OLS(brka_excess, exp_var).fit()\n",
    "\n",
    "\n",
    "b = pd.DataFrame(brka_excess, columns=[\"Benchmark Excess Return\"])\n",
    "beta = lm.params[\"Mkt-RF\"]\n",
    "b[\"Benchmark Excess Return\"] = mkt_excess * beta\n",
    "alpha = lm.params[\"Constant\"]\n",
    "b[\"a\"] = alpha\n",
    "b[\"Sum Nominator Tracking Error\"] = (brka_excess[\"BRKA\"]- b[\"Benchmark Excess Return\"]-alpha)**2\n",
    "\n",
    "tracking_error_squared = b[\"Sum Nominator Tracking Error\"].mean()\n",
    "tracking_error = np.sqrt(tracking_error_squared)\n",
    "\n",
    "information_ratio = alpha/tracking_error\n",
    "\n",
    "print(\"CAPM conclusions:\")\n",
    "print(f\"For the sample 2003-2018, the alpha is equal to: {alpha}.\")\n",
    "print(f\"The tracking error is equal to: {tracking_error}.\")\n",
    "print(f\"The information ratio is equal to: {information_ratio}.\")\n",
    "print(f\"Beta is equal to: {beta}.\")\n",
    "\n",
    "lm.summary()"
   ]
  },
  {
   "cell_type": "markdown",
   "id": "lODNai-Wg6Yd",
   "metadata": {
    "id": "lODNai-Wg6Yd"
   },
   "source": [
    "This implies that the CAPM benchmark for the sample 2003-2018 consists of 42 cents in T-Bills and 58 cents in the market. i.-e. each dollar in the Berkshire Hathaway portfolio is equivalent to 42 cents in T-Bills and 58 cents in the market. Relative to this, the Berkshire Hathaway is adding (i.e. has $\\alpha$ of) 0.32% _(per month!)_ , the alpha value is however insignificant."
   ]
  },
  {
   "cell_type": "code",
   "execution_count": 29,
   "id": "4vFfWLXskfOo",
   "metadata": {
    "colab": {
     "base_uri": "https://localhost:8080/",
     "height": 530
    },
    "id": "4vFfWLXskfOo",
    "outputId": "9f5d88cd-0494-4cb4-d844-2a901a8f9154"
   },
   "outputs": [
    {
     "name": "stdout",
     "output_type": "stream",
     "text": [
      "CAPM conclusions:\n",
      "For the sample 1990-2018, the alpha is equal to: 0.006069425790323521.\n",
      "The tracking error is equal to: 0.05194617818753483.\n",
      "The information ratio is equal to: 0.11684066089350842.\n",
      "Beta is equal to: 0.5779457613060566.\n"
     ]
    },
    {
     "data": {
      "text/html": [
       "<table class=\"simpletable\">\n",
       "<caption>OLS Regression Results</caption>\n",
       "<tr>\n",
       "  <th>Dep. Variable:</th>          <td>BRKA</td>       <th>  R-squared:         </th> <td>   0.181</td>\n",
       "</tr>\n",
       "<tr>\n",
       "  <th>Model:</th>                   <td>OLS</td>       <th>  Adj. R-squared:    </th> <td>   0.179</td>\n",
       "</tr>\n",
       "<tr>\n",
       "  <th>Method:</th>             <td>Least Squares</td>  <th>  F-statistic:       </th> <td>   76.69</td>\n",
       "</tr>\n",
       "<tr>\n",
       "  <th>Date:</th>             <td>Mon, 14 Mar 2022</td> <th>  Prob (F-statistic):</th> <td>9.03e-17</td>\n",
       "</tr>\n",
       "<tr>\n",
       "  <th>Time:</th>                 <td>13:03:10</td>     <th>  Log-Likelihood:    </th> <td>  535.44</td>\n",
       "</tr>\n",
       "<tr>\n",
       "  <th>No. Observations:</th>      <td>   348</td>      <th>  AIC:               </th> <td>  -1067.</td>\n",
       "</tr>\n",
       "<tr>\n",
       "  <th>Df Residuals:</th>          <td>   346</td>      <th>  BIC:               </th> <td>  -1059.</td>\n",
       "</tr>\n",
       "<tr>\n",
       "  <th>Df Model:</th>              <td>     1</td>      <th>                     </th>     <td> </td>   \n",
       "</tr>\n",
       "<tr>\n",
       "  <th>Covariance Type:</th>      <td>nonrobust</td>    <th>                     </th>     <td> </td>   \n",
       "</tr>\n",
       "</table>\n",
       "<table class=\"simpletable\">\n",
       "<tr>\n",
       "      <td></td>        <th>coef</th>     <th>std err</th>      <th>t</th>      <th>P>|t|</th>  <th>[0.025</th>    <th>0.975]</th>  \n",
       "</tr>\n",
       "<tr>\n",
       "  <th>Mkt-RF</th>   <td>    0.5779</td> <td>    0.066</td> <td>    8.757</td> <td> 0.000</td> <td>    0.448</td> <td>    0.708</td>\n",
       "</tr>\n",
       "<tr>\n",
       "  <th>Constant</th> <td>    0.0061</td> <td>    0.003</td> <td>    2.150</td> <td> 0.032</td> <td>    0.001</td> <td>    0.012</td>\n",
       "</tr>\n",
       "</table>\n",
       "<table class=\"simpletable\">\n",
       "<tr>\n",
       "  <th>Omnibus:</th>       <td>66.402</td> <th>  Durbin-Watson:     </th> <td>   2.074</td>\n",
       "</tr>\n",
       "<tr>\n",
       "  <th>Prob(Omnibus):</th> <td> 0.000</td> <th>  Jarque-Bera (JB):  </th> <td> 197.134</td>\n",
       "</tr>\n",
       "<tr>\n",
       "  <th>Skew:</th>          <td> 0.858</td> <th>  Prob(JB):          </th> <td>1.56e-43</td>\n",
       "</tr>\n",
       "<tr>\n",
       "  <th>Kurtosis:</th>      <td> 6.263</td> <th>  Cond. No.          </th> <td>    23.6</td>\n",
       "</tr>\n",
       "</table><br/><br/>Warnings:<br/>[1] Standard Errors assume that the covariance matrix of the errors is correctly specified."
      ],
      "text/plain": [
       "<class 'statsmodels.iolib.summary.Summary'>\n",
       "\"\"\"\n",
       "                            OLS Regression Results                            \n",
       "==============================================================================\n",
       "Dep. Variable:                   BRKA   R-squared:                       0.181\n",
       "Model:                            OLS   Adj. R-squared:                  0.179\n",
       "Method:                 Least Squares   F-statistic:                     76.69\n",
       "Date:                Mon, 14 Mar 2022   Prob (F-statistic):           9.03e-17\n",
       "Time:                        13:03:10   Log-Likelihood:                 535.44\n",
       "No. Observations:                 348   AIC:                            -1067.\n",
       "Df Residuals:                     346   BIC:                            -1059.\n",
       "Df Model:                           1                                         \n",
       "Covariance Type:            nonrobust                                         \n",
       "==============================================================================\n",
       "                 coef    std err          t      P>|t|      [0.025      0.975]\n",
       "------------------------------------------------------------------------------\n",
       "Mkt-RF         0.5779      0.066      8.757      0.000       0.448       0.708\n",
       "Constant       0.0061      0.003      2.150      0.032       0.001       0.012\n",
       "==============================================================================\n",
       "Omnibus:                       66.402   Durbin-Watson:                   2.074\n",
       "Prob(Omnibus):                  0.000   Jarque-Bera (JB):              197.134\n",
       "Skew:                           0.858   Prob(JB):                     1.56e-43\n",
       "Kurtosis:                       6.263   Cond. No.                         23.6\n",
       "==============================================================================\n",
       "\n",
       "Warnings:\n",
       "[1] Standard Errors assume that the covariance matrix of the errors is correctly specified.\n",
       "\"\"\""
      ]
     },
     "execution_count": 29,
     "metadata": {},
     "output_type": "execute_result"
    }
   ],
   "source": [
    "brka_excess = brka_m[\"1990\":\"2018\"] - fff30.loc[\"1990\":\"2018\", ['RF']].values\n",
    "mkt_excess = fff30.loc[\"1990\":\"2018\",['Mkt-RF']]\n",
    "exp_var = mkt_excess.copy()\n",
    "exp_var[\"Constant\"] = 1\n",
    "lm = sm.OLS(brka_excess, exp_var).fit()\n",
    "\n",
    "b = pd.DataFrame(brka_excess, columns=[\"Benchmark Excess Return\"])\n",
    "beta = lm.params[\"Mkt-RF\"]\n",
    "b[\"Benchmark Excess Return\"] = mkt_excess * beta\n",
    "alpha = lm.params[\"Constant\"]\n",
    "b[\"alpha\"] = alpha\n",
    "b[\"Sum Nominator Tracking Error\"] = (brka_excess[\"BRKA\"]- b[\"Benchmark Excess Return\"]-alpha)**2\n",
    "\n",
    "tracking_error_squared = b[\"Sum Nominator Tracking Error\"].mean()\n",
    "tracking_error = np.sqrt(tracking_error_squared)\n",
    "\n",
    "information_ratio = alpha/tracking_error\n",
    "\n",
    "print(\"CAPM conclusions:\")\n",
    "print(f\"For the sample 1990-2018, the alpha is equal to: {alpha}.\")\n",
    "print(f\"The tracking error is equal to: {tracking_error}.\")\n",
    "print(f\"The information ratio is equal to: {information_ratio}.\")\n",
    "print(f\"Beta is equal to: {beta}.\")\n",
    "\n",
    "lm.summary()"
   ]
  },
  {
   "cell_type": "markdown",
   "id": "sYNFA_LdbXR4",
   "metadata": {
    "id": "sYNFA_LdbXR4"
   },
   "source": [
    "This implies that the CAPM benchmark for the sample 1990-2018 consists of 43 cents in T-Bills and 57 cents in the market. i.-e. each dollar in the Berkshire Hathaway portfolio is equivalent to 43 cents in T-Bills and 57 cents in the market. Relative to this, the Berkshire Hathaway is adding (i.e. has  α  of) 0.61% (per month!) , the alpha value is significant at 95% level."
   ]
  },
  {
   "cell_type": "markdown",
   "id": "O0okEkYRluew",
   "metadata": {
    "id": "O0okEkYRluew"
   },
   "source": [
    "### 4."
   ]
  },
  {
   "cell_type": "code",
   "execution_count": 30,
   "id": "fxz894IL9GXz",
   "metadata": {
    "colab": {
     "base_uri": "https://localhost:8080/",
     "height": 573
    },
    "id": "fxz894IL9GXz",
    "outputId": "05e71b1a-b3c1-436c-a506-2004c3726525"
   },
   "outputs": [
    {
     "name": "stdout",
     "output_type": "stream",
     "text": [
      "FF3M conclusions:\n",
      "For the sample 1990-2003, the alpha is equal to: 0.005988109092099483.\n",
      "The tracking error is equal to: 0.05565840533108453.\n",
      "The information ratio is equal to: 0.10758678867062686.\n",
      "Beta is equal to: 0.8402058632267428.\n"
     ]
    },
    {
     "data": {
      "text/html": [
       "<table class=\"simpletable\">\n",
       "<caption>OLS Regression Results</caption>\n",
       "<tr>\n",
       "  <th>Dep. Variable:</th>          <td>BRKA</td>       <th>  R-squared:         </th> <td>   0.332</td>\n",
       "</tr>\n",
       "<tr>\n",
       "  <th>Model:</th>                   <td>OLS</td>       <th>  Adj. R-squared:    </th> <td>   0.320</td>\n",
       "</tr>\n",
       "<tr>\n",
       "  <th>Method:</th>             <td>Least Squares</td>  <th>  F-statistic:       </th> <td>   27.16</td>\n",
       "</tr>\n",
       "<tr>\n",
       "  <th>Date:</th>             <td>Mon, 14 Mar 2022</td> <th>  Prob (F-statistic):</th> <td>2.59e-14</td>\n",
       "</tr>\n",
       "<tr>\n",
       "  <th>Time:</th>                 <td>13:10:39</td>     <th>  Log-Likelihood:    </th> <td>  246.89</td>\n",
       "</tr>\n",
       "<tr>\n",
       "  <th>No. Observations:</th>      <td>   168</td>      <th>  AIC:               </th> <td>  -485.8</td>\n",
       "</tr>\n",
       "<tr>\n",
       "  <th>Df Residuals:</th>          <td>   164</td>      <th>  BIC:               </th> <td>  -473.3</td>\n",
       "</tr>\n",
       "<tr>\n",
       "  <th>Df Model:</th>              <td>     3</td>      <th>                     </th>     <td> </td>   \n",
       "</tr>\n",
       "<tr>\n",
       "  <th>Covariance Type:</th>      <td>nonrobust</td>    <th>                     </th>     <td> </td>   \n",
       "</tr>\n",
       "</table>\n",
       "<table class=\"simpletable\">\n",
       "<tr>\n",
       "      <td></td>        <th>coef</th>     <th>std err</th>      <th>t</th>      <th>P>|t|</th>  <th>[0.025</th>    <th>0.975]</th>  \n",
       "</tr>\n",
       "<tr>\n",
       "  <th>Mkt-RF</th>   <td>    0.8402</td> <td>    0.110</td> <td>    7.618</td> <td> 0.000</td> <td>    0.622</td> <td>    1.058</td>\n",
       "</tr>\n",
       "<tr>\n",
       "  <th>Constant</th> <td>    0.0060</td> <td>    0.005</td> <td>    1.330</td> <td> 0.185</td> <td>   -0.003</td> <td>    0.015</td>\n",
       "</tr>\n",
       "<tr>\n",
       "  <th>Value</th>    <td>    0.5334</td> <td>    0.160</td> <td>    3.331</td> <td> 0.001</td> <td>    0.217</td> <td>    0.850</td>\n",
       "</tr>\n",
       "<tr>\n",
       "  <th>Size</th>     <td>   -0.4775</td> <td>    0.124</td> <td>   -3.851</td> <td> 0.000</td> <td>   -0.722</td> <td>   -0.233</td>\n",
       "</tr>\n",
       "</table>\n",
       "<table class=\"simpletable\">\n",
       "<tr>\n",
       "  <th>Omnibus:</th>       <td>13.991</td> <th>  Durbin-Watson:     </th> <td>   2.219</td>\n",
       "</tr>\n",
       "<tr>\n",
       "  <th>Prob(Omnibus):</th> <td> 0.001</td> <th>  Jarque-Bera (JB):  </th> <td>  15.618</td>\n",
       "</tr>\n",
       "<tr>\n",
       "  <th>Skew:</th>          <td> 0.619</td> <th>  Prob(JB):          </th> <td>0.000406</td>\n",
       "</tr>\n",
       "<tr>\n",
       "  <th>Kurtosis:</th>      <td> 3.835</td> <th>  Cond. No.          </th> <td>    41.8</td>\n",
       "</tr>\n",
       "</table><br/><br/>Warnings:<br/>[1] Standard Errors assume that the covariance matrix of the errors is correctly specified."
      ],
      "text/plain": [
       "<class 'statsmodels.iolib.summary.Summary'>\n",
       "\"\"\"\n",
       "                            OLS Regression Results                            \n",
       "==============================================================================\n",
       "Dep. Variable:                   BRKA   R-squared:                       0.332\n",
       "Model:                            OLS   Adj. R-squared:                  0.320\n",
       "Method:                 Least Squares   F-statistic:                     27.16\n",
       "Date:                Mon, 14 Mar 2022   Prob (F-statistic):           2.59e-14\n",
       "Time:                        13:10:39   Log-Likelihood:                 246.89\n",
       "No. Observations:                 168   AIC:                            -485.8\n",
       "Df Residuals:                     164   BIC:                            -473.3\n",
       "Df Model:                           3                                         \n",
       "Covariance Type:            nonrobust                                         \n",
       "==============================================================================\n",
       "                 coef    std err          t      P>|t|      [0.025      0.975]\n",
       "------------------------------------------------------------------------------\n",
       "Mkt-RF         0.8402      0.110      7.618      0.000       0.622       1.058\n",
       "Constant       0.0060      0.005      1.330      0.185      -0.003       0.015\n",
       "Value          0.5334      0.160      3.331      0.001       0.217       0.850\n",
       "Size          -0.4775      0.124     -3.851      0.000      -0.722      -0.233\n",
       "==============================================================================\n",
       "Omnibus:                       13.991   Durbin-Watson:                   2.219\n",
       "Prob(Omnibus):                  0.001   Jarque-Bera (JB):               15.618\n",
       "Skew:                           0.619   Prob(JB):                     0.000406\n",
       "Kurtosis:                       3.835   Cond. No.                         41.8\n",
       "==============================================================================\n",
       "\n",
       "Warnings:\n",
       "[1] Standard Errors assume that the covariance matrix of the errors is correctly specified.\n",
       "\"\"\""
      ]
     },
     "execution_count": 30,
     "metadata": {},
     "output_type": "execute_result"
    }
   ],
   "source": [
    "brka_excess = brka_m[\"1990\":\"2003\"]- fff30.loc[\"1990\":\"2003\", ['RF']].values\n",
    "mkt_excess = fff30.loc[\"1990\":\"2003\",['Mkt-RF']]\n",
    "    \n",
    "exp_var = mkt_excess.copy()\n",
    "exp_var[\"Constant\"] = 1\n",
    "exp_var[\"Value\"] = fff30.loc[\"1990\":\"2003\",['HML']]\n",
    "exp_var[\"Size\"] = fff30.loc[\"1990\":\"2003\",['SMB']]\n",
    "lm = sm.OLS(brka_excess, exp_var).fit()\n",
    "      \n",
    "alpha = lm.params[\"Constant\"]\n",
    "beta = lm.params[\"Mkt-RF\"]\n",
    "beta_size = lm.params[\"Size\"]\n",
    "beta_value = lm.params[\"Value\"]      \n",
    "b = pd.DataFrame(brka_excess, columns=[\"Benchmark Excess Return\"])\n",
    "b[\"Benchmark Excess Return\"] = mkt_excess * beta \n",
    "b[\"Benchmark Excess Size\"] = exp_var[\"Size\"] * beta_size\n",
    "b[\"Benchmark Excess Value\"] = exp_var[\"Value\"] * beta_value      \n",
    "b[\"alpha\"] = alpha\n",
    "b[\"Sum Nominator Tracking Error\"] = (brka_excess[\"BRKA\"] - b[\"Benchmark Excess Return\"] - b[\"Benchmark Excess Size\"] - b[\"Benchmark Excess Value\"] - alpha) **2\n",
    "\n",
    "tracking_error_squared = b[\"Sum Nominator Tracking Error\"].mean()\n",
    "tracking_error = np.sqrt(tracking_error_squared)\n",
    "\n",
    "information_ratio = alpha/tracking_error\n",
    "\n",
    "print(\"FF3M conclusions:\")\n",
    "print(f\"For the sample 1990-2003, the alpha is equal to: {alpha}.\")\n",
    "print(f\"The tracking error is equal to: {tracking_error}.\")\n",
    "print(f\"The information ratio is equal to: {information_ratio}.\")\n",
    "print(f\"Beta is equal to: {beta}.\")\n",
    "\n",
    "lm.summary()"
   ]
  },
  {
   "cell_type": "markdown",
   "id": "eP6j_Zm2i4tZ",
   "metadata": {
    "id": "eP6j_Zm2i4tZ"
   },
   "source": [
    "For the period 1990-2003: \n",
    "The alpha has fallen from .87% to about .60% per month. The loading on the market has moved up from 0.58 to 0.84, which means that adding these new explanatory factors did change things. If we had added irrelevant variables, the loading on the market would be unaffected.\n",
    "\n",
    "We can interpret the loadings on Value being positive as saying that Hathaway has a significant Value tilt. Additionally, the negative tilt on size suggests that Hathaway tends to invest in large companies.\n",
    "\n",
    "Each dollar invested in Hathaway is: 84 cents in the market, 16 cents in Bills, 53 cents in Value stocks and short 47 cents in Growth stocks. "
   ]
  },
  {
   "cell_type": "code",
   "execution_count": 31,
   "id": "B3lEN_BJ-Q6k",
   "metadata": {
    "colab": {
     "base_uri": "https://localhost:8080/",
     "height": 573
    },
    "id": "B3lEN_BJ-Q6k",
    "outputId": "729fcdac-9821-4246-f537-bc644519afab"
   },
   "outputs": [
    {
     "name": "stdout",
     "output_type": "stream",
     "text": [
      "FF3M conclusions:\n",
      "For the sample 2003-2018, the alpha is equal to: 0.003684743263226411\n",
      "The tracking error is equal to: 0.0375191190756964\n",
      "The information ratio is equal to: 0.0982097488960838\n",
      "Beta is equal to: 0.6027135998915978.\n"
     ]
    },
    {
     "data": {
      "text/html": [
       "<table class=\"simpletable\">\n",
       "<caption>OLS Regression Results</caption>\n",
       "<tr>\n",
       "  <th>Dep. Variable:</th>          <td>BRKA</td>       <th>  R-squared:         </th> <td>   0.320</td>\n",
       "</tr>\n",
       "<tr>\n",
       "  <th>Model:</th>                   <td>OLS</td>       <th>  Adj. R-squared:    </th> <td>   0.309</td>\n",
       "</tr>\n",
       "<tr>\n",
       "  <th>Method:</th>             <td>Least Squares</td>  <th>  F-statistic:       </th> <td>   29.53</td>\n",
       "</tr>\n",
       "<tr>\n",
       "  <th>Date:</th>             <td>Mon, 14 Mar 2022</td> <th>  Prob (F-statistic):</th> <td>1.08e-15</td>\n",
       "</tr>\n",
       "<tr>\n",
       "  <th>Time:</th>                 <td>13:21:03</td>     <th>  Log-Likelihood:    </th> <td>  357.88</td>\n",
       "</tr>\n",
       "<tr>\n",
       "  <th>No. Observations:</th>      <td>   192</td>      <th>  AIC:               </th> <td>  -707.8</td>\n",
       "</tr>\n",
       "<tr>\n",
       "  <th>Df Residuals:</th>          <td>   188</td>      <th>  BIC:               </th> <td>  -694.7</td>\n",
       "</tr>\n",
       "<tr>\n",
       "  <th>Df Model:</th>              <td>     3</td>      <th>                     </th>     <td> </td>   \n",
       "</tr>\n",
       "<tr>\n",
       "  <th>Covariance Type:</th>      <td>nonrobust</td>    <th>                     </th>     <td> </td>   \n",
       "</tr>\n",
       "</table>\n",
       "<table class=\"simpletable\">\n",
       "<tr>\n",
       "      <td></td>        <th>coef</th>     <th>std err</th>      <th>t</th>      <th>P>|t|</th>  <th>[0.025</th>    <th>0.975]</th>  \n",
       "</tr>\n",
       "<tr>\n",
       "  <th>Mkt-RF</th>   <td>    0.6027</td> <td>    0.076</td> <td>    7.927</td> <td> 0.000</td> <td>    0.453</td> <td>    0.753</td>\n",
       "</tr>\n",
       "<tr>\n",
       "  <th>Constant</th> <td>    0.0037</td> <td>    0.003</td> <td>    1.323</td> <td> 0.188</td> <td>   -0.002</td> <td>    0.009</td>\n",
       "</tr>\n",
       "<tr>\n",
       "  <th>Value</th>    <td>    0.3577</td> <td>    0.116</td> <td>    3.080</td> <td> 0.002</td> <td>    0.129</td> <td>    0.587</td>\n",
       "</tr>\n",
       "<tr>\n",
       "  <th>Size</th>     <td>   -0.3218</td> <td>    0.127</td> <td>   -2.526</td> <td> 0.012</td> <td>   -0.573</td> <td>   -0.071</td>\n",
       "</tr>\n",
       "</table>\n",
       "<table class=\"simpletable\">\n",
       "<tr>\n",
       "  <th>Omnibus:</th>       <td>66.066</td> <th>  Durbin-Watson:     </th> <td>   2.127</td>\n",
       "</tr>\n",
       "<tr>\n",
       "  <th>Prob(Omnibus):</th> <td> 0.000</td> <th>  Jarque-Bera (JB):  </th> <td> 214.594</td>\n",
       "</tr>\n",
       "<tr>\n",
       "  <th>Skew:</th>          <td> 1.384</td> <th>  Prob(JB):          </th> <td>2.52e-47</td>\n",
       "</tr>\n",
       "<tr>\n",
       "  <th>Kurtosis:</th>      <td> 7.377</td> <th>  Cond. No.          </th> <td>    48.1</td>\n",
       "</tr>\n",
       "</table><br/><br/>Warnings:<br/>[1] Standard Errors assume that the covariance matrix of the errors is correctly specified."
      ],
      "text/plain": [
       "<class 'statsmodels.iolib.summary.Summary'>\n",
       "\"\"\"\n",
       "                            OLS Regression Results                            \n",
       "==============================================================================\n",
       "Dep. Variable:                   BRKA   R-squared:                       0.320\n",
       "Model:                            OLS   Adj. R-squared:                  0.309\n",
       "Method:                 Least Squares   F-statistic:                     29.53\n",
       "Date:                Mon, 14 Mar 2022   Prob (F-statistic):           1.08e-15\n",
       "Time:                        13:21:03   Log-Likelihood:                 357.88\n",
       "No. Observations:                 192   AIC:                            -707.8\n",
       "Df Residuals:                     188   BIC:                            -694.7\n",
       "Df Model:                           3                                         \n",
       "Covariance Type:            nonrobust                                         \n",
       "==============================================================================\n",
       "                 coef    std err          t      P>|t|      [0.025      0.975]\n",
       "------------------------------------------------------------------------------\n",
       "Mkt-RF         0.6027      0.076      7.927      0.000       0.453       0.753\n",
       "Constant       0.0037      0.003      1.323      0.188      -0.002       0.009\n",
       "Value          0.3577      0.116      3.080      0.002       0.129       0.587\n",
       "Size          -0.3218      0.127     -2.526      0.012      -0.573      -0.071\n",
       "==============================================================================\n",
       "Omnibus:                       66.066   Durbin-Watson:                   2.127\n",
       "Prob(Omnibus):                  0.000   Jarque-Bera (JB):              214.594\n",
       "Skew:                           1.384   Prob(JB):                     2.52e-47\n",
       "Kurtosis:                       7.377   Cond. No.                         48.1\n",
       "==============================================================================\n",
       "\n",
       "Warnings:\n",
       "[1] Standard Errors assume that the covariance matrix of the errors is correctly specified.\n",
       "\"\"\""
      ]
     },
     "execution_count": 31,
     "metadata": {},
     "output_type": "execute_result"
    }
   ],
   "source": [
    "brka_excess = brka_m[\"2003\":\"2018\"]- fff30.loc[\"2003\":\"2018\", ['RF']].values\n",
    "mkt_excess = fff30.loc[\"2003\":\"2018\",['Mkt-RF']]\n",
    "    \n",
    "exp_var = mkt_excess.copy()\n",
    "exp_var[\"Constant\"] = 1\n",
    "exp_var[\"Value\"] = fff30.loc[\"2003\":\"2018\",['HML']]\n",
    "exp_var[\"Size\"] = fff30.loc[\"2003\":\"2018\",['SMB']]\n",
    "lm = sm.OLS(brka_excess, exp_var).fit()\n",
    "      \n",
    "alpha = lm.params[\"Constant\"]\n",
    "beta = lm.params[\"Mkt-RF\"]\n",
    "beta_size = lm.params[\"Size\"]\n",
    "beta_value = lm.params[\"Value\"]      \n",
    "b = pd.DataFrame(brka_excess, columns=[\"Benchmark Excess Return\"])\n",
    "b[\"Benchmark Excess Return\"] = mkt_excess * beta \n",
    "b[\"Benchmark Excess Size\"] = exp_var[\"Size\"] * beta_size\n",
    "b[\"Benchmark Excess Value\"] = exp_var[\"Value\"] * beta_value      \n",
    "b[\"alpha\"] = alpha\n",
    "b[\"Sum Nominator Tracking Error\"] = (brka_excess[\"BRKA\"] - b[\"Benchmark Excess Return\"] - b[\"Benchmark Excess Size\"] - b[\"Benchmark Excess Value\"] - alpha) **2\n",
    "\n",
    "tracking_error_squared = b[\"Sum Nominator Tracking Error\"].mean()\n",
    "tracking_error = np.sqrt(tracking_error_squared)\n",
    "\n",
    "information_ratio = alpha/tracking_error\n",
    "\n",
    "print(\"FF3M conclusions:\")\n",
    "print(f\"For the sample 2003-2018, the alpha is equal to: {alpha}.\")\n",
    "print(f\"The tracking error is equal to: {tracking_error}.\")\n",
    "print(f\"The information ratio is equal to: {information_ratio}.\")\n",
    "print(f\"Beta is equal to: {beta}.\")\n",
    "\n",
    "lm.summary()"
   ]
  },
  {
   "cell_type": "markdown",
   "id": "H4renVSklemG",
   "metadata": {
    "id": "H4renVSklemG"
   },
   "source": [
    "For the period 2003-2018: \n",
    "The alpha has increased from .32% to about .37% per month (alpha significance is still very weak). The loading on the market has moved up from 0.58 to 0.60, which means that adding these new explanatory factors did change things. If we had added irrelevant variables, the loading on the market would be unaffected.\n",
    "\n",
    "We can interpret the loadings on Value being positive as saying that Hathaway has a significant Value tilt. Additionally, the negative tilt on size suggests that Hathaway tends to invest in large companies.\n",
    "\n",
    "Each dollar invested in Hathaway is: 60 cents in the market, 40 cents in Bills, 35 cents in Value stocks and short 32 cents in Growth stocks. "
   ]
  },
  {
   "cell_type": "code",
   "execution_count": 32,
   "id": "NyaSlou1-TbG",
   "metadata": {
    "colab": {
     "base_uri": "https://localhost:8080/",
     "height": 573
    },
    "id": "NyaSlou1-TbG",
    "outputId": "bb52001b-98b0-415c-b708-44c23a799277"
   },
   "outputs": [
    {
     "name": "stdout",
     "output_type": "stream",
     "text": [
      "FF3M conclusions:\n",
      "For the sample 1990-2018, the alpha is equal to: 0.005165397179299436.\n",
      "The tracking error is equal to: 0.04743990013891699.\n",
      "The information ratio is equal to: 0.10888296906557016.\n",
      "Beta is equal to: 0.7096050666739291.\n"
     ]
    },
    {
     "data": {
      "text/html": [
       "<table class=\"simpletable\">\n",
       "<caption>OLS Regression Results</caption>\n",
       "<tr>\n",
       "  <th>Dep. Variable:</th>          <td>BRKA</td>       <th>  R-squared:         </th> <td>   0.317</td>\n",
       "</tr>\n",
       "<tr>\n",
       "  <th>Model:</th>                   <td>OLS</td>       <th>  Adj. R-squared:    </th> <td>   0.311</td>\n",
       "</tr>\n",
       "<tr>\n",
       "  <th>Method:</th>             <td>Least Squares</td>  <th>  F-statistic:       </th> <td>   53.29</td>\n",
       "</tr>\n",
       "<tr>\n",
       "  <th>Date:</th>             <td>Mon, 14 Mar 2022</td> <th>  Prob (F-statistic):</th> <td>2.59e-28</td>\n",
       "</tr>\n",
       "<tr>\n",
       "  <th>Time:</th>                 <td>13:23:12</td>     <th>  Log-Likelihood:    </th> <td>  567.01</td>\n",
       "</tr>\n",
       "<tr>\n",
       "  <th>No. Observations:</th>      <td>   348</td>      <th>  AIC:               </th> <td>  -1126.</td>\n",
       "</tr>\n",
       "<tr>\n",
       "  <th>Df Residuals:</th>          <td>   344</td>      <th>  BIC:               </th> <td>  -1111.</td>\n",
       "</tr>\n",
       "<tr>\n",
       "  <th>Df Model:</th>              <td>     3</td>      <th>                     </th>     <td> </td>   \n",
       "</tr>\n",
       "<tr>\n",
       "  <th>Covariance Type:</th>      <td>nonrobust</td>    <th>                     </th>     <td> </td>   \n",
       "</tr>\n",
       "</table>\n",
       "<table class=\"simpletable\">\n",
       "<tr>\n",
       "      <td></td>        <th>coef</th>     <th>std err</th>      <th>t</th>      <th>P>|t|</th>  <th>[0.025</th>    <th>0.975]</th>  \n",
       "</tr>\n",
       "<tr>\n",
       "  <th>Mkt-RF</th>   <td>    0.7096</td> <td>    0.063</td> <td>   11.350</td> <td> 0.000</td> <td>    0.587</td> <td>    0.833</td>\n",
       "</tr>\n",
       "<tr>\n",
       "  <th>Constant</th> <td>    0.0052</td> <td>    0.003</td> <td>    1.991</td> <td> 0.047</td> <td> 6.18e-05</td> <td>    0.010</td>\n",
       "</tr>\n",
       "<tr>\n",
       "  <th>Value</th>    <td>    0.4053</td> <td>    0.090</td> <td>    4.494</td> <td> 0.000</td> <td>    0.228</td> <td>    0.583</td>\n",
       "</tr>\n",
       "<tr>\n",
       "  <th>Size</th>     <td>   -0.4829</td> <td>    0.085</td> <td>   -5.696</td> <td> 0.000</td> <td>   -0.650</td> <td>   -0.316</td>\n",
       "</tr>\n",
       "</table>\n",
       "<table class=\"simpletable\">\n",
       "<tr>\n",
       "  <th>Omnibus:</th>       <td>64.922</td> <th>  Durbin-Watson:     </th> <td>   2.162</td>\n",
       "</tr>\n",
       "<tr>\n",
       "  <th>Prob(Omnibus):</th> <td> 0.000</td> <th>  Jarque-Bera (JB):  </th> <td> 138.061</td>\n",
       "</tr>\n",
       "<tr>\n",
       "  <th>Skew:</th>          <td> 0.962</td> <th>  Prob(JB):          </th> <td>1.05e-30</td>\n",
       "</tr>\n",
       "<tr>\n",
       "  <th>Kurtosis:</th>      <td> 5.413</td> <th>  Cond. No.          </th> <td>    38.1</td>\n",
       "</tr>\n",
       "</table><br/><br/>Warnings:<br/>[1] Standard Errors assume that the covariance matrix of the errors is correctly specified."
      ],
      "text/plain": [
       "<class 'statsmodels.iolib.summary.Summary'>\n",
       "\"\"\"\n",
       "                            OLS Regression Results                            \n",
       "==============================================================================\n",
       "Dep. Variable:                   BRKA   R-squared:                       0.317\n",
       "Model:                            OLS   Adj. R-squared:                  0.311\n",
       "Method:                 Least Squares   F-statistic:                     53.29\n",
       "Date:                Mon, 14 Mar 2022   Prob (F-statistic):           2.59e-28\n",
       "Time:                        13:23:12   Log-Likelihood:                 567.01\n",
       "No. Observations:                 348   AIC:                            -1126.\n",
       "Df Residuals:                     344   BIC:                            -1111.\n",
       "Df Model:                           3                                         \n",
       "Covariance Type:            nonrobust                                         \n",
       "==============================================================================\n",
       "                 coef    std err          t      P>|t|      [0.025      0.975]\n",
       "------------------------------------------------------------------------------\n",
       "Mkt-RF         0.7096      0.063     11.350      0.000       0.587       0.833\n",
       "Constant       0.0052      0.003      1.991      0.047    6.18e-05       0.010\n",
       "Value          0.4053      0.090      4.494      0.000       0.228       0.583\n",
       "Size          -0.4829      0.085     -5.696      0.000      -0.650      -0.316\n",
       "==============================================================================\n",
       "Omnibus:                       64.922   Durbin-Watson:                   2.162\n",
       "Prob(Omnibus):                  0.000   Jarque-Bera (JB):              138.061\n",
       "Skew:                           0.962   Prob(JB):                     1.05e-30\n",
       "Kurtosis:                       5.413   Cond. No.                         38.1\n",
       "==============================================================================\n",
       "\n",
       "Warnings:\n",
       "[1] Standard Errors assume that the covariance matrix of the errors is correctly specified.\n",
       "\"\"\""
      ]
     },
     "execution_count": 32,
     "metadata": {},
     "output_type": "execute_result"
    }
   ],
   "source": [
    "brka_excess = brka_m[\"1990\":\"2018\"]- fff30.loc[\"1990\":\"2018\", ['RF']].values\n",
    "mkt_excess = fff30.loc[\"1990\":\"2018\",['Mkt-RF']]\n",
    "    \n",
    "exp_var = mkt_excess.copy()\n",
    "exp_var[\"Constant\"] = 1\n",
    "exp_var[\"Value\"] = fff30.loc[\"1990\":\"2018\",['HML']]\n",
    "exp_var[\"Size\"] = fff30.loc[\"1990\":\"2018\",['SMB']]\n",
    "lm = sm.OLS(brka_excess, exp_var).fit()\n",
    "      \n",
    "alpha = lm.params[\"Constant\"]\n",
    "beta = lm.params[\"Mkt-RF\"]\n",
    "beta_size = lm.params[\"Size\"]\n",
    "beta_value = lm.params[\"Value\"]      \n",
    "b = pd.DataFrame(brka_excess, columns=[\"Benchmark Excess Return\"])\n",
    "b[\"Benchmark Excess Return\"] = mkt_excess * beta \n",
    "b[\"Benchmark Excess Size\"] = exp_var[\"Size\"] * beta_size\n",
    "b[\"Benchmark Excess Value\"] = exp_var[\"Value\"] * beta_value      \n",
    "b[\"alpha\"] = alpha\n",
    "b[\"Sum Nominator Tracking Error\"] = (brka_excess[\"BRKA\"] - b[\"Benchmark Excess Return\"] - b[\"Benchmark Excess Size\"] - b[\"Benchmark Excess Value\"] - alpha) **2\n",
    "\n",
    "tracking_error_squared = b[\"Sum Nominator Tracking Error\"].mean()\n",
    "tracking_error = np.sqrt(tracking_error_squared)\n",
    "\n",
    "information_ratio = alpha/tracking_error\n",
    "\n",
    "print(\"FF3M conclusions:\")\n",
    "print(f\"For the sample 1990-2018, the alpha is equal to: {alpha}.\")\n",
    "print(f\"The tracking error is equal to: {tracking_error}.\")\n",
    "print(f\"The information ratio is equal to: {information_ratio}.\")\n",
    "print(f\"Beta is equal to: {beta}.\")\n",
    "\n",
    "lm.summary()"
   ]
  },
  {
   "cell_type": "markdown",
   "id": "DqONon5amOR7",
   "metadata": {
    "id": "DqONon5amOR7"
   },
   "source": [
    "For the period 1990-2018: The alpha has decreased from .61% to about .52% per month (alpha significance is still very weak). The loading on the market has moved up from 0.57 to 0.70, which means that adding these new explanatory factors did change things. If we had added irrelevant variables, the loading on the market would be unaffected.\n",
    "\n",
    "We can interpret the loadings on Value being positive as saying that Hathaway has a significant Value tilt. Additionally, the negative tilt on size suggests that Hathaway tends to invest in large companies.\n",
    "\n",
    "Each dollar invested in Hathaway is: 70 cents in the market, 30 cents in Bills, 40 cents in Value stocks and short 48 cents in Growth stocks."
   ]
  }
 ],
 "metadata": {
  "colab": {
   "collapsed_sections": [],
   "name": "38628.ipynb",
   "provenance": []
  },
  "kernelspec": {
   "display_name": "Python 3 (ipykernel)",
   "language": "python",
   "name": "python3"
  },
  "language_info": {
   "codemirror_mode": {
    "name": "ipython",
    "version": 3
   },
   "file_extension": ".py",
   "mimetype": "text/x-python",
   "name": "python",
   "nbconvert_exporter": "python",
   "pygments_lexer": "ipython3",
   "version": "3.9.7"
  }
 },
 "nbformat": 4,
 "nbformat_minor": 5
}
