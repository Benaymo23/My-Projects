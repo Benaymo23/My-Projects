{
 "cells": [
  {
   "cell_type": "markdown",
   "metadata": {},
   "source": [
    "<img src=\"https://apps.novasbe.pt/NovaMobility/resources/assets/images/nova_logo.png\" width=\"300\">"
   ]
  },
  {
   "cell_type": "markdown",
   "metadata": {},
   "source": [
    "<center> <h1> Assignment 1 - Hello, World! </h1></center>"
   ]
  },
  {
   "cell_type": "markdown",
   "metadata": {},
   "source": [
    "Instructions:"
   ]
  },
  {
   "cell_type": "markdown",
   "metadata": {},
   "source": [
    "1. Press `'File' -> 'Rename notebook'` and rename to your student id (eg 40000.ipynb)\n",
    "2. Complete assignment\n",
    "3. Save the .ipynb file by clicking`'File' -> 'Save notebook'` and submit it via Moodle"
   ]
  },
  {
   "cell_type": "markdown",
   "metadata": {},
   "source": [
    "### Notes on autograding\n",
    "\n",
    "**In this notebook we will provide functions that allow testing your answers.** Testing implies checking whether your code meets a set of requirements. If your code fails atleast one requirement, you will receive an error specifying where the test has failed. If the test passes, you will receive the message `All tests passed! Good job!`.\n",
    "\n",
    "__Note that in the next assignments, these test functions will not be provided.__ \n",
    "\n",
    "The autograding system has some implications on how you should complete these assignments:\n",
    "\n",
    "#### ➜ save results to variables with the **required identifier**.\n",
    "\n",
    "\n",
    "For instance, if we ask you to create a variable `my_name` with a string of your name, you should do it the following way:\n",
    "\n",
    "```python\n",
    "my_name = \"John Doe\" # ✅ GOOD\n",
    "\n",
    "My_name = \"John Doe\" # ❌ WRONG (wrong variable name!)\n",
    "\n",
    "\"John Doe\" # ❌ WRONG (not saving to a variable!)\n",
    "```\n",
    "\n",
    "\n",
    "This is very important, because we will look for the variable `my_name` when grading your work. Note that **Python is case sensitive language**.\n",
    "\n",
    "#### ➜ ensure code **runs end-to-end without errors**\n",
    "\n",
    "After you are done with your assignment you are encouraged to validate whether it runs end to end by restarting Jupyter's kernel and running the whole code (eg. press `Kernel` -> `Restart Kernell and Run All Cells`). \n",
    "\n",
    "If your code fails to run end to end it is possible that the autograder won't be able to evaluate some of your answers. In such cases we have to manually validate your assignment, which implies a slower grading process.\n"
   ]
  },
  {
   "cell_type": "markdown",
   "metadata": {},
   "source": [
    "---"
   ]
  },
  {
   "cell_type": "code",
   "execution_count": 1,
   "metadata": {},
   "outputs": [],
   "source": [
    "from tests_assignment_1 import *  # Execute this cell to test your answers  "
   ]
  },
  {
   "cell_type": "markdown",
   "metadata": {},
   "source": [
    "# Exercise 0 - Testing (0pt)\n",
    "Define a numerical variable `x` as 5 and a numerical variable `y` as 2.0. Obtain the product of `x` and `y` and store it in `z`."
   ]
  },
  {
   "cell_type": "code",
   "execution_count": 2,
   "metadata": {},
   "outputs": [],
   "source": [
    "x = 5\n",
    "y = 2.0\n",
    "z = x * y"
   ]
  },
  {
   "cell_type": "code",
   "execution_count": 3,
   "metadata": {},
   "outputs": [
    {
     "name": "stdout",
     "output_type": "stream",
     "text": [
      "All basic tests passed! Good job!\n"
     ]
    }
   ],
   "source": [
    "test_exercise_0(x, y, z)"
   ]
  },
  {
   "cell_type": "markdown",
   "metadata": {},
   "source": [
    "# Exercise 1 - Who are you? (1pt)\n",
    "It's your first day as a programmer and you're excited to get to know your peers. In order to do so you have to fill some information about yourself:\n",
    "\n",
    "- _`first_name`_\n",
    "- _`last_name`_\n",
    "- _`birth_year`_\n",
    "- _`origin_city`_\n",
    "- _`origin_country`_\n",
    "\n",
    "Create these variables which all should have `str` type except for _`birth_year`_ which should be an `int`."
   ]
  },
  {
   "cell_type": "code",
   "execution_count": 6,
   "metadata": {},
   "outputs": [],
   "source": [
    "first_name = \"Omar\"\n",
    "last_name = \"Ben Ayed\"\n",
    "birth_year = int(\"1998\")\n",
    "origin_city = \"Tunis\"\n",
    "origin_country = \"Tunisia\""
   ]
  },
  {
   "cell_type": "code",
   "execution_count": 7,
   "metadata": {},
   "outputs": [
    {
     "name": "stdout",
     "output_type": "stream",
     "text": [
      "All basic tests passed! Good job!\n"
     ]
    }
   ],
   "source": [
    "test_exercise_1(first_name, last_name, birth_year, origin_city, origin_country)"
   ]
  },
  {
   "cell_type": "markdown",
   "metadata": {},
   "source": [
    "# Exercise 2 - Python, how old am I? (1pt)"
   ]
  },
  {
   "cell_type": "markdown",
   "metadata": {},
   "source": [
    "Create a variable _`current_year`_ with the current year and using _`birth_year`_ compute your approximate age into the _`age`_ variable."
   ]
  },
  {
   "cell_type": "code",
   "execution_count": 8,
   "metadata": {},
   "outputs": [],
   "source": [
    "current_year = int(\"2022\")\n",
    "age = current_year - birth_year"
   ]
  },
  {
   "cell_type": "code",
   "execution_count": 9,
   "metadata": {},
   "outputs": [
    {
     "name": "stdout",
     "output_type": "stream",
     "text": [
      "All basic tests passed! Good job!\n"
     ]
    }
   ],
   "source": [
    "test_exercise_2(current_year, birth_year, age)"
   ]
  },
  {
   "cell_type": "markdown",
   "metadata": {},
   "source": [
    "# Exercise 3 - Python, how many days old do you think I am? (1pt)"
   ]
  },
  {
   "cell_type": "markdown",
   "metadata": {},
   "source": [
    "Likewise exercise 2, you are going to compute your *approximate* age in days. Store the value in the variable `age_in_days`. For simplicity sake assume a year has 365 days. "
   ]
  },
  {
   "cell_type": "code",
   "execution_count": 10,
   "metadata": {},
   "outputs": [],
   "source": [
    "age_in_days = age * 365"
   ]
  },
  {
   "cell_type": "code",
   "execution_count": 11,
   "metadata": {},
   "outputs": [
    {
     "name": "stdout",
     "output_type": "stream",
     "text": [
      "All basic tests passed! Good job!\n"
     ]
    }
   ],
   "source": [
    "test_exercise_3(age, age_in_days)"
   ]
  },
  {
   "cell_type": "markdown",
   "metadata": {},
   "source": [
    "# Exercise 4 - Hello! (1pt)"
   ]
  },
  {
   "cell_type": "markdown",
   "metadata": {},
   "source": [
    "Fill the following string, exactly as is but with your own variables _`first_name`_ and _`age`_ , and save it to the variable _`greeting`_.\n",
    "\n",
    "```python\n",
    "greeting = \"Hi! My name is <first_name> and I'm <years> years old\"\n",
    "```\n",
    "\n",
    "Finally, print the _`greeting`_ variable."
   ]
  },
  {
   "cell_type": "code",
   "execution_count": 39,
   "metadata": {},
   "outputs": [
    {
     "name": "stdout",
     "output_type": "stream",
     "text": [
      "Hi! My name is Omar and I'm 24 years old\n"
     ]
    }
   ],
   "source": [
    "greeting = \"Hi! My name is \" + first_name + \" and I'm \" + str(age) + \" years old\"\n",
    "print(greeting)"
   ]
  },
  {
   "cell_type": "code",
   "execution_count": 40,
   "metadata": {},
   "outputs": [
    {
     "name": "stdout",
     "output_type": "stream",
     "text": [
      "All basic tests passed! Good job!\n"
     ]
    }
   ],
   "source": [
    "test_exercise_4(age, first_name, greeting)"
   ]
  },
  {
   "cell_type": "markdown",
   "metadata": {},
   "source": [
    "# Exercise 5 - What is your full name? (1pt)"
   ]
  },
  {
   "cell_type": "markdown",
   "metadata": {},
   "source": [
    "Create a variable _`full_name`_ by concatenating _`first_name` with `last_name`_ defined in Exercise 1.\n",
    "\n",
    "Remeber to test your variable to see if it outputs what you want, your full name will have a space between names."
   ]
  },
  {
   "cell_type": "code",
   "execution_count": 45,
   "metadata": {},
   "outputs": [
    {
     "data": {
      "text/plain": [
       "'Omar Ben Ayed'"
      ]
     },
     "execution_count": 45,
     "metadata": {},
     "output_type": "execute_result"
    }
   ],
   "source": [
    "full_name = first_name + \" \" + last_name\n",
    "full_name"
   ]
  },
  {
   "cell_type": "code",
   "execution_count": 46,
   "metadata": {},
   "outputs": [
    {
     "name": "stdout",
     "output_type": "stream",
     "text": [
      "All basic tests passed! Good job!\n"
     ]
    }
   ],
   "source": [
    "test_exercise_5(first_name, last_name, full_name)"
   ]
  },
  {
   "cell_type": "markdown",
   "metadata": {},
   "source": [
    "# Exercise 6 - What is the lenght of your name? (1pt)\n",
    "Using the variable _`full_name`_ you created in exercise 5 compute the amount of characters there are in your full name to _`len_full_name`_. \n",
    "\n",
    "Remember that you full name may have spaces. You need to think of a way to modify the _`full_name`_ such that you don't count the space when computing the length of the string."
   ]
  },
  {
   "cell_type": "code",
   "execution_count": 53,
   "metadata": {},
   "outputs": [],
   "source": [
    "first_name_no_spaces = first_name.replace(\" \", \"\")\n",
    "last_name_no_spaces = last_name.replace(\" \", \"\")\n",
    "len_full_name = len(first_name_no_spaces) + len(last_name_no_spaces)"
   ]
  },
  {
   "cell_type": "code",
   "execution_count": 54,
   "metadata": {},
   "outputs": [
    {
     "name": "stdout",
     "output_type": "stream",
     "text": [
      "All basic tests passed! Good job!\n"
     ]
    }
   ],
   "source": [
    "test_exercise_6(first_name, last_name, len_full_name)"
   ]
  },
  {
   "cell_type": "markdown",
   "metadata": {},
   "source": [
    "# Exercise 7 - How many feet tall are you? (1pt)"
   ]
  },
  {
   "cell_type": "markdown",
   "metadata": {},
   "source": [
    "Liberia, Myanmar and the United States are the only countries that have not officially adopted the metric system and still use units such as a *feet*, *yard* and *inches*, which for the common human being are rather unknown.\n",
    "\n",
    "Using the `meter_inch` and `inch_feet` conversion variables we give below complete the exercise. \n",
    "\n",
    "Create a variable `meters` with your height in meters and with that compute programatically two other variables `inches` and `feet` which correspond to the conversion of `meters` to those measurement units."
   ]
  },
  {
   "cell_type": "code",
   "execution_count": 67,
   "metadata": {},
   "outputs": [],
   "source": [
    "meter_inch = 39.37 # 1 meter corresponds to ~39.37 inches\n",
    "inch_feet = 3.28 # 39.37 inches corresponds to ~3.28 feet\n",
    "\n",
    "meters = 1.78\n",
    "inches = meters * meter_inch\n",
    "feet = meters * inch_feet"
   ]
  },
  {
   "cell_type": "code",
   "execution_count": 68,
   "metadata": {},
   "outputs": [
    {
     "name": "stdout",
     "output_type": "stream",
     "text": [
      "All basic tests passed! Good job!\n"
     ]
    }
   ],
   "source": [
    "test_exercise_7(meters, inches, feet)"
   ]
  },
  {
   "cell_type": "markdown",
   "metadata": {},
   "source": [
    "# Exercise 8 - Nova Stock Exchange (5pt)"
   ]
  },
  {
   "cell_type": "markdown",
   "metadata": {},
   "source": [
    "In the Nova SBE's stock exchange (SENOVA) the following stocks are available:"
   ]
  },
  {
   "cell_type": "code",
   "execution_count": 73,
   "metadata": {},
   "outputs": [],
   "source": [
    "SENOVA = {\n",
    "    \"ICA\": 12.5,\n",
    "    \"VCT\": 23.54,\n",
    "    \"CUT\": 19.60,\n",
    "    \"AZR\": 28.90,\n",
    "    \"PD\": 45.78,\n",
    "    \"SAN\": 32,\n",
    "    \"SU\": 17.80,\n",
    "    \"SBE\": 500.45,\n",
    "    \"CUF\": 56.34,\n",
    "}"
   ]
  },
  {
   "cell_type": "markdown",
   "metadata": {},
   "source": [
    "1. **Choose 3 stocks from SENOVA (you do not need to use the dictionary provided) that you will invest in and create a list for each one with the following format:**\n",
    "\n",
    "    ```python\n",
    "    stock_1 = [stock_1_name, stock_1_price]\n",
    "    ```\n",
    "\n",
    "Assign each list to variables named `stock_1`, `stock_2` and `stock_3` like the example above"
   ]
  },
  {
   "cell_type": "code",
   "execution_count": 74,
   "metadata": {},
   "outputs": [],
   "source": [
    "stock_1 = ['ICA', 12.5]\n",
    "stock_2 = ['VCT', 23.54]\n",
    "stock_3 = ['CUT', 19.60]"
   ]
  },
  {
   "cell_type": "code",
   "execution_count": 75,
   "metadata": {},
   "outputs": [
    {
     "name": "stdout",
     "output_type": "stream",
     "text": [
      "All basic tests passed! Good job!\n"
     ]
    }
   ],
   "source": [
    "test_exercise_8_1(stock_1, stock_2, stock_3, SENOVA)"
   ]
  },
  {
   "cell_type": "markdown",
   "metadata": {},
   "source": [
    "2. **Create a list `stocks` with your 3 stocks defined in ex8.1**"
   ]
  },
  {
   "cell_type": "code",
   "execution_count": 76,
   "metadata": {},
   "outputs": [],
   "source": [
    "stocks = [stock_1,stock_2,stock_3]"
   ]
  },
  {
   "cell_type": "code",
   "execution_count": 77,
   "metadata": {},
   "outputs": [
    {
     "name": "stdout",
     "output_type": "stream",
     "text": [
      "All basic tests passed! Good job!\n"
     ]
    }
   ],
   "source": [
    "test_exercise_8_2(stock_1, stock_2, stock_3, stocks)"
   ]
  },
  {
   "cell_type": "markdown",
   "metadata": {},
   "source": [
    "3. **You decided to buy 1 stock of `stock_1`, 2 stocks of `stock_2` and 3 stocks of `stock_3`. Add the respective quantity (as `int`) to each list of your `stock` list, such that they now include a third element: the quantity you own of the stock. For example:**\n",
    "\n",
    "    ```python\n",
    "    stocks = [[stock_1_name, stock_1_price, stock_1_quantity], ..., ...]\n",
    "    ```\n"
   ]
  },
  {
   "cell_type": "code",
   "execution_count": 78,
   "metadata": {},
   "outputs": [],
   "source": [
    "stocks = [['ICA', 12.5,int(\"1\")],['VCT', 23.54,int(\"2\")],['CUT', 19.60,int(\"3\")]]"
   ]
  },
  {
   "cell_type": "code",
   "execution_count": 79,
   "metadata": {},
   "outputs": [
    {
     "name": "stdout",
     "output_type": "stream",
     "text": [
      "All basic tests passed! Good job!\n"
     ]
    }
   ],
   "source": [
    "test_exercise_8_3(stocks)"
   ]
  },
  {
   "cell_type": "markdown",
   "metadata": {},
   "source": [
    "4. Using the information stored in `stocks` list, fill with variables the following string and save it to `stock_buy_order`. Compute the total number of stocks and total price to `total_stocks` and `total_price` beforehand.\n",
    "\n",
    "```py\n",
    "stock_buy_order = \"I want to buy a total of <total_stocks> stocks. I want <number of stocks 1> stock of <name stock 1>, <number of stocks 2> stock of <name stock 2> and <number of stocks 3> stock of <name stock 3>, for a total price of <total_price>€\"\n",
    "```\n"
   ]
  },
  {
   "cell_type": "code",
   "execution_count": 90,
   "metadata": {},
   "outputs": [],
   "source": [
    "total_stocks = stocks[0][2] + stocks[1][2] + stocks [2][2]\n",
    "total_price = (1 * stocks[0][1]) + (2 * stocks[1][1]) + (3 * stocks[2][1])\n",
    "stock_buy_order = \"I want to buy a total of \" + str(total_stocks) + \" stocks. I want 1 stock of ICA, 2 stocks of VCT and 3 stocks of CUT, for a total price of \" + str(total_price) + \"€\""
   ]
  },
  {
   "cell_type": "code",
   "execution_count": 91,
   "metadata": {},
   "outputs": [
    {
     "name": "stdout",
     "output_type": "stream",
     "text": [
      "Expected:\n",
      "I want to buy a total of 6 stocks. I want 1 stock of ICA, 2 stocks of VCT and 3 stocks of CUT, for a total price of 118.38€\n",
      "Your solution:\n",
      "I want to buy a total of 6 stocks. I want 1 stock of ICA, 2 stocks of VCT and 3 stocks of CUT, for a total price of 118.38€\n",
      "All basic tests passed! Good job!\n"
     ]
    }
   ],
   "source": [
    "test_exercise_8_4(stocks, total_stocks, total_price, stock_buy_order)"
   ]
  },
  {
   "cell_type": "markdown",
   "metadata": {},
   "source": [
    "5. **Create a dictionary of dictionaries with all your stocks, name it stocks_dict. The output dictionary should be similar to the following example:**\n",
    "\n",
    "    ```python\n",
    "    stocks_dict = {\n",
    "        \"stock_1\": {\n",
    "            \"stock_abb\": name_stock_1,\n",
    "            \"stock_price\": price_stock_1,\n",
    "            \"stock_quantity\": quantity_owned,\n",
    "        },\n",
    "        #...\n",
    "    }\n",
    "    ```"
   ]
  },
  {
   "cell_type": "code",
   "execution_count": 95,
   "metadata": {},
   "outputs": [],
   "source": [
    "stocks_dict = {\"stock_1\":{\"stock_abb\": \"ICA\",\"stock_price\": 12.5,\"stock_quantity\": 1}, \"stock_2\":{\"stock_abb\": \"VCT\",\"stock_price\": 23.54,\"stock_quantity\": 2}, \"stock_3\":{\"stock_abb\": \"CUT\",\"stock_price\": 19.6,\"stock_quantity\": 3}}"
   ]
  },
  {
   "cell_type": "code",
   "execution_count": 96,
   "metadata": {},
   "outputs": [
    {
     "name": "stdout",
     "output_type": "stream",
     "text": [
      "All basic tests passed! Good job!\n"
     ]
    }
   ],
   "source": [
    "test_exercise_8_5(stocks_dict, stocks)"
   ]
  },
  {
   "cell_type": "markdown",
   "metadata": {},
   "source": [
    "# Exercise 9 - Shelter analysis"
   ]
  },
  {
   "cell_type": "markdown",
   "metadata": {},
   "source": [
    "The Nova's dog shelter sent you a data structure with the dogs that are currently on the shelter and they want to perform basic analytics to answer three questions."
   ]
  },
  {
   "cell_type": "code",
   "execution_count": 97,
   "metadata": {},
   "outputs": [],
   "source": [
    "dogs_shelter = {\n",
    "    \"fausto\": {\n",
    "        \"age\": 3,\n",
    "        \"adopted\": False,\n",
    "        \"owner\": None\n",
    "    },\n",
    "    \"pisco\": {\n",
    "        \"age\": 11,\n",
    "        \"adopted\": False,\n",
    "        \"owner\": None\n",
    "    },\n",
    "    \"plutao\": {\n",
    "        \"age\": 1,\n",
    "        \"adpoted\": True,\n",
    "        \"owner\": [\"Fabio\"]\n",
    "    }\n",
    "}"
   ]
  },
  {
   "cell_type": "markdown",
   "metadata": {},
   "source": [
    "1. What is the average age of the dogs in the shelter.\n",
    "\n",
    "(Your must answer programatically. In this case, **we will not accept** `fausto_age = 3`. You should do this by accessing the key in the dictionary `dogs_shelter`)"
   ]
  },
  {
   "cell_type": "code",
   "execution_count": 120,
   "metadata": {},
   "outputs": [],
   "source": [
    "# replace the None with your answers\n",
    "fausto_age = dogs_shelter[\"fausto\"][\"age\"]\n",
    "pisco_age = dogs_shelter[\"pisco\"][\"age\"]\n",
    "plutao_age = dogs_shelter[\"plutao\"][\"age\"]\n",
    "\n",
    "list_dog_age = [fausto_age, pisco_age, plutao_age]\n",
    "average_age = sum(list_dog_age)/len(dogs_shelter)"
   ]
  },
  {
   "cell_type": "code",
   "execution_count": 121,
   "metadata": {},
   "outputs": [
    {
     "name": "stdout",
     "output_type": "stream",
     "text": [
      "All basic tests passed! Good job!\n"
     ]
    }
   ],
   "source": [
    "test_exercise_9_1(fausto_age, pisco_age, plutao_age, average_age)"
   ]
  },
  {
   "cell_type": "markdown",
   "metadata": {},
   "source": [
    "**2. How many dogs are in the shelter?** \n",
    "\n",
    "(Again, you must answer programatically and not `nr_dogs=3`)"
   ]
  },
  {
   "cell_type": "code",
   "execution_count": 122,
   "metadata": {},
   "outputs": [],
   "source": [
    "nr_dogs = len(dogs_shelter)"
   ]
  },
  {
   "cell_type": "code",
   "execution_count": 123,
   "metadata": {},
   "outputs": [
    {
     "name": "stdout",
     "output_type": "stream",
     "text": [
      "All basic tests passed! Good job!\n"
     ]
    }
   ],
   "source": [
    "test_exercise_9_2(nr_dogs)"
   ]
  }
 ],
 "metadata": {
  "kernelspec": {
   "display_name": "Python 3 (ipykernel)",
   "language": "python",
   "name": "python3"
  },
  "language_info": {
   "codemirror_mode": {
    "name": "ipython",
    "version": 3
   },
   "file_extension": ".py",
   "mimetype": "text/x-python",
   "name": "python",
   "nbconvert_exporter": "python",
   "pygments_lexer": "ipython3",
   "version": "3.9.7"
  }
 },
 "nbformat": 4,
 "nbformat_minor": 4
}
