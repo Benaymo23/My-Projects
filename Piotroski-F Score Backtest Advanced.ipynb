{
 "cells": [
  {
   "cell_type": "markdown",
   "metadata": {},
   "source": [
    "# Data Analytics for Finance: Final Project"
   ]
  },
  {
   "cell_type": "markdown",
   "metadata": {},
   "source": [
    "**Student Name:** Omar Ben Ayed\n",
    "\n",
    "**Student Number:** 38628\n",
    "\n",
    "**Signal Name (e.g., Book to Market):** Piotroski F-score\n",
    "\n",
    "**Signal Code (e.g., be_me):** f_score"
   ]
  },
  {
   "cell_type": "markdown",
   "metadata": {},
   "source": [
    "## Imports and initial adjustments"
   ]
  },
  {
   "cell_type": "code",
   "execution_count": null,
   "metadata": {
    "dotnet_interactive": {
     "language": "fsharp"
    },
    "vscode": {
     "languageId": "dotnet-interactive.fsharp"
    }
   },
   "outputs": [
    {
     "data": {
      "text/html": [
       "<div><div></div><div></div><div><strong>Installed Packages</strong><ul><li><span>Accord, 3.8.0</span></li><li><span>Accord.Statistics, 3.8.0</span></li><li><span>DiffSharp-lite, 1.0.7</span></li><li><span>FsExcel, 0.0.37</span></li><li><span>FSharp.Data, 4.2.8</span></li><li><span>FSharp.Stats, 0.4.5</span></li><li><span>Plotly.NET, 2.0.0-preview.17</span></li><li><span>Plotly.NET.Interactive, 2.0.0-preview.17</span></li></ul></div></div>"
      ]
     },
     "metadata": {},
     "output_type": "display_data"
    },
    {
     "data": {
      "text/markdown": [
       "Loading extensions from `Plotly.NET.Interactive.dll`"
      ]
     },
     "metadata": {},
     "output_type": "display_data"
    }
   ],
   "source": [
    "#r \"nuget: FSharp.Data\"\n",
    "#r \"nuget: FSharp.Stats\"\n",
    "#r \"nuget: Plotly.NET,2.0.0-preview.17\"\n",
    "#r \"nuget: Plotly.NET.Interactive,2.0.0-preview.17\"\n",
    "#r \"nuget: FsExcel\"\n",
    "#r \"nuget: DiffSharp-lite\"\n",
    "#r \"nuget: Accord\"\n",
    "#r \"nuget: Accord.Statistics\"\n",
    "#load \"Common.fsx\"\n",
    "#load \"YahooFinance.fsx\"\n",
    "#load \"Portfolio.fsx\"\n",
    "open Portfolio\n",
    "open Common\n",
    "open YahooFinance\n",
    "open Accord\n",
    "open Accord.Statistics.Models.Regression.Linear\n",
    "open System.IO\n",
    "open FsExcel\n",
    "open System\n",
    "open FSharp.Data\n",
    "open FSharp.Stats\n",
    "open Plotly.NET\n",
    "open DiffSharp"
   ]
  },
  {
   "cell_type": "code",
   "execution_count": null,
   "metadata": {
    "dotnet_interactive": {
     "language": "fsharp"
    },
    "vscode": {
     "languageId": "dotnet-interactive.fsharp"
    }
   },
   "outputs": [],
   "source": [
    "// Set dotnet interactive formatter to plaintext\n",
    "Formatter.Register(fun (x:obj) (writer: TextWriter) -> fprintfn writer \"%120A\" x )\n",
    "Formatter.SetPreferredMimeTypesFor(typeof<obj>, \"text/plain\")\n",
    "// Make plotly graphs work with interactive plaintext formatter\n",
    "Formatter.SetPreferredMimeTypesFor(typeof<GenericChart.GenericChart>,\"text/html\")"
   ]
  },
  {
   "cell_type": "code",
   "execution_count": null,
   "metadata": {
    "dotnet_interactive": {
     "language": "fsharp"
    },
    "vscode": {
     "languageId": "dotnet-interactive.fsharp"
    }
   },
   "outputs": [],
   "source": [
    "// setting to current directory\n",
    "let [<Literal>] ResolutionFolder = __SOURCE_DIRECTORY__\n",
    "Environment.CurrentDirectory <- ResolutionFolder"
   ]
  },
  {
   "cell_type": "code",
   "execution_count": null,
   "metadata": {
    "dotnet_interactive": {
     "language": "fsharp"
    },
    "vscode": {
     "languageId": "dotnet-interactive.fsharp"
    }
   },
   "outputs": [],
   "source": [
    "let [<Literal>] IdAndReturnsFilePath = \"data/id_and_return_data.csv\"\n",
    "let [<Literal>] MySignalFilePath = \"data/f_score.csv\""
   ]
  },
  {
   "cell_type": "code",
   "execution_count": null,
   "metadata": {
    "dotnet_interactive": {
     "language": "fsharp"
    },
    "vscode": {
     "languageId": "dotnet-interactive.fsharp"
    }
   },
   "outputs": [],
   "source": [
    "type IdAndReturnsType = \n",
    "    CsvProvider<Sample=IdAndReturnsFilePath,\n",
    "                // The schema parameter is not required,\n",
    "                // but I am using it to override some column types\n",
    "                // to make filtering easier.\n",
    "                // If I didn't do this these particular columns \n",
    "                // would have strings of \"1\" or \"0\", but explicit boolean is nicer.\n",
    "                Schema=\"obsMain(string)->obsMain=bool,exchMain(string)->exchMain=bool\",\n",
    "                ResolutionFolder=ResolutionFolder>\n",
    "\n",
    "type MySignalType = \n",
    "    CsvProvider<MySignalFilePath,\n",
    "                ResolutionFolder=ResolutionFolder>"
   ]
  },
  {
   "cell_type": "code",
   "execution_count": null,
   "metadata": {
    "dotnet_interactive": {
     "language": "fsharp"
    },
    "vscode": {
     "languageId": "dotnet-interactive.fsharp"
    }
   },
   "outputs": [],
   "source": [
    "let idAndReturnsCsv = IdAndReturnsType.GetSample()\n",
    "\n",
    "let mySignalCsv = MySignalType.GetSample()"
   ]
  },
  {
   "cell_type": "markdown",
   "metadata": {},
   "source": [
    "## Overview"
   ]
  },
  {
   "cell_type": "markdown",
   "metadata": {},
   "source": [
    "Available in the PDF file."
   ]
  },
  {
   "cell_type": "markdown",
   "metadata": {},
   "source": [
    "## Strategy analysis"
   ]
  },
  {
   "cell_type": "markdown",
   "metadata": {},
   "source": [
    "### Strategy construction"
   ]
  },
  {
   "cell_type": "code",
   "execution_count": null,
   "metadata": {
    "dotnet_interactive": {
     "language": "fsharp"
    },
    "vscode": {
     "languageId": "dotnet-interactive.fsharp"
    }
   },
   "outputs": [],
   "source": [
    "let idAndReturnsRows = idAndReturnsCsv.Rows |> Seq.toList\n",
    "let mySignalRows = mySignalCsv.Rows |> Seq.toList"
   ]
  },
  {
   "cell_type": "code",
   "execution_count": null,
   "metadata": {
    "dotnet_interactive": {
     "language": "fsharp"
    },
    "vscode": {
     "languageId": "dotnet-interactive.fsharp"
    }
   },
   "outputs": [],
   "source": [
    "type NonMissingSignal =\n",
    "    {\n",
    "        Id: string\n",
    "        Eom: DateTime\n",
    "        Signal: float\n",
    "    }\n",
    "\n",
    "let myNonMissingSignals =\n",
    "    mySignalRows\n",
    "    |> List.choose (fun row -> \n",
    "        match row.Signal with\n",
    "        | None -> None\n",
    "        | Some signal -> \n",
    "            Some { Id = row.Id; Eom = row.Eom; Signal = signal })"
   ]
  },
  {
   "cell_type": "code",
   "execution_count": null,
   "metadata": {
    "dotnet_interactive": {
     "language": "fsharp"
    },
    "vscode": {
     "languageId": "dotnet-interactive.fsharp"
    }
   },
   "outputs": [],
   "source": [
    "let strategyName = \"Piotroski F-Score\"\n",
    "\n",
    "let msfBySecurityIdAndMonth =\n",
    "    idAndReturnsRows\n",
    "    |> List.map(fun row -> \n",
    "        let id = Other row.Id\n",
    "        let month = DateTime(row.Eom.Year,row.Eom.Month,1)\n",
    "        let key = id, month\n",
    "        key, row)\n",
    "    |> Map    \n",
    "\n",
    "let signalBySecurityIdAndMonth =\n",
    "    mySignalRows\n",
    "    |> List.choose(fun row -> \n",
    "        // we'll use choose to drop the security if the signal is None.\n",
    "        // The signal is None when it is missing.\n",
    "        match row.Signal with\n",
    "        | None -> None // choose will drop these None observations\n",
    "        | Some signal ->\n",
    "            let id = Other row.Id\n",
    "            let month = DateTime(row.Eom.Year,row.Eom.Month,1)\n",
    "            let key = id, month\n",
    "            // choose will convert Some(key,signal) into\n",
    "            // (key,signal) and keep that.\n",
    "            Some (key, signal))\n",
    "    |> Map    \n",
    "\n",
    "// securitiesByFormationMonth refers \n",
    "let securitiesByFormationMonth =\n",
    "    idAndReturnsRows\n",
    "    |> List.groupBy(fun x -> DateTime(x.Eom.Year, x.Eom.Month,1))\n",
    "    |> List.map(fun (ym, obsThisMonth) -> \n",
    "        let idsThisMonth = [ for x in obsThisMonth do Other x.Id ]\n",
    "        ym, idsThisMonth)\n",
    "    |> Map\n",
    "\n",
    "let getInvestmentUniverse formationMonth =\n",
    "    match Map.tryFind formationMonth securitiesByFormationMonth with\n",
    "    | Some securities -> \n",
    "        { FormationMonth = formationMonth \n",
    "          Securities = securities }\n",
    "    | None -> failwith $\"{formationMonth} is not in the date range\""
   ]
  },
  {
   "cell_type": "code",
   "execution_count": null,
   "metadata": {
    "dotnet_interactive": {
     "language": "fsharp"
    },
    "vscode": {
     "languageId": "dotnet-interactive.fsharp"
    }
   },
   "outputs": [],
   "source": [
    "let securitiesByFormationMonth =\n",
    "    idAndReturnsRows\n",
    "    |> List.groupBy(fun x -> DateTime(x.Eom.Year, x.Eom.Month,1))\n",
    "    |> List.map(fun (ym, obsThisMonth) -> \n",
    "        let idsThisMonth = [ for x in obsThisMonth do Other x.Id ]\n",
    "        ym, idsThisMonth)\n",
    "    |> Map\n",
    "\n",
    "let getInvestmentUniverse formationMonth =\n",
    "    match Map.tryFind formationMonth securitiesByFormationMonth with\n",
    "    | Some securities -> \n",
    "        { FormationMonth = formationMonth \n",
    "          Securities = securities }\n",
    "    | None -> failwith $\"{formationMonth} is not in the date range\""
   ]
  },
  {
   "cell_type": "code",
   "execution_count": null,
   "metadata": {
    "dotnet_interactive": {
     "language": "fsharp"
    },
    "vscode": {
     "languageId": "dotnet-interactive.fsharp"
    }
   },
   "outputs": [],
   "source": [
    "let getMySignal (securityId, formationMonth) =\n",
    "    match Map.tryFind (securityId, formationMonth) signalBySecurityIdAndMonth with\n",
    "    | None -> None\n",
    "    | Some signal ->\n",
    "        Some { SecurityId = securityId \n",
    "               // if a high signal means low returns,\n",
    "               // use `-signal` here instead of `signal`\n",
    "               Signal = signal }"
   ]
  },
  {
   "cell_type": "code",
   "execution_count": null,
   "metadata": {
    "dotnet_interactive": {
     "language": "fsharp"
    },
    "vscode": {
     "languageId": "dotnet-interactive.fsharp"
    }
   },
   "outputs": [],
   "source": [
    "let getMySignals (investmentUniverse: InvestmentUniverse) =\n",
    "    let listOfSecuritySignals =\n",
    "        investmentUniverse.Securities\n",
    "        |> List.choose(fun security -> \n",
    "            getMySignal (security, investmentUniverse.FormationMonth))    \n",
    "    \n",
    "    { FormationMonth = investmentUniverse.FormationMonth \n",
    "      Signals = listOfSecuritySignals }\n",
    "\n",
    "let getMarketCap (security, formationMonth) =\n",
    "    match Map.tryFind (security, formationMonth) msfBySecurityIdAndMonth with\n",
    "    | None -> None\n",
    "    | Some row -> \n",
    "        match row.MarketEquity with\n",
    "        | None -> None\n",
    "        | Some me -> Some (security, me)\n",
    "\n",
    "let getSecurityReturn (security, formationMonth) =\n",
    "    // If the security has a missing return, assume that we got 0.0.\n",
    "    // Note: If we were doing excess returns, we would need 0.0 - rf.\n",
    "    let missingReturn = 0.0\n",
    "    match Map.tryFind (security, formationMonth) msfBySecurityIdAndMonth with\n",
    "    | None -> security, missingReturn\n",
    "    | Some x ->  \n",
    "        match x.Ret with \n",
    "        | None -> security, missingReturn\n",
    "        | Some r -> security, r"
   ]
  },
  {
   "cell_type": "code",
   "execution_count": null,
   "metadata": {
    "dotnet_interactive": {
     "language": "fsharp"
    },
    "vscode": {
     "languageId": "dotnet-interactive.fsharp"
    }
   },
   "outputs": [],
   "source": [
    "let startSample = \n",
    "    idAndReturnsRows\n",
    "    |> List.map(fun row -> DateTime(row.Eom.Year,row.Eom.Month,1))\n",
    "    |> List.min\n",
    "\n",
    "let endSample = \n",
    "    let lastMonthWithData = \n",
    "        idAndReturnsRows\n",
    "        |> Seq.map(fun row -> DateTime(row.Eom.Year,row.Eom.Month,1))\n",
    "        |> Seq.max\n",
    "    // The end of sample is the last month when we have returns.\n",
    "    // So the last month when we can form portfolios is one month\n",
    "    // before that.\n",
    "    lastMonthWithData.AddMonths(-1) \n",
    "\n",
    "let sampleMonths = getSampleMonths (startSample, endSample)"
   ]
  },
  {
   "cell_type": "code",
   "execution_count": null,
   "metadata": {
    "dotnet_interactive": {
     "language": "fsharp"
    },
    "vscode": {
     "languageId": "dotnet-interactive.fsharp"
    }
   },
   "outputs": [],
   "source": [
    "let isObsMain (security, formationMonth) =\n",
    "    match Map.tryFind (security, formationMonth) msfBySecurityIdAndMonth with\n",
    "    | None -> false\n",
    "    | Some row -> row.ObsMain\n",
    "\n",
    "let isPrimarySecurity (security, formationMonth) =\n",
    "    match Map.tryFind (security, formationMonth) msfBySecurityIdAndMonth with\n",
    "    | None -> false\n",
    "    | Some row -> row.PrimarySec\n",
    "\n",
    "let isCommonStock (security, formationMonth) =\n",
    "    match Map.tryFind (security, formationMonth) msfBySecurityIdAndMonth with\n",
    "    | None -> false\n",
    "    | Some row -> row.Common\n",
    "\n",
    "let isExchMain (security, formationMonth) =\n",
    "    match Map.tryFind (security, formationMonth) msfBySecurityIdAndMonth with\n",
    "    | None -> false\n",
    "    | Some row -> row.ExchMain\n",
    "\n",
    "let hasMarketEquity (security, formationMonth) =\n",
    "    match Map.tryFind (security, formationMonth) msfBySecurityIdAndMonth with\n",
    "    | None -> false\n",
    "    | Some row -> row.MarketEquity.IsSome\n",
    "\n",
    "let myFilters securityAndFormationMonth =\n",
    "    isObsMain securityAndFormationMonth &&\n",
    "    isPrimarySecurity securityAndFormationMonth &&\n",
    "    isCommonStock securityAndFormationMonth &&\n",
    "    isExchMain securityAndFormationMonth &&\n",
    "    isExchMain securityAndFormationMonth &&\n",
    "    hasMarketEquity securityAndFormationMonth\n",
    "\n",
    "let doMyFilters (universe:InvestmentUniverse) =\n",
    "    let filtered = \n",
    "        universe.Securities\n",
    "        // my filters expect security, formationMonth\n",
    "        |> List.map(fun security -> security, universe.FormationMonth)\n",
    "        // do the filters\n",
    "        |> List.filter myFilters\n",
    "        // now convert back from security, formationMonth -> security\n",
    "        |> List.map fst\n",
    "    { universe with Securities = filtered }"
   ]
  },
  {
   "cell_type": "code",
   "execution_count": null,
   "metadata": {
    "dotnet_interactive": {
     "language": "fsharp"
    },
    "vscode": {
     "languageId": "dotnet-interactive.fsharp"
    }
   },
   "outputs": [],
   "source": [
    "let formStrategy ym =\n",
    "    ym\n",
    "    |> getInvestmentUniverse\n",
    "    |> doMyFilters\n",
    "    |> getMySignals\n",
    "    |> assignSignalSort strategyName 3\n",
    "    |> List.map (giveValueWeights getMarketCap)\n",
    "    |> List.map (getPortfolioReturn getSecurityReturn) \n",
    "\n",
    "let doParallel = true\n",
    "let portfolios =\n",
    "    if doParallel then\n",
    "        sampleMonths\n",
    "        |> List.toArray\n",
    "        |> Array.Parallel.map formStrategy\n",
    "        |> Array.toList\n",
    "        |> List.collect id\n",
    "    else\n",
    "        sampleMonths\n",
    "        |> List.collect formStrategy"
   ]
  },
  {
   "cell_type": "markdown",
   "metadata": {},
   "source": [
    "### Performance analysis"
   ]
  },
  {
   "cell_type": "code",
   "execution_count": null,
   "metadata": {
    "dotnet_interactive": {
     "language": "fsharp"
    },
    "vscode": {
     "languageId": "dotnet-interactive.fsharp"
    }
   },
   "outputs": [],
   "source": [
    "let ff3 = French.getFF3 Frequency.Monthly\n",
    "let monthlyRiskFreeRate =\n",
    "    [ for obs in ff3 do \n",
    "        let key = DateTime(obs.Date.Year,obs.Date.Month,1)\n",
    "        key, obs.Rf ]\n",
    "    |> Map\n",
    "\n",
    "let portfolioExcessReturns =\n",
    "    portfolios\n",
    "    |> List.map(fun x -> \n",
    "        match Map.tryFind x.YearMonth monthlyRiskFreeRate with \n",
    "        | None -> failwith $\"Can't find risk-free rate for {x.YearMonth}\"\n",
    "        | Some rf -> { x with Return = x.Return - rf })"
   ]
  },
  {
   "cell_type": "code",
   "execution_count": null,
   "metadata": {
    "dotnet_interactive": {
     "language": "fsharp"
    },
    "vscode": {
     "languageId": "dotnet-interactive.fsharp"
    }
   },
   "outputs": [],
   "source": [
    "type StockData =\n",
    "    { Symbol : string \n",
    "      Date : DateTime\n",
    "      Return : float }"
   ]
  },
  {
   "cell_type": "code",
   "execution_count": null,
   "metadata": {
    "dotnet_interactive": {
     "language": "fsharp"
    },
    "vscode": {
     "languageId": "dotnet-interactive.fsharp"
    }
   },
   "outputs": [],
   "source": [
    "let long = \n",
    "    portfolioExcessReturns \n",
    "    |> List.filter(fun x -> \n",
    "        x.PortfolioId = Indexed {| Name = strategyName; Index = 3 |})"
   ]
  },
  {
   "cell_type": "code",
   "execution_count": null,
   "metadata": {
    "dotnet_interactive": {
     "language": "fsharp"
    },
    "vscode": {
     "languageId": "dotnet-interactive.fsharp"
    }
   },
   "outputs": [],
   "source": [
    "let vwMktRf =\n",
    "    let portfolioMonths = \n",
    "        portfolioExcessReturns \n",
    "        |> List.map(fun x -> x.YearMonth)\n",
    "    let minYm = portfolioMonths |> List.min\n",
    "    let maxYm = portfolioMonths |> List.max\n",
    "    \n",
    "    [ for x in ff3 do\n",
    "        if x.Date >= minYm && x.Date <= maxYm then\n",
    "            { PortfolioId = Named(\"Mkt-Rf\")\n",
    "              YearMonth = x.Date\n",
    "              Return = x.MktRf } ]\n",
    "\n",
    "let short = \n",
    "    portfolioExcessReturns \n",
    "    |> List.filter(fun x -> \n",
    "        x.PortfolioId = Indexed {| Name = strategyName; Index = 1 |})\n",
    "\n",
    "let longShort = \n",
    "    let shortByYearMonthMap = \n",
    "        short \n",
    "        |> List.map(fun row -> row.YearMonth, row) \n",
    "        |> Map\n",
    "    \n",
    "    [ for longObs in long do\n",
    "        match Map.tryFind longObs.YearMonth shortByYearMonthMap with\n",
    "        | None -> failwith \"probably your date variables are not aligned for a weird reason\"\n",
    "        | Some shortObs ->\n",
    "            { PortfolioId = Named \"Long-Short\"\n",
    "              YearMonth = longObs.YearMonth\n",
    "              Return = longObs.Return - shortObs.Return } ] "
   ]
  },
  {
   "cell_type": "code",
   "execution_count": null,
   "metadata": {
    "dotnet_interactive": {
     "language": "fsharp"
    },
    "vscode": {
     "languageId": "dotnet-interactive.fsharp"
    }
   },
   "outputs": [],
   "source": [
    "let cumulateSimpleReturn (xs: PortfolioReturn list) =\n",
    "    let accumulator (priorObs:PortfolioReturn) (thisObs:PortfolioReturn) =\n",
    "        let asOfNow = (1.0 + priorObs.Return)*(1.0 + thisObs.Return) - 1.0\n",
    "        { thisObs with Return = asOfNow}\n",
    "    // remember to make sure that your sort order is correct.\n",
    "    match xs |> List.sortBy(fun x -> x.YearMonth) with\n",
    "    | [] -> []      // return empty list if the input list is empty\n",
    "    | head::tail -> // if there are observations do the calculation\n",
    "        (head, tail) \n",
    "        ||> List.scan accumulator"
   ]
  },
  {
   "cell_type": "code",
   "execution_count": null,
   "metadata": {
    "dotnet_interactive": {
     "language": "fsharp"
    },
    "vscode": {
     "languageId": "dotnet-interactive.fsharp"
    }
   },
   "outputs": [],
   "source": [
    "let portfolioReturnPlot (xs:PortfolioReturn list) =\n",
    "    xs\n",
    "    |> List.map(fun x -> x.YearMonth, x.Return)\n",
    "    |> Chart.Line \n",
    "    |> Chart.withTitle \"Growth of 1 Euro\"\n",
    "\n",
    "let chartStrategyAnalysis =\n",
    "    List.concat [long; longShort; vwMktRf]\n",
    "    |> List.groupBy(fun x -> x.PortfolioId)\n",
    "    |> List.map(fun (portId, xs) ->\n",
    "        xs\n",
    "        |> cumulateSimpleReturn\n",
    "        |> portfolioReturnPlot\n",
    "        |> Chart.withTraceInfo (Name=portId.ToString())\n",
    "        |> Chart.withTitle \"Strategy Analysis: Market, Short and Long-Short\")\n",
    "    |> Chart.combine"
   ]
  },
  {
   "cell_type": "code",
   "execution_count": null,
   "metadata": {
    "dotnet_interactive": {
     "language": "fsharp"
    },
    "vscode": {
     "languageId": "dotnet-interactive.fsharp"
    }
   },
   "outputs": [
    {
     "data": {
      "text/html": [
       "<div id=\"a2544746-4fb3-41a5-bacf-316b2e75e1fe\"><!-- Plotly chart will be drawn inside this DIV --></div>\r\n",
       "<script type=\"text/javascript\">\r\n",
       "\r\n",
       "            var renderPlotly_a25447464fb341a5bacf316b2e75e1fe = function() {\r\n",
       "            var fsharpPlotlyRequire = requirejs.config({context:'fsharp-plotly',paths:{plotly:'https://cdn.plot.ly/plotly-2.6.3.min'}}) || require;\r\n",
       "            fsharpPlotlyRequire(['plotly'], function(Plotly) {\r\n",
       "\r\n",
       "            var data = [{\"type\":\"scatter\",\"mode\":\"lines\",\"x\":[\"2000-02-01T00:00:00\",\"2000-03-01T00:00:00\",\"2000-04-01T00:00:00\",\"2000-05-01T00:00:00\",\"2000-06-01T00:00:00\",\"2000-07-01T00:00:00\",\"2000-08-01T00:00:00\",\"2000-09-01T00:00:00\",\"2000-10-01T00:00:00\",\"2000-11-01T00:00:00\",\"2000-12-01T00:00:00\",\"2001-01-01T00:00:00\",\"2001-02-01T00:00:00\",\"2001-03-01T00:00:00\",\"2001-04-01T00:00:00\",\"2001-05-01T00:00:00\",\"2001-06-01T00:00:00\",\"2001-07-01T00:00:00\",\"2001-08-01T00:00:00\",\"2001-09-01T00:00:00\",\"2001-10-01T00:00:00\",\"2001-11-01T00:00:00\",\"2001-12-01T00:00:00\",\"2002-01-01T00:00:00\",\"2002-02-01T00:00:00\",\"2002-03-01T00:00:00\",\"2002-04-01T00:00:00\",\"2002-05-01T00:00:00\",\"2002-06-01T00:00:00\",\"2002-07-01T00:00:00\",\"2002-08-01T00:00:00\",\"2002-09-01T00:00:00\",\"2002-10-01T00:00:00\",\"2002-11-01T00:00:00\",\"2002-12-01T00:00:00\",\"2003-01-01T00:00:00\",\"2003-02-01T00:00:00\",\"2003-03-01T00:00:00\",\"2003-04-01T00:00:00\",\"2003-05-01T00:00:00\",\"2003-06-01T00:00:00\",\"2003-07-01T00:00:00\",\"2003-08-01T00:00:00\",\"2003-09-01T00:00:00\",\"2003-10-01T00:00:00\",\"2003-11-01T00:00:00\",\"2003-12-01T00:00:00\",\"2004-01-01T00:00:00\",\"2004-02-01T00:00:00\",\"2004-03-01T00:00:00\",\"2004-04-01T00:00:00\",\"2004-05-01T00:00:00\",\"2004-06-01T00:00:00\",\"2004-07-01T00:00:00\",\"2004-08-01T00:00:00\",\"2004-09-01T00:00:00\",\"2004-10-01T00:00:00\",\"2004-11-01T00:00:00\",\"2004-12-01T00:00:00\",\"2005-01-01T00:00:00\",\"2005-02-01T00:00:00\",\"2005-03-01T00:00:00\",\"2005-04-01T00:00:00\",\"2005-05-01T00:00:00\",\"2005-06-01T00:00:00\",\"2005-07-01T00:00:00\",\"2005-08-01T00:00:00\",\"2005-09-01T00:00:00\",\"2005-10-01T00:00:00\",\"2005-11-01T00:00:00\",\"2005-12-01T00:00:00\",\"2006-01-01T00:00:00\",\"2006-02-01T00:00:00\",\"2006-03-01T00:00:00\",\"2006-04-01T00:00:00\",\"2006-05-01T00:00:00\",\"2006-06-01T00:00:00\",\"2006-07-01T00:00:00\",\"2006-08-01T00:00:00\",\"2006-09-01T00:00:00\",\"2006-10-01T00:00:00\",\"2006-11-01T00:00:00\",\"2006-12-01T00:00:00\",\"2007-01-01T00:00:00\",\"2007-02-01T00:00:00\",\"2007-03-01T00:00:00\",\"2007-04-01T00:00:00\",\"2007-05-01T00:00:00\",\"2007-06-01T00:00:00\",\"2007-07-01T00:00:00\",\"2007-08-01T00:00:00\",\"2007-09-01T00:00:00\",\"2007-10-01T00:00:00\",\"2007-11-01T00:00:00\",\"2007-12-01T00:00:00\",\"2008-01-01T00:00:00\",\"2008-02-01T00:00:00\",\"2008-03-01T00:00:00\",\"2008-04-01T00:00:00\",\"2008-05-01T00:00:00\",\"2008-06-01T00:00:00\",\"2008-07-01T00:00:00\",\"2008-08-01T00:00:00\",\"2008-09-01T00:00:00\",\"2008-10-01T00:00:00\",\"2008-11-01T00:00:00\",\"2008-12-01T00:00:00\",\"2009-01-01T00:00:00\",\"2009-02-01T00:00:00\",\"2009-03-01T00:00:00\",\"2009-04-01T00:00:00\",\"2009-05-01T00:00:00\",\"2009-06-01T00:00:00\",\"2009-07-01T00:00:00\",\"2009-08-01T00:00:00\",\"2009-09-01T00:00:00\",\"2009-10-01T00:00:00\",\"2009-11-01T00:00:00\",\"2009-12-01T00:00:00\",\"2010-01-01T00:00:00\",\"2010-02-01T00:00:00\",\"2010-03-01T00:00:00\",\"2010-04-01T00:00:00\",\"2010-05-01T00:00:00\",\"2010-06-01T00:00:00\",\"2010-07-01T00:00:00\",\"2010-08-01T00:00:00\",\"2010-09-01T00:00:00\",\"2010-10-01T00:00:00\",\"2010-11-01T00:00:00\",\"2010-12-01T00:00:00\",\"2011-01-01T00:00:00\",\"2011-02-01T00:00:00\",\"2011-03-01T00:00:00\",\"2011-04-01T00:00:00\",\"2011-05-01T00:00:00\",\"2011-06-01T00:00:00\",\"2011-07-01T00:00:00\",\"2011-08-01T00:00:00\",\"2011-09-01T00:00:00\",\"2011-10-01T00:00:00\",\"2011-11-01T00:00:00\",\"2011-12-01T00:00:00\",\"2012-01-01T00:00:00\",\"2012-02-01T00:00:00\",\"2012-03-01T00:00:00\",\"2012-04-01T00:00:00\",\"2012-05-01T00:00:00\",\"2012-06-01T00:00:00\",\"2012-07-01T00:00:00\",\"2012-08-01T00:00:00\",\"2012-09-01T00:00:00\",\"2012-10-01T00:00:00\",\"2012-11-01T00:00:00\",\"2012-12-01T00:00:00\",\"2013-01-01T00:00:00\",\"2013-02-01T00:00:00\",\"2013-03-01T00:00:00\",\"2013-04-01T00:00:00\",\"2013-05-01T00:00:00\",\"2013-06-01T00:00:00\",\"2013-07-01T00:00:00\",\"2013-08-01T00:00:00\",\"2013-09-01T00:00:00\",\"2013-10-01T00:00:00\",\"2013-11-01T00:00:00\",\"2013-12-01T00:00:00\",\"2014-01-01T00:00:00\",\"2014-02-01T00:00:00\",\"2014-03-01T00:00:00\",\"2014-04-01T00:00:00\",\"2014-05-01T00:00:00\",\"2014-06-01T00:00:00\",\"2014-07-01T00:00:00\",\"2014-08-01T00:00:00\",\"2014-09-01T00:00:00\",\"2014-10-01T00:00:00\",\"2014-11-01T00:00:00\",\"2014-12-01T00:00:00\",\"2015-01-01T00:00:00\",\"2015-02-01T00:00:00\",\"2015-03-01T00:00:00\",\"2015-04-01T00:00:00\",\"2015-05-01T00:00:00\",\"2015-06-01T00:00:00\",\"2015-07-01T00:00:00\",\"2015-08-01T00:00:00\",\"2015-09-01T00:00:00\",\"2015-10-01T00:00:00\",\"2015-11-01T00:00:00\",\"2015-12-01T00:00:00\",\"2016-01-01T00:00:00\",\"2016-02-01T00:00:00\",\"2016-03-01T00:00:00\",\"2016-04-01T00:00:00\",\"2016-05-01T00:00:00\",\"2016-06-01T00:00:00\",\"2016-07-01T00:00:00\",\"2016-08-01T00:00:00\",\"2016-09-01T00:00:00\",\"2016-10-01T00:00:00\",\"2016-11-01T00:00:00\",\"2016-12-01T00:00:00\",\"2017-01-01T00:00:00\",\"2017-02-01T00:00:00\",\"2017-03-01T00:00:00\",\"2017-04-01T00:00:00\",\"2017-05-01T00:00:00\",\"2017-06-01T00:00:00\",\"2017-07-01T00:00:00\",\"2017-08-01T00:00:00\",\"2017-09-01T00:00:00\",\"2017-10-01T00:00:00\",\"2017-11-01T00:00:00\",\"2017-12-01T00:00:00\",\"2018-01-01T00:00:00\",\"2018-02-01T00:00:00\",\"2018-03-01T00:00:00\",\"2018-04-01T00:00:00\",\"2018-05-01T00:00:00\",\"2018-06-01T00:00:00\",\"2018-07-01T00:00:00\",\"2018-08-01T00:00:00\",\"2018-09-01T00:00:00\",\"2018-10-01T00:00:00\",\"2018-11-01T00:00:00\",\"2018-12-01T00:00:00\",\"2019-01-01T00:00:00\",\"2019-02-01T00:00:00\",\"2019-03-01T00:00:00\",\"2019-04-01T00:00:00\",\"2019-05-01T00:00:00\",\"2019-06-01T00:00:00\",\"2019-07-01T00:00:00\",\"2019-08-01T00:00:00\",\"2019-09-01T00:00:00\",\"2019-10-01T00:00:00\",\"2019-11-01T00:00:00\",\"2019-12-01T00:00:00\",\"2020-01-01T00:00:00\",\"2020-02-01T00:00:00\",\"2020-03-01T00:00:00\",\"2020-04-01T00:00:00\",\"2020-05-01T00:00:00\",\"2020-06-01T00:00:00\",\"2020-07-01T00:00:00\",\"2020-08-01T00:00:00\",\"2020-09-01T00:00:00\",\"2020-10-01T00:00:00\",\"2020-11-01T00:00:00\",\"2020-12-01T00:00:00\"],\"y\":[0.008162580224337086,0.09358273293586095,0.06196526183051376,0.01487930152428052,0.05864626173356258,0.027460822363354342,0.09100721435387782,0.016683666957661325,-0.010461970798302245,-0.08574877793124513,-0.06078106617046919,-0.05341689811334527,-0.13288619926881962,-0.18582644692663253,-0.12850617739931025,-0.12994618685363601,-0.1527463667932515,-0.1739636784959132,-0.2173397738762618,-0.2802828187917573,-0.25671273303554587,-0.21904453369068888,-0.20321742517295316,-0.2160462618164004,-0.22548947318854318,-0.1991329477880308,-0.25270832209038596,-0.26392635230986716,-0.3055557822531185,-0.35040631458198934,-0.3454010863756737,-0.40969871402441205,-0.37033445010834176,-0.3477048055536318,-0.3781385282135622,-0.39639800398549807,-0.4033708198587753,-0.3900611922559222,-0.34000943839726105,-0.30245718907200336,-0.2935662713621068,-0.2607260615548711,-0.23091747293113196,-0.24816586791351591,-0.19721107895169565,-0.18579217138617088,-0.15184260938773697,-0.1428787155857525,-0.12639645067200855,-0.1336754922930492,-0.14572886197285662,-0.1316523797743221,-0.11112490618037907,-0.14685578199078242,-0.15450695948445692,-0.12948299704431154,-0.11882561174014927,-0.07709860596390161,-0.050158677949261876,-0.06901271967913081,-0.038327816593599295,-0.057191804566404936,-0.09901699797385566,-0.06481631798746368,-0.053784310321259854,-0.011246104482342534,-0.016771677739694346,-0.0010092483197519098,-0.03268165897339903,-0.00014095110253586896,0.0010700020680642908,0.0492123602721366,0.032260102205899255,0.05094907328442533,0.06242459121726296,0.03231689243913016,0.0294712907695589,0.01660965595724906,0.03283940894561588,0.04401750407210425,0.08194976993028202,0.10620543152189033,0.10355288101235471,0.12416688504333195,0.10907823966480579,0.12913381752231579,0.17205037485303531,0.22363006336498548,0.20479923176838488,0.1736839512833035,0.18191359297530818,0.2312669669013332,0.2540236675900549,0.20088750075649808,0.19820922074517378,0.1140753040799547,0.10205922143808177,0.09089754824449203,0.13405690701387463,0.16991297663486593,0.08733389493445887,0.07749822609780121,0.08109340136865995,-0.03111696215120463,-0.20067064500740195,-0.25654337070770805,-0.2429463600576065,-0.2866615651184026,-0.35572235676980757,-0.3144082067848436,-0.26246007808756244,-0.21741366842886078,-0.21399758405504865,-0.16860821098167544,-0.15089310747611429,-0.11433074076773309,-0.1291800989628692,-0.07620844392683634,-0.04377874873446652,-0.07887782867324089,-0.051066735242377925,0.0013654885340426137,0.017112508858374786,-0.05245075566382307,-0.0994020261071048,-0.043075611854465956,-0.08141711894292758,0.006922318484747114,0.053368353275474956,0.06605556710602989,0.12772443186685378,0.14423480119841114,0.19584908779684773,0.2090688346718952,0.2507908055223129,0.22493156245970813,0.2032720991183754,0.163189069390683,0.08794263697478621,-0.013005367908692222,0.11813030431839078,0.12099345077764334,0.12433365109681649,0.17784844210660133,0.23604148181399842,0.2615207185247952,0.2488893143966051,0.16566722324977756,0.20931897782669395,0.2262724105146643,0.2604935335437528,0.29896759921733884,0.2789591510456131,0.28535841378896265,0.30341315885980435,0.38168630062878006,0.39995760720287254,0.4524346256942604,0.4653743820458096,0.4964933815174337,0.47887753585050663,0.5616175824883587,0.5115031959725274,0.5688378905967184,0.6477797743117948,0.6870753956822917,0.7266030280143159,0.6733122907037421,0.7532753966047858,0.7582944663632571,0.7688743165717145,0.809615517728012,0.8533842790230799,0.8101751609356826,0.8889578228114137,0.8500462409342329,0.8858827160370863,0.9251907903366967,0.9180240580640824,0.8767511937324262,0.9747946763569229,0.962369438076536,0.9656586531374081,0.9880152238697459,0.9464638483183705,0.9706915776967253,0.8469060719462516,0.8007412544069392,0.924942565712547,0.9286273859772598,0.883472135056564,0.7824691337655685,0.7870131634169275,0.9105329137945544,0.9046147912526215,0.9307103781328465,0.9382906416852821,1.0182966287038222,1.0105984648338309,1.0140314937707862,0.962543398682139,1.0155942221501775,1.0599385097643248,1.1029236408660914,1.1727357794232076,1.189432300113546,1.220645421748518,1.2658819342585654,1.2596563508772887,1.3146462738665265,1.3206068507821938,1.359820514261536,1.4157625170629573,1.4836942348277447,1.5079275092526037,1.6531861044838858,1.5235775839384065,1.4785177366858369,1.500898799794001,1.5705322836061995,1.582948318691726,1.6435588257375775,1.7156929123084286,1.720143581071714,1.4562956166478074,1.5064298182096345,1.2712424219722642,1.4798877151718806,1.5599688147114108,1.589082065862124,1.6899088330656586,1.5114035294754258,1.6735128274354047,1.689364298613719,1.6349093140376323,1.6593893222151697,1.7025230730429706,1.8041877629329162,1.89697063508084,1.9200605944406717,1.6713881699551396,1.384375003582166,1.7042510141249592,1.8435917369439236,1.9088519176260625,2.083991969789243,2.334055945852599,2.204506930143692,2.092456734339944,2.4012444166196287,2.5151960434786327],\"marker\":{},\"line\":{},\"name\":\"Piotroski F-Score: 3\"},{\"type\":\"scatter\",\"mode\":\"lines\",\"x\":[\"2000-02-01T00:00:00\",\"2000-03-01T00:00:00\",\"2000-04-01T00:00:00\",\"2000-05-01T00:00:00\",\"2000-06-01T00:00:00\",\"2000-07-01T00:00:00\",\"2000-08-01T00:00:00\",\"2000-09-01T00:00:00\",\"2000-10-01T00:00:00\",\"2000-11-01T00:00:00\",\"2000-12-01T00:00:00\",\"2001-01-01T00:00:00\",\"2001-02-01T00:00:00\",\"2001-03-01T00:00:00\",\"2001-04-01T00:00:00\",\"2001-05-01T00:00:00\",\"2001-06-01T00:00:00\",\"2001-07-01T00:00:00\",\"2001-08-01T00:00:00\",\"2001-09-01T00:00:00\",\"2001-10-01T00:00:00\",\"2001-11-01T00:00:00\",\"2001-12-01T00:00:00\",\"2002-01-01T00:00:00\",\"2002-02-01T00:00:00\",\"2002-03-01T00:00:00\",\"2002-04-01T00:00:00\",\"2002-05-01T00:00:00\",\"2002-06-01T00:00:00\",\"2002-07-01T00:00:00\",\"2002-08-01T00:00:00\",\"2002-09-01T00:00:00\",\"2002-10-01T00:00:00\",\"2002-11-01T00:00:00\",\"2002-12-01T00:00:00\",\"2003-01-01T00:00:00\",\"2003-02-01T00:00:00\",\"2003-03-01T00:00:00\",\"2003-04-01T00:00:00\",\"2003-05-01T00:00:00\",\"2003-06-01T00:00:00\",\"2003-07-01T00:00:00\",\"2003-08-01T00:00:00\",\"2003-09-01T00:00:00\",\"2003-10-01T00:00:00\",\"2003-11-01T00:00:00\",\"2003-12-01T00:00:00\",\"2004-01-01T00:00:00\",\"2004-02-01T00:00:00\",\"2004-03-01T00:00:00\",\"2004-04-01T00:00:00\",\"2004-05-01T00:00:00\",\"2004-06-01T00:00:00\",\"2004-07-01T00:00:00\",\"2004-08-01T00:00:00\",\"2004-09-01T00:00:00\",\"2004-10-01T00:00:00\",\"2004-11-01T00:00:00\",\"2004-12-01T00:00:00\",\"2005-01-01T00:00:00\",\"2005-02-01T00:00:00\",\"2005-03-01T00:00:00\",\"2005-04-01T00:00:00\",\"2005-05-01T00:00:00\",\"2005-06-01T00:00:00\",\"2005-07-01T00:00:00\",\"2005-08-01T00:00:00\",\"2005-09-01T00:00:00\",\"2005-10-01T00:00:00\",\"2005-11-01T00:00:00\",\"2005-12-01T00:00:00\",\"2006-01-01T00:00:00\",\"2006-02-01T00:00:00\",\"2006-03-01T00:00:00\",\"2006-04-01T00:00:00\",\"2006-05-01T00:00:00\",\"2006-06-01T00:00:00\",\"2006-07-01T00:00:00\",\"2006-08-01T00:00:00\",\"2006-09-01T00:00:00\",\"2006-10-01T00:00:00\",\"2006-11-01T00:00:00\",\"2006-12-01T00:00:00\",\"2007-01-01T00:00:00\",\"2007-02-01T00:00:00\",\"2007-03-01T00:00:00\",\"2007-04-01T00:00:00\",\"2007-05-01T00:00:00\",\"2007-06-01T00:00:00\",\"2007-07-01T00:00:00\",\"2007-08-01T00:00:00\",\"2007-09-01T00:00:00\",\"2007-10-01T00:00:00\",\"2007-11-01T00:00:00\",\"2007-12-01T00:00:00\",\"2008-01-01T00:00:00\",\"2008-02-01T00:00:00\",\"2008-03-01T00:00:00\",\"2008-04-01T00:00:00\",\"2008-05-01T00:00:00\",\"2008-06-01T00:00:00\",\"2008-07-01T00:00:00\",\"2008-08-01T00:00:00\",\"2008-09-01T00:00:00\",\"2008-10-01T00:00:00\",\"2008-11-01T00:00:00\",\"2008-12-01T00:00:00\",\"2009-01-01T00:00:00\",\"2009-02-01T00:00:00\",\"2009-03-01T00:00:00\",\"2009-04-01T00:00:00\",\"2009-05-01T00:00:00\",\"2009-06-01T00:00:00\",\"2009-07-01T00:00:00\",\"2009-08-01T00:00:00\",\"2009-09-01T00:00:00\",\"2009-10-01T00:00:00\",\"2009-11-01T00:00:00\",\"2009-12-01T00:00:00\",\"2010-01-01T00:00:00\",\"2010-02-01T00:00:00\",\"2010-03-01T00:00:00\",\"2010-04-01T00:00:00\",\"2010-05-01T00:00:00\",\"2010-06-01T00:00:00\",\"2010-07-01T00:00:00\",\"2010-08-01T00:00:00\",\"2010-09-01T00:00:00\",\"2010-10-01T00:00:00\",\"2010-11-01T00:00:00\",\"2010-12-01T00:00:00\",\"2011-01-01T00:00:00\",\"2011-02-01T00:00:00\",\"2011-03-01T00:00:00\",\"2011-04-01T00:00:00\",\"2011-05-01T00:00:00\",\"2011-06-01T00:00:00\",\"2011-07-01T00:00:00\",\"2011-08-01T00:00:00\",\"2011-09-01T00:00:00\",\"2011-10-01T00:00:00\",\"2011-11-01T00:00:00\",\"2011-12-01T00:00:00\",\"2012-01-01T00:00:00\",\"2012-02-01T00:00:00\",\"2012-03-01T00:00:00\",\"2012-04-01T00:00:00\",\"2012-05-01T00:00:00\",\"2012-06-01T00:00:00\",\"2012-07-01T00:00:00\",\"2012-08-01T00:00:00\",\"2012-09-01T00:00:00\",\"2012-10-01T00:00:00\",\"2012-11-01T00:00:00\",\"2012-12-01T00:00:00\",\"2013-01-01T00:00:00\",\"2013-02-01T00:00:00\",\"2013-03-01T00:00:00\",\"2013-04-01T00:00:00\",\"2013-05-01T00:00:00\",\"2013-06-01T00:00:00\",\"2013-07-01T00:00:00\",\"2013-08-01T00:00:00\",\"2013-09-01T00:00:00\",\"2013-10-01T00:00:00\",\"2013-11-01T00:00:00\",\"2013-12-01T00:00:00\",\"2014-01-01T00:00:00\",\"2014-02-01T00:00:00\",\"2014-03-01T00:00:00\",\"2014-04-01T00:00:00\",\"2014-05-01T00:00:00\",\"2014-06-01T00:00:00\",\"2014-07-01T00:00:00\",\"2014-08-01T00:00:00\",\"2014-09-01T00:00:00\",\"2014-10-01T00:00:00\",\"2014-11-01T00:00:00\",\"2014-12-01T00:00:00\",\"2015-01-01T00:00:00\",\"2015-02-01T00:00:00\",\"2015-03-01T00:00:00\",\"2015-04-01T00:00:00\",\"2015-05-01T00:00:00\",\"2015-06-01T00:00:00\",\"2015-07-01T00:00:00\",\"2015-08-01T00:00:00\",\"2015-09-01T00:00:00\",\"2015-10-01T00:00:00\",\"2015-11-01T00:00:00\",\"2015-12-01T00:00:00\",\"2016-01-01T00:00:00\",\"2016-02-01T00:00:00\",\"2016-03-01T00:00:00\",\"2016-04-01T00:00:00\",\"2016-05-01T00:00:00\",\"2016-06-01T00:00:00\",\"2016-07-01T00:00:00\",\"2016-08-01T00:00:00\",\"2016-09-01T00:00:00\",\"2016-10-01T00:00:00\",\"2016-11-01T00:00:00\",\"2016-12-01T00:00:00\",\"2017-01-01T00:00:00\",\"2017-02-01T00:00:00\",\"2017-03-01T00:00:00\",\"2017-04-01T00:00:00\",\"2017-05-01T00:00:00\",\"2017-06-01T00:00:00\",\"2017-07-01T00:00:00\",\"2017-08-01T00:00:00\",\"2017-09-01T00:00:00\",\"2017-10-01T00:00:00\",\"2017-11-01T00:00:00\",\"2017-12-01T00:00:00\",\"2018-01-01T00:00:00\",\"2018-02-01T00:00:00\",\"2018-03-01T00:00:00\",\"2018-04-01T00:00:00\",\"2018-05-01T00:00:00\",\"2018-06-01T00:00:00\",\"2018-07-01T00:00:00\",\"2018-08-01T00:00:00\",\"2018-09-01T00:00:00\",\"2018-10-01T00:00:00\",\"2018-11-01T00:00:00\",\"2018-12-01T00:00:00\",\"2019-01-01T00:00:00\",\"2019-02-01T00:00:00\",\"2019-03-01T00:00:00\",\"2019-04-01T00:00:00\",\"2019-05-01T00:00:00\",\"2019-06-01T00:00:00\",\"2019-07-01T00:00:00\",\"2019-08-01T00:00:00\",\"2019-09-01T00:00:00\",\"2019-10-01T00:00:00\",\"2019-11-01T00:00:00\",\"2019-12-01T00:00:00\",\"2020-01-01T00:00:00\",\"2020-02-01T00:00:00\",\"2020-03-01T00:00:00\",\"2020-04-01T00:00:00\",\"2020-05-01T00:00:00\",\"2020-06-01T00:00:00\",\"2020-07-01T00:00:00\",\"2020-08-01T00:00:00\",\"2020-09-01T00:00:00\",\"2020-10-01T00:00:00\",\"2020-11-01T00:00:00\",\"2020-12-01T00:00:00\"],\"y\":[-0.040208015600216446,-0.004027983253593659,0.08852067177857004,0.12691815506003068,0.06871260906053278,0.08826205315066948,0.07181815946378944,0.08215280330298214,0.08772803596582213,0.16237551583060172,0.2048858164975631,0.15390462639006053,0.1898962803658213,0.22733449734897926,0.19248951080201837,0.18785300523248805,0.16528128286286115,0.19564253300572765,0.22554997450740277,0.3187829921377876,0.2695001522282816,0.18370678145512276,0.21074677122004282,0.19677370146233697,0.2918237817801481,0.2487616563698518,0.2565347803279152,0.2725849795628088,0.35841047908474977,0.4274373315192035,0.41922552644019384,0.4643268244532923,0.45404425998104436,0.34614423885952617,0.3730469499085973,0.3782068299586927,0.3821967346210382,0.42282240023349327,0.41283688238225635,0.38363083769346806,0.3800254263141789,0.41598017248097796,0.4238305402702012,0.4068673865979473,0.43424268376607666,0.43347710079779644,0.44086226478785573,0.3887890186767835,0.4005026607618112,0.41243467915855847,0.4412984867003744,0.45918577546058925,0.4621466758563302,0.4873651903130063,0.47771445068952034,0.4939645484706683,0.49505362710538336,0.4849695714014932,0.4695788305348534,0.4822969580800185,0.5297597739509006,0.5390248286375294,0.49470234831900184,0.5140215865826927,0.5134072610546239,0.5257515861122881,0.5119816847867713,0.5343320256050745,0.5169440347848435,0.4851191736037095,0.4800354833000646,0.504590036382113,0.4850940461207165,0.4884233618431921,0.47794226961678277,0.4868510684415248,0.49444804654704355,0.5047756233710858,0.49062024101223956,0.4834191217941306,0.49025455431203335,0.48991946964573363,0.4550919745448594,0.4624157234197148,0.47091066563762785,0.49440044792959825,0.47866534973520225,0.49364018484032823,0.49998751999273505,0.529133107055175,0.5481720569207091,0.5465441924692438,0.5521523563981154,0.6117368447547087,0.6275971142782064,0.6250465536548986,0.6377939116967448,0.6614332449942173,0.5998000881764958,0.6220436795037008,0.6583482109068297,0.7099811043692528,0.6818289668862094,0.6931837330894226,0.7297560802892498,0.7451816504327418,0.7153219879212829,0.739777294142073,0.7519085836862256,0.6700987765692175,0.5153019066246272,0.5047105403196568,0.5025638387075162,0.40767206963211655,0.40061798699489803,0.37324338263829127,0.3994607145076514,0.4052890762361796,0.41829872984871597,0.4511898812690227,0.44181244930933805,0.43055867180951624,0.41359042203209406,0.4558502809045073,0.48405416225836473,0.4408126517480617,0.4252690279391633,0.447932170164943,0.46937620327295315,0.45378186879784854,0.4164790012193458,0.3740095905317826,0.38226610184844745,0.3952381864435235,0.41175993059841987,0.3822089470407566,0.37763733347111517,0.33707927367434,0.3138779331039321,0.2866491873989532,0.3409272997984789,0.355307093225149,0.36142358005187347,0.3613414403190298,0.39405484207036134,0.3774777666474567,0.36164836802277667,0.3873204767742535,0.39041235697783727,0.41072491908194175,0.3974003810537834,0.4014499128597828,0.3920415913829238,0.39798088204773663,0.3976976790242335,0.3991416264101042,0.4106012840616511,0.4041846586818787,0.38876692608152674,0.3658121775305152,0.371858180030729,0.37345649818828464,0.3636684246217676,0.3582471007986665,0.3872607790808469,0.3859332135113869,0.38951705214533416,0.40443636194275423,0.38916021313433213,0.39858670488205483,0.414714802265963,0.41662891132388546,0.3907359986228054,0.3871101067719227,0.3907016639534282,0.4155505444334542,0.4048430585987173,0.38943899633180545,0.4002628954014613,0.4077980028315895,0.3769647673512655,0.39465109764555173,0.3689584477239438,0.3821152201218201,0.3782839860388989,0.402136562997516,0.3982256363446506,0.42348866634666527,0.3989212244796747,0.39783004018232515,0.4037132469237119,0.40530675047814446,0.4176727382776724,0.401524926574907,0.3723872311871632,0.38788833782651744,0.3904729025369513,0.3939889633325553,0.3763121903197699,0.36402659944215676,0.3526623514654772,0.2974985344426362,0.319495858710777,0.32462238371185403,0.32648864656475607,0.33694687775082355,0.3597696577417113,0.3807660775956785,0.36402258612965555,0.3609479946538279,0.3448864071962421,0.34293139937837736,0.34201995531755824,0.33908529562786316,0.3428034260020174,0.369585399605626,0.33700730669896317,0.34903684719045835,0.37017870526462393,0.3582322330056533,0.37124452085330994,0.3720925279194951,0.35693700421927654,0.3581159927240798,0.3293704310201264,0.3358903175822332,0.34443844219298936,0.33093248841598855,0.3268731985071711,0.32139981806849116,0.31988002760154144,0.3161698429851447,0.295923141374113,0.29716914683053774,0.30088380372680756,0.30707041610239494,0.3097845771394121,0.2924278997288343,0.31081365362926094,0.3342102573499066,0.3151856486887019,0.4242936133172539,0.4240590194168701,0.3888236671676524,0.3518942670915206,0.36856959331329,0.39595749663497815,0.3779089498490449,0.3449039506042386,0.21605870552599216,0.1876232509977116],\"marker\":{},\"line\":{},\"name\":\"Long-Short\"},{\"type\":\"scatter\",\"mode\":\"lines\",\"x\":[\"2000-02-01T00:00:00\",\"2000-03-01T00:00:00\",\"2000-04-01T00:00:00\",\"2000-05-01T00:00:00\",\"2000-06-01T00:00:00\",\"2000-07-01T00:00:00\",\"2000-08-01T00:00:00\",\"2000-09-01T00:00:00\",\"2000-10-01T00:00:00\",\"2000-11-01T00:00:00\",\"2000-12-01T00:00:00\",\"2001-01-01T00:00:00\",\"2001-02-01T00:00:00\",\"2001-03-01T00:00:00\",\"2001-04-01T00:00:00\",\"2001-05-01T00:00:00\",\"2001-06-01T00:00:00\",\"2001-07-01T00:00:00\",\"2001-08-01T00:00:00\",\"2001-09-01T00:00:00\",\"2001-10-01T00:00:00\",\"2001-11-01T00:00:00\",\"2001-12-01T00:00:00\",\"2002-01-01T00:00:00\",\"2002-02-01T00:00:00\",\"2002-03-01T00:00:00\",\"2002-04-01T00:00:00\",\"2002-05-01T00:00:00\",\"2002-06-01T00:00:00\",\"2002-07-01T00:00:00\",\"2002-08-01T00:00:00\",\"2002-09-01T00:00:00\",\"2002-10-01T00:00:00\",\"2002-11-01T00:00:00\",\"2002-12-01T00:00:00\",\"2003-01-01T00:00:00\",\"2003-02-01T00:00:00\",\"2003-03-01T00:00:00\",\"2003-04-01T00:00:00\",\"2003-05-01T00:00:00\",\"2003-06-01T00:00:00\",\"2003-07-01T00:00:00\",\"2003-08-01T00:00:00\",\"2003-09-01T00:00:00\",\"2003-10-01T00:00:00\",\"2003-11-01T00:00:00\",\"2003-12-01T00:00:00\",\"2004-01-01T00:00:00\",\"2004-02-01T00:00:00\",\"2004-03-01T00:00:00\",\"2004-04-01T00:00:00\",\"2004-05-01T00:00:00\",\"2004-06-01T00:00:00\",\"2004-07-01T00:00:00\",\"2004-08-01T00:00:00\",\"2004-09-01T00:00:00\",\"2004-10-01T00:00:00\",\"2004-11-01T00:00:00\",\"2004-12-01T00:00:00\",\"2005-01-01T00:00:00\",\"2005-02-01T00:00:00\",\"2005-03-01T00:00:00\",\"2005-04-01T00:00:00\",\"2005-05-01T00:00:00\",\"2005-06-01T00:00:00\",\"2005-07-01T00:00:00\",\"2005-08-01T00:00:00\",\"2005-09-01T00:00:00\",\"2005-10-01T00:00:00\",\"2005-11-01T00:00:00\",\"2005-12-01T00:00:00\",\"2006-01-01T00:00:00\",\"2006-02-01T00:00:00\",\"2006-03-01T00:00:00\",\"2006-04-01T00:00:00\",\"2006-05-01T00:00:00\",\"2006-06-01T00:00:00\",\"2006-07-01T00:00:00\",\"2006-08-01T00:00:00\",\"2006-09-01T00:00:00\",\"2006-10-01T00:00:00\",\"2006-11-01T00:00:00\",\"2006-12-01T00:00:00\",\"2007-01-01T00:00:00\",\"2007-02-01T00:00:00\",\"2007-03-01T00:00:00\",\"2007-04-01T00:00:00\",\"2007-05-01T00:00:00\",\"2007-06-01T00:00:00\",\"2007-07-01T00:00:00\",\"2007-08-01T00:00:00\",\"2007-09-01T00:00:00\",\"2007-10-01T00:00:00\",\"2007-11-01T00:00:00\",\"2007-12-01T00:00:00\",\"2008-01-01T00:00:00\",\"2008-02-01T00:00:00\",\"2008-03-01T00:00:00\",\"2008-04-01T00:00:00\",\"2008-05-01T00:00:00\",\"2008-06-01T00:00:00\",\"2008-07-01T00:00:00\",\"2008-08-01T00:00:00\",\"2008-09-01T00:00:00\",\"2008-10-01T00:00:00\",\"2008-11-01T00:00:00\",\"2008-12-01T00:00:00\",\"2009-01-01T00:00:00\",\"2009-02-01T00:00:00\",\"2009-03-01T00:00:00\",\"2009-04-01T00:00:00\",\"2009-05-01T00:00:00\",\"2009-06-01T00:00:00\",\"2009-07-01T00:00:00\",\"2009-08-01T00:00:00\",\"2009-09-01T00:00:00\",\"2009-10-01T00:00:00\",\"2009-11-01T00:00:00\",\"2009-12-01T00:00:00\",\"2010-01-01T00:00:00\",\"2010-02-01T00:00:00\",\"2010-03-01T00:00:00\",\"2010-04-01T00:00:00\",\"2010-05-01T00:00:00\",\"2010-06-01T00:00:00\",\"2010-07-01T00:00:00\",\"2010-08-01T00:00:00\",\"2010-09-01T00:00:00\",\"2010-10-01T00:00:00\",\"2010-11-01T00:00:00\",\"2010-12-01T00:00:00\",\"2011-01-01T00:00:00\",\"2011-02-01T00:00:00\",\"2011-03-01T00:00:00\",\"2011-04-01T00:00:00\",\"2011-05-01T00:00:00\",\"2011-06-01T00:00:00\",\"2011-07-01T00:00:00\",\"2011-08-01T00:00:00\",\"2011-09-01T00:00:00\",\"2011-10-01T00:00:00\",\"2011-11-01T00:00:00\",\"2011-12-01T00:00:00\",\"2012-01-01T00:00:00\",\"2012-02-01T00:00:00\",\"2012-03-01T00:00:00\",\"2012-04-01T00:00:00\",\"2012-05-01T00:00:00\",\"2012-06-01T00:00:00\",\"2012-07-01T00:00:00\",\"2012-08-01T00:00:00\",\"2012-09-01T00:00:00\",\"2012-10-01T00:00:00\",\"2012-11-01T00:00:00\",\"2012-12-01T00:00:00\",\"2013-01-01T00:00:00\",\"2013-02-01T00:00:00\",\"2013-03-01T00:00:00\",\"2013-04-01T00:00:00\",\"2013-05-01T00:00:00\",\"2013-06-01T00:00:00\",\"2013-07-01T00:00:00\",\"2013-08-01T00:00:00\",\"2013-09-01T00:00:00\",\"2013-10-01T00:00:00\",\"2013-11-01T00:00:00\",\"2013-12-01T00:00:00\",\"2014-01-01T00:00:00\",\"2014-02-01T00:00:00\",\"2014-03-01T00:00:00\",\"2014-04-01T00:00:00\",\"2014-05-01T00:00:00\",\"2014-06-01T00:00:00\",\"2014-07-01T00:00:00\",\"2014-08-01T00:00:00\",\"2014-09-01T00:00:00\",\"2014-10-01T00:00:00\",\"2014-11-01T00:00:00\",\"2014-12-01T00:00:00\",\"2015-01-01T00:00:00\",\"2015-02-01T00:00:00\",\"2015-03-01T00:00:00\",\"2015-04-01T00:00:00\",\"2015-05-01T00:00:00\",\"2015-06-01T00:00:00\",\"2015-07-01T00:00:00\",\"2015-08-01T00:00:00\",\"2015-09-01T00:00:00\",\"2015-10-01T00:00:00\",\"2015-11-01T00:00:00\",\"2015-12-01T00:00:00\",\"2016-01-01T00:00:00\",\"2016-02-01T00:00:00\",\"2016-03-01T00:00:00\",\"2016-04-01T00:00:00\",\"2016-05-01T00:00:00\",\"2016-06-01T00:00:00\",\"2016-07-01T00:00:00\",\"2016-08-01T00:00:00\",\"2016-09-01T00:00:00\",\"2016-10-01T00:00:00\",\"2016-11-01T00:00:00\",\"2016-12-01T00:00:00\",\"2017-01-01T00:00:00\",\"2017-02-01T00:00:00\",\"2017-03-01T00:00:00\",\"2017-04-01T00:00:00\",\"2017-05-01T00:00:00\",\"2017-06-01T00:00:00\",\"2017-07-01T00:00:00\",\"2017-08-01T00:00:00\",\"2017-09-01T00:00:00\",\"2017-10-01T00:00:00\",\"2017-11-01T00:00:00\",\"2017-12-01T00:00:00\",\"2018-01-01T00:00:00\",\"2018-02-01T00:00:00\",\"2018-03-01T00:00:00\",\"2018-04-01T00:00:00\",\"2018-05-01T00:00:00\",\"2018-06-01T00:00:00\",\"2018-07-01T00:00:00\",\"2018-08-01T00:00:00\",\"2018-09-01T00:00:00\",\"2018-10-01T00:00:00\",\"2018-11-01T00:00:00\",\"2018-12-01T00:00:00\",\"2019-01-01T00:00:00\",\"2019-02-01T00:00:00\",\"2019-03-01T00:00:00\",\"2019-04-01T00:00:00\",\"2019-05-01T00:00:00\",\"2019-06-01T00:00:00\",\"2019-07-01T00:00:00\",\"2019-08-01T00:00:00\",\"2019-09-01T00:00:00\",\"2019-10-01T00:00:00\",\"2019-11-01T00:00:00\",\"2019-12-01T00:00:00\",\"2020-01-01T00:00:00\",\"2020-02-01T00:00:00\",\"2020-03-01T00:00:00\",\"2020-04-01T00:00:00\",\"2020-05-01T00:00:00\",\"2020-06-01T00:00:00\",\"2020-07-01T00:00:00\",\"2020-08-01T00:00:00\",\"2020-09-01T00:00:00\",\"2020-10-01T00:00:00\",\"2020-11-01T00:00:00\",\"2020-12-01T00:00:00\"],\"y\":[0.0245,0.07777400000000001,0.008796464000000004,-0.035792339708800025,0.008946895728711546,-0.016377671354079082,0.052770978349729214,-0.004605039970331015,-0.03207794086714988,-0.13583918560619135,-0.12555567191490502,-0.09818556444584148,-0.18881791521903446,-0.2477097345741326,-0.18797788749931876,-0.18213132828931378,-0.1979979805205011,-0.21508062353541446,-0.26578641525502666,-0.3337011718439368,-0.31731022067129766,-0.2658354113099136,-0.25408877789087225,-0.2648298994892436,-0.28166529479093994,-0.2512079032900758,-0.2901450923189919,-0.2999410900449898,-0.3504153374527461,-0.4035513628491114,-0.40056911966335706,-0.4626102157781996,-0.42047885669521046,-0.3859393965542449,-0.42130928731272044,-0.43618163862878345,-0.44678142382256236,-0.4407513413422284,-0.39478110160055957,-0.3581653582473934,-0.3490513063345063,-0.3337540120333672,-0.3181638559149479,-0.3266186241016025,-0.28567703644697995,-0.2760336764390141,-0.24497552115824783,-0.22874249486315013,-0.21794488979123416,-0.22826801724598988,-0.24239071253038824,-0.2335266838669937,-0.21927028018691985,-0.25096790681133085,-0.25036868113678,-0.23837458003496848,-0.2274833365294685,-0.1924110800079063,-0.16471078005217754,-0.18776476252273744,-0.17241351653441728,-0.18871697025868928,-0.20989145733493753,-0.18105249552766278,-0.17638449475217044,-0.14409876694645563,-0.1545407619897089,-0.15039801172345857,-0.16755997188664473,-0.13750888687175256,-0.1396651146545731,-0.11351093414007218,-0.116170401337652,-0.10326648919718173,-0.09672033456832108,-0.128967418624232,-0.13201603265904716,-0.13878630760430666,-0.12130366964867412,-0.10513565717020978,-0.07623153889680756,-0.06043509821194304,-0.05226088356638703,-0.038992535936316464,-0.05782828223196457,-0.05142151455114197,-0.01831612540897687,0.013490432127772234,-0.0063739803419320396,-0.043436230875178006,-0.034635844199229604,-0.003551118382444818,0.014384961486671122,-0.03460983215313507,-0.043008726613402826,-0.10387337160079035,-0.131563684418326,-0.1396401421532355,-0.10006358869228427,-0.08332477144196082,-0.16069216073225934,-0.16715483109462093,-0.15441230001036854,-0.23254460348941053,-0.3647771683081851,-0.41470568287916176,-0.4045215617612591,-0.4528744109462448,-0.5081340954406741,-0.46411209698261446,-0.4095587084554446,-0.3787967171659733,-0.37612554304978696,-0.3279624349732305,-0.30558358405783903,-0.27725139428739887,-0.2959705831753553,-0.256826547599905,-0.23638927765890227,-0.2620465979295631,-0.23695618225916826,-0.1888081173597218,-0.17258427970691625,-0.23786738003804053,-0.2803181669699216,-0.23044421594093722,-0.2671520268405545,-0.19723833020114345,-0.16609117741294788,-0.1610877244774256,-0.10387390728678603,-0.086040998041793,-0.054143828873451594,-0.04979289048626956,-0.022236884310371408,-0.034654475879629776,-0.05154802255173618,-0.07383664402177037,-0.12931382904486632,-0.19539890942036098,-0.10407668563957195,-0.1065852709197812,-0.0999740019245875,-0.05452268902177915,-0.012732591876541743,0.01797142451609779,0.009318667407711034,-0.05315815810482627,-0.016326010455104067,-0.008554985937699322,0.016726861920889347,0.044483505251329714,0.026100595558906425,0.034104180204265866,0.046306609530676335,0.1045858876815351,0.11883504563262681,0.16392409797162166,0.18196492149018195,0.21505993929190703,0.2004792200204042,0.268306295951557,0.23393519533126983,0.28045455219525883,0.33397755247702077,0.37573104986955164,0.41438909237088595,0.3674313745041726,0.4310169334186167,0.4371703062323167,0.4344396826504753,0.4639891401130749,0.5021992566700262,0.47155439183395775,0.5339482980477175,0.5037295165761775,0.541623500393897,0.5809348996539414,0.5799863387141491,0.5308487635801391,0.6246897927876014,0.6064932671083803,0.6159715773843197,0.6379487908367465,0.6128881743369443,0.6377266522217333,0.5388079624275406,0.4915665579810151,0.6071629662245437,0.6161630788354011,0.5810923400246728,0.48986331200524913,0.4888204076868454,0.5924423080618497,0.6069335330652128,0.6355369499537737,0.6347191814787969,0.6992905891472094,0.7076171130340305,0.7118861558166154,0.6773060554691197,0.7588231297649188,0.7906578284136638,0.825396590284889,0.8905632485580597,0.8937772060806084,0.914419377626887,0.9347122230297318,0.9498029783693638,0.9862642940648707,0.9894423169353745,1.0393773190904523,1.0852633087699872,1.1503235240036105,1.1731169533580488,1.2943768793554282,1.210632123258955,1.1586822683623694,1.16494244694062,1.2223134217845462,1.2329805262091118,1.3042126049951825,1.383477518607017,1.384907605118181,1.2017467010451046,1.2389562202927666,1.0251359012548074,1.195449830550337,1.2700951247890484,1.2950661711617277,1.3861802981568485,1.220579385464763,1.3744655368774712,1.4027216767663133,1.3407314575057425,1.3742039173480745,1.4233499384371795,1.5171335810546984,1.5868581812499136,1.5842713230686636,1.3741700645031814,1.0565061098726556,1.3372191938702733,1.4676360248882347,1.5283398711004854,1.6742250816629838,1.8782684553938696,1.7737873104630721,1.7155377769433477,2.0541653377281834,2.195573192864998],\"marker\":{},\"line\":{},\"name\":\"Mkt-Rf\"}];\r\n",
       "            var layout = {\"width\":600,\"height\":600,\"template\":{\"layout\":{\"title\":{\"x\":0.05},\"font\":{\"color\":\"rgba(42, 63, 95, 1.0)\"},\"paper_bgcolor\":\"rgba(255, 255, 255, 1.0)\",\"plot_bgcolor\":\"rgba(229, 236, 246, 1.0)\",\"autotypenumbers\":\"strict\",\"colorscale\":{\"diverging\":[[0.0,\"#8e0152\"],[0.1,\"#c51b7d\"],[0.2,\"#de77ae\"],[0.3,\"#f1b6da\"],[0.4,\"#fde0ef\"],[0.5,\"#f7f7f7\"],[0.6,\"#e6f5d0\"],[0.7,\"#b8e186\"],[0.8,\"#7fbc41\"],[0.9,\"#4d9221\"],[1.0,\"#276419\"]],\"sequential\":[[0.0,\"#0d0887\"],[0.1111111111111111,\"#46039f\"],[0.2222222222222222,\"#7201a8\"],[0.3333333333333333,\"#9c179e\"],[0.4444444444444444,\"#bd3786\"],[0.5555555555555556,\"#d8576b\"],[0.6666666666666666,\"#ed7953\"],[0.7777777777777778,\"#fb9f3a\"],[0.8888888888888888,\"#fdca26\"],[1.0,\"#f0f921\"]],\"sequentialminus\":[[0.0,\"#0d0887\"],[0.1111111111111111,\"#46039f\"],[0.2222222222222222,\"#7201a8\"],[0.3333333333333333,\"#9c179e\"],[0.4444444444444444,\"#bd3786\"],[0.5555555555555556,\"#d8576b\"],[0.6666666666666666,\"#ed7953\"],[0.7777777777777778,\"#fb9f3a\"],[0.8888888888888888,\"#fdca26\"],[1.0,\"#f0f921\"]]},\"hovermode\":\"closest\",\"hoverlabel\":{\"align\":\"left\"},\"coloraxis\":{\"colorbar\":{\"outlinewidth\":0.0,\"ticks\":\"\"}},\"geo\":{\"showland\":true,\"landcolor\":\"rgba(229, 236, 246, 1.0)\",\"showlakes\":true,\"lakecolor\":\"rgba(255, 255, 255, 1.0)\",\"subunitcolor\":\"rgba(255, 255, 255, 1.0)\",\"bgcolor\":\"rgba(255, 255, 255, 1.0)\"},\"mapbox\":{\"style\":\"light\"},\"polar\":{\"bgcolor\":\"rgba(229, 236, 246, 1.0)\",\"radialaxis\":{\"linecolor\":\"rgba(255, 255, 255, 1.0)\",\"gridcolor\":\"rgba(255, 255, 255, 1.0)\",\"ticks\":\"\"},\"angularaxis\":{\"linecolor\":\"rgba(255, 255, 255, 1.0)\",\"gridcolor\":\"rgba(255, 255, 255, 1.0)\",\"ticks\":\"\"}},\"scene\":{\"xaxis\":{\"ticks\":\"\",\"linecolor\":\"rgba(255, 255, 255, 1.0)\",\"gridcolor\":\"rgba(255, 255, 255, 1.0)\",\"gridwidth\":2.0,\"zerolinecolor\":\"rgba(255, 255, 255, 1.0)\",\"backgroundcolor\":\"rgba(229, 236, 246, 1.0)\",\"showbackground\":true},\"yaxis\":{\"ticks\":\"\",\"linecolor\":\"rgba(255, 255, 255, 1.0)\",\"gridcolor\":\"rgba(255, 255, 255, 1.0)\",\"gridwidth\":2.0,\"zerolinecolor\":\"rgba(255, 255, 255, 1.0)\",\"backgroundcolor\":\"rgba(229, 236, 246, 1.0)\",\"showbackground\":true},\"zaxis\":{\"ticks\":\"\",\"linecolor\":\"rgba(255, 255, 255, 1.0)\",\"gridcolor\":\"rgba(255, 255, 255, 1.0)\",\"gridwidth\":2.0,\"zerolinecolor\":\"rgba(255, 255, 255, 1.0)\",\"backgroundcolor\":\"rgba(229, 236, 246, 1.0)\",\"showbackground\":true}},\"ternary\":{\"aaxis\":{\"ticks\":\"\",\"linecolor\":\"rgba(255, 255, 255, 1.0)\",\"gridcolor\":\"rgba(255, 255, 255, 1.0)\"},\"baxis\":{\"ticks\":\"\",\"linecolor\":\"rgba(255, 255, 255, 1.0)\",\"gridcolor\":\"rgba(255, 255, 255, 1.0)\"},\"caxis\":{\"ticks\":\"\",\"linecolor\":\"rgba(255, 255, 255, 1.0)\",\"gridcolor\":\"rgba(255, 255, 255, 1.0)\"},\"bgcolor\":\"rgba(229, 236, 246, 1.0)\"},\"xaxis\":{\"title\":{\"standoff\":15},\"ticks\":\"\",\"automargin\":true,\"linecolor\":\"rgba(255, 255, 255, 1.0)\",\"gridcolor\":\"rgba(255, 255, 255, 1.0)\",\"zerolinecolor\":\"rgba(255, 255, 255, 1.0)\",\"zerolinewidth\":2.0},\"yaxis\":{\"title\":{\"standoff\":15},\"ticks\":\"\",\"automargin\":true,\"linecolor\":\"rgba(255, 255, 255, 1.0)\",\"gridcolor\":\"rgba(255, 255, 255, 1.0)\",\"zerolinecolor\":\"rgba(255, 255, 255, 1.0)\",\"zerolinewidth\":2.0},\"annotationdefaults\":{\"arrowcolor\":\"#2a3f5f\",\"arrowhead\":0,\"arrowwidth\":1},\"shapedefaults\":{\"line\":{\"color\":\"rgba(42, 63, 95, 1.0)\"}},\"colorway\":[\"rgba(99, 110, 250, 1.0)\",\"rgba(239, 85, 59, 1.0)\",\"rgba(0, 204, 150, 1.0)\",\"rgba(171, 99, 250, 1.0)\",\"rgba(255, 161, 90, 1.0)\",\"rgba(25, 211, 243, 1.0)\",\"rgba(255, 102, 146, 1.0)\",\"rgba(182, 232, 128, 1.0)\",\"rgba(255, 151, 255, 1.0)\",\"rgba(254, 203, 82, 1.0)\"]},\"data\":{\"bar\":[{\"marker\":{\"line\":{\"color\":\"rgba(229, 236, 246, 1.0)\",\"width\":0.5},\"pattern\":{\"fillmode\":\"overlay\",\"size\":10,\"solidity\":0.2}},\"error_x\":{\"color\":\"rgba(42, 63, 95, 1.0)\"},\"error_y\":{\"color\":\"rgba(42, 63, 95, 1.0)\"}}],\"barpolar\":[{\"marker\":{\"line\":{\"color\":\"rgba(229, 236, 246, 1.0)\",\"width\":0.5},\"pattern\":{\"fillmode\":\"overlay\",\"size\":10,\"solidity\":0.2}}}],\"carpet\":[{\"aaxis\":{\"linecolor\":\"rgba(255, 255, 255, 1.0)\",\"gridcolor\":\"rgba(255, 255, 255, 1.0)\",\"endlinecolor\":\"rgba(42, 63, 95, 1.0)\",\"minorgridcolor\":\"rgba(255, 255, 255, 1.0)\",\"startlinecolor\":\"rgba(42, 63, 95, 1.0)\"},\"baxis\":{\"linecolor\":\"rgba(255, 255, 255, 1.0)\",\"gridcolor\":\"rgba(255, 255, 255, 1.0)\",\"endlinecolor\":\"rgba(42, 63, 95, 1.0)\",\"minorgridcolor\":\"rgba(255, 255, 255, 1.0)\",\"startlinecolor\":\"rgba(42, 63, 95, 1.0)\"}}],\"choropleth\":[{\"colorbar\":{\"outlinewidth\":0.0,\"ticks\":\"\"},\"colorscale\":[[0.0,\"#0d0887\"],[0.1111111111111111,\"#46039f\"],[0.2222222222222222,\"#7201a8\"],[0.3333333333333333,\"#9c179e\"],[0.4444444444444444,\"#bd3786\"],[0.5555555555555556,\"#d8576b\"],[0.6666666666666666,\"#ed7953\"],[0.7777777777777778,\"#fb9f3a\"],[0.8888888888888888,\"#fdca26\"],[1.0,\"#f0f921\"]]}],\"contour\":[{\"colorbar\":{\"outlinewidth\":0.0,\"ticks\":\"\"},\"colorscale\":[[0.0,\"#0d0887\"],[0.1111111111111111,\"#46039f\"],[0.2222222222222222,\"#7201a8\"],[0.3333333333333333,\"#9c179e\"],[0.4444444444444444,\"#bd3786\"],[0.5555555555555556,\"#d8576b\"],[0.6666666666666666,\"#ed7953\"],[0.7777777777777778,\"#fb9f3a\"],[0.8888888888888888,\"#fdca26\"],[1.0,\"#f0f921\"]]}],\"contourcarpet\":[{\"colorbar\":{\"outlinewidth\":0.0,\"ticks\":\"\"}}],\"heatmap\":[{\"colorbar\":{\"outlinewidth\":0.0,\"ticks\":\"\"},\"colorscale\":[[0.0,\"#0d0887\"],[0.1111111111111111,\"#46039f\"],[0.2222222222222222,\"#7201a8\"],[0.3333333333333333,\"#9c179e\"],[0.4444444444444444,\"#bd3786\"],[0.5555555555555556,\"#d8576b\"],[0.6666666666666666,\"#ed7953\"],[0.7777777777777778,\"#fb9f3a\"],[0.8888888888888888,\"#fdca26\"],[1.0,\"#f0f921\"]]}],\"heatmapgl\":[{\"colorbar\":{\"outlinewidth\":0.0,\"ticks\":\"\"},\"colorscale\":[[0.0,\"#0d0887\"],[0.1111111111111111,\"#46039f\"],[0.2222222222222222,\"#7201a8\"],[0.3333333333333333,\"#9c179e\"],[0.4444444444444444,\"#bd3786\"],[0.5555555555555556,\"#d8576b\"],[0.6666666666666666,\"#ed7953\"],[0.7777777777777778,\"#fb9f3a\"],[0.8888888888888888,\"#fdca26\"],[1.0,\"#f0f921\"]]}],\"histogram\":[{\"marker\":{\"pattern\":{\"fillmode\":\"overlay\",\"size\":10,\"solidity\":0.2}}}],\"histogram2d\":[{\"colorbar\":{\"outlinewidth\":0.0,\"ticks\":\"\"},\"colorscale\":[[0.0,\"#0d0887\"],[0.1111111111111111,\"#46039f\"],[0.2222222222222222,\"#7201a8\"],[0.3333333333333333,\"#9c179e\"],[0.4444444444444444,\"#bd3786\"],[0.5555555555555556,\"#d8576b\"],[0.6666666666666666,\"#ed7953\"],[0.7777777777777778,\"#fb9f3a\"],[0.8888888888888888,\"#fdca26\"],[1.0,\"#f0f921\"]]}],\"histogram2dcontour\":[{\"colorbar\":{\"outlinewidth\":0.0,\"ticks\":\"\"},\"colorscale\":[[0.0,\"#0d0887\"],[0.1111111111111111,\"#46039f\"],[0.2222222222222222,\"#7201a8\"],[0.3333333333333333,\"#9c179e\"],[0.4444444444444444,\"#bd3786\"],[0.5555555555555556,\"#d8576b\"],[0.6666666666666666,\"#ed7953\"],[0.7777777777777778,\"#fb9f3a\"],[0.8888888888888888,\"#fdca26\"],[1.0,\"#f0f921\"]]}],\"mesh3d\":[{\"colorbar\":{\"outlinewidth\":0.0,\"ticks\":\"\"}}],\"parcoords\":[{\"line\":{\"colorbar\":{\"outlinewidth\":0.0,\"ticks\":\"\"}}}],\"pie\":[{\"automargin\":true}],\"scatter\":[{\"marker\":{\"colorbar\":{\"outlinewidth\":0.0,\"ticks\":\"\"}}}],\"scatter3d\":[{\"marker\":{\"colorbar\":{\"outlinewidth\":0.0,\"ticks\":\"\"}},\"line\":{\"colorbar\":{\"outlinewidth\":0.0,\"ticks\":\"\"}}}],\"scattercarpet\":[{\"marker\":{\"colorbar\":{\"outlinewidth\":0.0,\"ticks\":\"\"}}}],\"scattergeo\":[{\"marker\":{\"colorbar\":{\"outlinewidth\":0.0,\"ticks\":\"\"}}}],\"scattergl\":[{\"marker\":{\"colorbar\":{\"outlinewidth\":0.0,\"ticks\":\"\"}}}],\"scattermapbox\":[{\"marker\":{\"colorbar\":{\"outlinewidth\":0.0,\"ticks\":\"\"}}}],\"scatterpolar\":[{\"marker\":{\"colorbar\":{\"outlinewidth\":0.0,\"ticks\":\"\"}}}],\"scatterpolargl\":[{\"marker\":{\"colorbar\":{\"outlinewidth\":0.0,\"ticks\":\"\"}}}],\"scatterternary\":[{\"marker\":{\"colorbar\":{\"outlinewidth\":0.0,\"ticks\":\"\"}}}],\"surface\":[{\"colorbar\":{\"outlinewidth\":0.0,\"ticks\":\"\"},\"colorscale\":[[0.0,\"#0d0887\"],[0.1111111111111111,\"#46039f\"],[0.2222222222222222,\"#7201a8\"],[0.3333333333333333,\"#9c179e\"],[0.4444444444444444,\"#bd3786\"],[0.5555555555555556,\"#d8576b\"],[0.6666666666666666,\"#ed7953\"],[0.7777777777777778,\"#fb9f3a\"],[0.8888888888888888,\"#fdca26\"],[1.0,\"#f0f921\"]]}],\"table\":[{\"cells\":{\"fill\":{\"color\":\"rgba(235, 240, 248, 1.0)\"},\"line\":{\"color\":\"rgba(255, 255, 255, 1.0)\"}},\"header\":{\"fill\":{\"color\":\"rgba(200, 212, 227, 1.0)\"},\"line\":{\"color\":\"rgba(255, 255, 255, 1.0)\"}}}]}},\"title\":{\"text\":\"Strategy Analysis: Market, Short and Long-Short\"}};\r\n",
       "            var config = {\"responsive\":true};\r\n",
       "            Plotly.newPlot('a2544746-4fb3-41a5-bacf-316b2e75e1fe', data, layout, config);\r\n",
       "});\r\n",
       "            };\r\n",
       "            if ((typeof(requirejs) !==  typeof(Function)) || (typeof(requirejs.config) !== typeof(Function))) {\r\n",
       "                var script = document.createElement(\"script\");\r\n",
       "                script.setAttribute(\"src\", \"https://cdnjs.cloudflare.com/ajax/libs/require.js/2.3.6/require.min.js\");\r\n",
       "                script.onload = function(){\r\n",
       "                    renderPlotly_a25447464fb341a5bacf316b2e75e1fe();\r\n",
       "                };\r\n",
       "                document.getElementsByTagName(\"head\")[0].appendChild(script);\r\n",
       "            }\r\n",
       "            else {\r\n",
       "                renderPlotly_a25447464fb341a5bacf316b2e75e1fe();\r\n",
       "            }\r\n",
       "</script>\r\n"
      ]
     },
     "metadata": {},
     "output_type": "display_data"
    }
   ],
   "source": [
    "chartStrategyAnalysis"
   ]
  },
  {
   "cell_type": "code",
   "execution_count": null,
   "metadata": {
    "dotnet_interactive": {
     "language": "fsharp"
    },
    "vscode": {
     "languageId": "dotnet-interactive.fsharp"
    }
   },
   "outputs": [],
   "source": [
    "let longStDev = \n",
    "    long |> Seq.stDevBy (fun x -> x.Return)\n",
    "\n",
    "let longShortStDev =\n",
    "    longShort |> Seq.stDevBy (fun x -> x.Return)\n",
    "\n",
    "let vwMktRfStDev = \n",
    "    vwMktRf |> Seq.stDevBy (fun x -> x.Return)\n",
    "\n",
    "let annualizeMonthlyStdDev monthlyStdDev: float  = sqrt(12.0) * monthlyStdDev\n",
    "\n",
    "let longStDevA = \n",
    "    longStDev |> annualizeMonthlyStdDev\n",
    "\n",
    "let longShortStDevA =\n",
    "    longShortStDev |> annualizeMonthlyStdDev\n",
    "\n",
    "let vwMktRfStDevA =\n",
    "    vwMktRfStDev |> annualizeMonthlyStdDev\n",
    "\n",
    "let long10 =\n",
    "    let longWeight = (0.1 / longStDevA)\n",
    "    [for x in long do\n",
    "        { PortfolioId = x.PortfolioId\n",
    "          YearMonth = x.YearMonth\n",
    "          Return = x.Return * longWeight}]\n",
    "\n",
    "let longShort10 =\n",
    "    let longShortWeight = (0.1 / longShortStDevA)\n",
    "    [for x in longShort do\n",
    "        { PortfolioId = x.PortfolioId\n",
    "          YearMonth = x.YearMonth\n",
    "          Return = x.Return * longShortWeight}]\n",
    "\n",
    "let vwMktRf10 =\n",
    "    let vwMktRfWeight = (0.1 / vwMktRfStDevA)\n",
    "    [for x in vwMktRf do\n",
    "        { PortfolioId = x.PortfolioId\n",
    "          YearMonth = x.YearMonth\n",
    "          Return = x.Return * vwMktRfWeight}]"
   ]
  },
  {
   "cell_type": "code",
   "execution_count": null,
   "metadata": {
    "dotnet_interactive": {
     "language": "fsharp"
    },
    "vscode": {
     "languageId": "dotnet-interactive.fsharp"
    }
   },
   "outputs": [],
   "source": [
    "let chartStrategyAnalysis10 =\n",
    "    List.concat [long10; longShort10; vwMktRf10]\n",
    "    |> List.groupBy(fun x -> x.PortfolioId)\n",
    "    |> List.map(fun (portId, xs) ->\n",
    "        xs\n",
    "        |> cumulateSimpleReturn\n",
    "        |> portfolioReturnPlot\n",
    "        |> Chart.withTraceInfo (Name=portId.ToString())\n",
    "        |> Chart.withTitle \"Strategy Analysis: Market, Short and Long-Short (10% volatility)\")\n",
    "    |> Chart.combine"
   ]
  },
  {
   "cell_type": "code",
   "execution_count": null,
   "metadata": {
    "dotnet_interactive": {
     "language": "fsharp"
    },
    "vscode": {
     "languageId": "dotnet-interactive.fsharp"
    }
   },
   "outputs": [
    {
     "data": {
      "text/html": [
       "<div id=\"b78d9a59-1c44-49a0-a7a0-25b4f5b852a0\"><!-- Plotly chart will be drawn inside this DIV --></div>\r\n",
       "<script type=\"text/javascript\">\r\n",
       "\r\n",
       "            var renderPlotly_b78d9a591c4449a0a7a025b4f5b852a0 = function() {\r\n",
       "            var fsharpPlotlyRequire = requirejs.config({context:'fsharp-plotly',paths:{plotly:'https://cdn.plot.ly/plotly-2.6.3.min'}}) || require;\r\n",
       "            fsharpPlotlyRequire(['plotly'], function(Plotly) {\r\n",
       "\r\n",
       "            var data = [{\"type\":\"scatter\",\"mode\":\"lines\",\"x\":[\"2000-02-01T00:00:00\",\"2000-03-01T00:00:00\",\"2000-04-01T00:00:00\",\"2000-05-01T00:00:00\",\"2000-06-01T00:00:00\",\"2000-07-01T00:00:00\",\"2000-08-01T00:00:00\",\"2000-09-01T00:00:00\",\"2000-10-01T00:00:00\",\"2000-11-01T00:00:00\",\"2000-12-01T00:00:00\",\"2001-01-01T00:00:00\",\"2001-02-01T00:00:00\",\"2001-03-01T00:00:00\",\"2001-04-01T00:00:00\",\"2001-05-01T00:00:00\",\"2001-06-01T00:00:00\",\"2001-07-01T00:00:00\",\"2001-08-01T00:00:00\",\"2001-09-01T00:00:00\",\"2001-10-01T00:00:00\",\"2001-11-01T00:00:00\",\"2001-12-01T00:00:00\",\"2002-01-01T00:00:00\",\"2002-02-01T00:00:00\",\"2002-03-01T00:00:00\",\"2002-04-01T00:00:00\",\"2002-05-01T00:00:00\",\"2002-06-01T00:00:00\",\"2002-07-01T00:00:00\",\"2002-08-01T00:00:00\",\"2002-09-01T00:00:00\",\"2002-10-01T00:00:00\",\"2002-11-01T00:00:00\",\"2002-12-01T00:00:00\",\"2003-01-01T00:00:00\",\"2003-02-01T00:00:00\",\"2003-03-01T00:00:00\",\"2003-04-01T00:00:00\",\"2003-05-01T00:00:00\",\"2003-06-01T00:00:00\",\"2003-07-01T00:00:00\",\"2003-08-01T00:00:00\",\"2003-09-01T00:00:00\",\"2003-10-01T00:00:00\",\"2003-11-01T00:00:00\",\"2003-12-01T00:00:00\",\"2004-01-01T00:00:00\",\"2004-02-01T00:00:00\",\"2004-03-01T00:00:00\",\"2004-04-01T00:00:00\",\"2004-05-01T00:00:00\",\"2004-06-01T00:00:00\",\"2004-07-01T00:00:00\",\"2004-08-01T00:00:00\",\"2004-09-01T00:00:00\",\"2004-10-01T00:00:00\",\"2004-11-01T00:00:00\",\"2004-12-01T00:00:00\",\"2005-01-01T00:00:00\",\"2005-02-01T00:00:00\",\"2005-03-01T00:00:00\",\"2005-04-01T00:00:00\",\"2005-05-01T00:00:00\",\"2005-06-01T00:00:00\",\"2005-07-01T00:00:00\",\"2005-08-01T00:00:00\",\"2005-09-01T00:00:00\",\"2005-10-01T00:00:00\",\"2005-11-01T00:00:00\",\"2005-12-01T00:00:00\",\"2006-01-01T00:00:00\",\"2006-02-01T00:00:00\",\"2006-03-01T00:00:00\",\"2006-04-01T00:00:00\",\"2006-05-01T00:00:00\",\"2006-06-01T00:00:00\",\"2006-07-01T00:00:00\",\"2006-08-01T00:00:00\",\"2006-09-01T00:00:00\",\"2006-10-01T00:00:00\",\"2006-11-01T00:00:00\",\"2006-12-01T00:00:00\",\"2007-01-01T00:00:00\",\"2007-02-01T00:00:00\",\"2007-03-01T00:00:00\",\"2007-04-01T00:00:00\",\"2007-05-01T00:00:00\",\"2007-06-01T00:00:00\",\"2007-07-01T00:00:00\",\"2007-08-01T00:00:00\",\"2007-09-01T00:00:00\",\"2007-10-01T00:00:00\",\"2007-11-01T00:00:00\",\"2007-12-01T00:00:00\",\"2008-01-01T00:00:00\",\"2008-02-01T00:00:00\",\"2008-03-01T00:00:00\",\"2008-04-01T00:00:00\",\"2008-05-01T00:00:00\",\"2008-06-01T00:00:00\",\"2008-07-01T00:00:00\",\"2008-08-01T00:00:00\",\"2008-09-01T00:00:00\",\"2008-10-01T00:00:00\",\"2008-11-01T00:00:00\",\"2008-12-01T00:00:00\",\"2009-01-01T00:00:00\",\"2009-02-01T00:00:00\",\"2009-03-01T00:00:00\",\"2009-04-01T00:00:00\",\"2009-05-01T00:00:00\",\"2009-06-01T00:00:00\",\"2009-07-01T00:00:00\",\"2009-08-01T00:00:00\",\"2009-09-01T00:00:00\",\"2009-10-01T00:00:00\",\"2009-11-01T00:00:00\",\"2009-12-01T00:00:00\",\"2010-01-01T00:00:00\",\"2010-02-01T00:00:00\",\"2010-03-01T00:00:00\",\"2010-04-01T00:00:00\",\"2010-05-01T00:00:00\",\"2010-06-01T00:00:00\",\"2010-07-01T00:00:00\",\"2010-08-01T00:00:00\",\"2010-09-01T00:00:00\",\"2010-10-01T00:00:00\",\"2010-11-01T00:00:00\",\"2010-12-01T00:00:00\",\"2011-01-01T00:00:00\",\"2011-02-01T00:00:00\",\"2011-03-01T00:00:00\",\"2011-04-01T00:00:00\",\"2011-05-01T00:00:00\",\"2011-06-01T00:00:00\",\"2011-07-01T00:00:00\",\"2011-08-01T00:00:00\",\"2011-09-01T00:00:00\",\"2011-10-01T00:00:00\",\"2011-11-01T00:00:00\",\"2011-12-01T00:00:00\",\"2012-01-01T00:00:00\",\"2012-02-01T00:00:00\",\"2012-03-01T00:00:00\",\"2012-04-01T00:00:00\",\"2012-05-01T00:00:00\",\"2012-06-01T00:00:00\",\"2012-07-01T00:00:00\",\"2012-08-01T00:00:00\",\"2012-09-01T00:00:00\",\"2012-10-01T00:00:00\",\"2012-11-01T00:00:00\",\"2012-12-01T00:00:00\",\"2013-01-01T00:00:00\",\"2013-02-01T00:00:00\",\"2013-03-01T00:00:00\",\"2013-04-01T00:00:00\",\"2013-05-01T00:00:00\",\"2013-06-01T00:00:00\",\"2013-07-01T00:00:00\",\"2013-08-01T00:00:00\",\"2013-09-01T00:00:00\",\"2013-10-01T00:00:00\",\"2013-11-01T00:00:00\",\"2013-12-01T00:00:00\",\"2014-01-01T00:00:00\",\"2014-02-01T00:00:00\",\"2014-03-01T00:00:00\",\"2014-04-01T00:00:00\",\"2014-05-01T00:00:00\",\"2014-06-01T00:00:00\",\"2014-07-01T00:00:00\",\"2014-08-01T00:00:00\",\"2014-09-01T00:00:00\",\"2014-10-01T00:00:00\",\"2014-11-01T00:00:00\",\"2014-12-01T00:00:00\",\"2015-01-01T00:00:00\",\"2015-02-01T00:00:00\",\"2015-03-01T00:00:00\",\"2015-04-01T00:00:00\",\"2015-05-01T00:00:00\",\"2015-06-01T00:00:00\",\"2015-07-01T00:00:00\",\"2015-08-01T00:00:00\",\"2015-09-01T00:00:00\",\"2015-10-01T00:00:00\",\"2015-11-01T00:00:00\",\"2015-12-01T00:00:00\",\"2016-01-01T00:00:00\",\"2016-02-01T00:00:00\",\"2016-03-01T00:00:00\",\"2016-04-01T00:00:00\",\"2016-05-01T00:00:00\",\"2016-06-01T00:00:00\",\"2016-07-01T00:00:00\",\"2016-08-01T00:00:00\",\"2016-09-01T00:00:00\",\"2016-10-01T00:00:00\",\"2016-11-01T00:00:00\",\"2016-12-01T00:00:00\",\"2017-01-01T00:00:00\",\"2017-02-01T00:00:00\",\"2017-03-01T00:00:00\",\"2017-04-01T00:00:00\",\"2017-05-01T00:00:00\",\"2017-06-01T00:00:00\",\"2017-07-01T00:00:00\",\"2017-08-01T00:00:00\",\"2017-09-01T00:00:00\",\"2017-10-01T00:00:00\",\"2017-11-01T00:00:00\",\"2017-12-01T00:00:00\",\"2018-01-01T00:00:00\",\"2018-02-01T00:00:00\",\"2018-03-01T00:00:00\",\"2018-04-01T00:00:00\",\"2018-05-01T00:00:00\",\"2018-06-01T00:00:00\",\"2018-07-01T00:00:00\",\"2018-08-01T00:00:00\",\"2018-09-01T00:00:00\",\"2018-10-01T00:00:00\",\"2018-11-01T00:00:00\",\"2018-12-01T00:00:00\",\"2019-01-01T00:00:00\",\"2019-02-01T00:00:00\",\"2019-03-01T00:00:00\",\"2019-04-01T00:00:00\",\"2019-05-01T00:00:00\",\"2019-06-01T00:00:00\",\"2019-07-01T00:00:00\",\"2019-08-01T00:00:00\",\"2019-09-01T00:00:00\",\"2019-10-01T00:00:00\",\"2019-11-01T00:00:00\",\"2019-12-01T00:00:00\",\"2020-01-01T00:00:00\",\"2020-02-01T00:00:00\",\"2020-03-01T00:00:00\",\"2020-04-01T00:00:00\",\"2020-05-01T00:00:00\",\"2020-06-01T00:00:00\",\"2020-07-01T00:00:00\",\"2020-08-01T00:00:00\",\"2020-09-01T00:00:00\",\"2020-10-01T00:00:00\",\"2020-11-01T00:00:00\",\"2020-12-01T00:00:00\"],\"y\":[0.0053662909024887,0.06136794288837932,0.04119412011252588,0.010844058474291929,0.03950318176664047,0.0193718006412833,0.06081993535484154,0.013309694816566298,-0.00447732338728013,-0.05427215822015463,-0.03729261056676525,-0.032330140429115195,-0.08573916049793928,-0.12243583733367513,-0.08181799388294986,-0.08281541040272411,-0.09861681371156994,-0.11345678698010853,-0.14406218061720255,-0.1893168555209236,-0.17186276657856026,-0.14427178017346753,-0.13287038721530586,-0.14204902462942692,-0.14884322728688215,-0.12980102651958314,-0.1680720522754775,-0.17628235032290174,-0.20690934018845697,-0.24058373661110966,-0.23673685579330817,-0.2860248006854116,-0.25472379575641624,-0.23711491292882847,-0.2605149623154426,-0.2747897873767807,-0.2802974609197806,-0.26974238897059233,-0.23034604916030288,-0.2015561275065939,-0.19486549979605572,-0.17025900898685886,-0.14826394083364913,-0.16082214464778333,-0.12343143282106639,-0.11523441594169348,-0.0909809465627397,-0.08466497759835745,-0.07309316374333275,-0.07817057857278209,-0.08660247358509632,-0.07670772002931614,-0.06235851513298096,-0.08713766982926419,-0.09251984539433755,-0.07486231641041974,-0.06741625643972171,-0.03838338800473795,-0.019929416945393075,-0.03271903301855916,-0.01175955802817008,-0.024503853398197273,-0.052954157713574035,-0.029320230477666964,-0.021792217447505147,0.007119033687783327,0.0034189062125804526,0.013994330578433356,-0.00714065363865124,0.014817309475230855,0.01562533146983114,0.04773554442581629,0.036606379367069675,0.04894472342299894,0.0564746367295994,0.03679190957931833,0.034913027943629826,0.026412761528286532,0.03718550880804106,0.04456520002069664,0.06951593296213021,0.0852789750012668,0.08356810892708655,0.09687486424995884,0.08719602455155862,0.10012093670614641,0.1276104240610667,0.16023450366081238,0.1484960230607404,0.12899599290171238,0.13420037183703948,0.16533671854128618,0.17949645757050758,0.14663945977494208,0.14495822916781131,0.0921045965592282,0.0843607035618803,0.0771405756867658,0.10515683528882547,0.1281288188907268,0.075778186325965,0.06938068397226926,0.07172643863515904,-0.0014043819131359658,-0.11629174980669399,-0.15690144732074796,-0.14676436689334116,-0.17915516144058496,-0.23140004295786565,-0.19899796479099618,-0.15909688338940076,-0.12533183626215172,-0.1228217629927133,-0.08952017828763181,-0.07676592499770529,-0.050630443343505194,-0.06109493563974688,-0.023547210735735513,-0.001011727362249748,-0.025118800198612568,-0.005767984682116589,0.030347803675979668,0.040999931447716964,-0.00580681015124207,-0.03819324118301881,0.0013539563347289008,-0.02502307550929428,0.036619016273065075,0.06805438773125871,0.0765115781781871,0.11745192953025874,0.12820739964308392,0.16166466720427475,0.17010722985740667,0.19665244199274667,0.18038774755560194,0.16666606687210295,0.14111611951738245,0.09258590724691551,0.025936838399103435,0.11555033630286315,0.11742829945447575,0.11961724951149955,0.15465167131416346,0.19215582492832617,0.2083117987845935,0.20035784601303575,0.14777160118202248,0.17602881539185544,0.18686762256601264,0.20864253072329175,0.23289590012244554,0.22041090877523262,0.224425359192848,0.23573232765248453,0.2845190702775553,0.29568635164030543,0.3276164973749094,0.33539236564310304,0.35403608979197077,0.3435574313293712,0.3929755870728857,0.36358704902714245,0.39759167879480883,0.44382514672965745,0.4664614937597156,0.48904980288085076,0.45883531738536654,0.5046669862305808,0.5074987709549446,0.5134621391592753,0.5363790018676566,0.5608089787492265,0.5368864860226248,0.5808607511100514,0.5594517210577419,0.5793109043959623,0.6009521109946638,0.5970340382449333,0.5744411641963225,0.6285147554428991,0.6217784584667343,0.6235655622540979,0.6357054218909552,0.6132294985544597,0.6264305728639639,0.5592670584098298,0.5336438465596645,0.603185679341018,0.6052032516418753,0.5804953018322996,0.5247747976049097,0.5273302723461137,0.5967348894361701,0.59348320049799,0.6078365795459861,0.6119866534298908,0.6557299772059901,0.6515781581514863,0.6534321080662195,0.6256430591605129,0.6545328769952587,0.678463650044425,0.7014898720925562,0.7386248830199746,0.7474084659050593,0.7637859380132659,0.7874071687501913,0.784178577824467,0.8127232976462069,0.8157921919482665,0.8359641817924379,0.8645776164230985,0.8990479569321603,0.9112293414519224,0.984005045208562,0.9202880392245674,0.897746364427306,0.9090124643249531,0.9439568587511795,0.9501298155877822,0.9802142930009745,1.0157373634960813,1.0179091909049127,0.8892294176916093,0.9145798236267375,0.7964719848808213,0.9049676280579659,0.9454096033290766,0.9599546070458607,1.010133697891995,0.9224365930517089,1.0040178135589755,1.011829335013347,0.9850483905092806,0.9971728875876928,1.0184688717567378,1.0683882922530854,1.113380731859213,1.124454707607954,1.0055141444046014,0.8638573858520948,1.028244033396402,1.0969505631986918,1.1285890693216292,1.2128453799330678,1.3308056374339405,1.271264922727489,1.2190534495272258,1.3647236935024893,1.416808354270037],\"marker\":{},\"line\":{},\"name\":\"Piotroski F-Score: 3\"},{\"type\":\"scatter\",\"mode\":\"lines\",\"x\":[\"2000-02-01T00:00:00\",\"2000-03-01T00:00:00\",\"2000-04-01T00:00:00\",\"2000-05-01T00:00:00\",\"2000-06-01T00:00:00\",\"2000-07-01T00:00:00\",\"2000-08-01T00:00:00\",\"2000-09-01T00:00:00\",\"2000-10-01T00:00:00\",\"2000-11-01T00:00:00\",\"2000-12-01T00:00:00\",\"2001-01-01T00:00:00\",\"2001-02-01T00:00:00\",\"2001-03-01T00:00:00\",\"2001-04-01T00:00:00\",\"2001-05-01T00:00:00\",\"2001-06-01T00:00:00\",\"2001-07-01T00:00:00\",\"2001-08-01T00:00:00\",\"2001-09-01T00:00:00\",\"2001-10-01T00:00:00\",\"2001-11-01T00:00:00\",\"2001-12-01T00:00:00\",\"2002-01-01T00:00:00\",\"2002-02-01T00:00:00\",\"2002-03-01T00:00:00\",\"2002-04-01T00:00:00\",\"2002-05-01T00:00:00\",\"2002-06-01T00:00:00\",\"2002-07-01T00:00:00\",\"2002-08-01T00:00:00\",\"2002-09-01T00:00:00\",\"2002-10-01T00:00:00\",\"2002-11-01T00:00:00\",\"2002-12-01T00:00:00\",\"2003-01-01T00:00:00\",\"2003-02-01T00:00:00\",\"2003-03-01T00:00:00\",\"2003-04-01T00:00:00\",\"2003-05-01T00:00:00\",\"2003-06-01T00:00:00\",\"2003-07-01T00:00:00\",\"2003-08-01T00:00:00\",\"2003-09-01T00:00:00\",\"2003-10-01T00:00:00\",\"2003-11-01T00:00:00\",\"2003-12-01T00:00:00\",\"2004-01-01T00:00:00\",\"2004-02-01T00:00:00\",\"2004-03-01T00:00:00\",\"2004-04-01T00:00:00\",\"2004-05-01T00:00:00\",\"2004-06-01T00:00:00\",\"2004-07-01T00:00:00\",\"2004-08-01T00:00:00\",\"2004-09-01T00:00:00\",\"2004-10-01T00:00:00\",\"2004-11-01T00:00:00\",\"2004-12-01T00:00:00\",\"2005-01-01T00:00:00\",\"2005-02-01T00:00:00\",\"2005-03-01T00:00:00\",\"2005-04-01T00:00:00\",\"2005-05-01T00:00:00\",\"2005-06-01T00:00:00\",\"2005-07-01T00:00:00\",\"2005-08-01T00:00:00\",\"2005-09-01T00:00:00\",\"2005-10-01T00:00:00\",\"2005-11-01T00:00:00\",\"2005-12-01T00:00:00\",\"2006-01-01T00:00:00\",\"2006-02-01T00:00:00\",\"2006-03-01T00:00:00\",\"2006-04-01T00:00:00\",\"2006-05-01T00:00:00\",\"2006-06-01T00:00:00\",\"2006-07-01T00:00:00\",\"2006-08-01T00:00:00\",\"2006-09-01T00:00:00\",\"2006-10-01T00:00:00\",\"2006-11-01T00:00:00\",\"2006-12-01T00:00:00\",\"2007-01-01T00:00:00\",\"2007-02-01T00:00:00\",\"2007-03-01T00:00:00\",\"2007-04-01T00:00:00\",\"2007-05-01T00:00:00\",\"2007-06-01T00:00:00\",\"2007-07-01T00:00:00\",\"2007-08-01T00:00:00\",\"2007-09-01T00:00:00\",\"2007-10-01T00:00:00\",\"2007-11-01T00:00:00\",\"2007-12-01T00:00:00\",\"2008-01-01T00:00:00\",\"2008-02-01T00:00:00\",\"2008-03-01T00:00:00\",\"2008-04-01T00:00:00\",\"2008-05-01T00:00:00\",\"2008-06-01T00:00:00\",\"2008-07-01T00:00:00\",\"2008-08-01T00:00:00\",\"2008-09-01T00:00:00\",\"2008-10-01T00:00:00\",\"2008-11-01T00:00:00\",\"2008-12-01T00:00:00\",\"2009-01-01T00:00:00\",\"2009-02-01T00:00:00\",\"2009-03-01T00:00:00\",\"2009-04-01T00:00:00\",\"2009-05-01T00:00:00\",\"2009-06-01T00:00:00\",\"2009-07-01T00:00:00\",\"2009-08-01T00:00:00\",\"2009-09-01T00:00:00\",\"2009-10-01T00:00:00\",\"2009-11-01T00:00:00\",\"2009-12-01T00:00:00\",\"2010-01-01T00:00:00\",\"2010-02-01T00:00:00\",\"2010-03-01T00:00:00\",\"2010-04-01T00:00:00\",\"2010-05-01T00:00:00\",\"2010-06-01T00:00:00\",\"2010-07-01T00:00:00\",\"2010-08-01T00:00:00\",\"2010-09-01T00:00:00\",\"2010-10-01T00:00:00\",\"2010-11-01T00:00:00\",\"2010-12-01T00:00:00\",\"2011-01-01T00:00:00\",\"2011-02-01T00:00:00\",\"2011-03-01T00:00:00\",\"2011-04-01T00:00:00\",\"2011-05-01T00:00:00\",\"2011-06-01T00:00:00\",\"2011-07-01T00:00:00\",\"2011-08-01T00:00:00\",\"2011-09-01T00:00:00\",\"2011-10-01T00:00:00\",\"2011-11-01T00:00:00\",\"2011-12-01T00:00:00\",\"2012-01-01T00:00:00\",\"2012-02-01T00:00:00\",\"2012-03-01T00:00:00\",\"2012-04-01T00:00:00\",\"2012-05-01T00:00:00\",\"2012-06-01T00:00:00\",\"2012-07-01T00:00:00\",\"2012-08-01T00:00:00\",\"2012-09-01T00:00:00\",\"2012-10-01T00:00:00\",\"2012-11-01T00:00:00\",\"2012-12-01T00:00:00\",\"2013-01-01T00:00:00\",\"2013-02-01T00:00:00\",\"2013-03-01T00:00:00\",\"2013-04-01T00:00:00\",\"2013-05-01T00:00:00\",\"2013-06-01T00:00:00\",\"2013-07-01T00:00:00\",\"2013-08-01T00:00:00\",\"2013-09-01T00:00:00\",\"2013-10-01T00:00:00\",\"2013-11-01T00:00:00\",\"2013-12-01T00:00:00\",\"2014-01-01T00:00:00\",\"2014-02-01T00:00:00\",\"2014-03-01T00:00:00\",\"2014-04-01T00:00:00\",\"2014-05-01T00:00:00\",\"2014-06-01T00:00:00\",\"2014-07-01T00:00:00\",\"2014-08-01T00:00:00\",\"2014-09-01T00:00:00\",\"2014-10-01T00:00:00\",\"2014-11-01T00:00:00\",\"2014-12-01T00:00:00\",\"2015-01-01T00:00:00\",\"2015-02-01T00:00:00\",\"2015-03-01T00:00:00\",\"2015-04-01T00:00:00\",\"2015-05-01T00:00:00\",\"2015-06-01T00:00:00\",\"2015-07-01T00:00:00\",\"2015-08-01T00:00:00\",\"2015-09-01T00:00:00\",\"2015-10-01T00:00:00\",\"2015-11-01T00:00:00\",\"2015-12-01T00:00:00\",\"2016-01-01T00:00:00\",\"2016-02-01T00:00:00\",\"2016-03-01T00:00:00\",\"2016-04-01T00:00:00\",\"2016-05-01T00:00:00\",\"2016-06-01T00:00:00\",\"2016-07-01T00:00:00\",\"2016-08-01T00:00:00\",\"2016-09-01T00:00:00\",\"2016-10-01T00:00:00\",\"2016-11-01T00:00:00\",\"2016-12-01T00:00:00\",\"2017-01-01T00:00:00\",\"2017-02-01T00:00:00\",\"2017-03-01T00:00:00\",\"2017-04-01T00:00:00\",\"2017-05-01T00:00:00\",\"2017-06-01T00:00:00\",\"2017-07-01T00:00:00\",\"2017-08-01T00:00:00\",\"2017-09-01T00:00:00\",\"2017-10-01T00:00:00\",\"2017-11-01T00:00:00\",\"2017-12-01T00:00:00\",\"2018-01-01T00:00:00\",\"2018-02-01T00:00:00\",\"2018-03-01T00:00:00\",\"2018-04-01T00:00:00\",\"2018-05-01T00:00:00\",\"2018-06-01T00:00:00\",\"2018-07-01T00:00:00\",\"2018-08-01T00:00:00\",\"2018-09-01T00:00:00\",\"2018-10-01T00:00:00\",\"2018-11-01T00:00:00\",\"2018-12-01T00:00:00\",\"2019-01-01T00:00:00\",\"2019-02-01T00:00:00\",\"2019-03-01T00:00:00\",\"2019-04-01T00:00:00\",\"2019-05-01T00:00:00\",\"2019-06-01T00:00:00\",\"2019-07-01T00:00:00\",\"2019-08-01T00:00:00\",\"2019-09-01T00:00:00\",\"2019-10-01T00:00:00\",\"2019-11-01T00:00:00\",\"2019-12-01T00:00:00\",\"2020-01-01T00:00:00\",\"2020-02-01T00:00:00\",\"2020-03-01T00:00:00\",\"2020-04-01T00:00:00\",\"2020-05-01T00:00:00\",\"2020-06-01T00:00:00\",\"2020-07-01T00:00:00\",\"2020-08-01T00:00:00\",\"2020-09-01T00:00:00\",\"2020-10-01T00:00:00\",\"2020-11-01T00:00:00\",\"2020-12-01T00:00:00\"],\"y\":[-0.049556898557272376,-0.005398894594375148,0.10851150936049292,0.15670604107060648,0.08307067082699371,0.10748932664339961,0.08686393504245382,0.09978032238802159,0.10676380138089558,0.2003778985594542,0.25448536427405144,0.18906376516492118,0.23477558531097764,0.2826590495654362,0.23777623652771895,0.23184466409742233,0.20299442446031501,0.2416261380731719,0.27990510704229865,0.3999124905196707,0.3354340157056743,0.22420069889020922,0.25866793739974603,0.2407643048404733,0.3622209332288262,0.3062540380097247,0.31627559414479434,0.3369981930730408,0.4481334470538212,0.5388292334474785,0.5279182602546901,0.5877634471396176,0.5740217395848628,0.4300603238690268,0.46528526588900276,0.4720721100937417,0.47732464182153,0.5308424166536598,0.5176007739622108,0.4789347300176727,0.4741849326867036,0.5215232248958059,0.5319201016745521,0.5094256253832037,0.5456256510124584,0.5446087810569293,0.5544167563318732,0.48517770129494253,0.5006169290986198,0.5163745735410605,0.5545675249809201,0.5783464193429468,0.5822937819170513,0.6159299999829333,0.6030071885203807,0.6247338204625332,0.6261936180660796,0.6126746918858375,0.5920740752093132,0.609055926693618,0.6725569759738994,0.6850422233185378,0.6252312738699193,0.6511218629385414,0.6502961347654996,0.666886841921656,0.6483453534461814,0.6783768729654869,0.6549339900799802,0.6121413466994112,0.605339726518342,0.6381657547450843,0.6120034235146925,0.6164575081354156,0.6024282134889345,0.6143332777421509,0.6244994645089188,0.6383360415082207,0.6193408217611889,0.6096989193841125,0.6188408571158932,0.6183922256476788,0.5717655226720977,0.5815159182629885,0.5928387389068455,0.6241900699060585,0.6031120020404421,0.6231220208842065,0.6316233746781179,0.6706981562801608,0.6963363350514324,0.6941379565992654,0.7017097475878724,0.7822245685640765,0.8038403198465991,0.800356318544188,0.8177625327455627,0.8500998954884322,0.7655100612302896,0.7957653196662768,0.8453034201500387,0.9161159324215846,0.8772352996312172,0.8928562178765735,0.9432477835136455,0.9646065426998542,0.923176887201383,0.956970775228071,0.973789347627614,0.8601872872497571,0.647682769143676,0.6334883410865448,0.6306160646360643,0.5036935095436015,0.4944062014325199,0.4584073792228498,0.49272453679809614,0.5003867977230343,0.5175064435719099,0.5608808341723619,0.5484494093678458,0.5335531216096874,0.5111338407501609,0.5668137936258921,0.6042249411675262,0.5466136182114991,0.5260491221017112,0.5559568395535748,0.5843587318922212,0.5636344808853899,0.5141840946099889,0.45822943564570506,0.4690294456095345,0.48602127327168687,0.5077094999880705,0.46881212986491017,0.46282451934356583,0.4097451226404698,0.3795950750366808,0.34435671148464064,0.4142556506732715,0.43294812601392674,0.44091863914168306,0.44081148944252546,0.48348489315472576,0.46174273445200975,0.44103930736969743,0.47452535420872555,0.47857567653438204,0.5051986233141592,0.48767616181459994,0.49298970041901713,0.4806364041130995,0.4884225452326232,0.4880509121462415,0.4899456424205122,0.5049864747352384,0.49654872799236993,0.4762962286579999,0.44622105358152364,0.4541115349845095,0.45619959614273764,0.44340888468899275,0.4363363120306505,0.4741519667157017,0.47241323887655673,0.4771059879976871,0.4966533424982811,0.4765890193306592,0.48893850495925206,0.510100761848546,0.512618990649444,0.4785432084318084,0.4737920922584684,0.4784953583524012,0.5110553509493729,0.49696784930781024,0.4767371261238307,0.4909159080438892,0.5008042731973714,0.4602912836727566,0.48340905030526704,0.449727216399741,0.4668998485460869,0.46188813337516277,0.49307000760294684,0.48793712882902995,0.521071919960971,0.4887164917760418,0.4872852654143065,0.4950004353300703,0.4970921740536707,0.5133288715893287,0.49208359030840043,0.4538505349369457,0.47408991822535484,0.47747327922448424,0.4820780176017232,0.45891441023637514,0.44286347341191057,0.4280473502079769,0.3562680874157016,0.38460809767507875,0.3912384009608394,0.3936542720569014,0.40719684646094856,0.43680427738528005,0.46414871488235043,0.4422659302515466,0.43825908397583757,0.4173384162563567,0.4147990348692405,0.413615550776139,0.40980558068679596,0.414630244729854,0.44940503786845687,0.40691199948733514,0.42251376227566895,0.4499906346753848,0.43440878028341734,0.4513460749486604,0.4524523090134047,0.4326789291669757,0.43421315834352314,0.3967987296666309,0.40524216799402324,0.41632479443840786,0.39878846585915717,0.39353026024671856,0.38644535417774883,0.3844799869529576,0.37968332376096314,0.3535247994191939,0.3551287773758769,0.35991170867853284,0.36788277810005,0.37138365618858815,0.3489852473263797,0.3726375701211655,0.40283425199806344,0.37818014382251697,0.5190982703468954,0.5187898844295531,0.47247295034952885,0.4242155471326068,0.4458675867950739,0.4815300963089797,0.4579214002139753,0.4148801580874095,0.2478140860070075,0.21185182435182592],\"marker\":{},\"line\":{},\"name\":\"Long-Short\"},{\"type\":\"scatter\",\"mode\":\"lines\",\"x\":[\"2000-02-01T00:00:00\",\"2000-03-01T00:00:00\",\"2000-04-01T00:00:00\",\"2000-05-01T00:00:00\",\"2000-06-01T00:00:00\",\"2000-07-01T00:00:00\",\"2000-08-01T00:00:00\",\"2000-09-01T00:00:00\",\"2000-10-01T00:00:00\",\"2000-11-01T00:00:00\",\"2000-12-01T00:00:00\",\"2001-01-01T00:00:00\",\"2001-02-01T00:00:00\",\"2001-03-01T00:00:00\",\"2001-04-01T00:00:00\",\"2001-05-01T00:00:00\",\"2001-06-01T00:00:00\",\"2001-07-01T00:00:00\",\"2001-08-01T00:00:00\",\"2001-09-01T00:00:00\",\"2001-10-01T00:00:00\",\"2001-11-01T00:00:00\",\"2001-12-01T00:00:00\",\"2002-01-01T00:00:00\",\"2002-02-01T00:00:00\",\"2002-03-01T00:00:00\",\"2002-04-01T00:00:00\",\"2002-05-01T00:00:00\",\"2002-06-01T00:00:00\",\"2002-07-01T00:00:00\",\"2002-08-01T00:00:00\",\"2002-09-01T00:00:00\",\"2002-10-01T00:00:00\",\"2002-11-01T00:00:00\",\"2002-12-01T00:00:00\",\"2003-01-01T00:00:00\",\"2003-02-01T00:00:00\",\"2003-03-01T00:00:00\",\"2003-04-01T00:00:00\",\"2003-05-01T00:00:00\",\"2003-06-01T00:00:00\",\"2003-07-01T00:00:00\",\"2003-08-01T00:00:00\",\"2003-09-01T00:00:00\",\"2003-10-01T00:00:00\",\"2003-11-01T00:00:00\",\"2003-12-01T00:00:00\",\"2004-01-01T00:00:00\",\"2004-02-01T00:00:00\",\"2004-03-01T00:00:00\",\"2004-04-01T00:00:00\",\"2004-05-01T00:00:00\",\"2004-06-01T00:00:00\",\"2004-07-01T00:00:00\",\"2004-08-01T00:00:00\",\"2004-09-01T00:00:00\",\"2004-10-01T00:00:00\",\"2004-11-01T00:00:00\",\"2004-12-01T00:00:00\",\"2005-01-01T00:00:00\",\"2005-02-01T00:00:00\",\"2005-03-01T00:00:00\",\"2005-04-01T00:00:00\",\"2005-05-01T00:00:00\",\"2005-06-01T00:00:00\",\"2005-07-01T00:00:00\",\"2005-08-01T00:00:00\",\"2005-09-01T00:00:00\",\"2005-10-01T00:00:00\",\"2005-11-01T00:00:00\",\"2005-12-01T00:00:00\",\"2006-01-01T00:00:00\",\"2006-02-01T00:00:00\",\"2006-03-01T00:00:00\",\"2006-04-01T00:00:00\",\"2006-05-01T00:00:00\",\"2006-06-01T00:00:00\",\"2006-07-01T00:00:00\",\"2006-08-01T00:00:00\",\"2006-09-01T00:00:00\",\"2006-10-01T00:00:00\",\"2006-11-01T00:00:00\",\"2006-12-01T00:00:00\",\"2007-01-01T00:00:00\",\"2007-02-01T00:00:00\",\"2007-03-01T00:00:00\",\"2007-04-01T00:00:00\",\"2007-05-01T00:00:00\",\"2007-06-01T00:00:00\",\"2007-07-01T00:00:00\",\"2007-08-01T00:00:00\",\"2007-09-01T00:00:00\",\"2007-10-01T00:00:00\",\"2007-11-01T00:00:00\",\"2007-12-01T00:00:00\",\"2008-01-01T00:00:00\",\"2008-02-01T00:00:00\",\"2008-03-01T00:00:00\",\"2008-04-01T00:00:00\",\"2008-05-01T00:00:00\",\"2008-06-01T00:00:00\",\"2008-07-01T00:00:00\",\"2008-08-01T00:00:00\",\"2008-09-01T00:00:00\",\"2008-10-01T00:00:00\",\"2008-11-01T00:00:00\",\"2008-12-01T00:00:00\",\"2009-01-01T00:00:00\",\"2009-02-01T00:00:00\",\"2009-03-01T00:00:00\",\"2009-04-01T00:00:00\",\"2009-05-01T00:00:00\",\"2009-06-01T00:00:00\",\"2009-07-01T00:00:00\",\"2009-08-01T00:00:00\",\"2009-09-01T00:00:00\",\"2009-10-01T00:00:00\",\"2009-11-01T00:00:00\",\"2009-12-01T00:00:00\",\"2010-01-01T00:00:00\",\"2010-02-01T00:00:00\",\"2010-03-01T00:00:00\",\"2010-04-01T00:00:00\",\"2010-05-01T00:00:00\",\"2010-06-01T00:00:00\",\"2010-07-01T00:00:00\",\"2010-08-01T00:00:00\",\"2010-09-01T00:00:00\",\"2010-10-01T00:00:00\",\"2010-11-01T00:00:00\",\"2010-12-01T00:00:00\",\"2011-01-01T00:00:00\",\"2011-02-01T00:00:00\",\"2011-03-01T00:00:00\",\"2011-04-01T00:00:00\",\"2011-05-01T00:00:00\",\"2011-06-01T00:00:00\",\"2011-07-01T00:00:00\",\"2011-08-01T00:00:00\",\"2011-09-01T00:00:00\",\"2011-10-01T00:00:00\",\"2011-11-01T00:00:00\",\"2011-12-01T00:00:00\",\"2012-01-01T00:00:00\",\"2012-02-01T00:00:00\",\"2012-03-01T00:00:00\",\"2012-04-01T00:00:00\",\"2012-05-01T00:00:00\",\"2012-06-01T00:00:00\",\"2012-07-01T00:00:00\",\"2012-08-01T00:00:00\",\"2012-09-01T00:00:00\",\"2012-10-01T00:00:00\",\"2012-11-01T00:00:00\",\"2012-12-01T00:00:00\",\"2013-01-01T00:00:00\",\"2013-02-01T00:00:00\",\"2013-03-01T00:00:00\",\"2013-04-01T00:00:00\",\"2013-05-01T00:00:00\",\"2013-06-01T00:00:00\",\"2013-07-01T00:00:00\",\"2013-08-01T00:00:00\",\"2013-09-01T00:00:00\",\"2013-10-01T00:00:00\",\"2013-11-01T00:00:00\",\"2013-12-01T00:00:00\",\"2014-01-01T00:00:00\",\"2014-02-01T00:00:00\",\"2014-03-01T00:00:00\",\"2014-04-01T00:00:00\",\"2014-05-01T00:00:00\",\"2014-06-01T00:00:00\",\"2014-07-01T00:00:00\",\"2014-08-01T00:00:00\",\"2014-09-01T00:00:00\",\"2014-10-01T00:00:00\",\"2014-11-01T00:00:00\",\"2014-12-01T00:00:00\",\"2015-01-01T00:00:00\",\"2015-02-01T00:00:00\",\"2015-03-01T00:00:00\",\"2015-04-01T00:00:00\",\"2015-05-01T00:00:00\",\"2015-06-01T00:00:00\",\"2015-07-01T00:00:00\",\"2015-08-01T00:00:00\",\"2015-09-01T00:00:00\",\"2015-10-01T00:00:00\",\"2015-11-01T00:00:00\",\"2015-12-01T00:00:00\",\"2016-01-01T00:00:00\",\"2016-02-01T00:00:00\",\"2016-03-01T00:00:00\",\"2016-04-01T00:00:00\",\"2016-05-01T00:00:00\",\"2016-06-01T00:00:00\",\"2016-07-01T00:00:00\",\"2016-08-01T00:00:00\",\"2016-09-01T00:00:00\",\"2016-10-01T00:00:00\",\"2016-11-01T00:00:00\",\"2016-12-01T00:00:00\",\"2017-01-01T00:00:00\",\"2017-02-01T00:00:00\",\"2017-03-01T00:00:00\",\"2017-04-01T00:00:00\",\"2017-05-01T00:00:00\",\"2017-06-01T00:00:00\",\"2017-07-01T00:00:00\",\"2017-08-01T00:00:00\",\"2017-09-01T00:00:00\",\"2017-10-01T00:00:00\",\"2017-11-01T00:00:00\",\"2017-12-01T00:00:00\",\"2018-01-01T00:00:00\",\"2018-02-01T00:00:00\",\"2018-03-01T00:00:00\",\"2018-04-01T00:00:00\",\"2018-05-01T00:00:00\",\"2018-06-01T00:00:00\",\"2018-07-01T00:00:00\",\"2018-08-01T00:00:00\",\"2018-09-01T00:00:00\",\"2018-10-01T00:00:00\",\"2018-11-01T00:00:00\",\"2018-12-01T00:00:00\",\"2019-01-01T00:00:00\",\"2019-02-01T00:00:00\",\"2019-03-01T00:00:00\",\"2019-04-01T00:00:00\",\"2019-05-01T00:00:00\",\"2019-06-01T00:00:00\",\"2019-07-01T00:00:00\",\"2019-08-01T00:00:00\",\"2019-09-01T00:00:00\",\"2019-10-01T00:00:00\",\"2019-11-01T00:00:00\",\"2019-12-01T00:00:00\",\"2020-01-01T00:00:00\",\"2020-02-01T00:00:00\",\"2020-03-01T00:00:00\",\"2020-04-01T00:00:00\",\"2020-05-01T00:00:00\",\"2020-06-01T00:00:00\",\"2020-07-01T00:00:00\",\"2020-08-01T00:00:00\",\"2020-09-01T00:00:00\",\"2020-10-01T00:00:00\",\"2020-11-01T00:00:00\",\"2020-12-01T00:00:00\"],\"y\":[0.01548460741012507,0.048858802707760995,0.00643289762737953,-0.021682304374834316,0.0070077918037703135,-0.008967200845493406,0.03506571727410579,-0.0005874848493212514,-0.01802112109770171,-0.08455319276882445,-0.07766803033876546,-0.05942211252048113,-0.1191662011853647,-0.1595832599711735,-0.11740882125887397,-0.11339252081289808,-0.12426346422500434,-0.13605274162949854,-0.17132667281653136,-0.21977281590623454,-0.20764199197744182,-0.16988243310967244,-0.16148795498556157,-0.16911938476067256,-0.18114502545516686,-0.15920147169997667,-0.18683455848896902,-0.19392694041442426,-0.23065887360787518,-0.2704335236521037,-0.268128003148872,-0.3160030921888869,-0.2821105367098641,-0.2550685899517571,-0.28218754084510855,-0.29384699529366465,-0.30223755196827395,-0.29743061745607147,-0.26093042522289245,-0.232670252408256,-0.22578365818306934,-0.21428454600212432,-0.20266430147213776,-0.2089131069944109,-0.17851392601883465,-0.17150473188803783,-0.14904102420554,-0.1374777400529099,-0.1298458437227531,-0.13710530252072828,-0.14708558892764412,-0.14077855120210303,-0.1306778350093808,-0.15298482133487745,-0.15255655366101473,-0.14398686937115845,-0.1362502616201583,-0.11146589091757786,-0.0922038483280726,-0.10803933933504872,-0.09738462968638706,-0.10862299293689825,-0.1233270117340115,-0.1031031259242915,-0.09987201787939948,-0.07757101240419062,-0.0846835878730482,-0.08184892481348205,-0.09357086851296936,-0.07288969533798961,-0.07435458708223175,-0.056569649248417564,-0.058358463362725876,-0.04966940773284556,-0.045284790518276274,-0.06682630196319883,-0.06889056315742093,-0.073480740294804,-0.06159340249939882,-0.05068043177850201,-0.03130064163534696,-0.02083130325198146,-0.015447230890364705,-0.006735566259385206,-0.01903981410811606,-0.014823874235797896,0.006906810958132725,0.027525849161686766,0.014797181659267578,-0.009126179616927854,-0.0033646168685710354,0.016918107456748155,0.028487021657559453,-0.002909393348656253,-0.008392011405308542,-0.048251456383154756,-0.06683869245776342,-0.07232365651604,-0.04535319189581821,-0.034130687515324554,-0.08565295038730758,-0.09010270341869175,-0.08130401537612997,-0.13495502560335793,-0.22915658224397772,-0.26744988530978997,-0.2593938621973235,-0.2974020751564892,-0.342252065212424,-0.3050457515480137,-0.2603323091317993,-0.23597616772987307,-0.23389977511325533,-0.19651997241445218,-0.1796095898073098,-0.1584545010018199,-0.17223013133840703,-0.14314181933090298,-0.12824903995621262,-0.14676157212857055,-0.1284264655646551,-0.09366744678842964,-0.08221095391537037,-0.12797811643554857,-0.1586765837892571,-0.12182719185520297,-0.148301979117326,-0.09694870626417229,-0.07480357497917034,-0.07129509250928501,-0.03126411182119171,-0.01908003636161215,0.002556767832899709,0.005471515204278576,0.023900520044076723,0.01568196252306464,0.004448079349339551,-0.010470568734562424,-0.04793245601448848,-0.09360378515417034,-0.02858362134407222,-0.030302707201815382,-0.02576744899962169,0.005327376845662979,0.03341169557670298,0.05372440593629668,0.04806357637191616,0.007060882412810443,0.031820244022923605,0.036972118228330464,0.05368461646193423,0.07186518252422136,0.05994214402445541,0.06516743978877315,0.0731113441009319,0.11088892077036161,0.11994613124814069,0.1484718302017527,0.15972270158502044,0.18024595957205336,0.17129462308322418,0.21312085218942545,0.19234267367032998,0.2207530215946023,0.25300365170382944,0.27779104106798136,0.3004844779132656,0.273196121971613,0.31061427739505465,0.3141761424755338,0.31259801785902064,0.32968766434364993,0.3516219887158001,0.3341951131407799,0.3699486752430199,0.35289159716380625,0.37443913513578875,0.3965904651613228,0.3960608572821618,0.3686199255027769,0.4216445311891941,0.41158116778703824,0.4168448781234946,0.42902342094404666,0.4152047940136858,0.42897923955897266,0.3744289610154583,0.347760694434029,0.413776602833964,0.41878043727065073,0.39932195154946926,0.3482917157874874,0.3476952081333935,0.4069788722953971,0.41507100661350727,0.43099061388324267,0.43053840311051705,0.46625176472326424,0.47079263131149296,0.47311657482961156,0.4543094416468436,0.49898059931123306,0.5161284108350161,0.5347180872663333,0.569346368991859,0.5710325408736705,0.5818554943900447,0.5924530764262854,0.6003035410596957,0.619217310354202,0.6208547271288969,0.6465676784706418,0.669982789356139,0.7029134697518604,0.7143220751904207,0.774781043371358,0.7338387882331081,0.7080868043847994,0.7112175086870896,0.7398781037832867,0.7451564050492896,0.7803415344968962,0.8190491021004174,0.8197389125789261,0.7314096882713208,0.7499032543114663,0.6442819503185226,0.7316809374905693,0.7688927571724353,0.7811905820234442,0.8258831193436169,0.7457952834408068,0.8222599264028172,0.8359653164745993,0.8060276260533441,0.822350421616048,0.8461920740012598,0.8913487495715982,0.9244607561960103,0.9232444492863823,0.8244211957803285,0.6701391684156748,0.8142243861848735,0.8782066075100281,0.907408606776515,0.9769676605671451,1.0723039440362059,1.024760110885793,0.9978864405285808,1.1553468467140986,1.2184182180859788],\"marker\":{},\"line\":{},\"name\":\"Mkt-Rf\"}];\r\n",
       "            var layout = {\"width\":600,\"height\":600,\"template\":{\"layout\":{\"title\":{\"x\":0.05},\"font\":{\"color\":\"rgba(42, 63, 95, 1.0)\"},\"paper_bgcolor\":\"rgba(255, 255, 255, 1.0)\",\"plot_bgcolor\":\"rgba(229, 236, 246, 1.0)\",\"autotypenumbers\":\"strict\",\"colorscale\":{\"diverging\":[[0.0,\"#8e0152\"],[0.1,\"#c51b7d\"],[0.2,\"#de77ae\"],[0.3,\"#f1b6da\"],[0.4,\"#fde0ef\"],[0.5,\"#f7f7f7\"],[0.6,\"#e6f5d0\"],[0.7,\"#b8e186\"],[0.8,\"#7fbc41\"],[0.9,\"#4d9221\"],[1.0,\"#276419\"]],\"sequential\":[[0.0,\"#0d0887\"],[0.1111111111111111,\"#46039f\"],[0.2222222222222222,\"#7201a8\"],[0.3333333333333333,\"#9c179e\"],[0.4444444444444444,\"#bd3786\"],[0.5555555555555556,\"#d8576b\"],[0.6666666666666666,\"#ed7953\"],[0.7777777777777778,\"#fb9f3a\"],[0.8888888888888888,\"#fdca26\"],[1.0,\"#f0f921\"]],\"sequentialminus\":[[0.0,\"#0d0887\"],[0.1111111111111111,\"#46039f\"],[0.2222222222222222,\"#7201a8\"],[0.3333333333333333,\"#9c179e\"],[0.4444444444444444,\"#bd3786\"],[0.5555555555555556,\"#d8576b\"],[0.6666666666666666,\"#ed7953\"],[0.7777777777777778,\"#fb9f3a\"],[0.8888888888888888,\"#fdca26\"],[1.0,\"#f0f921\"]]},\"hovermode\":\"closest\",\"hoverlabel\":{\"align\":\"left\"},\"coloraxis\":{\"colorbar\":{\"outlinewidth\":0.0,\"ticks\":\"\"}},\"geo\":{\"showland\":true,\"landcolor\":\"rgba(229, 236, 246, 1.0)\",\"showlakes\":true,\"lakecolor\":\"rgba(255, 255, 255, 1.0)\",\"subunitcolor\":\"rgba(255, 255, 255, 1.0)\",\"bgcolor\":\"rgba(255, 255, 255, 1.0)\"},\"mapbox\":{\"style\":\"light\"},\"polar\":{\"bgcolor\":\"rgba(229, 236, 246, 1.0)\",\"radialaxis\":{\"linecolor\":\"rgba(255, 255, 255, 1.0)\",\"gridcolor\":\"rgba(255, 255, 255, 1.0)\",\"ticks\":\"\"},\"angularaxis\":{\"linecolor\":\"rgba(255, 255, 255, 1.0)\",\"gridcolor\":\"rgba(255, 255, 255, 1.0)\",\"ticks\":\"\"}},\"scene\":{\"xaxis\":{\"ticks\":\"\",\"linecolor\":\"rgba(255, 255, 255, 1.0)\",\"gridcolor\":\"rgba(255, 255, 255, 1.0)\",\"gridwidth\":2.0,\"zerolinecolor\":\"rgba(255, 255, 255, 1.0)\",\"backgroundcolor\":\"rgba(229, 236, 246, 1.0)\",\"showbackground\":true},\"yaxis\":{\"ticks\":\"\",\"linecolor\":\"rgba(255, 255, 255, 1.0)\",\"gridcolor\":\"rgba(255, 255, 255, 1.0)\",\"gridwidth\":2.0,\"zerolinecolor\":\"rgba(255, 255, 255, 1.0)\",\"backgroundcolor\":\"rgba(229, 236, 246, 1.0)\",\"showbackground\":true},\"zaxis\":{\"ticks\":\"\",\"linecolor\":\"rgba(255, 255, 255, 1.0)\",\"gridcolor\":\"rgba(255, 255, 255, 1.0)\",\"gridwidth\":2.0,\"zerolinecolor\":\"rgba(255, 255, 255, 1.0)\",\"backgroundcolor\":\"rgba(229, 236, 246, 1.0)\",\"showbackground\":true}},\"ternary\":{\"aaxis\":{\"ticks\":\"\",\"linecolor\":\"rgba(255, 255, 255, 1.0)\",\"gridcolor\":\"rgba(255, 255, 255, 1.0)\"},\"baxis\":{\"ticks\":\"\",\"linecolor\":\"rgba(255, 255, 255, 1.0)\",\"gridcolor\":\"rgba(255, 255, 255, 1.0)\"},\"caxis\":{\"ticks\":\"\",\"linecolor\":\"rgba(255, 255, 255, 1.0)\",\"gridcolor\":\"rgba(255, 255, 255, 1.0)\"},\"bgcolor\":\"rgba(229, 236, 246, 1.0)\"},\"xaxis\":{\"title\":{\"standoff\":15},\"ticks\":\"\",\"automargin\":true,\"linecolor\":\"rgba(255, 255, 255, 1.0)\",\"gridcolor\":\"rgba(255, 255, 255, 1.0)\",\"zerolinecolor\":\"rgba(255, 255, 255, 1.0)\",\"zerolinewidth\":2.0},\"yaxis\":{\"title\":{\"standoff\":15},\"ticks\":\"\",\"automargin\":true,\"linecolor\":\"rgba(255, 255, 255, 1.0)\",\"gridcolor\":\"rgba(255, 255, 255, 1.0)\",\"zerolinecolor\":\"rgba(255, 255, 255, 1.0)\",\"zerolinewidth\":2.0},\"annotationdefaults\":{\"arrowcolor\":\"#2a3f5f\",\"arrowhead\":0,\"arrowwidth\":1},\"shapedefaults\":{\"line\":{\"color\":\"rgba(42, 63, 95, 1.0)\"}},\"colorway\":[\"rgba(99, 110, 250, 1.0)\",\"rgba(239, 85, 59, 1.0)\",\"rgba(0, 204, 150, 1.0)\",\"rgba(171, 99, 250, 1.0)\",\"rgba(255, 161, 90, 1.0)\",\"rgba(25, 211, 243, 1.0)\",\"rgba(255, 102, 146, 1.0)\",\"rgba(182, 232, 128, 1.0)\",\"rgba(255, 151, 255, 1.0)\",\"rgba(254, 203, 82, 1.0)\"]},\"data\":{\"bar\":[{\"marker\":{\"line\":{\"color\":\"rgba(229, 236, 246, 1.0)\",\"width\":0.5},\"pattern\":{\"fillmode\":\"overlay\",\"size\":10,\"solidity\":0.2}},\"error_x\":{\"color\":\"rgba(42, 63, 95, 1.0)\"},\"error_y\":{\"color\":\"rgba(42, 63, 95, 1.0)\"}}],\"barpolar\":[{\"marker\":{\"line\":{\"color\":\"rgba(229, 236, 246, 1.0)\",\"width\":0.5},\"pattern\":{\"fillmode\":\"overlay\",\"size\":10,\"solidity\":0.2}}}],\"carpet\":[{\"aaxis\":{\"linecolor\":\"rgba(255, 255, 255, 1.0)\",\"gridcolor\":\"rgba(255, 255, 255, 1.0)\",\"endlinecolor\":\"rgba(42, 63, 95, 1.0)\",\"minorgridcolor\":\"rgba(255, 255, 255, 1.0)\",\"startlinecolor\":\"rgba(42, 63, 95, 1.0)\"},\"baxis\":{\"linecolor\":\"rgba(255, 255, 255, 1.0)\",\"gridcolor\":\"rgba(255, 255, 255, 1.0)\",\"endlinecolor\":\"rgba(42, 63, 95, 1.0)\",\"minorgridcolor\":\"rgba(255, 255, 255, 1.0)\",\"startlinecolor\":\"rgba(42, 63, 95, 1.0)\"}}],\"choropleth\":[{\"colorbar\":{\"outlinewidth\":0.0,\"ticks\":\"\"},\"colorscale\":[[0.0,\"#0d0887\"],[0.1111111111111111,\"#46039f\"],[0.2222222222222222,\"#7201a8\"],[0.3333333333333333,\"#9c179e\"],[0.4444444444444444,\"#bd3786\"],[0.5555555555555556,\"#d8576b\"],[0.6666666666666666,\"#ed7953\"],[0.7777777777777778,\"#fb9f3a\"],[0.8888888888888888,\"#fdca26\"],[1.0,\"#f0f921\"]]}],\"contour\":[{\"colorbar\":{\"outlinewidth\":0.0,\"ticks\":\"\"},\"colorscale\":[[0.0,\"#0d0887\"],[0.1111111111111111,\"#46039f\"],[0.2222222222222222,\"#7201a8\"],[0.3333333333333333,\"#9c179e\"],[0.4444444444444444,\"#bd3786\"],[0.5555555555555556,\"#d8576b\"],[0.6666666666666666,\"#ed7953\"],[0.7777777777777778,\"#fb9f3a\"],[0.8888888888888888,\"#fdca26\"],[1.0,\"#f0f921\"]]}],\"contourcarpet\":[{\"colorbar\":{\"outlinewidth\":0.0,\"ticks\":\"\"}}],\"heatmap\":[{\"colorbar\":{\"outlinewidth\":0.0,\"ticks\":\"\"},\"colorscale\":[[0.0,\"#0d0887\"],[0.1111111111111111,\"#46039f\"],[0.2222222222222222,\"#7201a8\"],[0.3333333333333333,\"#9c179e\"],[0.4444444444444444,\"#bd3786\"],[0.5555555555555556,\"#d8576b\"],[0.6666666666666666,\"#ed7953\"],[0.7777777777777778,\"#fb9f3a\"],[0.8888888888888888,\"#fdca26\"],[1.0,\"#f0f921\"]]}],\"heatmapgl\":[{\"colorbar\":{\"outlinewidth\":0.0,\"ticks\":\"\"},\"colorscale\":[[0.0,\"#0d0887\"],[0.1111111111111111,\"#46039f\"],[0.2222222222222222,\"#7201a8\"],[0.3333333333333333,\"#9c179e\"],[0.4444444444444444,\"#bd3786\"],[0.5555555555555556,\"#d8576b\"],[0.6666666666666666,\"#ed7953\"],[0.7777777777777778,\"#fb9f3a\"],[0.8888888888888888,\"#fdca26\"],[1.0,\"#f0f921\"]]}],\"histogram\":[{\"marker\":{\"pattern\":{\"fillmode\":\"overlay\",\"size\":10,\"solidity\":0.2}}}],\"histogram2d\":[{\"colorbar\":{\"outlinewidth\":0.0,\"ticks\":\"\"},\"colorscale\":[[0.0,\"#0d0887\"],[0.1111111111111111,\"#46039f\"],[0.2222222222222222,\"#7201a8\"],[0.3333333333333333,\"#9c179e\"],[0.4444444444444444,\"#bd3786\"],[0.5555555555555556,\"#d8576b\"],[0.6666666666666666,\"#ed7953\"],[0.7777777777777778,\"#fb9f3a\"],[0.8888888888888888,\"#fdca26\"],[1.0,\"#f0f921\"]]}],\"histogram2dcontour\":[{\"colorbar\":{\"outlinewidth\":0.0,\"ticks\":\"\"},\"colorscale\":[[0.0,\"#0d0887\"],[0.1111111111111111,\"#46039f\"],[0.2222222222222222,\"#7201a8\"],[0.3333333333333333,\"#9c179e\"],[0.4444444444444444,\"#bd3786\"],[0.5555555555555556,\"#d8576b\"],[0.6666666666666666,\"#ed7953\"],[0.7777777777777778,\"#fb9f3a\"],[0.8888888888888888,\"#fdca26\"],[1.0,\"#f0f921\"]]}],\"mesh3d\":[{\"colorbar\":{\"outlinewidth\":0.0,\"ticks\":\"\"}}],\"parcoords\":[{\"line\":{\"colorbar\":{\"outlinewidth\":0.0,\"ticks\":\"\"}}}],\"pie\":[{\"automargin\":true}],\"scatter\":[{\"marker\":{\"colorbar\":{\"outlinewidth\":0.0,\"ticks\":\"\"}}}],\"scatter3d\":[{\"marker\":{\"colorbar\":{\"outlinewidth\":0.0,\"ticks\":\"\"}},\"line\":{\"colorbar\":{\"outlinewidth\":0.0,\"ticks\":\"\"}}}],\"scattercarpet\":[{\"marker\":{\"colorbar\":{\"outlinewidth\":0.0,\"ticks\":\"\"}}}],\"scattergeo\":[{\"marker\":{\"colorbar\":{\"outlinewidth\":0.0,\"ticks\":\"\"}}}],\"scattergl\":[{\"marker\":{\"colorbar\":{\"outlinewidth\":0.0,\"ticks\":\"\"}}}],\"scattermapbox\":[{\"marker\":{\"colorbar\":{\"outlinewidth\":0.0,\"ticks\":\"\"}}}],\"scatterpolar\":[{\"marker\":{\"colorbar\":{\"outlinewidth\":0.0,\"ticks\":\"\"}}}],\"scatterpolargl\":[{\"marker\":{\"colorbar\":{\"outlinewidth\":0.0,\"ticks\":\"\"}}}],\"scatterternary\":[{\"marker\":{\"colorbar\":{\"outlinewidth\":0.0,\"ticks\":\"\"}}}],\"surface\":[{\"colorbar\":{\"outlinewidth\":0.0,\"ticks\":\"\"},\"colorscale\":[[0.0,\"#0d0887\"],[0.1111111111111111,\"#46039f\"],[0.2222222222222222,\"#7201a8\"],[0.3333333333333333,\"#9c179e\"],[0.4444444444444444,\"#bd3786\"],[0.5555555555555556,\"#d8576b\"],[0.6666666666666666,\"#ed7953\"],[0.7777777777777778,\"#fb9f3a\"],[0.8888888888888888,\"#fdca26\"],[1.0,\"#f0f921\"]]}],\"table\":[{\"cells\":{\"fill\":{\"color\":\"rgba(235, 240, 248, 1.0)\"},\"line\":{\"color\":\"rgba(255, 255, 255, 1.0)\"}},\"header\":{\"fill\":{\"color\":\"rgba(200, 212, 227, 1.0)\"},\"line\":{\"color\":\"rgba(255, 255, 255, 1.0)\"}}}]}},\"title\":{\"text\":\"Strategy Analysis: Market, Short and Long-Short (10% volatility)\"}};\r\n",
       "            var config = {\"responsive\":true};\r\n",
       "            Plotly.newPlot('b78d9a59-1c44-49a0-a7a0-25b4f5b852a0', data, layout, config);\r\n",
       "});\r\n",
       "            };\r\n",
       "            if ((typeof(requirejs) !==  typeof(Function)) || (typeof(requirejs.config) !== typeof(Function))) {\r\n",
       "                var script = document.createElement(\"script\");\r\n",
       "                script.setAttribute(\"src\", \"https://cdnjs.cloudflare.com/ajax/libs/require.js/2.3.6/require.min.js\");\r\n",
       "                script.onload = function(){\r\n",
       "                    renderPlotly_b78d9a591c4449a0a7a025b4f5b852a0();\r\n",
       "                };\r\n",
       "                document.getElementsByTagName(\"head\")[0].appendChild(script);\r\n",
       "            }\r\n",
       "            else {\r\n",
       "                renderPlotly_b78d9a591c4449a0a7a025b4f5b852a0();\r\n",
       "            }\r\n",
       "</script>\r\n"
      ]
     },
     "metadata": {},
     "output_type": "display_data"
    }
   ],
   "source": [
    "chartStrategyAnalysis10"
   ]
  },
  {
   "cell_type": "code",
   "execution_count": null,
   "metadata": {
    "dotnet_interactive": {
     "language": "fsharp"
    },
    "vscode": {
     "languageId": "dotnet-interactive.fsharp"
    }
   },
   "outputs": [],
   "source": [
    "let longListDivisor = \n",
    "    long |>\n",
    "    List.map (fun x -> \n",
    "      {Symbol = \"Long\" \n",
    "       Date= x.YearMonth  \n",
    "       Return= x.Return})\n",
    "\n",
    "let longShortListDivisor = \n",
    "    longShort |>\n",
    "    List.map (fun x -> \n",
    "      {Symbol = \"Long Short\" \n",
    "       Date= x.YearMonth  \n",
    "       Return= x.Return})\n",
    "\n",
    "let vwMktRfListDivisor = \n",
    "    vwMktRf |>\n",
    "    List.map (fun x -> \n",
    "      {Symbol = \"MRP\" \n",
    "       Date= x.YearMonth  \n",
    "       Return= x.Return})\n",
    "\n",
    "let longCut =\n",
    "    longListDivisor |> List.splitInto 2\n",
    "\n",
    "let longShortCut =\n",
    "    longShortListDivisor |> List.splitInto 2\n",
    "\n",
    "let vwMktRfCut =\n",
    "    vwMktRfListDivisor |> List.splitInto 2\n",
    "\n",
    "let long1 = longCut[0]\n",
    "let long2 = longCut[1]\n",
    "\n",
    "let longShort1 = longShortCut[0]\n",
    "let longShort2 = longShortCut[1]\n",
    "\n",
    "let vwMktRf1 = vwMktRfCut[0]\n",
    "let vwMktRf2 = vwMktRfCut[1]\n",
    "\n",
    "let averageAnnualizedExcessReturn monthlyExcessReturn = 12.0 * monthlyExcessReturn\n",
    "\n",
    "let annualizedSharpeRatio monthlySharpeRatio = sqrt(12.0) * monthlySharpeRatio"
   ]
  },
  {
   "cell_type": "code",
   "execution_count": null,
   "metadata": {
    "dotnet_interactive": {
     "language": "fsharp"
    },
    "vscode": {
     "languageId": "dotnet-interactive.fsharp"
    }
   },
   "outputs": [],
   "source": [
    "let performanceLister list = \n",
    "    \n",
    "    let listStDev = \n",
    "        list \n",
    "        |> Seq.stDevBy (fun x -> x.Return)\n",
    "    \n",
    "    let listReturn = \n",
    "        list \n",
    "        |> Seq.averageBy (fun x -> x.Return)\n",
    "    \n",
    "    let listSharpe = \n",
    "        listReturn / listStDev\n",
    "    \n",
    "    let listAnnualizedSharpeRatio = annualizedSharpeRatio listSharpe\n",
    "\n",
    "    let listAnnualizedExcessReturn = averageAnnualizedExcessReturn listReturn\n",
    "\n",
    "    // Tuple output \n",
    "    listAnnualizedExcessReturn, listAnnualizedSharpeRatio"
   ]
  },
  {
   "cell_type": "code",
   "execution_count": null,
   "metadata": {
    "dotnet_interactive": {
     "language": "fsharp"
    },
    "vscode": {
     "languageId": "dotnet-interactive.fsharp"
    }
   },
   "outputs": [
    {
     "data": {
      "text/plain": [
       "((0.008401573556, 0.05336235972), (0.1359395426, 0.9386818355), (0.07191649836, 0.4727976207))\r\n"
      ]
     },
     "metadata": {},
     "output_type": "display_data"
    }
   ],
   "source": [
    "performanceLister long1, performanceLister long2, performanceLister longListDivisor"
   ]
  },
  {
   "cell_type": "code",
   "execution_count": null,
   "metadata": {
    "dotnet_interactive": {
     "language": "fsharp"
    },
    "vscode": {
     "languageId": "dotnet-interactive.fsharp"
    }
   },
   "outputs": [
    {
     "data": {
      "text/plain": [
       "((0.03945217153, 0.4089443296), (-0.01665973611, -0.2717966971), (0.01150799442, 0.1418375176))\r\n"
      ]
     },
     "metadata": {},
     "output_type": "display_data"
    }
   ],
   "source": [
    "performanceLister longShort1, performanceLister longShort2, performanceLister longShortListDivisor"
   ]
  },
  {
   "cell_type": "code",
   "execution_count": null,
   "metadata": {
    "dotnet_interactive": {
     "language": "fsharp"
    },
    "vscode": {
     "languageId": "dotnet-interactive.fsharp"
    }
   },
   "outputs": [
    {
     "data": {
      "text/plain": [
       "((-0.0106, -0.06311876657), (0.1478496, 1.020676919), (0.06830916335, 0.4317308477))\r\n"
      ]
     },
     "metadata": {},
     "output_type": "display_data"
    }
   ],
   "source": [
    "performanceLister vwMktRf1, performanceLister vwMktRf2, performanceLister vwMktRfListDivisor"
   ]
  },
  {
   "cell_type": "code",
   "execution_count": null,
   "metadata": {
    "dotnet_interactive": {
     "language": "fsharp"
    },
    "vscode": {
     "languageId": "dotnet-interactive.fsharp"
    }
   },
   "outputs": [
    {
     "data": {
      "text/plain": [
       "Microsoft.DotNet.Interactive.InstallPackagesMessage\r\n"
      ]
     },
     "metadata": {},
     "output_type": "display_data"
    }
   ],
   "source": [
    "#r \"nuget: Accord\"\n",
    "#r \"nuget: Accord.Statistics\"\n",
    "\n",
    "open Accord\n",
    "open Accord.Statistics.Models.Regression.Linear"
   ]
  },
  {
   "cell_type": "code",
   "execution_count": null,
   "metadata": {
    "dotnet_interactive": {
     "language": "fsharp"
    },
    "vscode": {
     "languageId": "dotnet-interactive.fsharp"
    }
   },
   "outputs": [],
   "source": [
    "type RegData =\n",
    "    { Date : DateTime\n",
    "      Portfolio : float\n",
    "      MktRf : float \n",
    "      Hml : float \n",
    "      Smb : float }\n",
    "\n",
    "let ff3ByMonth = \n",
    "    ff3\n",
    "    |> Array.map(fun x -> DateTime(x.Date.Year, x.Date.Month,1), x)\n",
    "    |> Map\n",
    "\n",
    "let regDataCreator (returnList: StockData list) =\n",
    "    let full =\n",
    "        returnList\n",
    "          |> List.map (fun x ->\n",
    "          let xff3 = ff3ByMonth[x.Date]\n",
    "          { Date = x.Date\n",
    "            Portfolio = x.Return\n",
    "            MktRf = xff3.MktRf \n",
    "            Hml = xff3.Hml \n",
    "            Smb = xff3.Smb })\n",
    "    full\n",
    "\n",
    "type RegressionOutput =\n",
    "    { Model : MultipleLinearRegression \n",
    "      TValuesWeights : float array\n",
    "      TValuesIntercept : float \n",
    "      R2: float }\n",
    "\n",
    "/// Type alias for x, y regression data \n",
    "type XY = (float array) array * float array\n",
    "\n",
    "let fitModel (x: (float array) array, y: float array) =\n",
    "    let ols = new OrdinaryLeastSquares(UseIntercept=true)\n",
    "    let estimate = ols.Learn(x,y)\n",
    "    let mse = estimate.GetStandardError(x,y)\n",
    "    let se = estimate.GetStandardErrors(mse, ols.GetInformationMatrix())\n",
    "    let tvaluesWeights = \n",
    "        estimate.Weights\n",
    "        |> Array.mapi(fun i w -> w / se.[i])\n",
    "    let tvalueIntercept = estimate.Intercept / (se |> Array.last)\n",
    "    let r2 = estimate.CoefficientOfDetermination(x,y)\n",
    "    { Model = estimate\n",
    "      TValuesWeights = tvaluesWeights\n",
    "      TValuesIntercept = tvalueIntercept  \n",
    "      R2 = r2 }\n"
   ]
  },
  {
   "cell_type": "code",
   "execution_count": null,
   "metadata": {
    "dotnet_interactive": {
     "language": "fsharp"
    },
    "vscode": {
     "languageId": "dotnet-interactive.fsharp"
    }
   },
   "outputs": [],
   "source": [
    "let longRegData1 = regDataCreator long1\n",
    "\n",
    "let longRegData2 = regDataCreator long2\n",
    "\n",
    "let longRegData = regDataCreator longListDivisor\n",
    "\n",
    "let longShortRegData1 = regDataCreator longShort1\n",
    "\n",
    "let longShortRegData2 = regDataCreator longShort2\n",
    "\n",
    "let longShortRegData = regDataCreator longShortListDivisor"
   ]
  },
  {
   "cell_type": "code",
   "execution_count": null,
   "metadata": {
    "dotnet_interactive": {
     "language": "fsharp"
    },
    "vscode": {
     "languageId": "dotnet-interactive.fsharp"
    }
   },
   "outputs": [],
   "source": [
    "let longModelCAPM =\n",
    "    longRegData\n",
    "    |> List.toArray\n",
    "    |> Array.map(fun obs -> [|obs.MktRf|], obs.Portfolio)\n",
    "    |> Array.unzip \n",
    "\n",
    "let longModelCAPM1 =\n",
    "    longRegData1\n",
    "    |> List.toArray\n",
    "    |> Array.map(fun obs -> [|obs.MktRf|], obs.Portfolio)\n",
    "    |> Array.unzip \n",
    "\n",
    "let longModelCAPM2 =\n",
    "    longRegData2\n",
    "    |> List.toArray\n",
    "    |> Array.map(fun obs -> [|obs.MktRf|], obs.Portfolio)\n",
    "    |> Array.unzip \n",
    "\n",
    "let longModelFF3 =\n",
    "    longRegData\n",
    "    |> List.toArray\n",
    "    |> Array.map(fun obs -> [|obs.MktRf; obs.Hml; obs.Smb |], obs.Portfolio)\n",
    "    |> Array.unzip\n",
    "\n",
    "let longModelFF31 =\n",
    "    longRegData1\n",
    "    |> List.toArray\n",
    "    |> Array.map(fun obs -> [|obs.MktRf; obs.Hml; obs.Smb |], obs.Portfolio)\n",
    "    |> Array.unzip\n",
    "\n",
    "let longModelFF32 =\n",
    "    longRegData2\n",
    "    |> List.toArray\n",
    "    |> Array.map(fun obs -> [|obs.MktRf; obs.Hml; obs.Smb |], obs.Portfolio)\n",
    "    |> Array.unzip\n",
    "\n",
    "let longShortModelCAPM =\n",
    "    longShortRegData\n",
    "    |> List.toArray\n",
    "    |> Array.map(fun obs -> [|obs.MktRf|], obs.Portfolio)\n",
    "    |> Array.unzip \n",
    "\n",
    "let longShortModelCAPM1 =\n",
    "    longShortRegData1\n",
    "    |> List.toArray\n",
    "    |> Array.map(fun obs -> [|obs.MktRf|], obs.Portfolio)\n",
    "    |> Array.unzip \n",
    "\n",
    "let longShortModelCAPM2 =\n",
    "    longShortRegData2\n",
    "    |> List.toArray\n",
    "    |> Array.map(fun obs -> [|obs.MktRf|], obs.Portfolio)\n",
    "    |> Array.unzip \n",
    "\n",
    "let longShortModelFF3 =\n",
    "    longShortRegData\n",
    "    |> List.toArray\n",
    "    |> Array.map(fun obs -> [|obs.MktRf; obs.Hml; obs.Smb |], obs.Portfolio)\n",
    "    |> Array.unzip\n",
    "\n",
    "let longShortModelFF31 =\n",
    "    longShortRegData1\n",
    "    |> List.toArray\n",
    "    |> Array.map(fun obs -> [|obs.MktRf; obs.Hml; obs.Smb |], obs.Portfolio)\n",
    "    |> Array.unzip\n",
    "\n",
    "let longShortModelFF32 =\n",
    "    longShortRegData2\n",
    "    |> List.toArray\n",
    "    |> Array.map(fun obs -> [|obs.MktRf; obs.Hml; obs.Smb |], obs.Portfolio)\n",
    "    |> Array.unzip"
   ]
  },
  {
   "cell_type": "code",
   "execution_count": null,
   "metadata": {
    "dotnet_interactive": {
     "language": "fsharp"
    },
    "vscode": {
     "languageId": "dotnet-interactive.fsharp"
    }
   },
   "outputs": [],
   "source": [
    "let longCAPM = longModelCAPM |> fitModel\n",
    "\n",
    "let longCAPM1 = longModelCAPM1 |> fitModel\n",
    "\n",
    "let longCAPM2 = longModelCAPM2 |> fitModel\n",
    "\n",
    "let longFF3 = longModelFF3 |> fitModel\n",
    "\n",
    "let longFF31 = longModelFF31 |> fitModel\n",
    "\n",
    "let longFF32 = longModelFF32 |> fitModel\n",
    "\n",
    "let longShortCAPM = longShortModelCAPM |> fitModel\n",
    "\n",
    "let longShortCAPM1 = longShortModelCAPM1 |> fitModel\n",
    "\n",
    "let longShortCAPM2 = longShortModelCAPM2 |> fitModel\n",
    "\n",
    "let longShortFF3 = longShortModelFF3 |> fitModel\n",
    "\n",
    "let longShortFF31 = longShortModelFF31 |> fitModel\n",
    "\n",
    "let longShortFF32 = longShortModelFF32 |> fitModel"
   ]
  },
  {
   "cell_type": "code",
   "execution_count": null,
   "metadata": {
    "dotnet_interactive": {
     "language": "fsharp"
    },
    "vscode": {
     "languageId": "dotnet-interactive.fsharp"
    }
   },
   "outputs": [
    {
     "data": {
      "text/plain": [
       "{ Model = y(x0) = 0.9402228381832916*x0 + 0.0006408885771393061\n",
       "  TValuesWeights = [|73.99787026|]\n",
       "  TValuesIntercept = 1.09799996\n",
       "  R2 = 0.9565041555 }\r\n"
      ]
     },
     "metadata": {},
     "output_type": "display_data"
    }
   ],
   "source": [
    "longCAPM"
   ]
  },
  {
   "cell_type": "code",
   "execution_count": null,
   "metadata": {
    "dotnet_interactive": {
     "language": "fsharp"
    },
    "vscode": {
     "languageId": "dotnet-interactive.fsharp"
    }
   },
   "outputs": [
    {
     "data": {
      "text/plain": [
       "{ Model = y(x0) = 0.9120857567018343*x0 + 0.0015058068814036043\n",
       "  TValuesWeights = [|46.83175227|]\n",
       "  TValuesIntercept = 1.600939359\n",
       "  R2 = 0.9464874403 }\r\n"
      ]
     },
     "metadata": {},
     "output_type": "display_data"
    }
   ],
   "source": [
    "longCAPM1"
   ]
  },
  {
   "cell_type": "code",
   "execution_count": null,
   "metadata": {
    "dotnet_interactive": {
     "language": "fsharp"
    },
    "vscode": {
     "languageId": "dotnet-interactive.fsharp"
    }
   },
   "outputs": [
    {
     "data": {
      "text/plain": [
       "{ Model = y(x0) = 0.9851742314924327*x0 + -0.0008098394575934682\n",
       "  TValuesWeights = [|64.21488378|]\n",
       "  TValuesIntercept = -1.215365326\n",
       "  R2 = 0.9710353199 }\r\n"
      ]
     },
     "metadata": {},
     "output_type": "display_data"
    }
   ],
   "source": [
    "longCAPM2"
   ]
  },
  {
   "cell_type": "code",
   "execution_count": null,
   "metadata": {
    "dotnet_interactive": {
     "language": "fsharp"
    },
    "vscode": {
     "languageId": "dotnet-interactive.fsharp"
    }
   },
   "outputs": [
    {
     "data": {
      "text/plain": [
       "{ Model = y(x0, x1, x2) = 0.952428530293642*x0 + -0.03479935357648237*x1 + -0.0583181558654963*x2 + 0.000733869892894916\n",
       "  TValuesWeights = [|72.85944001; -1.956063505; -3.105252187|]\n",
       "  TValuesIntercept = 1.27965592\n",
       "  R2 = 0.9584442296 }\r\n"
      ]
     },
     "metadata": {},
     "output_type": "display_data"
    }
   ],
   "source": [
    "longFF3"
   ]
  },
  {
   "cell_type": "code",
   "execution_count": null,
   "metadata": {
    "dotnet_interactive": {
     "language": "fsharp"
    },
    "vscode": {
     "languageId": "dotnet-interactive.fsharp"
    }
   },
   "outputs": [
    {
     "data": {
      "text/plain": [
       "{ Model =\n",
       "   y(x0, x1, x2) = 0.9240592559101148*x0 + -0.022704205558904764*x1 + -0.06471683619556463*x2 + 0.0019302051205179166\n",
       "  TValuesWeights = [|46.60079083; -0.8462511971; -2.460168372|]\n",
       "  TValuesIntercept = 2.021520514\n",
       "  R2 = 0.949016827 }\r\n"
      ]
     },
     "metadata": {},
     "output_type": "display_data"
    }
   ],
   "source": [
    "longFF31"
   ]
  },
  {
   "cell_type": "code",
   "execution_count": null,
   "metadata": {
    "dotnet_interactive": {
     "language": "fsharp"
    },
    "vscode": {
     "languageId": "dotnet-interactive.fsharp"
    }
   },
   "outputs": [
    {
     "data": {
      "text/plain": [
       "{ Model =\n",
       "   y(x0, x1, x2) = 1.009035122041303*x0 + -0.1100868890137592*x1 + -0.041842302267006755*x2 + -0.0016094754992213131\n",
       "  TValuesWeights = [|65.07658057; -4.872291537; -1.552148134|]\n",
       "  TValuesIntercept = -2.575830406\n",
       "  R2 = 0.9764326698 }\r\n"
      ]
     },
     "metadata": {},
     "output_type": "display_data"
    }
   ],
   "source": [
    "longFF32"
   ]
  },
  {
   "cell_type": "code",
   "execution_count": null,
   "metadata": {
    "dotnet_interactive": {
     "language": "fsharp"
    },
    "vscode": {
     "languageId": "dotnet-interactive.fsharp"
    }
   },
   "outputs": [
    {
     "data": {
      "text/plain": [
       "{ Model = y(x0) = -0.24036157276314654*x0 + 0.002327241029393522\n",
       "  TValuesWeights = [|-8.373236305|]\n",
       "  TValuesIntercept = 1.76482255\n",
       "  R2 = 0.21970746 }\r\n"
      ]
     },
     "metadata": {},
     "output_type": "display_data"
    }
   ],
   "source": [
    "longShortCAPM"
   ]
  },
  {
   "cell_type": "code",
   "execution_count": null,
   "metadata": {
    "dotnet_interactive": {
     "language": "fsharp"
    },
    "vscode": {
     "languageId": "dotnet-interactive.fsharp"
    }
   },
   "outputs": [
    {
     "data": {
      "text/plain": [
       "{ Model = y(x0) = -0.35510240400579435*x0 + 0.00297400717060843\n",
       "  TValuesWeights = [|-8.75688291|]\n",
       "  TValuesIntercept = 1.518583972\n",
       "  R2 = 0.3821100888 }\r\n"
      ]
     },
     "metadata": {},
     "output_type": "display_data"
    }
   ],
   "source": [
    "longShortCAPM1"
   ]
  },
  {
   "cell_type": "code",
   "execution_count": null,
   "metadata": {
    "dotnet_interactive": {
     "language": "fsharp"
    },
    "vscode": {
     "languageId": "dotnet-interactive.fsharp"
    }
   },
   "outputs": [
    {
     "data": {
      "text/plain": [
       "{ Model = y(x0) = -0.07915441769796425*x0 + -0.0004130655932166594\n",
       "  TValuesWeights = [|-2.111884325|]\n",
       "  TValuesIntercept = -0.2537460215\n",
       "  R2 = 0.03499178929 }\r\n"
      ]
     },
     "metadata": {},
     "output_type": "display_data"
    }
   ],
   "source": [
    "longShortCAPM2"
   ]
  },
  {
   "cell_type": "code",
   "execution_count": null,
   "metadata": {
    "dotnet_interactive": {
     "language": "fsharp"
    },
    "vscode": {
     "languageId": "dotnet-interactive.fsharp"
    }
   },
   "outputs": [
    {
     "data": {
      "text/plain": [
       "{ Model =\n",
       "   y(x0, x1, x2) = -0.20215703222614714*x0 + 0.011745451792397067*x1 + -0.18313093260770905*x2 + 0.0025215653078637873\n",
       "  TValuesWeights = [|-6.965226721; 0.2973544704; -4.391852771|]\n",
       "  TValuesIntercept = 1.980328927\n",
       "  R2 = 0.2799960904 }\r\n"
      ]
     },
     "metadata": {},
     "output_type": "display_data"
    }
   ],
   "source": [
    "longShortFF3"
   ]
  },
  {
   "cell_type": "code",
   "execution_count": null,
   "metadata": {
    "dotnet_interactive": {
     "language": "fsharp"
    },
    "vscode": {
     "languageId": "dotnet-interactive.fsharp"
    }
   },
   "outputs": [
    {
     "data": {
      "text/plain": [
       "{ Model =\n",
       "   y(x0, x1, x2) = -0.3153602661871545*x0 + 0.07323458967165067*x1 + -0.17125887163840683*x2 + 0.0032600758928834016\n",
       "  TValuesWeights = [|-7.983305984; 1.370224015; -3.268006922|]\n",
       "  TValuesIntercept = 1.71389707\n",
       "  R2 = 0.4611102042 }\r\n"
      ]
     },
     "metadata": {},
     "output_type": "display_data"
    }
   ],
   "source": [
    "longShortFF31"
   ]
  },
  {
   "cell_type": "code",
   "execution_count": null,
   "metadata": {
    "dotnet_interactive": {
     "language": "fsharp"
    },
    "vscode": {
     "languageId": "dotnet-interactive.fsharp"
    }
   },
   "outputs": [
    {
     "data": {
      "text/plain": [
       "{ Model =\n",
       "   y(x0, x1, x2) = -0.013026417883506612*x0 + -0.2068516825275521*x1 + -0.1684965098464489*x2 + -0.0021407535295370123\n",
       "  TValuesWeights = [|-0.3366727542; -3.668776449; -2.504799847|]\n",
       "  TValuesIntercept = -1.372979612\n",
       "  R2 = 0.1808032267 }\r\n"
      ]
     },
     "metadata": {},
     "output_type": "display_data"
    }
   ],
   "source": [
    "longShortFF32"
   ]
  },
  {
   "cell_type": "code",
   "execution_count": null,
   "metadata": {
    "dotnet_interactive": {
     "language": "fsharp"
    },
    "vscode": {
     "languageId": "dotnet-interactive.fsharp"
    }
   },
   "outputs": [],
   "source": [
    "type Prediction = { Label : float; Score : float}\n",
    "\n",
    "let makePredictions \n",
    "    (estimate:MultipleLinearRegression) \n",
    "    (x: (float array) array, y: float array) =\n",
    "    (estimate.Transform(x), y)\n",
    "    ||> Array.zip\n",
    "    |> Array.map(fun (score, label) -> { Score = score; Label = label })\n",
    "\n",
    "let residuals (xs: Prediction array) = xs |> Array.map(fun x -> x.Label - x.Score)\n",
    "\n",
    "let informationRatio monthlyAlpha (monthlyResiduals: float array) =\n",
    "    let annualAlpha = 12.0 * monthlyAlpha\n",
    "    let annualStDev = sqrt(12.0) * (Seq.stDev monthlyResiduals)\n",
    "    annualAlpha / annualStDev"
   ]
  },
  {
   "cell_type": "code",
   "execution_count": null,
   "metadata": {
    "dotnet_interactive": {
     "language": "fsharp"
    },
    "vscode": {
     "languageId": "dotnet-interactive.fsharp"
    }
   },
   "outputs": [],
   "source": [
    "let predictionsLongCAPM = makePredictions longCAPM.Model longModelCAPM\n",
    "\n",
    "let predictionsLongCAPM1 = makePredictions longCAPM1.Model longModelCAPM1\n",
    "\n",
    "let predictionsLongCAPM2 = makePredictions longCAPM2.Model longModelCAPM2\n",
    "\n",
    "let predictionsLongFF3 = makePredictions longFF3.Model longModelFF3\n",
    "\n",
    "let predictionsLongFF31 = makePredictions longFF31.Model longModelFF31\n",
    "\n",
    "let predictionsLongFF32 = makePredictions longFF32.Model longModelFF32\n",
    "\n",
    "let predictionsLongShortCAPM = makePredictions longShortCAPM.Model longShortModelCAPM\n",
    "\n",
    "let predictionsLongShortCAPM1 = makePredictions longShortCAPM1.Model longShortModelCAPM1\n",
    "\n",
    "let predictionsLongShortCAPM2 = makePredictions longShortCAPM2.Model longShortModelCAPM2\n",
    "\n",
    "let predictionsLongShortFF3 = makePredictions longShortFF3.Model longShortModelFF3\n",
    "\n",
    "let predictionsLongShortFF31 = makePredictions longShortFF31.Model longShortModelFF31\n",
    "\n",
    "let predictionsLongShortFF32 = makePredictions longShortFF32.Model longShortModelFF32"
   ]
  },
  {
   "cell_type": "code",
   "execution_count": null,
   "metadata": {
    "dotnet_interactive": {
     "language": "fsharp"
    },
    "vscode": {
     "languageId": "dotnet-interactive.fsharp"
    }
   },
   "outputs": [],
   "source": [
    "let residualsLongCAPM = residuals predictionsLongCAPM\n",
    "\n",
    "let residualsLongCAPM1 = residuals predictionsLongCAPM1\n",
    "\n",
    "let residualsLongCAPM2 = residuals predictionsLongCAPM2\n",
    "\n",
    "let residualsLongFF3 = residuals predictionsLongFF3\n",
    "\n",
    "let residualsLongFF31 = residuals predictionsLongFF31\n",
    "\n",
    "let residualsLongFF32 = residuals predictionsLongFF32\n",
    "\n",
    "let residualsLongShortCAPM = residuals predictionsLongShortCAPM\n",
    "\n",
    "let residualsLongShortCAPM1 = residuals predictionsLongShortCAPM1\n",
    "\n",
    "let residualsLongShortCAPM2 = residuals predictionsLongShortCAPM2\n",
    "\n",
    "let residualsLongShortFF3 = residuals predictionsLongFF3\n",
    "\n",
    "let residualsLongShortFF31 = residuals predictionsLongShortFF31\n",
    "\n",
    "let residualsLongShortFF32 = residuals predictionsLongShortFF32"
   ]
  },
  {
   "cell_type": "code",
   "execution_count": null,
   "metadata": {
    "dotnet_interactive": {
     "language": "fsharp"
    },
    "vscode": {
     "languageId": "dotnet-interactive.fsharp"
    }
   },
   "outputs": [
    {
     "data": {
      "text/plain": [
       "(0.2424301568, 0.4961317872, -0.3942924129)\r\n"
      ]
     },
     "metadata": {},
     "output_type": "display_data"
    }
   ],
   "source": [
    "informationRatio longCAPM.Model.Intercept residualsLongCAPM, informationRatio longCAPM1.Model.Intercept residualsLongCAPM1, informationRatio longCAPM2.Model.Intercept residualsLongCAPM2"
   ]
  },
  {
   "cell_type": "code",
   "execution_count": null,
   "metadata": {
    "dotnet_interactive": {
     "language": "fsharp"
    },
    "vscode": {
     "languageId": "dotnet-interactive.fsharp"
    }
   },
   "outputs": [
    {
     "data": {
      "text/plain": [
       "(0.2840085388, 0.6515468824, -0.8687264254)\r\n"
      ]
     },
     "metadata": {},
     "output_type": "display_data"
    }
   ],
   "source": [
    "informationRatio longFF3.Model.Intercept residualsLongFF3, informationRatio longFF31.Model.Intercept residualsLongFF31, informationRatio longFF32.Model.Intercept residualsLongFF32"
   ]
  },
  {
   "cell_type": "code",
   "execution_count": null,
   "metadata": {
    "dotnet_interactive": {
     "language": "fsharp"
    },
    "vscode": {
     "languageId": "dotnet-interactive.fsharp"
    }
   },
   "outputs": [
    {
     "data": {
      "text/plain": [
       "(0.3896595842, 0.470609818, -0.08232103462)\r\n"
      ]
     },
     "metadata": {},
     "output_type": "display_data"
    }
   ],
   "source": [
    "informationRatio longShortCAPM.Model.Intercept residualsLongShortCAPM, informationRatio longShortCAPM1.Model.Intercept residualsLongShortCAPM1, informationRatio longShortCAPM2.Model.Intercept residualsLongShortCAPM2"
   ]
  },
  {
   "cell_type": "code",
   "execution_count": null,
   "metadata": {
    "dotnet_interactive": {
     "language": "fsharp"
    },
    "vscode": {
     "languageId": "dotnet-interactive.fsharp"
    }
   },
   "outputs": [
    {
     "data": {
      "text/plain": [
       "(0.9758488329, 0.5523981995, -0.4630520968)\r\n"
      ]
     },
     "metadata": {},
     "output_type": "display_data"
    }
   ],
   "source": [
    "informationRatio longShortFF3.Model.Intercept residualsLongShortFF3, informationRatio longShortFF31.Model.Intercept residualsLongShortFF31, informationRatio longShortFF32.Model.Intercept residualsLongShortFF32"
   ]
  },
  {
   "cell_type": "markdown",
   "metadata": {},
   "source": [
    "## Strategy as part of a diversified portfolio"
   ]
  },
  {
   "cell_type": "markdown",
   "metadata": {},
   "source": [
    "### Tangency Portfolios"
   ]
  },
  {
   "cell_type": "code",
   "execution_count": null,
   "metadata": {
    "dotnet_interactive": {
     "language": "fsharp"
    },
    "vscode": {
     "languageId": "dotnet-interactive.fsharp"
    }
   },
   "outputs": [],
   "source": [
    "let tickers = \n",
    "    [   \"VTI\" // Vanguard Total Stock Market ETF\n",
    "        \"BND\" // Vanguard Total Bond Market ETF\n",
    "    ]\n",
    "\n",
    "let tickPrices = \n",
    "    YahooFinance.PriceHistory(\n",
    "        tickers,\n",
    "        startDate = DateTime(2000,1,1),\n",
    "        interval = Monthly)\n",
    "\n",
    "let pricesToReturns (symbol, adjPrices: list<PriceObs>) =\n",
    "    adjPrices\n",
    "    |> List.sortBy (fun x -> x.Date)\n",
    "    |> List.pairwise\n",
    "    |> List.map (fun (day0, day1) ->\n",
    "        let r = day1.AdjustedClose / day0.AdjustedClose - 1.0 \n",
    "        { Symbol = symbol \n",
    "          Date = day1.Date \n",
    "          Return = r })\n",
    "\n",
    "let tickReturns =\n",
    "    tickPrices\n",
    "    |> List.groupBy (fun x -> x.Symbol)\n",
    "    |> List.collect pricesToReturns"
   ]
  },
  {
   "cell_type": "code",
   "execution_count": null,
   "metadata": {
    "dotnet_interactive": {
     "language": "fsharp"
    },
    "vscode": {
     "languageId": "dotnet-interactive.fsharp"
    }
   },
   "outputs": [],
   "source": [
    "let rf = Map [ for x in ff3 do x.Date, x.Rf ]\n",
    "\n",
    "let standardInvestmentsExcess =\n",
    "    let maxff3Date = ff3 |> Array.map(fun x -> x.Date) |> Array.max\n",
    "    tickReturns\n",
    "    |> List.filter(fun x -> x.Date <= maxff3Date)\n",
    "    |> List.map(fun x -> \n",
    "        match Map.tryFind x.Date rf with \n",
    "        | None -> failwith $\"why isn't there a rf for {x.Date}\"\n",
    "        | Some rf -> { x with Return = x.Return - rf }) // excess returns"
   ]
  },
  {
   "cell_type": "code",
   "execution_count": null,
   "metadata": {
    "dotnet_interactive": {
     "language": "fsharp"
    },
    "vscode": {
     "languageId": "dotnet-interactive.fsharp"
    }
   },
   "outputs": [],
   "source": [
    "let stockData =\n",
    "    standardInvestmentsExcess\n",
    "    |> List.groupBy(fun x -> x.Symbol)\n",
    "    |> Map"
   ]
  },
  {
   "cell_type": "code",
   "execution_count": null,
   "metadata": {
    "dotnet_interactive": {
     "language": "fsharp"
    },
    "vscode": {
     "languageId": "dotnet-interactive.fsharp"
    }
   },
   "outputs": [],
   "source": [
    "let getCov xId yId (optimizedData: Map<string,StockData list>) =\n",
    "    let xRet = \n",
    "        optimizedData[xId] \n",
    "        |> List.map (fun x -> x.Date,x.Return) \n",
    "        |> Map\n",
    "    let yRet = \n",
    "        optimizedData[yId]\n",
    "        |> List.map (fun y -> y.Date, y.Return)\n",
    "        |> Map\n",
    "    let overlappingDates =\n",
    "        [ xRet.Keys |> set\n",
    "          yRet.Keys |> set]\n",
    "        |> Set.intersectMany\n",
    "    [ for date in overlappingDates do xRet[date], yRet[date]]\n",
    "    |> Seq.covOfPairs"
   ]
  },
  {
   "cell_type": "code",
   "execution_count": null,
   "metadata": {
    "dotnet_interactive": {
     "language": "fsharp"
    },
    "vscode": {
     "languageId": "dotnet-interactive.fsharp"
    }
   },
   "outputs": [],
   "source": [
    "let longOptimal = List.append longListDivisor standardInvestmentsExcess\n",
    "\n",
    "let longOptimalGrouped =\n",
    "    longOptimal\n",
    "    |> List.groupBy(fun x -> x.Symbol)\n",
    "    |> Map\n",
    "\n",
    "let longShortOptimal = List.append longShortListDivisor standardInvestmentsExcess\n",
    "\n",
    "let longShortOptimalGrouped = \n",
    "    longShortOptimal\n",
    "    |> List.groupBy(fun x -> x.Symbol)\n",
    "    |> Map"
   ]
  },
  {
   "cell_type": "code",
   "execution_count": null,
   "metadata": {
    "dotnet_interactive": {
     "language": "fsharp"
    },
    "vscode": {
     "languageId": "dotnet-interactive.fsharp"
    }
   },
   "outputs": [],
   "source": [
    "let longTickers = \n",
    "    [ \n",
    "        \"Long\" \n",
    "        \"VTI\" \n",
    "        \"BND\" \n",
    "    ]\n",
    "\n",
    "let longShortTickers = \n",
    "    [ \n",
    "        \"Long Short\" \n",
    "        \"VTI\" \n",
    "        \"BND\" \n",
    "    ]"
   ]
  },
  {
   "cell_type": "code",
   "execution_count": null,
   "metadata": {
    "dotnet_interactive": {
     "language": "fsharp"
    },
    "vscode": {
     "languageId": "dotnet-interactive.fsharp"
    }
   },
   "outputs": [],
   "source": [
    "let longCovariances =\n",
    "    [ for rowTick in longTickers do \n",
    "        [ for colTick in longTickers do\n",
    "            getCov rowTick colTick longOptimalGrouped ]]\n",
    "    |> dsharp.tensor\n",
    "\n",
    "let longShortCovariances =\n",
    "    [ for rowTick in longShortTickers do \n",
    "        [ for colTick in longShortTickers do\n",
    "            getCov rowTick colTick longShortOptimalGrouped ]]\n",
    "    |> dsharp.tensor\n",
    "\n",
    "let longMeans =\n",
    "    [ for ticker in longTickers do \n",
    "        longOptimalGrouped[ticker]\n",
    "        |> List.averageBy (fun x -> x.Return)]\n",
    "    |> dsharp.tensor\n",
    "\n",
    "let longShortMeans =\n",
    "    [ for ticker in longShortTickers do \n",
    "        longShortOptimalGrouped[ticker]\n",
    "        |> List.averageBy (fun x -> x.Return)]\n",
    "    |> dsharp.tensor"
   ]
  },
  {
   "cell_type": "code",
   "execution_count": null,
   "metadata": {
    "dotnet_interactive": {
     "language": "fsharp"
    },
    "vscode": {
     "languageId": "dotnet-interactive.fsharp"
    }
   },
   "outputs": [],
   "source": [
    "let w' = dsharp.solve(longCovariances,longMeans)\n",
    "\n",
    "let wLong = w' / w'.sum()"
   ]
  },
  {
   "cell_type": "code",
   "execution_count": null,
   "metadata": {
    "dotnet_interactive": {
     "language": "fsharp"
    },
    "vscode": {
     "languageId": "dotnet-interactive.fsharp"
    }
   },
   "outputs": [],
   "source": [
    "let w' = dsharp.solve(longShortCovariances,longShortMeans)\n",
    "\n",
    "let wLongShort = w' / w'.sum()"
   ]
  },
  {
   "cell_type": "code",
   "execution_count": null,
   "metadata": {
    "dotnet_interactive": {
     "language": "fsharp"
    },
    "vscode": {
     "languageId": "dotnet-interactive.fsharp"
    }
   },
   "outputs": [],
   "source": [
    "let longPortVariance = wLong.matmul(longCovariances).matmul(wLong)\n",
    "\n",
    "let longPortStDev = longPortVariance.sqrt()\n",
    "\n",
    "let longPortMean = dsharp.matmul(wLong, longMeans)\n",
    "\n",
    "let longShortPortVariance = wLong.matmul(longShortCovariances).matmul(wLongShort)\n",
    "\n",
    "let longShortPortStDev = longShortPortVariance.sqrt()\n",
    "\n",
    "let longShortPortMean = dsharp.matmul(wLongShort, longShortMeans)"
   ]
  },
  {
   "cell_type": "code",
   "execution_count": null,
   "metadata": {
    "dotnet_interactive": {
     "language": "fsharp"
    },
    "vscode": {
     "languageId": "dotnet-interactive.fsharp"
    }
   },
   "outputs": [],
   "source": [
    "let longWeights =\n",
    "    Seq.zip longTickers (wLong.toArray1D<float>())\n",
    "    |> Map.ofSeq\n",
    "\n",
    "let longShortWeights =\n",
    "    Seq.zip longShortTickers (wLongShort.toArray1D<float>())\n",
    "    |> Map.ofSeq"
   ]
  },
  {
   "cell_type": "code",
   "execution_count": null,
   "metadata": {
    "dotnet_interactive": {
     "language": "fsharp"
    },
    "vscode": {
     "languageId": "dotnet-interactive.fsharp"
    }
   },
   "outputs": [],
   "source": [
    "let longOptimalGroupedDate =\n",
    "    longOptimalGrouped.Values\n",
    "    |> Seq.toList\n",
    "    |> List.collect id \n",
    "    |> List.groupBy(fun x -> x.Date) \n",
    "    |> List.sortBy fst \n",
    "\n",
    "let longShortOptimalGroupedDate =\n",
    "    longShortOptimalGrouped.Values\n",
    "    |> Seq.toList\n",
    "    |> List.collect id \n",
    "    |> List.groupBy(fun x -> x.Date) \n",
    "    |> List.sortBy fst "
   ]
  },
  {
   "cell_type": "code",
   "execution_count": null,
   "metadata": {
    "dotnet_interactive": {
     "language": "fsharp"
    },
    "vscode": {
     "languageId": "dotnet-interactive.fsharp"
    }
   },
   "outputs": [],
   "source": [
    "let longFirstMonth = \n",
    "    longOptimalGroupedDate \n",
    "    |> List.head \n",
    "    |> snd // convert (date, StockData list) -> StockData list\n",
    "\n",
    "let longShortFirstMonth = \n",
    "    longShortOptimalGroupedDate \n",
    "    |> List.head \n",
    "    |> snd // convert (date, StockData list) -> StockData list\n",
    "\n",
    "let longLastMonth = \n",
    "    longOptimalGroupedDate \n",
    "    |> List.last \n",
    "    |> snd // convert (date, StockData list) -> StockData list\n",
    "\n",
    "let longShortLastMonth = \n",
    "    longShortOptimalGroupedDate \n",
    "    |> List.last \n",
    "    |> snd // convert (date, StockData list) -> StockData list"
   ]
  },
  {
   "cell_type": "code",
   "execution_count": null,
   "metadata": {
    "dotnet_interactive": {
     "language": "fsharp"
    },
    "vscode": {
     "languageId": "dotnet-interactive.fsharp"
    }
   },
   "outputs": [],
   "source": [
    "let allAssetsStart =\n",
    "    longOptimalGroupedDate\n",
    "    // find the first array element where there are as many stocks as you have symbols\n",
    "    |> List.find(fun (month, stocks) -> stocks.Length = longTickers.Length)\n",
    "    |> fst // convert (month, stocks) to month\n",
    "\n",
    "let allAssetsEnd =\n",
    "    longOptimalGroupedDate\n",
    "    // find the last array element where there are as many stocks as you have symbols\n",
    "    |> List.findBack(fun (month, stocks) -> stocks.Length = longTickers.Length)\n",
    "    |> fst // convert (month, stocks) to month\n",
    "\n",
    "let longStockDataByDateComplete =\n",
    "    longOptimalGroupedDate\n",
    "    |> List.filter(fun (date, stocks) -> \n",
    "        date >= allAssetsStart &&\n",
    "        date <= allAssetsEnd)\n",
    "\n",
    "let longShortStockDataByDateComplete =\n",
    "    longShortOptimalGroupedDate\n",
    "    |> List.filter(fun (date, stocks) -> \n",
    "        date >= allAssetsStart &&\n",
    "        date <= allAssetsEnd)\n",
    "\n",
    "let longCheckOfCompleteData =\n",
    "    longStockDataByDateComplete\n",
    "    |> List.map snd\n",
    "    |> List.filter(fun x -> x.Length <> longTickers.Length) // discard rows where we have all symbols.\n",
    "\n",
    "let longShortCheckOfCompleteData =\n",
    "    longShortStockDataByDateComplete\n",
    "    |> List.map snd\n",
    "    |> List.filter(fun x -> x.Length <> longShortTickers.Length) // discard rows where we have all symbols."
   ]
  },
  {
   "cell_type": "code",
   "execution_count": null,
   "metadata": {
    "dotnet_interactive": {
     "language": "fsharp"
    },
    "vscode": {
     "languageId": "dotnet-interactive.fsharp"
    }
   },
   "outputs": [],
   "source": [
    "if not (List.isEmpty longCheckOfCompleteData) then \n",
    "        failwith \"stockDataByDateComplete has months with missing stocks\""
   ]
  },
  {
   "cell_type": "code",
   "execution_count": null,
   "metadata": {
    "dotnet_interactive": {
     "language": "fsharp"
    },
    "vscode": {
     "languageId": "dotnet-interactive.fsharp"
    }
   },
   "outputs": [],
   "source": [
    "if not (List.isEmpty longShortCheckOfCompleteData) then \n",
    "        failwith \"stockDataByDateComplete has months with missing stocks\""
   ]
  },
  {
   "cell_type": "markdown",
   "metadata": {},
   "source": [
    "### Diversified portfolio comparison"
   ]
  },
  {
   "cell_type": "code",
   "execution_count": null,
   "metadata": {
    "dotnet_interactive": {
     "language": "fsharp"
    },
    "vscode": {
     "languageId": "dotnet-interactive.fsharp"
    }
   },
   "outputs": [],
   "source": [
    "let portfolioMonthReturn weights monthData =\n",
    "    weights\n",
    "    |> Map.toList\n",
    "    |> List.map(fun (symbol, weight) ->\n",
    "        let symbolData = \n",
    "            // we're going to be more safe and use tryFind here so\n",
    "            // that our function is more reusable\n",
    "            match monthData |> List.tryFind(fun x -> x.Symbol = symbol) with\n",
    "            | None -> failwith $\"You tried to find {symbol} in the data but it was not there\"\n",
    "            | Some data -> data\n",
    "        symbolData.Return*weight)\n",
    "    |> List.sum    "
   ]
  },
  {
   "cell_type": "code",
   "execution_count": null,
   "metadata": {
    "dotnet_interactive": {
     "language": "fsharp"
    },
    "vscode": {
     "languageId": "dotnet-interactive.fsharp"
    }
   },
   "outputs": [],
   "source": [
    "let longPortMve = \n",
    "    longStockDataByDateComplete\n",
    "    |> List.map(fun (date, data) -> \n",
    "        { Symbol = \"MVELong\"\n",
    "          Date = date\n",
    "          Return = portfolioMonthReturn longWeights data })\n",
    "\n",
    "let longShortPortMve = \n",
    "    longShortStockDataByDateComplete\n",
    "    |> List.map(fun (date, data) -> \n",
    "        { Symbol = \"MVELong\"\n",
    "          Date = date\n",
    "          Return = portfolioMonthReturn longShortWeights data })\n",
    "\n",
    "let weights6040 = Map [(\"VTI\",0.6);(\"BND\",0.4)]\n",
    "\n",
    "let port6040 = \n",
    "    longStockDataByDateComplete\n",
    "    |> List.map(fun (date, data) -> \n",
    "        { Symbol = \"MVELong\"\n",
    "          Date = date\n",
    "          Return = portfolioMonthReturn weights6040 data })\n"
   ]
  },
  {
   "cell_type": "code",
   "execution_count": null,
   "metadata": {
    "dotnet_interactive": {
     "language": "fsharp"
    },
    "vscode": {
     "languageId": "dotnet-interactive.fsharp"
    }
   },
   "outputs": [],
   "source": [
    "let cumulateReturns (xs:list<StockData>) =\n",
    "    let folder (prev: StockData) (current: StockData) = \n",
    "        let newReturn = prev.Return * (1.0+current.Return)\n",
    "        { current with Return = newReturn}\n",
    "    \n",
    "    match xs |> List.sortBy (fun x -> x.Date) with\n",
    "    | [] -> []\n",
    "    | h::t ->\n",
    "        ({ h with Return = 1.0+ h.Return}, t) \n",
    "        ||> List.scan folder\n",
    "\n",
    "let longPortMveCumulative = \n",
    "    longPortMve\n",
    "    |> cumulateReturns\n",
    "\n",
    "let longShortPortMveCumulative = \n",
    "    longShortPortMve\n",
    "    |> cumulateReturns\n",
    "\n",
    "let port6040Cumulative = \n",
    "    port6040\n",
    "    |> cumulateReturns"
   ]
  },
  {
   "cell_type": "code",
   "execution_count": null,
   "metadata": {
    "dotnet_interactive": {
     "language": "fsharp"
    },
    "vscode": {
     "languageId": "dotnet-interactive.fsharp"
    }
   },
   "outputs": [
    {
     "data": {
      "text/html": [
       "<div id=\"e40df475-5931-4795-897e-485cd4393d86\"><!-- Plotly chart will be drawn inside this DIV --></div>\r\n",
       "<script type=\"text/javascript\">\r\n",
       "\r\n",
       "            var renderPlotly_e40df47559314795897e485cd4393d86 = function() {\r\n",
       "            var fsharpPlotlyRequire = requirejs.config({context:'fsharp-plotly',paths:{plotly:'https://cdn.plot.ly/plotly-2.6.3.min'}}) || require;\r\n",
       "            fsharpPlotlyRequire(['plotly'], function(Plotly) {\r\n",
       "\r\n",
       "            var data = [{\"type\":\"scatter\",\"mode\":\"lines\",\"x\":[\"2007-06-01T00:00:00+01:00\",\"2007-07-01T00:00:00+01:00\",\"2007-08-01T00:00:00+01:00\",\"2007-09-01T00:00:00+01:00\",\"2007-10-01T00:00:00+01:00\",\"2007-11-01T00:00:00+00:00\",\"2007-12-01T00:00:00+00:00\",\"2008-01-01T00:00:00+00:00\",\"2008-02-01T00:00:00+00:00\",\"2008-03-01T00:00:00+00:00\",\"2008-04-01T00:00:00+01:00\",\"2008-05-01T00:00:00+01:00\",\"2008-06-01T00:00:00+01:00\",\"2008-07-01T00:00:00+01:00\",\"2008-08-01T00:00:00+01:00\",\"2008-09-01T00:00:00+01:00\",\"2008-10-01T00:00:00+01:00\",\"2008-11-01T00:00:00+00:00\",\"2008-12-01T00:00:00+00:00\",\"2009-01-01T00:00:00+00:00\",\"2009-02-01T00:00:00+00:00\",\"2009-03-01T00:00:00+00:00\",\"2009-04-01T00:00:00+01:00\",\"2009-05-01T00:00:00+01:00\",\"2009-06-01T00:00:00+01:00\",\"2009-07-01T00:00:00+01:00\",\"2009-08-01T00:00:00+01:00\",\"2009-09-01T00:00:00+01:00\",\"2009-10-01T00:00:00+01:00\",\"2009-11-01T00:00:00+00:00\",\"2009-12-01T00:00:00+00:00\",\"2010-01-01T00:00:00+00:00\",\"2010-02-01T00:00:00+00:00\",\"2010-03-01T00:00:00+00:00\",\"2010-04-01T00:00:00+01:00\",\"2010-05-01T00:00:00+01:00\",\"2010-06-01T00:00:00+01:00\",\"2010-07-01T00:00:00+01:00\",\"2010-08-01T00:00:00+01:00\",\"2010-09-01T00:00:00+01:00\",\"2010-10-01T00:00:00+01:00\",\"2010-11-01T00:00:00+00:00\",\"2010-12-01T00:00:00+00:00\",\"2011-01-01T00:00:00+00:00\",\"2011-02-01T00:00:00+00:00\",\"2011-03-01T00:00:00+00:00\",\"2011-04-01T00:00:00+01:00\",\"2011-05-01T00:00:00+01:00\",\"2011-06-01T00:00:00+01:00\",\"2011-07-01T00:00:00+01:00\",\"2011-08-01T00:00:00+01:00\",\"2011-09-01T00:00:00+01:00\",\"2011-10-01T00:00:00+01:00\",\"2011-11-01T00:00:00+00:00\",\"2011-12-01T00:00:00+00:00\",\"2012-01-01T00:00:00+00:00\",\"2012-02-01T00:00:00+00:00\",\"2012-03-01T00:00:00+00:00\",\"2012-04-01T00:00:00+01:00\",\"2012-05-01T00:00:00+01:00\",\"2012-06-01T00:00:00+01:00\",\"2012-07-01T00:00:00+01:00\",\"2012-08-01T00:00:00+01:00\",\"2012-09-01T00:00:00+01:00\",\"2012-10-01T00:00:00+01:00\",\"2012-11-01T00:00:00+00:00\",\"2012-12-01T00:00:00+00:00\",\"2013-01-01T00:00:00+00:00\",\"2013-02-01T00:00:00+00:00\",\"2013-03-01T00:00:00+00:00\",\"2013-04-01T00:00:00+01:00\",\"2013-05-01T00:00:00+01:00\",\"2013-06-01T00:00:00+01:00\",\"2013-07-01T00:00:00+01:00\",\"2013-08-01T00:00:00+01:00\",\"2013-09-01T00:00:00+01:00\",\"2013-10-01T00:00:00+01:00\",\"2013-11-01T00:00:00+00:00\",\"2013-12-01T00:00:00+00:00\",\"2014-01-01T00:00:00+00:00\",\"2014-02-01T00:00:00+00:00\",\"2014-03-01T00:00:00+00:00\",\"2014-04-01T00:00:00+01:00\",\"2014-05-01T00:00:00+01:00\",\"2014-06-01T00:00:00+01:00\",\"2014-07-01T00:00:00+01:00\",\"2014-08-01T00:00:00+01:00\",\"2014-09-01T00:00:00+01:00\",\"2014-10-01T00:00:00+01:00\",\"2014-11-01T00:00:00+00:00\",\"2014-12-01T00:00:00+00:00\",\"2015-01-01T00:00:00+00:00\",\"2015-02-01T00:00:00+00:00\",\"2015-03-01T00:00:00+00:00\",\"2015-04-01T00:00:00+01:00\",\"2015-05-01T00:00:00+01:00\",\"2015-06-01T00:00:00+01:00\",\"2015-07-01T00:00:00+01:00\",\"2015-08-01T00:00:00+01:00\",\"2015-09-01T00:00:00+01:00\",\"2015-10-01T00:00:00+01:00\",\"2015-11-01T00:00:00+00:00\",\"2015-12-01T00:00:00+00:00\",\"2016-01-01T00:00:00+00:00\",\"2016-02-01T00:00:00+00:00\",\"2016-03-01T00:00:00+00:00\",\"2016-04-01T00:00:00+01:00\",\"2016-05-01T00:00:00+01:00\",\"2016-06-01T00:00:00+01:00\",\"2016-07-01T00:00:00+01:00\",\"2016-08-01T00:00:00+01:00\",\"2016-09-01T00:00:00+01:00\",\"2016-10-01T00:00:00+01:00\",\"2016-11-01T00:00:00+00:00\",\"2016-12-01T00:00:00+00:00\",\"2017-01-01T00:00:00+00:00\",\"2017-02-01T00:00:00+00:00\",\"2017-03-01T00:00:00+00:00\",\"2017-04-01T00:00:00+01:00\",\"2017-05-01T00:00:00+01:00\",\"2017-06-01T00:00:00+01:00\",\"2017-07-01T00:00:00+01:00\",\"2017-08-01T00:00:00+01:00\",\"2017-09-01T00:00:00+01:00\",\"2017-10-01T00:00:00+01:00\",\"2017-11-01T00:00:00+00:00\",\"2017-12-01T00:00:00+00:00\",\"2018-01-01T00:00:00+00:00\",\"2018-02-01T00:00:00+00:00\",\"2018-03-01T00:00:00+00:00\",\"2018-04-01T00:00:00+01:00\",\"2018-05-01T00:00:00+01:00\",\"2018-06-01T00:00:00+01:00\",\"2018-07-01T00:00:00+01:00\",\"2018-08-01T00:00:00+01:00\",\"2018-09-01T00:00:00+01:00\",\"2018-10-01T00:00:00+01:00\",\"2018-11-01T00:00:00+00:00\",\"2018-12-01T00:00:00+00:00\",\"2019-01-01T00:00:00+00:00\",\"2019-02-01T00:00:00+00:00\",\"2019-03-01T00:00:00+00:00\",\"2019-04-01T00:00:00+01:00\",\"2019-05-01T00:00:00+01:00\",\"2019-06-01T00:00:00+01:00\",\"2019-07-01T00:00:00+01:00\",\"2019-08-01T00:00:00+01:00\",\"2019-09-01T00:00:00+01:00\",\"2019-10-01T00:00:00+01:00\",\"2019-11-01T00:00:00+00:00\",\"2019-12-01T00:00:00+00:00\",\"2020-01-01T00:00:00+00:00\",\"2020-02-01T00:00:00+00:00\",\"2020-03-01T00:00:00+00:00\",\"2020-04-01T00:00:00+01:00\",\"2020-05-01T00:00:00+01:00\",\"2020-06-01T00:00:00+01:00\",\"2020-07-01T00:00:00+01:00\",\"2020-08-01T00:00:00+01:00\",\"2020-09-01T00:00:00+01:00\",\"2020-10-01T00:00:00+01:00\",\"2020-11-01T00:00:00+00:00\",\"2020-12-01T00:00:00+00:00\"],\"y\":[0.9880019634901791,0.9864055698544684,0.9962395625080672,1.0033117910240088,1.0116219304407192,1.0170036549938712,1.0157504301588467,1.021752232211313,1.013071103929454,1.0123564657432251,1.0169329852032336,1.0093882277591886,0.9933691842853077,0.9918970514331444,1.0002485924964688,0.9790122031547241,0.9270886483508003,0.9442581752996468,0.9830792607791072,0.9597410651874643,0.935098135297951,0.9555263669640033,0.9792184804057967,0.9933195621585322,0.9979188284725984,1.02335992790356,1.03887531715176,1.0534300091306639,1.052032931512464,1.0730646824644787,1.060478571888471,1.0727707778519773,1.0791089573611692,1.0879035212194657,1.102459749133678,1.0981579023910366,1.0993886480740624,1.1215494532511319,1.1270583169057111,1.1430506650278394,1.154517468772574,1.148380504631616,1.1439236154612187,1.159636282873038,1.1662429659588827,1.164293896296786,1.1846123842848855,1.194859293441795,1.1865602609234813,1.1999409334388011,1.20470505957985,1.1962918059085053,1.2201214192237761,1.218481620562913,1.2241193626794848,1.2523498889420224,1.258482625488544,1.2589547752336112,1.269512914010687,1.267718379930885,1.2756641889404483,1.2916753842518358,1.298961908824337,1.3044818246699212,1.300656554513655,1.3051891791678003,1.2940510367822864,1.3019148014129243,1.308274138211367,1.316560651899057,1.3308561493534805,1.3168149163031309,1.2940873944216298,1.3117049962562692,1.2959029569425247,1.3148643439798922,1.3344115590316235,1.3370962290079156,1.3314279207890038,1.3489894331309267,1.3626878545246357,1.3607816457524444,1.3707022761955818,1.3875561354544945,1.393396450435797,1.3870724062606754,1.4095985904555854,1.3966352782359688,1.4134202294632399,1.4290544195639303,1.4229117603428063,1.4544049057248298,1.4500619832859012,1.4522896649444816,1.4510966941481998,1.4486966644509898,1.4301349876514153,1.4462066256743253,1.4288697188186945,1.430015746494685,1.4511735958514995,1.4480008297009614,1.4357481084174573,1.4439293920373517,1.4511256439142675,1.477192986625897,1.4855490592620597,1.4898877641058261,1.5139032951645504,1.532470308823633,1.5290259167482634,1.5291251750516535,1.5131224917777104,1.492593816711203,1.4957940515317696,1.5095389727007282,1.523417536832432,1.5208680481582324,1.5337816899138728,1.5439101794658054,1.545281026032582,1.555284511139033,1.567991549351945,1.5684115168543216,1.5735167646733987,1.5786566818884429,1.5824637680722329,1.585203044864568,1.5577779498980115,1.558545978783227,1.5467509195655444,1.5604859526141983,1.5581037528410697,1.568622241870949,1.5839467250288086,1.5732078788539097,1.5427128224131752,1.5528707661256533,1.5460167356027255,1.5867052027792554,1.5887077734948878,1.6136358735188219,1.6218004805554342,1.626129056395911,1.658042627887275,1.6625473436273923,1.6925967266401325,1.6854649130159112,1.6950658122197444,1.7028249555709996,1.7016751897141296,1.735008670233388,1.7315752639506623,1.6657735228468362,1.741388011430574,1.766840487914239,1.7816279351210809,1.8215295021560407,1.8274530847960813,1.8140471784654,1.8023803833584027,1.8566306259227363,1.8674689337365804],\"marker\":{},\"line\":{},\"name\":\"MVELong\"},{\"type\":\"scatter\",\"mode\":\"lines\",\"x\":[\"2007-06-01T00:00:00+01:00\",\"2007-07-01T00:00:00+01:00\",\"2007-08-01T00:00:00+01:00\",\"2007-09-01T00:00:00+01:00\",\"2007-10-01T00:00:00+01:00\",\"2007-11-01T00:00:00+00:00\",\"2007-12-01T00:00:00+00:00\",\"2008-01-01T00:00:00+00:00\",\"2008-02-01T00:00:00+00:00\",\"2008-03-01T00:00:00+00:00\",\"2008-04-01T00:00:00+01:00\",\"2008-05-01T00:00:00+01:00\",\"2008-06-01T00:00:00+01:00\",\"2008-07-01T00:00:00+01:00\",\"2008-08-01T00:00:00+01:00\",\"2008-09-01T00:00:00+01:00\",\"2008-10-01T00:00:00+01:00\",\"2008-11-01T00:00:00+00:00\",\"2008-12-01T00:00:00+00:00\",\"2009-01-01T00:00:00+00:00\",\"2009-02-01T00:00:00+00:00\",\"2009-03-01T00:00:00+00:00\",\"2009-04-01T00:00:00+01:00\",\"2009-05-01T00:00:00+01:00\",\"2009-06-01T00:00:00+01:00\",\"2009-07-01T00:00:00+01:00\",\"2009-08-01T00:00:00+01:00\",\"2009-09-01T00:00:00+01:00\",\"2009-10-01T00:00:00+01:00\",\"2009-11-01T00:00:00+00:00\",\"2009-12-01T00:00:00+00:00\",\"2010-01-01T00:00:00+00:00\",\"2010-02-01T00:00:00+00:00\",\"2010-03-01T00:00:00+00:00\",\"2010-04-01T00:00:00+01:00\",\"2010-05-01T00:00:00+01:00\",\"2010-06-01T00:00:00+01:00\",\"2010-07-01T00:00:00+01:00\",\"2010-08-01T00:00:00+01:00\",\"2010-09-01T00:00:00+01:00\",\"2010-10-01T00:00:00+01:00\",\"2010-11-01T00:00:00+00:00\",\"2010-12-01T00:00:00+00:00\",\"2011-01-01T00:00:00+00:00\",\"2011-02-01T00:00:00+00:00\",\"2011-03-01T00:00:00+00:00\",\"2011-04-01T00:00:00+01:00\",\"2011-05-01T00:00:00+01:00\",\"2011-06-01T00:00:00+01:00\",\"2011-07-01T00:00:00+01:00\",\"2011-08-01T00:00:00+01:00\",\"2011-09-01T00:00:00+01:00\",\"2011-10-01T00:00:00+01:00\",\"2011-11-01T00:00:00+00:00\",\"2011-12-01T00:00:00+00:00\",\"2012-01-01T00:00:00+00:00\",\"2012-02-01T00:00:00+00:00\",\"2012-03-01T00:00:00+00:00\",\"2012-04-01T00:00:00+01:00\",\"2012-05-01T00:00:00+01:00\",\"2012-06-01T00:00:00+01:00\",\"2012-07-01T00:00:00+01:00\",\"2012-08-01T00:00:00+01:00\",\"2012-09-01T00:00:00+01:00\",\"2012-10-01T00:00:00+01:00\",\"2012-11-01T00:00:00+00:00\",\"2012-12-01T00:00:00+00:00\",\"2013-01-01T00:00:00+00:00\",\"2013-02-01T00:00:00+00:00\",\"2013-03-01T00:00:00+00:00\",\"2013-04-01T00:00:00+01:00\",\"2013-05-01T00:00:00+01:00\",\"2013-06-01T00:00:00+01:00\",\"2013-07-01T00:00:00+01:00\",\"2013-08-01T00:00:00+01:00\",\"2013-09-01T00:00:00+01:00\",\"2013-10-01T00:00:00+01:00\",\"2013-11-01T00:00:00+00:00\",\"2013-12-01T00:00:00+00:00\",\"2014-01-01T00:00:00+00:00\",\"2014-02-01T00:00:00+00:00\",\"2014-03-01T00:00:00+00:00\",\"2014-04-01T00:00:00+01:00\",\"2014-05-01T00:00:00+01:00\",\"2014-06-01T00:00:00+01:00\",\"2014-07-01T00:00:00+01:00\",\"2014-08-01T00:00:00+01:00\",\"2014-09-01T00:00:00+01:00\",\"2014-10-01T00:00:00+01:00\",\"2014-11-01T00:00:00+00:00\",\"2014-12-01T00:00:00+00:00\",\"2015-01-01T00:00:00+00:00\",\"2015-02-01T00:00:00+00:00\",\"2015-03-01T00:00:00+00:00\",\"2015-04-01T00:00:00+01:00\",\"2015-05-01T00:00:00+01:00\",\"2015-06-01T00:00:00+01:00\",\"2015-07-01T00:00:00+01:00\",\"2015-08-01T00:00:00+01:00\",\"2015-09-01T00:00:00+01:00\",\"2015-10-01T00:00:00+01:00\",\"2015-11-01T00:00:00+00:00\",\"2015-12-01T00:00:00+00:00\",\"2016-01-01T00:00:00+00:00\",\"2016-02-01T00:00:00+00:00\",\"2016-03-01T00:00:00+00:00\",\"2016-04-01T00:00:00+01:00\",\"2016-05-01T00:00:00+01:00\",\"2016-06-01T00:00:00+01:00\",\"2016-07-01T00:00:00+01:00\",\"2016-08-01T00:00:00+01:00\",\"2016-09-01T00:00:00+01:00\",\"2016-10-01T00:00:00+01:00\",\"2016-11-01T00:00:00+00:00\",\"2016-12-01T00:00:00+00:00\",\"2017-01-01T00:00:00+00:00\",\"2017-02-01T00:00:00+00:00\",\"2017-03-01T00:00:00+00:00\",\"2017-04-01T00:00:00+01:00\",\"2017-05-01T00:00:00+01:00\",\"2017-06-01T00:00:00+01:00\",\"2017-07-01T00:00:00+01:00\",\"2017-08-01T00:00:00+01:00\",\"2017-09-01T00:00:00+01:00\",\"2017-10-01T00:00:00+01:00\",\"2017-11-01T00:00:00+00:00\",\"2017-12-01T00:00:00+00:00\",\"2018-01-01T00:00:00+00:00\",\"2018-02-01T00:00:00+00:00\",\"2018-03-01T00:00:00+00:00\",\"2018-04-01T00:00:00+01:00\",\"2018-05-01T00:00:00+01:00\",\"2018-06-01T00:00:00+01:00\",\"2018-07-01T00:00:00+01:00\",\"2018-08-01T00:00:00+01:00\",\"2018-09-01T00:00:00+01:00\",\"2018-10-01T00:00:00+01:00\",\"2018-11-01T00:00:00+00:00\",\"2018-12-01T00:00:00+00:00\",\"2019-01-01T00:00:00+00:00\",\"2019-02-01T00:00:00+00:00\",\"2019-03-01T00:00:00+00:00\",\"2019-04-01T00:00:00+01:00\",\"2019-05-01T00:00:00+01:00\",\"2019-06-01T00:00:00+01:00\",\"2019-07-01T00:00:00+01:00\",\"2019-08-01T00:00:00+01:00\",\"2019-09-01T00:00:00+01:00\",\"2019-10-01T00:00:00+01:00\",\"2019-11-01T00:00:00+00:00\",\"2019-12-01T00:00:00+00:00\",\"2020-01-01T00:00:00+00:00\",\"2020-02-01T00:00:00+00:00\",\"2020-03-01T00:00:00+00:00\",\"2020-04-01T00:00:00+01:00\",\"2020-05-01T00:00:00+01:00\",\"2020-06-01T00:00:00+01:00\",\"2020-07-01T00:00:00+01:00\",\"2020-08-01T00:00:00+01:00\",\"2020-09-01T00:00:00+01:00\",\"2020-10-01T00:00:00+01:00\",\"2020-11-01T00:00:00+00:00\",\"2020-12-01T00:00:00+00:00\"],\"y\":[0.9911936863629965,0.9928434145021215,1.0031838782877602,1.0099769621649013,1.0178085348261792,1.0281523095194205,1.0290998767147004,1.030151467775871,1.0246815409903225,1.0267739739135715,1.0240613048983565,1.0227642315658176,1.0121522253143698,1.0174613711393419,1.020508525464757,1.0012255072992113,0.9586594619684047,0.9704716770562719,0.9971540006038327,0.9798526819298142,0.9582816251151901,0.9671191515844908,0.9695365772768664,0.9810165049130665,0.9841972198678818,0.992366256806178,1.0036110750477023,1.0116853275737112,1.0139929547678972,1.0326444570601396,1.0271779074137444,1.0394941268243625,1.0440818319619956,1.051308286884549,1.059945170554872,1.060241070436572,1.0629514720640523,1.0753738565741633,1.0747475815427185,1.0942688320049996,1.1081436434312428,1.1017592386359711,1.095507195278868,1.1005064595234604,1.1086874288562318,1.1099300623543233,1.1288031423796536,1.1300717560412536,1.122486079178122,1.1233163753998134,1.1192146671719823,1.103947748373623,1.1366411751103267,1.1381553798431674,1.1433256636254827,1.1654390575590028,1.1781539674101753,1.176668792471424,1.180673882931106,1.1807183272219084,1.1887255149555858,1.204246003406235,1.2083434598957585,1.2143881507149388,1.2091922981514118,1.2137351476144598,1.2066397816612981,1.2156447746082377,1.2228952450555086,1.2294669609970124,1.2371537146562814,1.2243484460848637,1.2090884975499392,1.2247453812506546,1.2102016277985146,1.2242946295192343,1.2461177506358847,1.249116378255549,1.2471848426277916,1.2605682393588598,1.2698490420939308,1.2705068435991773,1.2808328368445827,1.2941657248139036,1.2945087961995985,1.2882009268505323,1.3069078563520646,1.3017069318826597,1.312549291229163,1.3215254903224605,1.319267534263965,1.3411158772893275,1.3351198591245776,1.339752123576647,1.3339187499730627,1.3357463055014442,1.3210156715295074,1.3378109606397566,1.3213701533813347,1.325611757687054,1.3396510517167861,1.3374487100096668,1.3287946630360148,1.3315334846203573,1.3390597970690261,1.357732075266569,1.3574466031725565,1.3645735686602736,1.3815414456153388,1.397469863965453,1.3912144669209676,1.3886379410603733,1.373947492608904,1.350151042034012,1.3583804451990362,1.3701039780827666,1.3819649703867567,1.3828422442347752,1.3974943086833305,1.41003199953137,1.4072552102146134,1.4148409878482682,1.4199510943356117,1.4209179943761205,1.4256884286578753,1.430308767216495,1.4342674275511027,1.445960014112776,1.417072001098939,1.4190429443691237,1.4163975985257555,1.4248102858034184,1.426368111069656,1.435443925534623,1.4443095331344735,1.4373170296067959,1.404360837210121,1.4139405946792574,1.4051598956597335,1.4353170562943875,1.4378455415428324,1.4539327215103617,1.4616580954482743,1.4592767376019025,1.4799445636103912,1.4838265582476566,1.5031956161063706,1.5007101261324733,1.5089726290933765,1.5123512876158587,1.5182196683919826,1.5465039664830362,1.533642558471187,1.5095199244235151,1.5694243362937341,1.5817991491974899,1.5841326557531001,1.6189466222908637,1.6354979470270903,1.6191972363192382,1.6010441137479212,1.611494328017221,1.6130251294070574],\"marker\":{},\"line\":{},\"name\":\"MVELongShort\"},{\"type\":\"scatter\",\"mode\":\"lines\",\"x\":[\"2007-06-01T00:00:00+01:00\",\"2007-07-01T00:00:00+01:00\",\"2007-08-01T00:00:00+01:00\",\"2007-09-01T00:00:00+01:00\",\"2007-10-01T00:00:00+01:00\",\"2007-11-01T00:00:00+00:00\",\"2007-12-01T00:00:00+00:00\",\"2008-01-01T00:00:00+00:00\",\"2008-02-01T00:00:00+00:00\",\"2008-03-01T00:00:00+00:00\",\"2008-04-01T00:00:00+01:00\",\"2008-05-01T00:00:00+01:00\",\"2008-06-01T00:00:00+01:00\",\"2008-07-01T00:00:00+01:00\",\"2008-08-01T00:00:00+01:00\",\"2008-09-01T00:00:00+01:00\",\"2008-10-01T00:00:00+01:00\",\"2008-11-01T00:00:00+00:00\",\"2008-12-01T00:00:00+00:00\",\"2009-01-01T00:00:00+00:00\",\"2009-02-01T00:00:00+00:00\",\"2009-03-01T00:00:00+00:00\",\"2009-04-01T00:00:00+01:00\",\"2009-05-01T00:00:00+01:00\",\"2009-06-01T00:00:00+01:00\",\"2009-07-01T00:00:00+01:00\",\"2009-08-01T00:00:00+01:00\",\"2009-09-01T00:00:00+01:00\",\"2009-10-01T00:00:00+01:00\",\"2009-11-01T00:00:00+00:00\",\"2009-12-01T00:00:00+00:00\",\"2010-01-01T00:00:00+00:00\",\"2010-02-01T00:00:00+00:00\",\"2010-03-01T00:00:00+00:00\",\"2010-04-01T00:00:00+01:00\",\"2010-05-01T00:00:00+01:00\",\"2010-06-01T00:00:00+01:00\",\"2010-07-01T00:00:00+01:00\",\"2010-08-01T00:00:00+01:00\",\"2010-09-01T00:00:00+01:00\",\"2010-10-01T00:00:00+01:00\",\"2010-11-01T00:00:00+00:00\",\"2010-12-01T00:00:00+00:00\",\"2011-01-01T00:00:00+00:00\",\"2011-02-01T00:00:00+00:00\",\"2011-03-01T00:00:00+00:00\",\"2011-04-01T00:00:00+01:00\",\"2011-05-01T00:00:00+01:00\",\"2011-06-01T00:00:00+01:00\",\"2011-07-01T00:00:00+01:00\",\"2011-08-01T00:00:00+01:00\",\"2011-09-01T00:00:00+01:00\",\"2011-10-01T00:00:00+01:00\",\"2011-11-01T00:00:00+00:00\",\"2011-12-01T00:00:00+00:00\",\"2012-01-01T00:00:00+00:00\",\"2012-02-01T00:00:00+00:00\",\"2012-03-01T00:00:00+00:00\",\"2012-04-01T00:00:00+01:00\",\"2012-05-01T00:00:00+01:00\",\"2012-06-01T00:00:00+01:00\",\"2012-07-01T00:00:00+01:00\",\"2012-08-01T00:00:00+01:00\",\"2012-09-01T00:00:00+01:00\",\"2012-10-01T00:00:00+01:00\",\"2012-11-01T00:00:00+00:00\",\"2012-12-01T00:00:00+00:00\",\"2013-01-01T00:00:00+00:00\",\"2013-02-01T00:00:00+00:00\",\"2013-03-01T00:00:00+00:00\",\"2013-04-01T00:00:00+01:00\",\"2013-05-01T00:00:00+01:00\",\"2013-06-01T00:00:00+01:00\",\"2013-07-01T00:00:00+01:00\",\"2013-08-01T00:00:00+01:00\",\"2013-09-01T00:00:00+01:00\",\"2013-10-01T00:00:00+01:00\",\"2013-11-01T00:00:00+00:00\",\"2013-12-01T00:00:00+00:00\",\"2014-01-01T00:00:00+00:00\",\"2014-02-01T00:00:00+00:00\",\"2014-03-01T00:00:00+00:00\",\"2014-04-01T00:00:00+01:00\",\"2014-05-01T00:00:00+01:00\",\"2014-06-01T00:00:00+01:00\",\"2014-07-01T00:00:00+01:00\",\"2014-08-01T00:00:00+01:00\",\"2014-09-01T00:00:00+01:00\",\"2014-10-01T00:00:00+01:00\",\"2014-11-01T00:00:00+00:00\",\"2014-12-01T00:00:00+00:00\",\"2015-01-01T00:00:00+00:00\",\"2015-02-01T00:00:00+00:00\",\"2015-03-01T00:00:00+00:00\",\"2015-04-01T00:00:00+01:00\",\"2015-05-01T00:00:00+01:00\",\"2015-06-01T00:00:00+01:00\",\"2015-07-01T00:00:00+01:00\",\"2015-08-01T00:00:00+01:00\",\"2015-09-01T00:00:00+01:00\",\"2015-10-01T00:00:00+01:00\",\"2015-11-01T00:00:00+00:00\",\"2015-12-01T00:00:00+00:00\",\"2016-01-01T00:00:00+00:00\",\"2016-02-01T00:00:00+00:00\",\"2016-03-01T00:00:00+00:00\",\"2016-04-01T00:00:00+01:00\",\"2016-05-01T00:00:00+01:00\",\"2016-06-01T00:00:00+01:00\",\"2016-07-01T00:00:00+01:00\",\"2016-08-01T00:00:00+01:00\",\"2016-09-01T00:00:00+01:00\",\"2016-10-01T00:00:00+01:00\",\"2016-11-01T00:00:00+00:00\",\"2016-12-01T00:00:00+00:00\",\"2017-01-01T00:00:00+00:00\",\"2017-02-01T00:00:00+00:00\",\"2017-03-01T00:00:00+00:00\",\"2017-04-01T00:00:00+01:00\",\"2017-05-01T00:00:00+01:00\",\"2017-06-01T00:00:00+01:00\",\"2017-07-01T00:00:00+01:00\",\"2017-08-01T00:00:00+01:00\",\"2017-09-01T00:00:00+01:00\",\"2017-10-01T00:00:00+01:00\",\"2017-11-01T00:00:00+00:00\",\"2017-12-01T00:00:00+00:00\",\"2018-01-01T00:00:00+00:00\",\"2018-02-01T00:00:00+00:00\",\"2018-03-01T00:00:00+00:00\",\"2018-04-01T00:00:00+01:00\",\"2018-05-01T00:00:00+01:00\",\"2018-06-01T00:00:00+01:00\",\"2018-07-01T00:00:00+01:00\",\"2018-08-01T00:00:00+01:00\",\"2018-09-01T00:00:00+01:00\",\"2018-10-01T00:00:00+01:00\",\"2018-11-01T00:00:00+00:00\",\"2018-12-01T00:00:00+00:00\",\"2019-01-01T00:00:00+00:00\",\"2019-02-01T00:00:00+00:00\",\"2019-03-01T00:00:00+00:00\",\"2019-04-01T00:00:00+01:00\",\"2019-05-01T00:00:00+01:00\",\"2019-06-01T00:00:00+01:00\",\"2019-07-01T00:00:00+01:00\",\"2019-08-01T00:00:00+01:00\",\"2019-09-01T00:00:00+01:00\",\"2019-10-01T00:00:00+01:00\",\"2019-11-01T00:00:00+00:00\",\"2019-12-01T00:00:00+00:00\",\"2020-01-01T00:00:00+00:00\",\"2020-02-01T00:00:00+00:00\",\"2020-03-01T00:00:00+00:00\",\"2020-04-01T00:00:00+01:00\",\"2020-05-01T00:00:00+01:00\",\"2020-06-01T00:00:00+01:00\",\"2020-07-01T00:00:00+01:00\",\"2020-08-01T00:00:00+01:00\",\"2020-09-01T00:00:00+01:00\",\"2020-10-01T00:00:00+01:00\",\"2020-11-01T00:00:00+00:00\",\"2020-12-01T00:00:00+00:00\"],\"y\":[0.9812340239060816,0.9624087895048659,0.9722073913132094,0.991378940587735,1.00515536283251,0.9823380232023761,0.9743511547649681,0.9470191309093536,0.9304919031727603,0.9228687709756107,0.9496503018705509,0.9556363617949348,0.9052052174523959,0.9030194423182962,0.9127394150069619,0.8565177903116203,0.7580827625028006,0.7331348548218571,0.7514723005490016,0.714388478272213,0.6664687133423903,0.6993834732088943,0.7499675719593734,0.7766109857412821,0.7778562256417934,0.8204844513209635,0.8420160697814251,0.8637890489680147,0.8534941300401248,0.887070986292535,0.892526200420651,0.8835956454417357,0.9018773040986111,0.9333856970133092,0.9517172443354774,0.9109467389720934,0.8817218038621442,0.9246273946693171,0.9041546632775566,0.9523641641884716,0.9795816713294899,0.9797910735065178,1.0104748379156834,1.0305072178213537,1.0533171322487624,1.052660172640164,1.079745870426382,1.0780130469431182,1.0620662133446406,1.0572192963154234,1.0255033336142665,0.9786926912913831,1.0493411665545376,1.0467573184740488,1.051267552742319,1.0937569754926713,1.1205565113450653,1.1359915005604975,1.139116733233684,1.101181618574661,1.124758999505041,1.1396530233517141,1.1587614114261422,1.1733665025926008,1.1634847620880329,1.1700014269920063,1.1687235122216812,1.2098709760027295,1.2207979231460067,1.2467098350369255,1.2663448856593584,1.2760200424368437,1.253034548931813,1.3018506371793954,1.2737109047354616,1.3053067539046115,1.3471513773807136,1.3673595010926232,1.3802892233122583,1.369723463428318,1.4111335435796346,1.4107805624410725,1.419401861340343,1.443374053539106,1.462908049876765,1.4473739200056235,1.490022907162211,1.4638570578692092,1.4964447418130045,1.5236071764664463,1.5160599197769495,1.5145419694625097,1.5575999951734647,1.5458640846236875,1.5537318926625496,1.5629709541171828,1.5363104187937646,1.5614182217572106,1.5027746016027237,1.4768550592923146,1.5520340959605095,1.555147305737487,1.5271514185026167,1.4898481233385172,1.4932509329934733,1.5575339376996242,1.5703895345255565,1.5866001259655396,1.5974632389505696,1.6435393896963393,1.6431814106833016,1.6407633733249518,1.6174207927206474,1.6441593191137325,1.6574938872615599,1.685861519793327,1.7253106380325338,1.7205315545906157,1.7406928904961099,1.7552163298206074,1.7595987703992275,1.7860317794571665,1.793639345076903,1.8116682142495297,1.838256421375488,1.869376625317648,1.8773170733527755,1.9341548400303508,1.8786978365335032,1.8550969899378935,1.855398744862342,1.888346186314433,1.888465237964314,1.9295198365233717,1.9712678690704377,1.96069407739159,1.868260839108659,1.8920977256033265,1.7905910412720836,1.89699733114928,1.9315309382766814,1.9530700623826063,2.0012321131418034,1.934247049049949,2.0180009840918713,2.0370531461311048,2.0309102013074067,2.038762557907701,2.0697683193522405,2.113952714596461,2.1370597449638393,2.161183545520327,2.06740045048777,1.8757006787451669,2.050353592889675,2.1222155484469156,2.151118917632605,2.2438305615552285,2.330856765603131,2.2747651831103686,2.248384914678622,2.41827990468515,2.478130521323737],\"marker\":{},\"line\":{},\"name\":\"60/40\"}];\r\n",
       "            var layout = {\"width\":600,\"height\":600,\"template\":{\"layout\":{\"title\":{\"x\":0.05},\"font\":{\"color\":\"rgba(42, 63, 95, 1.0)\"},\"paper_bgcolor\":\"rgba(255, 255, 255, 1.0)\",\"plot_bgcolor\":\"rgba(229, 236, 246, 1.0)\",\"autotypenumbers\":\"strict\",\"colorscale\":{\"diverging\":[[0.0,\"#8e0152\"],[0.1,\"#c51b7d\"],[0.2,\"#de77ae\"],[0.3,\"#f1b6da\"],[0.4,\"#fde0ef\"],[0.5,\"#f7f7f7\"],[0.6,\"#e6f5d0\"],[0.7,\"#b8e186\"],[0.8,\"#7fbc41\"],[0.9,\"#4d9221\"],[1.0,\"#276419\"]],\"sequential\":[[0.0,\"#0d0887\"],[0.1111111111111111,\"#46039f\"],[0.2222222222222222,\"#7201a8\"],[0.3333333333333333,\"#9c179e\"],[0.4444444444444444,\"#bd3786\"],[0.5555555555555556,\"#d8576b\"],[0.6666666666666666,\"#ed7953\"],[0.7777777777777778,\"#fb9f3a\"],[0.8888888888888888,\"#fdca26\"],[1.0,\"#f0f921\"]],\"sequentialminus\":[[0.0,\"#0d0887\"],[0.1111111111111111,\"#46039f\"],[0.2222222222222222,\"#7201a8\"],[0.3333333333333333,\"#9c179e\"],[0.4444444444444444,\"#bd3786\"],[0.5555555555555556,\"#d8576b\"],[0.6666666666666666,\"#ed7953\"],[0.7777777777777778,\"#fb9f3a\"],[0.8888888888888888,\"#fdca26\"],[1.0,\"#f0f921\"]]},\"hovermode\":\"closest\",\"hoverlabel\":{\"align\":\"left\"},\"coloraxis\":{\"colorbar\":{\"outlinewidth\":0.0,\"ticks\":\"\"}},\"geo\":{\"showland\":true,\"landcolor\":\"rgba(229, 236, 246, 1.0)\",\"showlakes\":true,\"lakecolor\":\"rgba(255, 255, 255, 1.0)\",\"subunitcolor\":\"rgba(255, 255, 255, 1.0)\",\"bgcolor\":\"rgba(255, 255, 255, 1.0)\"},\"mapbox\":{\"style\":\"light\"},\"polar\":{\"bgcolor\":\"rgba(229, 236, 246, 1.0)\",\"radialaxis\":{\"linecolor\":\"rgba(255, 255, 255, 1.0)\",\"gridcolor\":\"rgba(255, 255, 255, 1.0)\",\"ticks\":\"\"},\"angularaxis\":{\"linecolor\":\"rgba(255, 255, 255, 1.0)\",\"gridcolor\":\"rgba(255, 255, 255, 1.0)\",\"ticks\":\"\"}},\"scene\":{\"xaxis\":{\"ticks\":\"\",\"linecolor\":\"rgba(255, 255, 255, 1.0)\",\"gridcolor\":\"rgba(255, 255, 255, 1.0)\",\"gridwidth\":2.0,\"zerolinecolor\":\"rgba(255, 255, 255, 1.0)\",\"backgroundcolor\":\"rgba(229, 236, 246, 1.0)\",\"showbackground\":true},\"yaxis\":{\"ticks\":\"\",\"linecolor\":\"rgba(255, 255, 255, 1.0)\",\"gridcolor\":\"rgba(255, 255, 255, 1.0)\",\"gridwidth\":2.0,\"zerolinecolor\":\"rgba(255, 255, 255, 1.0)\",\"backgroundcolor\":\"rgba(229, 236, 246, 1.0)\",\"showbackground\":true},\"zaxis\":{\"ticks\":\"\",\"linecolor\":\"rgba(255, 255, 255, 1.0)\",\"gridcolor\":\"rgba(255, 255, 255, 1.0)\",\"gridwidth\":2.0,\"zerolinecolor\":\"rgba(255, 255, 255, 1.0)\",\"backgroundcolor\":\"rgba(229, 236, 246, 1.0)\",\"showbackground\":true}},\"ternary\":{\"aaxis\":{\"ticks\":\"\",\"linecolor\":\"rgba(255, 255, 255, 1.0)\",\"gridcolor\":\"rgba(255, 255, 255, 1.0)\"},\"baxis\":{\"ticks\":\"\",\"linecolor\":\"rgba(255, 255, 255, 1.0)\",\"gridcolor\":\"rgba(255, 255, 255, 1.0)\"},\"caxis\":{\"ticks\":\"\",\"linecolor\":\"rgba(255, 255, 255, 1.0)\",\"gridcolor\":\"rgba(255, 255, 255, 1.0)\"},\"bgcolor\":\"rgba(229, 236, 246, 1.0)\"},\"xaxis\":{\"title\":{\"standoff\":15},\"ticks\":\"\",\"automargin\":true,\"linecolor\":\"rgba(255, 255, 255, 1.0)\",\"gridcolor\":\"rgba(255, 255, 255, 1.0)\",\"zerolinecolor\":\"rgba(255, 255, 255, 1.0)\",\"zerolinewidth\":2.0},\"yaxis\":{\"title\":{\"standoff\":15},\"ticks\":\"\",\"automargin\":true,\"linecolor\":\"rgba(255, 255, 255, 1.0)\",\"gridcolor\":\"rgba(255, 255, 255, 1.0)\",\"zerolinecolor\":\"rgba(255, 255, 255, 1.0)\",\"zerolinewidth\":2.0},\"annotationdefaults\":{\"arrowcolor\":\"#2a3f5f\",\"arrowhead\":0,\"arrowwidth\":1},\"shapedefaults\":{\"line\":{\"color\":\"rgba(42, 63, 95, 1.0)\"}},\"colorway\":[\"rgba(99, 110, 250, 1.0)\",\"rgba(239, 85, 59, 1.0)\",\"rgba(0, 204, 150, 1.0)\",\"rgba(171, 99, 250, 1.0)\",\"rgba(255, 161, 90, 1.0)\",\"rgba(25, 211, 243, 1.0)\",\"rgba(255, 102, 146, 1.0)\",\"rgba(182, 232, 128, 1.0)\",\"rgba(255, 151, 255, 1.0)\",\"rgba(254, 203, 82, 1.0)\"]},\"data\":{\"bar\":[{\"marker\":{\"line\":{\"color\":\"rgba(229, 236, 246, 1.0)\",\"width\":0.5},\"pattern\":{\"fillmode\":\"overlay\",\"size\":10,\"solidity\":0.2}},\"error_x\":{\"color\":\"rgba(42, 63, 95, 1.0)\"},\"error_y\":{\"color\":\"rgba(42, 63, 95, 1.0)\"}}],\"barpolar\":[{\"marker\":{\"line\":{\"color\":\"rgba(229, 236, 246, 1.0)\",\"width\":0.5},\"pattern\":{\"fillmode\":\"overlay\",\"size\":10,\"solidity\":0.2}}}],\"carpet\":[{\"aaxis\":{\"linecolor\":\"rgba(255, 255, 255, 1.0)\",\"gridcolor\":\"rgba(255, 255, 255, 1.0)\",\"endlinecolor\":\"rgba(42, 63, 95, 1.0)\",\"minorgridcolor\":\"rgba(255, 255, 255, 1.0)\",\"startlinecolor\":\"rgba(42, 63, 95, 1.0)\"},\"baxis\":{\"linecolor\":\"rgba(255, 255, 255, 1.0)\",\"gridcolor\":\"rgba(255, 255, 255, 1.0)\",\"endlinecolor\":\"rgba(42, 63, 95, 1.0)\",\"minorgridcolor\":\"rgba(255, 255, 255, 1.0)\",\"startlinecolor\":\"rgba(42, 63, 95, 1.0)\"}}],\"choropleth\":[{\"colorbar\":{\"outlinewidth\":0.0,\"ticks\":\"\"},\"colorscale\":[[0.0,\"#0d0887\"],[0.1111111111111111,\"#46039f\"],[0.2222222222222222,\"#7201a8\"],[0.3333333333333333,\"#9c179e\"],[0.4444444444444444,\"#bd3786\"],[0.5555555555555556,\"#d8576b\"],[0.6666666666666666,\"#ed7953\"],[0.7777777777777778,\"#fb9f3a\"],[0.8888888888888888,\"#fdca26\"],[1.0,\"#f0f921\"]]}],\"contour\":[{\"colorbar\":{\"outlinewidth\":0.0,\"ticks\":\"\"},\"colorscale\":[[0.0,\"#0d0887\"],[0.1111111111111111,\"#46039f\"],[0.2222222222222222,\"#7201a8\"],[0.3333333333333333,\"#9c179e\"],[0.4444444444444444,\"#bd3786\"],[0.5555555555555556,\"#d8576b\"],[0.6666666666666666,\"#ed7953\"],[0.7777777777777778,\"#fb9f3a\"],[0.8888888888888888,\"#fdca26\"],[1.0,\"#f0f921\"]]}],\"contourcarpet\":[{\"colorbar\":{\"outlinewidth\":0.0,\"ticks\":\"\"}}],\"heatmap\":[{\"colorbar\":{\"outlinewidth\":0.0,\"ticks\":\"\"},\"colorscale\":[[0.0,\"#0d0887\"],[0.1111111111111111,\"#46039f\"],[0.2222222222222222,\"#7201a8\"],[0.3333333333333333,\"#9c179e\"],[0.4444444444444444,\"#bd3786\"],[0.5555555555555556,\"#d8576b\"],[0.6666666666666666,\"#ed7953\"],[0.7777777777777778,\"#fb9f3a\"],[0.8888888888888888,\"#fdca26\"],[1.0,\"#f0f921\"]]}],\"heatmapgl\":[{\"colorbar\":{\"outlinewidth\":0.0,\"ticks\":\"\"},\"colorscale\":[[0.0,\"#0d0887\"],[0.1111111111111111,\"#46039f\"],[0.2222222222222222,\"#7201a8\"],[0.3333333333333333,\"#9c179e\"],[0.4444444444444444,\"#bd3786\"],[0.5555555555555556,\"#d8576b\"],[0.6666666666666666,\"#ed7953\"],[0.7777777777777778,\"#fb9f3a\"],[0.8888888888888888,\"#fdca26\"],[1.0,\"#f0f921\"]]}],\"histogram\":[{\"marker\":{\"pattern\":{\"fillmode\":\"overlay\",\"size\":10,\"solidity\":0.2}}}],\"histogram2d\":[{\"colorbar\":{\"outlinewidth\":0.0,\"ticks\":\"\"},\"colorscale\":[[0.0,\"#0d0887\"],[0.1111111111111111,\"#46039f\"],[0.2222222222222222,\"#7201a8\"],[0.3333333333333333,\"#9c179e\"],[0.4444444444444444,\"#bd3786\"],[0.5555555555555556,\"#d8576b\"],[0.6666666666666666,\"#ed7953\"],[0.7777777777777778,\"#fb9f3a\"],[0.8888888888888888,\"#fdca26\"],[1.0,\"#f0f921\"]]}],\"histogram2dcontour\":[{\"colorbar\":{\"outlinewidth\":0.0,\"ticks\":\"\"},\"colorscale\":[[0.0,\"#0d0887\"],[0.1111111111111111,\"#46039f\"],[0.2222222222222222,\"#7201a8\"],[0.3333333333333333,\"#9c179e\"],[0.4444444444444444,\"#bd3786\"],[0.5555555555555556,\"#d8576b\"],[0.6666666666666666,\"#ed7953\"],[0.7777777777777778,\"#fb9f3a\"],[0.8888888888888888,\"#fdca26\"],[1.0,\"#f0f921\"]]}],\"mesh3d\":[{\"colorbar\":{\"outlinewidth\":0.0,\"ticks\":\"\"}}],\"parcoords\":[{\"line\":{\"colorbar\":{\"outlinewidth\":0.0,\"ticks\":\"\"}}}],\"pie\":[{\"automargin\":true}],\"scatter\":[{\"marker\":{\"colorbar\":{\"outlinewidth\":0.0,\"ticks\":\"\"}}}],\"scatter3d\":[{\"marker\":{\"colorbar\":{\"outlinewidth\":0.0,\"ticks\":\"\"}},\"line\":{\"colorbar\":{\"outlinewidth\":0.0,\"ticks\":\"\"}}}],\"scattercarpet\":[{\"marker\":{\"colorbar\":{\"outlinewidth\":0.0,\"ticks\":\"\"}}}],\"scattergeo\":[{\"marker\":{\"colorbar\":{\"outlinewidth\":0.0,\"ticks\":\"\"}}}],\"scattergl\":[{\"marker\":{\"colorbar\":{\"outlinewidth\":0.0,\"ticks\":\"\"}}}],\"scattermapbox\":[{\"marker\":{\"colorbar\":{\"outlinewidth\":0.0,\"ticks\":\"\"}}}],\"scatterpolar\":[{\"marker\":{\"colorbar\":{\"outlinewidth\":0.0,\"ticks\":\"\"}}}],\"scatterpolargl\":[{\"marker\":{\"colorbar\":{\"outlinewidth\":0.0,\"ticks\":\"\"}}}],\"scatterternary\":[{\"marker\":{\"colorbar\":{\"outlinewidth\":0.0,\"ticks\":\"\"}}}],\"surface\":[{\"colorbar\":{\"outlinewidth\":0.0,\"ticks\":\"\"},\"colorscale\":[[0.0,\"#0d0887\"],[0.1111111111111111,\"#46039f\"],[0.2222222222222222,\"#7201a8\"],[0.3333333333333333,\"#9c179e\"],[0.4444444444444444,\"#bd3786\"],[0.5555555555555556,\"#d8576b\"],[0.6666666666666666,\"#ed7953\"],[0.7777777777777778,\"#fb9f3a\"],[0.8888888888888888,\"#fdca26\"],[1.0,\"#f0f921\"]]}],\"table\":[{\"cells\":{\"fill\":{\"color\":\"rgba(235, 240, 248, 1.0)\"},\"line\":{\"color\":\"rgba(255, 255, 255, 1.0)\"}},\"header\":{\"fill\":{\"color\":\"rgba(200, 212, 227, 1.0)\"},\"line\":{\"color\":\"rgba(255, 255, 255, 1.0)\"}}}]}},\"title\":{\"text\":\"Strategy Analysis Diversified: Market, Short and Long-Short\"}};\r\n",
       "            var config = {\"responsive\":true};\r\n",
       "            Plotly.newPlot('e40df475-5931-4795-897e-485cd4393d86', data, layout, config);\r\n",
       "});\r\n",
       "            };\r\n",
       "            if ((typeof(requirejs) !==  typeof(Function)) || (typeof(requirejs.config) !== typeof(Function))) {\r\n",
       "                var script = document.createElement(\"script\");\r\n",
       "                script.setAttribute(\"src\", \"https://cdnjs.cloudflare.com/ajax/libs/require.js/2.3.6/require.min.js\");\r\n",
       "                script.onload = function(){\r\n",
       "                    renderPlotly_e40df47559314795897e485cd4393d86();\r\n",
       "                };\r\n",
       "                document.getElementsByTagName(\"head\")[0].appendChild(script);\r\n",
       "            }\r\n",
       "            else {\r\n",
       "                renderPlotly_e40df47559314795897e485cd4393d86();\r\n",
       "            }\r\n",
       "</script>\r\n"
      ]
     },
     "metadata": {},
     "output_type": "display_data"
    }
   ],
   "source": [
    "let longChartMve = \n",
    "    longPortMveCumulative\n",
    "    |> List.map(fun x -> x.Date, x.Return)\n",
    "    |> Chart.Line\n",
    "    |> Chart.withTraceInfo(Name=\"MVELong\")\n",
    "\n",
    "let longShortChartMve = \n",
    "    longShortPortMveCumulative\n",
    "    |> List.map(fun x -> x.Date, x.Return)\n",
    "    |> Chart.Line\n",
    "    |> Chart.withTraceInfo(Name=\"MVELongShort\")\n",
    "\n",
    "let chart6040 = \n",
    "    port6040Cumulative\n",
    "    |> List.map(fun x -> x.Date, x.Return)\n",
    "    |> Chart.Line\n",
    "    |> Chart.withTraceInfo(Name=\"60/40\")\n",
    "\n",
    "let chartStrategyAnalysisDiversified =\n",
    "    [ longChartMve; longShortChartMve; chart6040 ]\n",
    "    |> Chart.combine\n",
    "    |> Chart.withTitle \"Strategy Analysis Diversified: Market, Short and Long-Short\"\n",
    "\n",
    "chartStrategyAnalysisDiversified"
   ]
  },
  {
   "cell_type": "code",
   "execution_count": null,
   "metadata": {
    "dotnet_interactive": {
     "language": "fsharp"
    },
    "vscode": {
     "languageId": "dotnet-interactive.fsharp"
    }
   },
   "outputs": [],
   "source": [
    "let normalize10pctVol xs =\n",
    "    let vol = xs |> List.map(fun x -> x.Return) |> Seq.stDev\n",
    "    let annualizedVol = vol * sqrt(12.0)\n",
    "    xs \n",
    "    |> List.map(fun x -> { x with Return = x.Return * (0.1/annualizedVol)})\n",
    "\n",
    "let longPortMveCumulative10 = \n",
    "    longPortMve\n",
    "    |> normalize10pctVol\n",
    "    |> cumulateReturns\n",
    "\n",
    "let longShortPortMveCumulative10 = \n",
    "    longShortPortMve\n",
    "    |> normalize10pctVol\n",
    "    |> cumulateReturns\n",
    "\n",
    "let port6040Cumulative10 = \n",
    "    port6040\n",
    "    |> normalize10pctVol\n",
    "    |> cumulateReturns"
   ]
  },
  {
   "cell_type": "code",
   "execution_count": null,
   "metadata": {
    "dotnet_interactive": {
     "language": "fsharp"
    },
    "vscode": {
     "languageId": "dotnet-interactive.fsharp"
    }
   },
   "outputs": [
    {
     "data": {
      "text/html": [
       "<div id=\"f1ff37cc-3548-4683-9b96-3b6e68b8255e\"><!-- Plotly chart will be drawn inside this DIV --></div>\r\n",
       "<script type=\"text/javascript\">\r\n",
       "\r\n",
       "            var renderPlotly_f1ff37cc354846839b963b6e68b8255e = function() {\r\n",
       "            var fsharpPlotlyRequire = requirejs.config({context:'fsharp-plotly',paths:{plotly:'https://cdn.plot.ly/plotly-2.6.3.min'}}) || require;\r\n",
       "            fsharpPlotlyRequire(['plotly'], function(Plotly) {\r\n",
       "\r\n",
       "            var data = [{\"type\":\"scatter\",\"mode\":\"lines\",\"x\":[\"2007-06-01T00:00:00+01:00\",\"2007-07-01T00:00:00+01:00\",\"2007-08-01T00:00:00+01:00\",\"2007-09-01T00:00:00+01:00\",\"2007-10-01T00:00:00+01:00\",\"2007-11-01T00:00:00+00:00\",\"2007-12-01T00:00:00+00:00\",\"2008-01-01T00:00:00+00:00\",\"2008-02-01T00:00:00+00:00\",\"2008-03-01T00:00:00+00:00\",\"2008-04-01T00:00:00+01:00\",\"2008-05-01T00:00:00+01:00\",\"2008-06-01T00:00:00+01:00\",\"2008-07-01T00:00:00+01:00\",\"2008-08-01T00:00:00+01:00\",\"2008-09-01T00:00:00+01:00\",\"2008-10-01T00:00:00+01:00\",\"2008-11-01T00:00:00+00:00\",\"2008-12-01T00:00:00+00:00\",\"2009-01-01T00:00:00+00:00\",\"2009-02-01T00:00:00+00:00\",\"2009-03-01T00:00:00+00:00\",\"2009-04-01T00:00:00+01:00\",\"2009-05-01T00:00:00+01:00\",\"2009-06-01T00:00:00+01:00\",\"2009-07-01T00:00:00+01:00\",\"2009-08-01T00:00:00+01:00\",\"2009-09-01T00:00:00+01:00\",\"2009-10-01T00:00:00+01:00\",\"2009-11-01T00:00:00+00:00\",\"2009-12-01T00:00:00+00:00\",\"2010-01-01T00:00:00+00:00\",\"2010-02-01T00:00:00+00:00\",\"2010-03-01T00:00:00+00:00\",\"2010-04-01T00:00:00+01:00\",\"2010-05-01T00:00:00+01:00\",\"2010-06-01T00:00:00+01:00\",\"2010-07-01T00:00:00+01:00\",\"2010-08-01T00:00:00+01:00\",\"2010-09-01T00:00:00+01:00\",\"2010-10-01T00:00:00+01:00\",\"2010-11-01T00:00:00+00:00\",\"2010-12-01T00:00:00+00:00\",\"2011-01-01T00:00:00+00:00\",\"2011-02-01T00:00:00+00:00\",\"2011-03-01T00:00:00+00:00\",\"2011-04-01T00:00:00+01:00\",\"2011-05-01T00:00:00+01:00\",\"2011-06-01T00:00:00+01:00\",\"2011-07-01T00:00:00+01:00\",\"2011-08-01T00:00:00+01:00\",\"2011-09-01T00:00:00+01:00\",\"2011-10-01T00:00:00+01:00\",\"2011-11-01T00:00:00+00:00\",\"2011-12-01T00:00:00+00:00\",\"2012-01-01T00:00:00+00:00\",\"2012-02-01T00:00:00+00:00\",\"2012-03-01T00:00:00+00:00\",\"2012-04-01T00:00:00+01:00\",\"2012-05-01T00:00:00+01:00\",\"2012-06-01T00:00:00+01:00\",\"2012-07-01T00:00:00+01:00\",\"2012-08-01T00:00:00+01:00\",\"2012-09-01T00:00:00+01:00\",\"2012-10-01T00:00:00+01:00\",\"2012-11-01T00:00:00+00:00\",\"2012-12-01T00:00:00+00:00\",\"2013-01-01T00:00:00+00:00\",\"2013-02-01T00:00:00+00:00\",\"2013-03-01T00:00:00+00:00\",\"2013-04-01T00:00:00+01:00\",\"2013-05-01T00:00:00+01:00\",\"2013-06-01T00:00:00+01:00\",\"2013-07-01T00:00:00+01:00\",\"2013-08-01T00:00:00+01:00\",\"2013-09-01T00:00:00+01:00\",\"2013-10-01T00:00:00+01:00\",\"2013-11-01T00:00:00+00:00\",\"2013-12-01T00:00:00+00:00\",\"2014-01-01T00:00:00+00:00\",\"2014-02-01T00:00:00+00:00\",\"2014-03-01T00:00:00+00:00\",\"2014-04-01T00:00:00+01:00\",\"2014-05-01T00:00:00+01:00\",\"2014-06-01T00:00:00+01:00\",\"2014-07-01T00:00:00+01:00\",\"2014-08-01T00:00:00+01:00\",\"2014-09-01T00:00:00+01:00\",\"2014-10-01T00:00:00+01:00\",\"2014-11-01T00:00:00+00:00\",\"2014-12-01T00:00:00+00:00\",\"2015-01-01T00:00:00+00:00\",\"2015-02-01T00:00:00+00:00\",\"2015-03-01T00:00:00+00:00\",\"2015-04-01T00:00:00+01:00\",\"2015-05-01T00:00:00+01:00\",\"2015-06-01T00:00:00+01:00\",\"2015-07-01T00:00:00+01:00\",\"2015-08-01T00:00:00+01:00\",\"2015-09-01T00:00:00+01:00\",\"2015-10-01T00:00:00+01:00\",\"2015-11-01T00:00:00+00:00\",\"2015-12-01T00:00:00+00:00\",\"2016-01-01T00:00:00+00:00\",\"2016-02-01T00:00:00+00:00\",\"2016-03-01T00:00:00+00:00\",\"2016-04-01T00:00:00+01:00\",\"2016-05-01T00:00:00+01:00\",\"2016-06-01T00:00:00+01:00\",\"2016-07-01T00:00:00+01:00\",\"2016-08-01T00:00:00+01:00\",\"2016-09-01T00:00:00+01:00\",\"2016-10-01T00:00:00+01:00\",\"2016-11-01T00:00:00+00:00\",\"2016-12-01T00:00:00+00:00\",\"2017-01-01T00:00:00+00:00\",\"2017-02-01T00:00:00+00:00\",\"2017-03-01T00:00:00+00:00\",\"2017-04-01T00:00:00+01:00\",\"2017-05-01T00:00:00+01:00\",\"2017-06-01T00:00:00+01:00\",\"2017-07-01T00:00:00+01:00\",\"2017-08-01T00:00:00+01:00\",\"2017-09-01T00:00:00+01:00\",\"2017-10-01T00:00:00+01:00\",\"2017-11-01T00:00:00+00:00\",\"2017-12-01T00:00:00+00:00\",\"2018-01-01T00:00:00+00:00\",\"2018-02-01T00:00:00+00:00\",\"2018-03-01T00:00:00+00:00\",\"2018-04-01T00:00:00+01:00\",\"2018-05-01T00:00:00+01:00\",\"2018-06-01T00:00:00+01:00\",\"2018-07-01T00:00:00+01:00\",\"2018-08-01T00:00:00+01:00\",\"2018-09-01T00:00:00+01:00\",\"2018-10-01T00:00:00+01:00\",\"2018-11-01T00:00:00+00:00\",\"2018-12-01T00:00:00+00:00\",\"2019-01-01T00:00:00+00:00\",\"2019-02-01T00:00:00+00:00\",\"2019-03-01T00:00:00+00:00\",\"2019-04-01T00:00:00+01:00\",\"2019-05-01T00:00:00+01:00\",\"2019-06-01T00:00:00+01:00\",\"2019-07-01T00:00:00+01:00\",\"2019-08-01T00:00:00+01:00\",\"2019-09-01T00:00:00+01:00\",\"2019-10-01T00:00:00+01:00\",\"2019-11-01T00:00:00+00:00\",\"2019-12-01T00:00:00+00:00\",\"2020-01-01T00:00:00+00:00\",\"2020-02-01T00:00:00+00:00\",\"2020-03-01T00:00:00+00:00\",\"2020-04-01T00:00:00+01:00\",\"2020-05-01T00:00:00+01:00\",\"2020-06-01T00:00:00+01:00\",\"2020-07-01T00:00:00+01:00\",\"2020-08-01T00:00:00+01:00\",\"2020-09-01T00:00:00+01:00\",\"2020-10-01T00:00:00+01:00\",\"2020-11-01T00:00:00+00:00\",\"2020-12-01T00:00:00+00:00\"],\"y\":[0.9722378545679726,0.9686029120085754,0.9909470178444473,1.0072244457875932,1.0265281874670826,1.0391644009739505,1.0362013877805978,1.0503685109006542,1.029718745692689,1.0280379777526973,1.0387915772276872,1.0209585852870027,0.9834673874797781,0.9800949870975921,0.9991896077708355,0.950102947564147,0.8335052905310747,0.8692233842840721,0.9519130370393609,0.8996230105816372,0.8461737545175857,0.8889473718720614,0.939948528340624,0.9712683836725309,0.9816743320446157,1.0395839820080444,1.0760540601186435,1.1109372769308534,1.1075281181060326,1.1587604003176544,1.1273117412350955,1.1575470777819827,1.173371909809983,1.1954991648769966,1.2325118495553047,1.2213836183292601,1.224550985905035,1.2816664888646,1.2962331987440363,1.3387922397062337,1.3698687991469518,1.3530197694021309,1.3408693012474056,1.383486233664096,1.4017243242074957,1.3963037689031126,1.4526872027849622,1.4817629961616758,1.457948999341804,1.4959918734721704,1.5097353138723872,1.4853388485161716,1.5538006389688013,1.548968653520991,1.565551981817207,1.6490941119815965,1.6677801364705471,1.6692279551591187,1.701619803606699,1.6960541014161468,1.7206519929506203,1.7706235957044285,1.7937355219977464,1.8113730329050137,1.7990823836998717,1.8135894975603568,1.7777781108128936,1.8027757791424763,1.8231515394076374,1.8498716782166418,1.896349187948384,1.8500540600966298,1.7761693434706771,1.8321206715319647,1.7810497274952175,1.8413496165824588,1.9046903436166251,1.9135571726869385,1.894786705521155,1.9526159379379457,1.9984957520673665,1.9920270052429083,2.025630844337483,2.0832622717327567,2.1035518258299377,2.081460780990127,2.1596774968359873,2.113720433102206,2.172500146914927,2.2281042379656943,2.205943408816219,2.3189165701626693,2.3028942755842206,2.3110804955204705,2.306687765787407,2.2978599772616968,2.2297350341077875,2.287715168032903,2.224257213900002,2.2283851249155937,2.304674454339785,2.2930151905171203,2.2481185834711117,2.2777604301923184,2.304027479463399,2.3997958824060133,2.431206908171392,2.4476369199544403,2.5389280288600284,2.6109785553255196,2.5973995905083873,2.5977897423079277,2.5348830841128445,2.455306074896728,2.4674872361469795,2.5199520591684306,2.573560765987491,2.5635949833811544,2.613962374602648,2.6539037773571508,2.659356266838556,2.6991911205016375,2.7502194053709728,2.7519238470894187,2.7726508287558436,2.7936075229525774,2.8091963433529403,2.820448274943364,2.707540401571014,2.710629201605029,2.6631620179057487,2.7178824804695645,2.708282025047653,2.7505872216673457,2.8127650764660617,2.7686391986406633,2.6444589463307655,2.684749235814248,2.6573298771029035,2.8191548171294527,2.827387727498816,2.9300411355698497,2.9643452577081937,2.982652344342816,3.1180982496806897,3.1377004282112235,3.268925210439076,3.237054311084314,3.2797206153356027,3.314458782954122,3.3092803915870332,3.459276643742385,3.443436770986617,3.140654131527036,3.4705311206505316,3.5879054931650094,3.6573886761841408,3.846922576557966,3.8758696413765765,3.8100793284896057,3.7533797465164116,4.0147887757607315,4.0690190147189735],\"marker\":{},\"line\":{},\"name\":\"MVELong\"},{\"type\":\"scatter\",\"mode\":\"lines\",\"x\":[\"2007-06-01T00:00:00+01:00\",\"2007-07-01T00:00:00+01:00\",\"2007-08-01T00:00:00+01:00\",\"2007-09-01T00:00:00+01:00\",\"2007-10-01T00:00:00+01:00\",\"2007-11-01T00:00:00+00:00\",\"2007-12-01T00:00:00+00:00\",\"2008-01-01T00:00:00+00:00\",\"2008-02-01T00:00:00+00:00\",\"2008-03-01T00:00:00+00:00\",\"2008-04-01T00:00:00+01:00\",\"2008-05-01T00:00:00+01:00\",\"2008-06-01T00:00:00+01:00\",\"2008-07-01T00:00:00+01:00\",\"2008-08-01T00:00:00+01:00\",\"2008-09-01T00:00:00+01:00\",\"2008-10-01T00:00:00+01:00\",\"2008-11-01T00:00:00+00:00\",\"2008-12-01T00:00:00+00:00\",\"2009-01-01T00:00:00+00:00\",\"2009-02-01T00:00:00+00:00\",\"2009-03-01T00:00:00+00:00\",\"2009-04-01T00:00:00+01:00\",\"2009-05-01T00:00:00+01:00\",\"2009-06-01T00:00:00+01:00\",\"2009-07-01T00:00:00+01:00\",\"2009-08-01T00:00:00+01:00\",\"2009-09-01T00:00:00+01:00\",\"2009-10-01T00:00:00+01:00\",\"2009-11-01T00:00:00+00:00\",\"2009-12-01T00:00:00+00:00\",\"2010-01-01T00:00:00+00:00\",\"2010-02-01T00:00:00+00:00\",\"2010-03-01T00:00:00+00:00\",\"2010-04-01T00:00:00+01:00\",\"2010-05-01T00:00:00+01:00\",\"2010-06-01T00:00:00+01:00\",\"2010-07-01T00:00:00+01:00\",\"2010-08-01T00:00:00+01:00\",\"2010-09-01T00:00:00+01:00\",\"2010-10-01T00:00:00+01:00\",\"2010-11-01T00:00:00+00:00\",\"2010-12-01T00:00:00+00:00\",\"2011-01-01T00:00:00+00:00\",\"2011-02-01T00:00:00+00:00\",\"2011-03-01T00:00:00+00:00\",\"2011-04-01T00:00:00+01:00\",\"2011-05-01T00:00:00+01:00\",\"2011-06-01T00:00:00+01:00\",\"2011-07-01T00:00:00+01:00\",\"2011-08-01T00:00:00+01:00\",\"2011-09-01T00:00:00+01:00\",\"2011-10-01T00:00:00+01:00\",\"2011-11-01T00:00:00+00:00\",\"2011-12-01T00:00:00+00:00\",\"2012-01-01T00:00:00+00:00\",\"2012-02-01T00:00:00+00:00\",\"2012-03-01T00:00:00+00:00\",\"2012-04-01T00:00:00+01:00\",\"2012-05-01T00:00:00+01:00\",\"2012-06-01T00:00:00+01:00\",\"2012-07-01T00:00:00+01:00\",\"2012-08-01T00:00:00+01:00\",\"2012-09-01T00:00:00+01:00\",\"2012-10-01T00:00:00+01:00\",\"2012-11-01T00:00:00+00:00\",\"2012-12-01T00:00:00+00:00\",\"2013-01-01T00:00:00+00:00\",\"2013-02-01T00:00:00+00:00\",\"2013-03-01T00:00:00+00:00\",\"2013-04-01T00:00:00+01:00\",\"2013-05-01T00:00:00+01:00\",\"2013-06-01T00:00:00+01:00\",\"2013-07-01T00:00:00+01:00\",\"2013-08-01T00:00:00+01:00\",\"2013-09-01T00:00:00+01:00\",\"2013-10-01T00:00:00+01:00\",\"2013-11-01T00:00:00+00:00\",\"2013-12-01T00:00:00+00:00\",\"2014-01-01T00:00:00+00:00\",\"2014-02-01T00:00:00+00:00\",\"2014-03-01T00:00:00+00:00\",\"2014-04-01T00:00:00+01:00\",\"2014-05-01T00:00:00+01:00\",\"2014-06-01T00:00:00+01:00\",\"2014-07-01T00:00:00+01:00\",\"2014-08-01T00:00:00+01:00\",\"2014-09-01T00:00:00+01:00\",\"2014-10-01T00:00:00+01:00\",\"2014-11-01T00:00:00+00:00\",\"2014-12-01T00:00:00+00:00\",\"2015-01-01T00:00:00+00:00\",\"2015-02-01T00:00:00+00:00\",\"2015-03-01T00:00:00+00:00\",\"2015-04-01T00:00:00+01:00\",\"2015-05-01T00:00:00+01:00\",\"2015-06-01T00:00:00+01:00\",\"2015-07-01T00:00:00+01:00\",\"2015-08-01T00:00:00+01:00\",\"2015-09-01T00:00:00+01:00\",\"2015-10-01T00:00:00+01:00\",\"2015-11-01T00:00:00+00:00\",\"2015-12-01T00:00:00+00:00\",\"2016-01-01T00:00:00+00:00\",\"2016-02-01T00:00:00+00:00\",\"2016-03-01T00:00:00+00:00\",\"2016-04-01T00:00:00+01:00\",\"2016-05-01T00:00:00+01:00\",\"2016-06-01T00:00:00+01:00\",\"2016-07-01T00:00:00+01:00\",\"2016-08-01T00:00:00+01:00\",\"2016-09-01T00:00:00+01:00\",\"2016-10-01T00:00:00+01:00\",\"2016-11-01T00:00:00+00:00\",\"2016-12-01T00:00:00+00:00\",\"2017-01-01T00:00:00+00:00\",\"2017-02-01T00:00:00+00:00\",\"2017-03-01T00:00:00+00:00\",\"2017-04-01T00:00:00+01:00\",\"2017-05-01T00:00:00+01:00\",\"2017-06-01T00:00:00+01:00\",\"2017-07-01T00:00:00+01:00\",\"2017-08-01T00:00:00+01:00\",\"2017-09-01T00:00:00+01:00\",\"2017-10-01T00:00:00+01:00\",\"2017-11-01T00:00:00+00:00\",\"2017-12-01T00:00:00+00:00\",\"2018-01-01T00:00:00+00:00\",\"2018-02-01T00:00:00+00:00\",\"2018-03-01T00:00:00+00:00\",\"2018-04-01T00:00:00+01:00\",\"2018-05-01T00:00:00+01:00\",\"2018-06-01T00:00:00+01:00\",\"2018-07-01T00:00:00+01:00\",\"2018-08-01T00:00:00+01:00\",\"2018-09-01T00:00:00+01:00\",\"2018-10-01T00:00:00+01:00\",\"2018-11-01T00:00:00+00:00\",\"2018-12-01T00:00:00+00:00\",\"2019-01-01T00:00:00+00:00\",\"2019-02-01T00:00:00+00:00\",\"2019-03-01T00:00:00+00:00\",\"2019-04-01T00:00:00+01:00\",\"2019-05-01T00:00:00+01:00\",\"2019-06-01T00:00:00+01:00\",\"2019-07-01T00:00:00+01:00\",\"2019-08-01T00:00:00+01:00\",\"2019-09-01T00:00:00+01:00\",\"2019-10-01T00:00:00+01:00\",\"2019-11-01T00:00:00+00:00\",\"2019-12-01T00:00:00+00:00\",\"2020-01-01T00:00:00+00:00\",\"2020-02-01T00:00:00+00:00\",\"2020-03-01T00:00:00+00:00\",\"2020-04-01T00:00:00+01:00\",\"2020-05-01T00:00:00+01:00\",\"2020-06-01T00:00:00+01:00\",\"2020-07-01T00:00:00+01:00\",\"2020-08-01T00:00:00+01:00\",\"2020-09-01T00:00:00+01:00\",\"2020-10-01T00:00:00+01:00\",\"2020-11-01T00:00:00+00:00\",\"2020-12-01T00:00:00+00:00\"],\"y\":[0.9750951024853911,0.9796848779537082,1.0085408875066488,1.0278548130446556,1.0503951237426123,1.0805846481212205,1.0834010975979902,1.086531997918056,1.0702160031089192,1.076396518367188,1.068354133555236,1.0645272573019358,1.033290254108178,1.0486184754543004,1.0574999410020534,1.0009894169068536,0.8806379206434429,0.9113249589771083,0.9821855313099384,0.9339906281653214,0.8758414252999395,0.8986844526346441,0.9050373375557105,0.9353435776115725,0.9439200800487177,0.9660772638832889,0.9970359786440435,1.0197209546027917,1.0262989285752209,1.079686893450889,1.0635228161766188,1.0995864237575765,1.113310825944192,1.1351028616396592,1.1614754533395297,1.1623924379288837,1.1707961741475057,1.2094919389630086,1.2074998936566321,1.2695266211226923,1.3150501040870242,1.293623306566028,1.2728630019428724,1.2892901863188533,1.3163954387184769,1.3205680786760383,1.3840717117566412,1.388470776733167,1.3621125814352177,1.364961996476406,1.350866712048714,1.2987543074766488,1.4075294187577523,1.4128322683089924,1.430982995984742,1.5092557354476348,1.5558226176811951,1.5502760252716494,1.565199080120813,1.5653657074442056,1.5953877428004466,1.6542966086646935,1.670215144755734,1.6938442199103154,1.6733484906907896,1.6911275991750132,1.6631688422340205,1.6982709090049068,1.7269164533521455,1.7531617486828441,1.7841601072252926,1.731933782730813,1.6708859953133481,1.7320765887555436,1.6739080177053183,1.729035476318558,1.8161971242871777,1.828557083801149,1.8205606019993916,1.8758104742632333,1.9148674622191104,1.9176727156162339,1.961750517365751,2.019502402199666,2.0210164151405947,1.9931655856303896,2.075022033063583,2.051668698523607,2.099997766750765,2.140612751821233,2.130269224644481,2.230041696987814,2.2018448706606137,2.2234496789547333,2.196070951844947,2.2045799451468078,2.1358234201403454,2.2126188664702573,2.1357189957840754,2.1551073247060035,2.219656163713752,2.2093364100819515,2.16890726368374,2.1815498946146787,2.216422621765358,2.3038284761193375,2.3024585714850176,2.336645834672719,2.4188159795669915,2.4976842241755985,2.466065774604515,2.453149547080529,2.3797555296391195,2.2631913792920417,2.3022033485790794,2.358394945728185,2.416134661589665,2.420472265522804,2.4930021361601056,2.556255083937175,2.542018402730189,2.5807706187989896,2.607131646251274,2.612152317247546,2.636953820841091,2.6611219097362624,2.6819511687066155,2.74378439884687,2.588759313111368,2.5989420492761366,2.5852403596524183,2.6286654870279604,2.636793560766609,2.6842418685084652,2.7311269342795703,2.6937326770020276,2.5190581551452698,2.5676546122091524,2.5225599496106375,2.6756675709613016,2.688997730391567,2.774081893403104,2.8157674003348054,2.8027936286128274,2.9150572038669127,2.936681758666707,3.0450926342817444,3.030853367267862,3.0780455810971294,3.0975363330677035,3.131528012678331,3.2965180433959196,3.2189855867513475,3.075796401165617,3.4209943079311365,3.497279671518406,3.511870456628066,3.7301389539423413,3.8379878862522174,3.7298069473340316,3.611549486493754,3.6782157442566663,3.6880971305092785],\"marker\":{},\"line\":{},\"name\":\"MVELongShort\"},{\"type\":\"scatter\",\"mode\":\"lines\",\"x\":[\"2007-06-01T00:00:00+01:00\",\"2007-07-01T00:00:00+01:00\",\"2007-08-01T00:00:00+01:00\",\"2007-09-01T00:00:00+01:00\",\"2007-10-01T00:00:00+01:00\",\"2007-11-01T00:00:00+00:00\",\"2007-12-01T00:00:00+00:00\",\"2008-01-01T00:00:00+00:00\",\"2008-02-01T00:00:00+00:00\",\"2008-03-01T00:00:00+00:00\",\"2008-04-01T00:00:00+01:00\",\"2008-05-01T00:00:00+01:00\",\"2008-06-01T00:00:00+01:00\",\"2008-07-01T00:00:00+01:00\",\"2008-08-01T00:00:00+01:00\",\"2008-09-01T00:00:00+01:00\",\"2008-10-01T00:00:00+01:00\",\"2008-11-01T00:00:00+00:00\",\"2008-12-01T00:00:00+00:00\",\"2009-01-01T00:00:00+00:00\",\"2009-02-01T00:00:00+00:00\",\"2009-03-01T00:00:00+00:00\",\"2009-04-01T00:00:00+01:00\",\"2009-05-01T00:00:00+01:00\",\"2009-06-01T00:00:00+01:00\",\"2009-07-01T00:00:00+01:00\",\"2009-08-01T00:00:00+01:00\",\"2009-09-01T00:00:00+01:00\",\"2009-10-01T00:00:00+01:00\",\"2009-11-01T00:00:00+00:00\",\"2009-12-01T00:00:00+00:00\",\"2010-01-01T00:00:00+00:00\",\"2010-02-01T00:00:00+00:00\",\"2010-03-01T00:00:00+00:00\",\"2010-04-01T00:00:00+01:00\",\"2010-05-01T00:00:00+01:00\",\"2010-06-01T00:00:00+01:00\",\"2010-07-01T00:00:00+01:00\",\"2010-08-01T00:00:00+01:00\",\"2010-09-01T00:00:00+01:00\",\"2010-10-01T00:00:00+01:00\",\"2010-11-01T00:00:00+00:00\",\"2010-12-01T00:00:00+00:00\",\"2011-01-01T00:00:00+00:00\",\"2011-02-01T00:00:00+00:00\",\"2011-03-01T00:00:00+00:00\",\"2011-04-01T00:00:00+01:00\",\"2011-05-01T00:00:00+01:00\",\"2011-06-01T00:00:00+01:00\",\"2011-07-01T00:00:00+01:00\",\"2011-08-01T00:00:00+01:00\",\"2011-09-01T00:00:00+01:00\",\"2011-10-01T00:00:00+01:00\",\"2011-11-01T00:00:00+00:00\",\"2011-12-01T00:00:00+00:00\",\"2012-01-01T00:00:00+00:00\",\"2012-02-01T00:00:00+00:00\",\"2012-03-01T00:00:00+00:00\",\"2012-04-01T00:00:00+01:00\",\"2012-05-01T00:00:00+01:00\",\"2012-06-01T00:00:00+01:00\",\"2012-07-01T00:00:00+01:00\",\"2012-08-01T00:00:00+01:00\",\"2012-09-01T00:00:00+01:00\",\"2012-10-01T00:00:00+01:00\",\"2012-11-01T00:00:00+00:00\",\"2012-12-01T00:00:00+00:00\",\"2013-01-01T00:00:00+00:00\",\"2013-02-01T00:00:00+00:00\",\"2013-03-01T00:00:00+00:00\",\"2013-04-01T00:00:00+01:00\",\"2013-05-01T00:00:00+01:00\",\"2013-06-01T00:00:00+01:00\",\"2013-07-01T00:00:00+01:00\",\"2013-08-01T00:00:00+01:00\",\"2013-09-01T00:00:00+01:00\",\"2013-10-01T00:00:00+01:00\",\"2013-11-01T00:00:00+00:00\",\"2013-12-01T00:00:00+00:00\",\"2014-01-01T00:00:00+00:00\",\"2014-02-01T00:00:00+00:00\",\"2014-03-01T00:00:00+00:00\",\"2014-04-01T00:00:00+01:00\",\"2014-05-01T00:00:00+01:00\",\"2014-06-01T00:00:00+01:00\",\"2014-07-01T00:00:00+01:00\",\"2014-08-01T00:00:00+01:00\",\"2014-09-01T00:00:00+01:00\",\"2014-10-01T00:00:00+01:00\",\"2014-11-01T00:00:00+00:00\",\"2014-12-01T00:00:00+00:00\",\"2015-01-01T00:00:00+00:00\",\"2015-02-01T00:00:00+00:00\",\"2015-03-01T00:00:00+00:00\",\"2015-04-01T00:00:00+01:00\",\"2015-05-01T00:00:00+01:00\",\"2015-06-01T00:00:00+01:00\",\"2015-07-01T00:00:00+01:00\",\"2015-08-01T00:00:00+01:00\",\"2015-09-01T00:00:00+01:00\",\"2015-10-01T00:00:00+01:00\",\"2015-11-01T00:00:00+00:00\",\"2015-12-01T00:00:00+00:00\",\"2016-01-01T00:00:00+00:00\",\"2016-02-01T00:00:00+00:00\",\"2016-03-01T00:00:00+00:00\",\"2016-04-01T00:00:00+01:00\",\"2016-05-01T00:00:00+01:00\",\"2016-06-01T00:00:00+01:00\",\"2016-07-01T00:00:00+01:00\",\"2016-08-01T00:00:00+01:00\",\"2016-09-01T00:00:00+01:00\",\"2016-10-01T00:00:00+01:00\",\"2016-11-01T00:00:00+00:00\",\"2016-12-01T00:00:00+00:00\",\"2017-01-01T00:00:00+00:00\",\"2017-02-01T00:00:00+00:00\",\"2017-03-01T00:00:00+00:00\",\"2017-04-01T00:00:00+01:00\",\"2017-05-01T00:00:00+01:00\",\"2017-06-01T00:00:00+01:00\",\"2017-07-01T00:00:00+01:00\",\"2017-08-01T00:00:00+01:00\",\"2017-09-01T00:00:00+01:00\",\"2017-10-01T00:00:00+01:00\",\"2017-11-01T00:00:00+00:00\",\"2017-12-01T00:00:00+00:00\",\"2018-01-01T00:00:00+00:00\",\"2018-02-01T00:00:00+00:00\",\"2018-03-01T00:00:00+00:00\",\"2018-04-01T00:00:00+01:00\",\"2018-05-01T00:00:00+01:00\",\"2018-06-01T00:00:00+01:00\",\"2018-07-01T00:00:00+01:00\",\"2018-08-01T00:00:00+01:00\",\"2018-09-01T00:00:00+01:00\",\"2018-10-01T00:00:00+01:00\",\"2018-11-01T00:00:00+00:00\",\"2018-12-01T00:00:00+00:00\",\"2019-01-01T00:00:00+00:00\",\"2019-02-01T00:00:00+00:00\",\"2019-03-01T00:00:00+00:00\",\"2019-04-01T00:00:00+01:00\",\"2019-05-01T00:00:00+01:00\",\"2019-06-01T00:00:00+01:00\",\"2019-07-01T00:00:00+01:00\",\"2019-08-01T00:00:00+01:00\",\"2019-09-01T00:00:00+01:00\",\"2019-10-01T00:00:00+01:00\",\"2019-11-01T00:00:00+00:00\",\"2019-12-01T00:00:00+00:00\",\"2020-01-01T00:00:00+00:00\",\"2020-02-01T00:00:00+00:00\",\"2020-03-01T00:00:00+00:00\",\"2020-04-01T00:00:00+01:00\",\"2020-05-01T00:00:00+01:00\",\"2020-06-01T00:00:00+01:00\",\"2020-07-01T00:00:00+01:00\",\"2020-08-01T00:00:00+01:00\",\"2020-09-01T00:00:00+01:00\",\"2020-10-01T00:00:00+01:00\",\"2020-11-01T00:00:00+00:00\",\"2020-12-01T00:00:00+00:00\"],\"y\":[0.9815080109747252,0.9629524490572605,0.9726134436485935,0.9915129746900231,1.005090093741234,0.982607351908174,0.974734935577253,0.9477913563783118,0.9314921495358301,0.9239722416610217,0.9503943117952695,0.9562975953736299,0.9065683706420199,0.9044112647571257,0.9140040865145097,0.8585265468875145,0.761301205355435,0.7366131721794472,0.754768618223094,0.7180659348551667,0.6706027332613669,0.7032381161045618,0.7533583998802416,0.7797315184688987,0.7809635081106444,0.8231371527024499,0.8444230024736034,0.8659394218655361,0.855769556190845,0.8889443928783449,0.8943313124384247,0.88551334726023,0.9035671880747473,0.9346737286181008,0.9527625590193736,0.9125431850119793,0.8836944705999127,0.9260682217651202,0.9058629599759469,0.9534583488183885,0.9803092888394319,0.9805157869717205,1.0107739264088478,1.0305196722683307,1.0529968289546354,1.0523496579481195,1.0790320259239294,1.0773256308988517,1.0616216446578437,1.056847492845122,1.0256055806899482,0.9794737841887473,1.049146338539122,1.0466006878973173,1.0510444067963909,1.0929045880470947,1.119292264722738,1.1344847399732327,1.137560258877596,1.1002300818718114,1.1234431523627944,1.1381025504240998,1.1569063351574955,1.1712751489150193,1.161555039435305,1.1679659091555286,1.166708843001564,1.2071856502150846,1.2179291632846447,1.2434027544583641,1.2626998049467835,1.272206259843505,1.2496240554892681,1.2975964917968672,1.2699582167296164,1.3010010295031162,1.3420986982863707,1.3619370924939802,1.374627512572473,1.3642587211180768,1.4049014053258397,1.4045551139312564,1.413013051760757,1.4365289202231268,1.4556864297338479,1.4404546656794934,1.482280059785726,1.4566302218689877,1.4885835875256845,1.5152088381539703,1.5078127671031165,1.50632511604798,1.5485242935157402,1.5370271131424837,1.54473572972441,1.5537871855382168,1.5276702653501737,1.552272345546636,1.4948234190896015,1.4694174454276219,1.5431257702814232,1.5461759183331398,1.5187479224009492,1.4821915357731046,1.4855274314095503,1.5485442563263239,1.5611390429801417,1.5770188610105922,1.587658727242739,1.6327834909606473,1.6324330470498714,1.6300658994441908,1.6072140925809395,1.6333959616714728,1.6464498232335985,1.674217025586173,1.7128216760709716,1.7081464573657663,1.727870422959084,1.7420763950797717,1.7463625222244088,1.772213669738098,1.779652164736176,1.7972792684881012,1.8232711920828744,1.8536870507219125,1.8614458958714675,1.916980318493532,1.8628182448782276,1.839758547801289,1.840053438478747,1.872251323161103,1.8723676367396032,1.9124779828111296,1.9532531432013391,1.9429289503865435,1.8526705319981378,1.8759633846819352,1.7767916513139503,1.8808363283817384,1.914575832625284,1.9356141697764253,1.9826488731084353,1.91725473957604,1.99906081649137,2.017658607703067,2.0116629834526076,2.0193273626918207,2.049589176204717,2.092703985268983,2.1152447754308916,2.138773704736283,2.0473181237090476,1.8602521544733703,2.0309376374189503,2.101079827846045,2.129277548227186,2.2197079801804867,2.304541657590352,2.249893045369627,2.224182163114556,2.3897945175371444,2.4480766040238984],\"marker\":{},\"line\":{},\"name\":\"60/40\"}];\r\n",
       "            var layout = {\"width\":600,\"height\":600,\"template\":{\"layout\":{\"title\":{\"x\":0.05},\"font\":{\"color\":\"rgba(42, 63, 95, 1.0)\"},\"paper_bgcolor\":\"rgba(255, 255, 255, 1.0)\",\"plot_bgcolor\":\"rgba(229, 236, 246, 1.0)\",\"autotypenumbers\":\"strict\",\"colorscale\":{\"diverging\":[[0.0,\"#8e0152\"],[0.1,\"#c51b7d\"],[0.2,\"#de77ae\"],[0.3,\"#f1b6da\"],[0.4,\"#fde0ef\"],[0.5,\"#f7f7f7\"],[0.6,\"#e6f5d0\"],[0.7,\"#b8e186\"],[0.8,\"#7fbc41\"],[0.9,\"#4d9221\"],[1.0,\"#276419\"]],\"sequential\":[[0.0,\"#0d0887\"],[0.1111111111111111,\"#46039f\"],[0.2222222222222222,\"#7201a8\"],[0.3333333333333333,\"#9c179e\"],[0.4444444444444444,\"#bd3786\"],[0.5555555555555556,\"#d8576b\"],[0.6666666666666666,\"#ed7953\"],[0.7777777777777778,\"#fb9f3a\"],[0.8888888888888888,\"#fdca26\"],[1.0,\"#f0f921\"]],\"sequentialminus\":[[0.0,\"#0d0887\"],[0.1111111111111111,\"#46039f\"],[0.2222222222222222,\"#7201a8\"],[0.3333333333333333,\"#9c179e\"],[0.4444444444444444,\"#bd3786\"],[0.5555555555555556,\"#d8576b\"],[0.6666666666666666,\"#ed7953\"],[0.7777777777777778,\"#fb9f3a\"],[0.8888888888888888,\"#fdca26\"],[1.0,\"#f0f921\"]]},\"hovermode\":\"closest\",\"hoverlabel\":{\"align\":\"left\"},\"coloraxis\":{\"colorbar\":{\"outlinewidth\":0.0,\"ticks\":\"\"}},\"geo\":{\"showland\":true,\"landcolor\":\"rgba(229, 236, 246, 1.0)\",\"showlakes\":true,\"lakecolor\":\"rgba(255, 255, 255, 1.0)\",\"subunitcolor\":\"rgba(255, 255, 255, 1.0)\",\"bgcolor\":\"rgba(255, 255, 255, 1.0)\"},\"mapbox\":{\"style\":\"light\"},\"polar\":{\"bgcolor\":\"rgba(229, 236, 246, 1.0)\",\"radialaxis\":{\"linecolor\":\"rgba(255, 255, 255, 1.0)\",\"gridcolor\":\"rgba(255, 255, 255, 1.0)\",\"ticks\":\"\"},\"angularaxis\":{\"linecolor\":\"rgba(255, 255, 255, 1.0)\",\"gridcolor\":\"rgba(255, 255, 255, 1.0)\",\"ticks\":\"\"}},\"scene\":{\"xaxis\":{\"ticks\":\"\",\"linecolor\":\"rgba(255, 255, 255, 1.0)\",\"gridcolor\":\"rgba(255, 255, 255, 1.0)\",\"gridwidth\":2.0,\"zerolinecolor\":\"rgba(255, 255, 255, 1.0)\",\"backgroundcolor\":\"rgba(229, 236, 246, 1.0)\",\"showbackground\":true},\"yaxis\":{\"ticks\":\"\",\"linecolor\":\"rgba(255, 255, 255, 1.0)\",\"gridcolor\":\"rgba(255, 255, 255, 1.0)\",\"gridwidth\":2.0,\"zerolinecolor\":\"rgba(255, 255, 255, 1.0)\",\"backgroundcolor\":\"rgba(229, 236, 246, 1.0)\",\"showbackground\":true},\"zaxis\":{\"ticks\":\"\",\"linecolor\":\"rgba(255, 255, 255, 1.0)\",\"gridcolor\":\"rgba(255, 255, 255, 1.0)\",\"gridwidth\":2.0,\"zerolinecolor\":\"rgba(255, 255, 255, 1.0)\",\"backgroundcolor\":\"rgba(229, 236, 246, 1.0)\",\"showbackground\":true}},\"ternary\":{\"aaxis\":{\"ticks\":\"\",\"linecolor\":\"rgba(255, 255, 255, 1.0)\",\"gridcolor\":\"rgba(255, 255, 255, 1.0)\"},\"baxis\":{\"ticks\":\"\",\"linecolor\":\"rgba(255, 255, 255, 1.0)\",\"gridcolor\":\"rgba(255, 255, 255, 1.0)\"},\"caxis\":{\"ticks\":\"\",\"linecolor\":\"rgba(255, 255, 255, 1.0)\",\"gridcolor\":\"rgba(255, 255, 255, 1.0)\"},\"bgcolor\":\"rgba(229, 236, 246, 1.0)\"},\"xaxis\":{\"title\":{\"standoff\":15},\"ticks\":\"\",\"automargin\":true,\"linecolor\":\"rgba(255, 255, 255, 1.0)\",\"gridcolor\":\"rgba(255, 255, 255, 1.0)\",\"zerolinecolor\":\"rgba(255, 255, 255, 1.0)\",\"zerolinewidth\":2.0},\"yaxis\":{\"title\":{\"standoff\":15},\"ticks\":\"\",\"automargin\":true,\"linecolor\":\"rgba(255, 255, 255, 1.0)\",\"gridcolor\":\"rgba(255, 255, 255, 1.0)\",\"zerolinecolor\":\"rgba(255, 255, 255, 1.0)\",\"zerolinewidth\":2.0},\"annotationdefaults\":{\"arrowcolor\":\"#2a3f5f\",\"arrowhead\":0,\"arrowwidth\":1},\"shapedefaults\":{\"line\":{\"color\":\"rgba(42, 63, 95, 1.0)\"}},\"colorway\":[\"rgba(99, 110, 250, 1.0)\",\"rgba(239, 85, 59, 1.0)\",\"rgba(0, 204, 150, 1.0)\",\"rgba(171, 99, 250, 1.0)\",\"rgba(255, 161, 90, 1.0)\",\"rgba(25, 211, 243, 1.0)\",\"rgba(255, 102, 146, 1.0)\",\"rgba(182, 232, 128, 1.0)\",\"rgba(255, 151, 255, 1.0)\",\"rgba(254, 203, 82, 1.0)\"]},\"data\":{\"bar\":[{\"marker\":{\"line\":{\"color\":\"rgba(229, 236, 246, 1.0)\",\"width\":0.5},\"pattern\":{\"fillmode\":\"overlay\",\"size\":10,\"solidity\":0.2}},\"error_x\":{\"color\":\"rgba(42, 63, 95, 1.0)\"},\"error_y\":{\"color\":\"rgba(42, 63, 95, 1.0)\"}}],\"barpolar\":[{\"marker\":{\"line\":{\"color\":\"rgba(229, 236, 246, 1.0)\",\"width\":0.5},\"pattern\":{\"fillmode\":\"overlay\",\"size\":10,\"solidity\":0.2}}}],\"carpet\":[{\"aaxis\":{\"linecolor\":\"rgba(255, 255, 255, 1.0)\",\"gridcolor\":\"rgba(255, 255, 255, 1.0)\",\"endlinecolor\":\"rgba(42, 63, 95, 1.0)\",\"minorgridcolor\":\"rgba(255, 255, 255, 1.0)\",\"startlinecolor\":\"rgba(42, 63, 95, 1.0)\"},\"baxis\":{\"linecolor\":\"rgba(255, 255, 255, 1.0)\",\"gridcolor\":\"rgba(255, 255, 255, 1.0)\",\"endlinecolor\":\"rgba(42, 63, 95, 1.0)\",\"minorgridcolor\":\"rgba(255, 255, 255, 1.0)\",\"startlinecolor\":\"rgba(42, 63, 95, 1.0)\"}}],\"choropleth\":[{\"colorbar\":{\"outlinewidth\":0.0,\"ticks\":\"\"},\"colorscale\":[[0.0,\"#0d0887\"],[0.1111111111111111,\"#46039f\"],[0.2222222222222222,\"#7201a8\"],[0.3333333333333333,\"#9c179e\"],[0.4444444444444444,\"#bd3786\"],[0.5555555555555556,\"#d8576b\"],[0.6666666666666666,\"#ed7953\"],[0.7777777777777778,\"#fb9f3a\"],[0.8888888888888888,\"#fdca26\"],[1.0,\"#f0f921\"]]}],\"contour\":[{\"colorbar\":{\"outlinewidth\":0.0,\"ticks\":\"\"},\"colorscale\":[[0.0,\"#0d0887\"],[0.1111111111111111,\"#46039f\"],[0.2222222222222222,\"#7201a8\"],[0.3333333333333333,\"#9c179e\"],[0.4444444444444444,\"#bd3786\"],[0.5555555555555556,\"#d8576b\"],[0.6666666666666666,\"#ed7953\"],[0.7777777777777778,\"#fb9f3a\"],[0.8888888888888888,\"#fdca26\"],[1.0,\"#f0f921\"]]}],\"contourcarpet\":[{\"colorbar\":{\"outlinewidth\":0.0,\"ticks\":\"\"}}],\"heatmap\":[{\"colorbar\":{\"outlinewidth\":0.0,\"ticks\":\"\"},\"colorscale\":[[0.0,\"#0d0887\"],[0.1111111111111111,\"#46039f\"],[0.2222222222222222,\"#7201a8\"],[0.3333333333333333,\"#9c179e\"],[0.4444444444444444,\"#bd3786\"],[0.5555555555555556,\"#d8576b\"],[0.6666666666666666,\"#ed7953\"],[0.7777777777777778,\"#fb9f3a\"],[0.8888888888888888,\"#fdca26\"],[1.0,\"#f0f921\"]]}],\"heatmapgl\":[{\"colorbar\":{\"outlinewidth\":0.0,\"ticks\":\"\"},\"colorscale\":[[0.0,\"#0d0887\"],[0.1111111111111111,\"#46039f\"],[0.2222222222222222,\"#7201a8\"],[0.3333333333333333,\"#9c179e\"],[0.4444444444444444,\"#bd3786\"],[0.5555555555555556,\"#d8576b\"],[0.6666666666666666,\"#ed7953\"],[0.7777777777777778,\"#fb9f3a\"],[0.8888888888888888,\"#fdca26\"],[1.0,\"#f0f921\"]]}],\"histogram\":[{\"marker\":{\"pattern\":{\"fillmode\":\"overlay\",\"size\":10,\"solidity\":0.2}}}],\"histogram2d\":[{\"colorbar\":{\"outlinewidth\":0.0,\"ticks\":\"\"},\"colorscale\":[[0.0,\"#0d0887\"],[0.1111111111111111,\"#46039f\"],[0.2222222222222222,\"#7201a8\"],[0.3333333333333333,\"#9c179e\"],[0.4444444444444444,\"#bd3786\"],[0.5555555555555556,\"#d8576b\"],[0.6666666666666666,\"#ed7953\"],[0.7777777777777778,\"#fb9f3a\"],[0.8888888888888888,\"#fdca26\"],[1.0,\"#f0f921\"]]}],\"histogram2dcontour\":[{\"colorbar\":{\"outlinewidth\":0.0,\"ticks\":\"\"},\"colorscale\":[[0.0,\"#0d0887\"],[0.1111111111111111,\"#46039f\"],[0.2222222222222222,\"#7201a8\"],[0.3333333333333333,\"#9c179e\"],[0.4444444444444444,\"#bd3786\"],[0.5555555555555556,\"#d8576b\"],[0.6666666666666666,\"#ed7953\"],[0.7777777777777778,\"#fb9f3a\"],[0.8888888888888888,\"#fdca26\"],[1.0,\"#f0f921\"]]}],\"mesh3d\":[{\"colorbar\":{\"outlinewidth\":0.0,\"ticks\":\"\"}}],\"parcoords\":[{\"line\":{\"colorbar\":{\"outlinewidth\":0.0,\"ticks\":\"\"}}}],\"pie\":[{\"automargin\":true}],\"scatter\":[{\"marker\":{\"colorbar\":{\"outlinewidth\":0.0,\"ticks\":\"\"}}}],\"scatter3d\":[{\"marker\":{\"colorbar\":{\"outlinewidth\":0.0,\"ticks\":\"\"}},\"line\":{\"colorbar\":{\"outlinewidth\":0.0,\"ticks\":\"\"}}}],\"scattercarpet\":[{\"marker\":{\"colorbar\":{\"outlinewidth\":0.0,\"ticks\":\"\"}}}],\"scattergeo\":[{\"marker\":{\"colorbar\":{\"outlinewidth\":0.0,\"ticks\":\"\"}}}],\"scattergl\":[{\"marker\":{\"colorbar\":{\"outlinewidth\":0.0,\"ticks\":\"\"}}}],\"scattermapbox\":[{\"marker\":{\"colorbar\":{\"outlinewidth\":0.0,\"ticks\":\"\"}}}],\"scatterpolar\":[{\"marker\":{\"colorbar\":{\"outlinewidth\":0.0,\"ticks\":\"\"}}}],\"scatterpolargl\":[{\"marker\":{\"colorbar\":{\"outlinewidth\":0.0,\"ticks\":\"\"}}}],\"scatterternary\":[{\"marker\":{\"colorbar\":{\"outlinewidth\":0.0,\"ticks\":\"\"}}}],\"surface\":[{\"colorbar\":{\"outlinewidth\":0.0,\"ticks\":\"\"},\"colorscale\":[[0.0,\"#0d0887\"],[0.1111111111111111,\"#46039f\"],[0.2222222222222222,\"#7201a8\"],[0.3333333333333333,\"#9c179e\"],[0.4444444444444444,\"#bd3786\"],[0.5555555555555556,\"#d8576b\"],[0.6666666666666666,\"#ed7953\"],[0.7777777777777778,\"#fb9f3a\"],[0.8888888888888888,\"#fdca26\"],[1.0,\"#f0f921\"]]}],\"table\":[{\"cells\":{\"fill\":{\"color\":\"rgba(235, 240, 248, 1.0)\"},\"line\":{\"color\":\"rgba(255, 255, 255, 1.0)\"}},\"header\":{\"fill\":{\"color\":\"rgba(200, 212, 227, 1.0)\"},\"line\":{\"color\":\"rgba(255, 255, 255, 1.0)\"}}}]}},\"title\":{\"text\":\"Strategy Analysis Diversified:(10% volatility)\"}};\r\n",
       "            var config = {\"responsive\":true};\r\n",
       "            Plotly.newPlot('f1ff37cc-3548-4683-9b96-3b6e68b8255e', data, layout, config);\r\n",
       "});\r\n",
       "            };\r\n",
       "            if ((typeof(requirejs) !==  typeof(Function)) || (typeof(requirejs.config) !== typeof(Function))) {\r\n",
       "                var script = document.createElement(\"script\");\r\n",
       "                script.setAttribute(\"src\", \"https://cdnjs.cloudflare.com/ajax/libs/require.js/2.3.6/require.min.js\");\r\n",
       "                script.onload = function(){\r\n",
       "                    renderPlotly_f1ff37cc354846839b963b6e68b8255e();\r\n",
       "                };\r\n",
       "                document.getElementsByTagName(\"head\")[0].appendChild(script);\r\n",
       "            }\r\n",
       "            else {\r\n",
       "                renderPlotly_f1ff37cc354846839b963b6e68b8255e();\r\n",
       "            }\r\n",
       "</script>\r\n"
      ]
     },
     "metadata": {},
     "output_type": "display_data"
    }
   ],
   "source": [
    "let longChartMve10 = \n",
    "    longPortMveCumulative10\n",
    "    |> List.map(fun x -> x.Date, x.Return)\n",
    "    |> Chart.Line\n",
    "    |> Chart.withTraceInfo(Name=\"MVELong\")\n",
    "\n",
    "let longShortChartMve10 = \n",
    "    longShortPortMveCumulative10\n",
    "    |> List.map(fun x -> x.Date, x.Return)\n",
    "    |> Chart.Line\n",
    "    |> Chart.withTraceInfo(Name=\"MVELongShort\")\n",
    "\n",
    "let chart604010 = \n",
    "    port6040Cumulative10\n",
    "    |> List.map(fun x -> x.Date, x.Return)\n",
    "    |> Chart.Line\n",
    "    |> Chart.withTraceInfo(Name=\"60/40\")\n",
    "\n",
    "let chartStrategyAnalysisDiversified10 =\n",
    "    [ longChartMve10; longShortChartMve10; chart604010 ]\n",
    "    |> Chart.combine\n",
    "    |> Chart.withTitle \"Strategy Analysis Diversified:(10% volatility)\"\n",
    "\n",
    "chartStrategyAnalysisDiversified10"
   ]
  },
  {
   "cell_type": "markdown",
   "metadata": {},
   "source": [
    "### Performance analysis"
   ]
  },
  {
   "cell_type": "code",
   "execution_count": null,
   "metadata": {
    "dotnet_interactive": {
     "language": "fsharp"
    },
    "vscode": {
     "languageId": "dotnet-interactive.fsharp"
    }
   },
   "outputs": [],
   "source": [
    "let longReturnMve =\n",
    "    longPortMve\n",
    "    |> Seq.averageBy (fun x -> x.Return)\n",
    "\n",
    "let longShortReturnMve =\n",
    "    longShortPortMve\n",
    "    |> Seq.averageBy (fun x -> x.Return)\n",
    "\n",
    "let return6040 =\n",
    "    port6040\n",
    "    |> Seq.averageBy (fun x -> x.Return)\n",
    "\n",
    "let longAnnualizedReturnMve = averageAnnualizedExcessReturn longReturnMve\n",
    "\n",
    "let longShortAnnualizedReturnMve = averageAnnualizedExcessReturn longShortReturnMve\n",
    "\n",
    "let annualizedReturn6040 = averageAnnualizedExcessReturn return6040"
   ]
  },
  {
   "cell_type": "code",
   "execution_count": null,
   "metadata": {
    "dotnet_interactive": {
     "language": "fsharp"
    },
    "vscode": {
     "languageId": "dotnet-interactive.fsharp"
    }
   },
   "outputs": [
    {
     "data": {
      "text/plain": [
       "(0.04699881034, 0.03587153535, 0.07215323757)\r\n"
      ]
     },
     "metadata": {},
     "output_type": "display_data"
    }
   ],
   "source": [
    "longAnnualizedReturnMve, longShortAnnualizedReturnMve, annualizedReturn6040"
   ]
  },
  {
   "cell_type": "code",
   "execution_count": null,
   "metadata": {
    "dotnet_interactive": {
     "language": "fsharp"
    },
    "vscode": {
     "languageId": "dotnet-interactive.fsharp"
    }
   },
   "outputs": [],
   "source": [
    "let longStDevMve = \n",
    "    longPortMve\n",
    "    |> Seq.stDevBy (fun x -> x.Return)\n",
    "\n",
    "let longShortStDevMve = \n",
    "    longPortMve\n",
    "    |> Seq.stDevBy (fun x -> x.Return)\n",
    "\n",
    "let stDev6040 = \n",
    "    port6040\n",
    "    |> Seq.stDevBy (fun x -> x.Return)\n",
    "\n",
    "let longSharpeMve = longReturnMve / longStDevMve\n",
    "\n",
    "let longShortSharpeMve  = longShortReturnMve / longShortStDevMve\n",
    "\n",
    "let sharpe6040  = return6040 / stDev6040\n",
    "\n",
    "let longAnnualizedSharpeRatioMve = annualizedSharpeRatio longSharpeMve\n",
    "\n",
    "let longShortAnnualizedSharpeRatioMve = annualizedSharpeRatio longShortSharpeMve\n",
    "\n",
    "let Annualized6040SharpeRatioMve = annualizedSharpeRatio sharpe6040"
   ]
  },
  {
   "cell_type": "code",
   "execution_count": null,
   "metadata": {
    "dotnet_interactive": {
     "language": "fsharp"
    },
    "vscode": {
     "languageId": "dotnet-interactive.fsharp"
    }
   },
   "outputs": [
    {
     "data": {
      "text/plain": [
       "(1.087501115, 0.8300281303, 0.7109978563)\r\n"
      ]
     },
     "metadata": {},
     "output_type": "display_data"
    }
   ],
   "source": [
    "longAnnualizedSharpeRatioMve, longShortAnnualizedSharpeRatioMve, Annualized6040SharpeRatioMve"
   ]
  }
 ],
 "metadata": {
  "kernelspec": {
   "display_name": ".NET (C#)",
   "language": "C#",
   "name": ".net-csharp"
  },
  "language_info": {
   "file_extension": ".cs",
   "mimetype": "text/x-csharp",
   "name": "C#",
   "pygments_lexer": "csharp",
   "version": "9.0"
  },
  "orig_nbformat": 4
 },
 "nbformat": 4,
 "nbformat_minor": 2
}
