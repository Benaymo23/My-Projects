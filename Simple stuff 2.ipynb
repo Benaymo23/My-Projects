{
 "cells": [
  {
   "cell_type": "markdown",
   "metadata": {},
   "source": [
    "<img src=\"https://apps.novasbe.pt/NovaMobility/resources/assets/images/nova_logo.png\" width=\"300\">"
   ]
  },
  {
   "cell_type": "markdown",
   "metadata": {},
   "source": [
    "<center> <h1> Assignment 2 </h1></center>"
   ]
  },
  {
   "cell_type": "markdown",
   "metadata": {},
   "source": [
    "Instructions:"
   ]
  },
  {
   "cell_type": "markdown",
   "metadata": {},
   "source": [
    "1. Press `'File' -> 'Rename notebook'` and rename to your student id (ex: 40000.ipynb)\n",
    "2. Complete assignment\n",
    "3. Save the .ipynb file by clicking `'File' -> 'Save notebook'` and submit it via Moodle"
   ]
  },
  {
   "cell_type": "markdown",
   "metadata": {},
   "source": [
    "**You must use the cells provided to answer the questions and make sure to use the variable names exactly as provided.**"
   ]
  },
  {
   "cell_type": "code",
   "execution_count": 18,
   "metadata": {},
   "outputs": [],
   "source": [
    "###################\n",
    "## RUN THIS CELL ##\n",
    "###################\n",
    "\n",
    "import random\n",
    "from tests_assignment_2 import * #run this cell to import the necessary tests"
   ]
  },
  {
   "cell_type": "markdown",
   "metadata": {},
   "source": [
    "<center> <h1> Feeling Lucky? </h1></center>\n",
    "\n",
    "### In this assignment you will practise flow control by building and playing in your own casino. \n",
    "\n",
    "Your dealer will be the computer and for that you will make use of the python module random. "
   ]
  },
  {
   "cell_type": "markdown",
   "metadata": {},
   "source": [
    "<left> <h1> Exercise 1 - Red or Black? You Choose </h1> </left>\n",
    "<img src=\"https://filmdaily.co/wp-content/uploads/2019/10/canmathshelp-1300x640.jpg\" width=640 style=\"vertical-align:middle;margin:0px 0px\">"
   ]
  },
  {
   "cell_type": "markdown",
   "metadata": {},
   "source": [
    "#### 1.1 You are going to play roulette but you only play red or black. (3p)\n",
    "\n",
    "At this time you are only playing once. \n",
    "\n",
    "Remember the rules: \n",
    "1. For simplicity let's suppose there are only 2 possibilities (Red and Black)\n",
    "2. If the roulette lands on your chosen color you win double of what you've bet, if you loose you loose all the amount you bet.\n",
    "\n",
    "You will start with a `balance` of 1000€ and at the end of the play you need to update your balance accordingly if you win or loose. Be sure to only make **one bet**. You must run your solution in the cell below, together with the given variables."
   ]
  },
  {
   "cell_type": "code",
   "execution_count": 12,
   "metadata": {},
   "outputs": [],
   "source": [
    "import random\n",
    "balance = 1000\n",
    "bet_amount = 10 # you can choose another amount to bet (as long as it is lower than your initial_balance)\n",
    "bet_choice = \"red\" # choose \"red\" or \"black\"\n",
    "outcome = random.choice(['red', 'black'])\n",
    "\n",
    "if bet_choice == outcome:\n",
    "    balance = balance + 2 * bet_amount\n",
    "else:\n",
    "    balance = balance - bet_amount"
   ]
  },
  {
   "cell_type": "code",
   "execution_count": 5,
   "metadata": {},
   "outputs": [
    {
     "name": "stdout",
     "output_type": "stream",
     "text": [
      "All basic tests passed!\n"
     ]
    }
   ],
   "source": [
    "test_ex_1_1(balance, bet_amount, bet_choice, outcome)"
   ]
  },
  {
   "cell_type": "markdown",
   "metadata": {},
   "source": [
    "#### 1.2 Using a for loop to play the roulette 50 times. (3p)\n",
    "\n",
    "At each iteration you should randomly generate a play outcome, which should be either \"black\" or \"red\" and append each outcome (red or black) to the `outcomes` list. Assume you only bet on either \"red\" or \"black\" for all plays. Likewise ex1.1, solve the exercise in the same cell where variables are given."
   ]
  },
  {
   "cell_type": "code",
   "execution_count": 161,
   "metadata": {},
   "outputs": [
    {
     "data": {
      "text/plain": [
       "['red',\n",
       " 'red',\n",
       " 'black',\n",
       " 'black',\n",
       " 'red',\n",
       " 'black',\n",
       " 'black',\n",
       " 'black',\n",
       " 'black',\n",
       " 'black',\n",
       " 'red',\n",
       " 'black',\n",
       " 'black',\n",
       " 'black',\n",
       " 'black',\n",
       " 'red',\n",
       " 'red',\n",
       " 'black',\n",
       " 'black',\n",
       " 'black',\n",
       " 'black',\n",
       " 'red',\n",
       " 'red',\n",
       " 'red',\n",
       " 'red',\n",
       " 'black',\n",
       " 'red',\n",
       " 'red',\n",
       " 'black',\n",
       " 'red',\n",
       " 'red',\n",
       " 'black',\n",
       " 'black',\n",
       " 'red',\n",
       " 'red',\n",
       " 'black',\n",
       " 'red',\n",
       " 'red',\n",
       " 'black',\n",
       " 'red',\n",
       " 'red',\n",
       " 'black',\n",
       " 'red',\n",
       " 'red',\n",
       " 'black',\n",
       " 'black',\n",
       " 'red',\n",
       " 'red',\n",
       " 'red',\n",
       " 'black']"
      ]
     },
     "execution_count": 161,
     "metadata": {},
     "output_type": "execute_result"
    }
   ],
   "source": [
    "balance = 1000\n",
    "bet_amount = 10\n",
    "bet_choice = \"red\"  # choose \"red\" or \"black\" (for all plays!)\n",
    "outcomes = []\n",
    "\n",
    "for i in range (50):\n",
    "    outcome = random.choice(['red', 'black'])\n",
    "    if bet_choice == outcome:\n",
    "        balance += bet_amount\n",
    "        outcomes.append(\"red\")\n",
    "    else:\n",
    "        balance -= bet_amount\n",
    "        outcomes.append(\"black\")\n",
    "\n",
    "outcomes"
   ]
  },
  {
   "cell_type": "code",
   "execution_count": 105,
   "metadata": {},
   "outputs": [
    {
     "name": "stdout",
     "output_type": "stream",
     "text": [
      "All basic tests passed!\n"
     ]
    }
   ],
   "source": [
    "test_ex_1_2(balance, bet_amount, bet_choice, outcomes)"
   ]
  },
  {
   "cell_type": "markdown",
   "metadata": {},
   "source": [
    "#### 1.3 The odds are always in favor of the casino and the roulette is no exception. (3p)\n",
    "\n",
    "That is why the roulette has 18 red numbers, 18 black numbers and 1 green number (the zero). This green number is what tilts the odds in the casino's favour. Adapt your code so that you now account for the green number. Note that you won't bet on \"green\" but rather see how it influences the final balance, so `bet_choice` should be either \"black\" or \"red\".\n",
    "\n",
    "Remember that red/black and the green number don't have the same probability of being drawn: there are 18 red numbers, 18 black numbers and only 1 green number. You must take this information into account when simulating a roulette outcome. Thus, \n",
    "\n",
    "Write again a for loop to play the game 50 times. At each iteration, you should randomly generate an outcome:\n",
    "- \"black\", \"red\" or \"green\" **out of the 37 options (18 reds, 18 blacks, 1 green)**\n",
    "\n",
    "Append each play outcome to the `outcomes` list. See with how much money you end up."
   ]
  },
  {
   "cell_type": "code",
   "execution_count": 193,
   "metadata": {},
   "outputs": [],
   "source": [
    "balance = 1000\n",
    "bet_amount = 10\n",
    "bet_choice = 'red' # choose \"red\", \"black\"\n",
    "outcomes = []\n",
    "pred = (18/37)*100\n",
    "pblack = (18/37)*100\n",
    "pgreen = (1/37)*100\n",
    "outcomeList = ['red', 'black','green']\n",
    "outcome = random.choices(outcomeList,(pred, pblack, pgreen),k=50)\n",
    "\n",
    "for i in outcome:\n",
    "    if bet_choice == i:\n",
    "        balance += bet_amount\n",
    "        outcomes.append('red')\n",
    "    elif outcome =='black':\n",
    "        balance -= bet_amount\n",
    "        outcomes.append('black')\n",
    "    else: \n",
    "        balance -= bet_amount\n",
    "        outcomes.append('green')"
   ]
  },
  {
   "cell_type": "code",
   "execution_count": 194,
   "metadata": {},
   "outputs": [
    {
     "name": "stdout",
     "output_type": "stream",
     "text": [
      "All basic tests passed!\n"
     ]
    }
   ],
   "source": [
    "test_ex_1_3(balance, bet_amount, bet_choice, outcomes)"
   ]
  },
  {
   "cell_type": "markdown",
   "metadata": {},
   "source": [
    "#### 1.4 To compare if the green number makes such a difference in your odds play both games 1000 times and see if that green number makes a big difference or not in your pocket. (3p)\n",
    "Write again a for loop to play the game 1000 times considering the green number and 1000 times without considering the green number. \n",
    "At each iteration, you should randomly generate two outcomes:\n",
    "* \"black\", \"red\" or \"green\" **out of the 37 options (18 reds, 18 blacks, 1 green)** - for the green case\n",
    "* \"black\" or \"red\" **out of the 36 options (18 red, 18 black)** - for the no-green case \n",
    "\n",
    "In both cases your } should be either \"black\" or \"red\".\n",
    "\n",
    "Remember to append each play outcome to the `outcomes_green` and `outcomes_no_green` list. Finally, after the 1000 plays you should create a boolean `less_winnings`, which is `True` if you lost more money with the green number or `False` if you lost more money without the green number."
   ]
  },
  {
   "cell_type": "code",
   "execution_count": 209,
   "metadata": {},
   "outputs": [],
   "source": [
    "balance_green = 1000\n",
    "balance_no_green = 1000\n",
    "bet_amount = 10\n",
    "bet_choice = \"red\"  # choose \"red\" or \"black\"\n",
    "outcomes_green = []\n",
    "outcomes_no_green = []\n",
    "outcomeList_green = ['red', 'black','green']\n",
    "pred = (18/37)*100\n",
    "pblack = (18/37)*100\n",
    "pgreen = (1/37)*100\n",
    "outcome_green = random.choices(outcomeList_green,(pred, pblack, pgreen),k=1000)\n",
    "\n",
    "for i in outcome_green:\n",
    "    if bet_choice == i:\n",
    "        balance_green += bet_amount\n",
    "        outcomes_green.append('red')\n",
    "    elif outcome =='black':\n",
    "        balance_green -= bet_amount\n",
    "        outcomes_green.append('black')\n",
    "    else: \n",
    "        balance_green -= bet_amount\n",
    "        outcomes_green.append('green')\n",
    "\n",
    "for i in range (1000):\n",
    "    outcome_no_green = random.choice(['red', 'black'])\n",
    "    if bet_choice == outcome_no_green:\n",
    "        balance_no_green += bet_amount\n",
    "        outcomes_no_green.append(\"red\")\n",
    "    else:\n",
    "        balance_no_green -= bet_amount\n",
    "        outcomes_no_green.append(\"black\")\n",
    "\n",
    "if balance_no_green > balance_no_green:\n",
    "    less_winnings = True\n",
    "else:\n",
    "    less_winnings = False"
   ]
  },
  {
   "cell_type": "code",
   "execution_count": 210,
   "metadata": {},
   "outputs": [
    {
     "name": "stdout",
     "output_type": "stream",
     "text": [
      "All basic tests passed!\n"
     ]
    }
   ],
   "source": [
    "test_ex_1_4(balance_no_green, balance_green, bet_amount, bet_choice, outcomes_no_green, outcomes_green, less_winnings)"
   ]
  },
  {
   "cell_type": "markdown",
   "metadata": {},
   "source": [
    "#### 1.5 Now instead of having a defined number of plays, you want to play until you don't have more money to place another bet. (4p)\n",
    "\n",
    "Instead of having a defined number of plays, use a while loop and play the game considering only \"black\" and \"red\" outcomes until you run out of money. Output a variable `ofm_number_of_plays` which is the number of plays you were able to make until you run out of money. Append the outcome of each play to the `outcomes` list."
   ]
  },
  {
   "cell_type": "code",
   "execution_count": 212,
   "metadata": {},
   "outputs": [],
   "source": [
    "balance = 1000\n",
    "bet_amount = 10\n",
    "bet_choice = \"red\"  # choose \"red\" or \"black\"\n",
    "ofm_number_of_plays = 0\n",
    "outcomes = []\n",
    "\n",
    "while balance > 0:\n",
    "    outcome = random.choice(['red', 'black'])\n",
    "    if bet_choice == outcome:\n",
    "        balance += bet_amount\n",
    "        outcomes.append(\"red\")\n",
    "        ofm_number_of_plays += 1\n",
    "    else:\n",
    "        balance -= bet_amount\n",
    "        outcomes.append(\"black\")\n",
    "        ofm_number_of_plays += 1"
   ]
  },
  {
   "cell_type": "code",
   "execution_count": 213,
   "metadata": {},
   "outputs": [
    {
     "name": "stdout",
     "output_type": "stream",
     "text": [
      "All basic tests passed!\n"
     ]
    }
   ],
   "source": [
    "test_ex_1_5(balance, bet_amount, bet_choice, outcomes, ofm_number_of_plays)"
   ]
  },
  {
   "cell_type": "markdown",
   "metadata": {},
   "source": [
    "# Exercise 2 - Betting on numbers (4p)\n",
    "\n",
    "If you bet on red or black you have a 48.6% probability to win double your bet and 51.4% of losing all the amount you bet, which means when you play a lot of times, probabilities tell us that you won't break even.\n",
    "\n",
    "If you now decide to play a single number you will get 36x what you bet but you only have now a 2.7% probability of getting the right number."
   ]
  },
  {
   "cell_type": "markdown",
   "metadata": {},
   "source": [
    "#### Adapt the game you have been playing such that now you are playing a single number.\n",
    "\n",
    "Your choices are now numbers from 0 to 36 (inclusive). And you will only choose one number in that range. Remember that if you choose the winning number, you win 36x the `bet_amount`.\n",
    "\n",
    "Play the game (in a programmatical way) until you don't have more money to place another bet. Save how many times you played to the variable `times_played`. At each play don't forget to update your `balance` and append the outcome of each play to the `outcomes` list."
   ]
  },
  {
   "cell_type": "code",
   "execution_count": 39,
   "metadata": {},
   "outputs": [
    {
     "data": {
      "text/plain": [
       "0"
      ]
     },
     "execution_count": 39,
     "metadata": {},
     "output_type": "execute_result"
    }
   ],
   "source": [
    "balance = 1000\n",
    "bet_amount = 10\n",
    "outcomes = []\n",
    "bet_choice = 23  # choose a number from 0 to 36\n",
    "times_played = 0\n",
    "\n",
    "\n",
    "while balance >= 10:\n",
    "    outcome = random.choice([0,1,2,3,4,5,6,7,8,9,10,11,12,13,14,15,16,17,18,19,20,21,22,23,24,25,26,27,28,29,30,31,32,33,34,35,36])\n",
    "    if bet_choice == outcome:\n",
    "        balance += 36 * bet_amount\n",
    "        outcomes.append(23)\n",
    "        times_played += 1\n",
    "    else:\n",
    "        balance -= bet_amount\n",
    "        outcomes.append(outcome)\n",
    "        times_played += 1\n",
    "\n",
    "outcomes\n",
    "balance"
   ]
  },
  {
   "cell_type": "code",
   "execution_count": 40,
   "metadata": {},
   "outputs": [
    {
     "name": "stdout",
     "output_type": "stream",
     "text": [
      "All basic tests passed!\n"
     ]
    }
   ],
   "source": [
    "test_ex_2(balance, bet_choice, bet_amount, times_played, outcomes)"
   ]
  }
 ],
 "metadata": {
  "kernelspec": {
   "display_name": "Python 3 (ipykernel)",
   "language": "python",
   "name": "python3"
  },
  "language_info": {
   "codemirror_mode": {
    "name": "ipython",
    "version": 3
   },
   "file_extension": ".py",
   "mimetype": "text/x-python",
   "name": "python",
   "nbconvert_exporter": "python",
   "pygments_lexer": "ipython3",
   "version": "3.9.7"
  }
 },
 "nbformat": 4,
 "nbformat_minor": 4
}
